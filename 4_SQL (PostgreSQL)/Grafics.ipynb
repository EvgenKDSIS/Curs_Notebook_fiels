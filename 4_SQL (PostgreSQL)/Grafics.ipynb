{
 "cells": [
  {
   "cell_type": "markdown",
   "id": "4b5e8ec6",
   "metadata": {},
   "source": [
    "<img src=\"./графики.png\" width=1000>"
   ]
  },
  {
   "cell_type": "markdown",
   "id": "b6c4f95b",
   "metadata": {},
   "source": [
    "<div class=\"alert alert-info\">\n",
    "\n",
    "Напишите миниотчёт (вывод) на основе полученных графиков. можно сделать это как в word, так и в notebook (советуем здесь, так как лучше будет виден дашборд)."
   ]
  },
  {
   "cell_type": "markdown",
   "id": "6343cdf4",
   "metadata": {},
   "source": [
    "<div class=\"alert alert-success\">\n",
    "\n",
    "**Pie Chart:**\n",
    "Сложно что то сказать так, как распрделение более-менее равномерное\n",
    "> (SELECT category, SUM(value) AS total_value\n",
    "FROM grafana_data\n",
    "GROUP BY category);\n",
    "\n",
    "**Donut Chart:**\n",
    "Наиболее популярны продукты категории A и D, значит их необходимо производить больше\n",
    "> (SELECT product, COUNT(*)\n",
    "FROM grafana_data\n",
    "GROUP BY product);\n",
    "\n",
    "**Time Series Chart:**\n",
    "Всплошные взлеты и падения\n",
    "> (SELECT value, timestamp\n",
    "from grafana_data \n",
    "GROUP BY timestamp, value);\n",
    "\n",
    "**Bar Chart:**\n",
    "Самый продоваемый поток - Северный\n",
    "> (SELECT region, SUM(value) AS total_value\n",
    "FROm grafana_data \n",
    "GROUP BY region);\n",
    "\n",
    "**Histogram:**\n",
    "Мы наблюдаем отсутствие нормального распделения и на старте[ (value / 100) * 100 ] и на конце [ ((value / 100) + 1) * 100 ] \n",
    "> (SELECT (value / 100) * 100 AS range_start,\n",
    "       ((value / 100) + 1) * 100 AS range_end\n",
    "       --, COUNT(*) AS count\n",
    "FROM grafana_data \n",
    "GROUP BY (value / 100)\n",
    "ORDER BY range_start);"
   ]
  }
 ],
 "metadata": {
  "kernelspec": {
   "display_name": "Python 3 (ipykernel)",
   "language": "python",
   "name": "python3"
  },
  "language_info": {
   "codemirror_mode": {
    "name": "ipython",
    "version": 3
   },
   "file_extension": ".py",
   "mimetype": "text/x-python",
   "name": "python",
   "nbconvert_exporter": "python",
   "pygments_lexer": "ipython3",
   "version": "3.10.9"
  }
 },
 "nbformat": 4,
 "nbformat_minor": 5
}
