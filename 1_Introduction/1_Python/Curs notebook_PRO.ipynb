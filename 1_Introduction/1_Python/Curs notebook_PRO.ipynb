{
 "cells": [
  {
   "cell_type": "code",
   "execution_count": 1,
   "id": "d3df0d90",
   "metadata": {},
   "outputs": [
    {
     "name": "stdout",
     "output_type": "stream",
     "text": [
      "Введите предел чисел Фибоначчи: 88\n",
      "0 1 1 2 3 5 8 13 21 34 55\n"
     ]
    }
   ],
   "source": [
    "# 1 Задание\n",
    "# функция для нахождения чисел Фибоначчи\n",
    "def fibonacci(n):\n",
    "    if n <= 1:\n",
    "        return n\n",
    "    else:\n",
    "        return fibonacci(n-1) + fibonacci(n-2)\n",
    "\n",
    "# заданный предел чисел Фибоначчи\n",
    "limit = int(input(\"Введите предел чисел Фибоначчи: \"))\n",
    "\n",
    "# вывод чисел Фибоначчи\n",
    "i = 0\n",
    "lst = []\n",
    "while fibonacci(i) <= limit:\n",
    "    lst.append(fibonacci(i))\n",
    "    i += 1\n",
    "\n",
    "print(*lst)"
   ]
  },
  {
   "cell_type": "code",
   "execution_count": 2,
   "id": "7b4fb68d",
   "metadata": {},
   "outputs": [
    {
     "name": "stdout",
     "output_type": "stream",
     "text": [
      "Введите список из целых чисел: 12 384 384 38\n",
      "384 12 38\n"
     ]
    }
   ],
   "source": [
    "# 2 Задание\n",
    "lst = list(map(int, input(\"Введите список из целых чисел: \").split()))\n",
    "print(*set(lst))"
   ]
  },
  {
   "cell_type": "code",
   "execution_count": 3,
   "id": "b25d2ac0",
   "metadata": {},
   "outputs": [
    {
     "name": "stdout",
     "output_type": "stream",
     "text": [
      "Введите значение t по шкале Фаренгейта: 98.8\n",
      "Значение t по шкале Цельсия будет равно 37.11\n"
     ]
    }
   ],
   "source": [
    "# 3 Задание\n",
    "t_F = float(input(\"Введите значение t по шкале Фаренгейта: \"))\n",
    "t_C = 5 / 9 * (t_F - 32)\n",
    "# Переводим из Фаренгейта в Цельсия, округляя до 2-х знаков после запятой\n",
    "print(f'Значение t по шкале Цельсия будет равно {round(t_C, 2)}')"
   ]
  },
  {
   "cell_type": "code",
   "execution_count": 4,
   "id": "536c0641",
   "metadata": {},
   "outputs": [
    {
     "name": "stdout",
     "output_type": "stream",
     "text": [
      "Введите предложение: луна\n",
      "Предложение не является палиндромом\n"
     ]
    }
   ],
   "source": [
    "# 4 Задание\n",
    "proposal = input(\"Введите предложение: \").replace(\" \", \"\").lower()\n",
    "if proposal == proposal[::-1]:\n",
    "      print(\"Предложение является палиндромом\")\n",
    "else:\n",
    "      print(\"Предложение не является палиндромом\")"
   ]
  }
 ],
 "metadata": {
  "kernelspec": {
   "display_name": "Python 3 (ipykernel)",
   "language": "python",
   "name": "python3"
  },
  "language_info": {
   "codemirror_mode": {
    "name": "ipython",
    "version": 3
   },
   "file_extension": ".py",
   "mimetype": "text/x-python",
   "name": "python",
   "nbconvert_exporter": "python",
   "pygments_lexer": "ipython3",
   "version": "3.10.9"
  }
 },
 "nbformat": 4,
 "nbformat_minor": 5
}
