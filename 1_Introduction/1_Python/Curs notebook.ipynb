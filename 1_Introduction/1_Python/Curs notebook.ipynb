{
 "cells": [
  {
   "cell_type": "code",
   "execution_count": 1,
   "id": "d3df0d90",
   "metadata": {},
   "outputs": [
    {
     "name": "stdout",
     "output_type": "stream",
     "text": [
      "Площадь квадрата: 625\n",
      "Периметр квадрата: 100\n"
     ]
    }
   ],
   "source": [
    "# 1 Задание.  \n",
    "side = 25\n",
    "area = side**2\n",
    "perimeter = 4*side\n",
    "print(\"Площадь квадрата:\", area)\n",
    "print(\"Периметр квадрата:\", perimeter)"
   ]
  },
  {
   "cell_type": "code",
   "execution_count": 2,
   "id": "7b4fb68d",
   "metadata": {},
   "outputs": [
    {
     "name": "stdout",
     "output_type": "stream",
     "text": [
      "25\n"
     ]
    }
   ],
   "source": [
    "# 2 Задание.\n",
    "def sum_of_squares(a, b):\n",
    "    squared = a**2 + b**2\n",
    "    return squared\n",
    " \n",
    "squared = sum_of_squares(3, 4)\n",
    "print(squared)"
   ]
  },
  {
   "cell_type": "code",
   "execution_count": 3,
   "id": "b25d2ac0",
   "metadata": {},
   "outputs": [
    {
     "name": "stdout",
     "output_type": "stream",
     "text": [
      "['female', 'female', 'male', 'male', 'female', 'male', 'male']\n"
     ]
    }
   ],
   "source": [
    "# 3 Задание.\n",
    "original_list = [\"male\",\"male\",\"female\",\"male\",\"male\",\"female\",\"female\"]\n",
    "new_list = original_list[::-1]\n",
    "print(new_list)"
   ]
  },
  {
   "cell_type": "code",
   "execution_count": 4,
   "id": "536c0641",
   "metadata": {},
   "outputs": [
    {
     "name": "stdout",
     "output_type": "stream",
     "text": [
      "Кол-во мужчин: 4 Кол-во женщин: 3\n"
     ]
    }
   ],
   "source": [
    "# 4 Задание.\n",
    "def count_genders(list):\n",
    "    male_count = 0\n",
    "    female_count = 0\n",
    "    for gender in list:\n",
    "        if gender == \"male\":\n",
    "            male_count += 1\n",
    "        elif gender == \"female\":\n",
    "            female_count += 1\n",
    "    print(\"Кол-во мужчин:\", male_count, \"Кол-во женщин:\", female_count) \n",
    "count_genders(new_list)"
   ]
  },
  {
   "cell_type": "code",
   "execution_count": 5,
   "id": "205a7735",
   "metadata": {},
   "outputs": [
    {
     "name": "stdout",
     "output_type": "stream",
     "text": [
      "{'f': 1, 'e': 2, 'm': 1, 'a': 1, 'l': 1}\n"
     ]
    }
   ],
   "source": [
    "# 5 Задание.\n",
    "def count_symbols(word):\n",
    "    symbol_dict = {}\n",
    "    for symbol in word:\n",
    "        symbol_dict[symbol] = symbol_dict.get(symbol, 0) + 1\n",
    "    return symbol_dict\n",
    " \n",
    "print(count_symbols(\"female\"))"
   ]
  },
  {
   "cell_type": "code",
   "execution_count": 6,
   "id": "37b343c4",
   "metadata": {},
   "outputs": [
    {
     "name": "stdout",
     "output_type": "stream",
     "text": [
      "338350\n"
     ]
    }
   ],
   "source": [
    "# 6 Задание.\n",
    "sum_of_squares = 0\n",
    "for i in range(1, 101):\n",
    "    sum_of_squares += i**2\n",
    "print(sum_of_squares)"
   ]
  },
  {
   "cell_type": "code",
   "execution_count": 7,
   "id": "ddd5b302",
   "metadata": {},
   "outputs": [
    {
     "name": "stdout",
     "output_type": "stream",
     "text": [
      "[1, 2, 3, 4]\n"
     ]
    }
   ],
   "source": [
    "# 7 Задание. Метод `append()`. Пример:\n",
    "\n",
    "list1 = [1, 2, 3]\n",
    "list1.append(4)\n",
    "print(list1) # [1, 2, 3, 4]"
   ]
  },
  {
   "cell_type": "code",
   "execution_count": 8,
   "id": "077d5528",
   "metadata": {},
   "outputs": [
    {
     "name": "stdout",
     "output_type": "stream",
     "text": [
      "[1, 2, 3, 4, 5, 6]\n"
     ]
    }
   ],
   "source": [
    "# 8 Задание. Объединение списков `a` и `b` в список `c`. Пример:\n",
    "a = [1, 2, 3]\n",
    "b = [4, 5, 6]\n",
    "c = a + b\n",
    "print(c) # [1, 2, 3, 4, 5, 6]"
   ]
  },
  {
   "cell_type": "code",
   "execution_count": 9,
   "id": "e59f3469",
   "metadata": {},
   "outputs": [
    {
     "name": "stdout",
     "output_type": "stream",
     "text": [
      "2\n"
     ]
    }
   ],
   "source": [
    "# 9 Задание. Метод `count()`. Пример:\n",
    "\n",
    "list2 = [1, 2, 3, 4, 5, 1, 2, 3]\n",
    "count_of_1s = list2.count(1)\n",
    "print(count_of_1s) # 2"
   ]
  },
  {
   "cell_type": "code",
   "execution_count": 10,
   "id": "dd5d9184",
   "metadata": {},
   "outputs": [
    {
     "name": "stdout",
     "output_type": "stream",
     "text": [
      "x больше, либо равен y\n"
     ]
    }
   ],
   "source": [
    "# 10 Задание. \n",
    "\n",
    "x = 2**4 \n",
    "y = 4**2 \n",
    "if x < y: \n",
    "    print(\"x меньше y\")  \n",
    "else:  \n",
    "    print(\"x больше, либо равен y\")"
   ]
  }
 ],
 "metadata": {
  "kernelspec": {
   "display_name": "Python 3 (ipykernel)",
   "language": "python",
   "name": "python3"
  },
  "language_info": {
   "codemirror_mode": {
    "name": "ipython",
    "version": 3
   },
   "file_extension": ".py",
   "mimetype": "text/x-python",
   "name": "python",
   "nbconvert_exporter": "python",
   "pygments_lexer": "ipython3",
   "version": "3.10.9"
  }
 },
 "nbformat": 4,
 "nbformat_minor": 5
}
