{
 "cells": [
  {
   "cell_type": "markdown",
   "id": "8277ca02",
   "metadata": {
    "id": "8277ca02",
    "papermill": {
     "duration": 0.112743,
     "end_time": "2022-09-17T00:12:57.265328",
     "exception": false,
     "start_time": "2022-09-17T00:12:57.152585",
     "status": "completed"
    },
    "tags": []
   },
   "source": [
    "\n",
    "# Проверка гипотез с помощью python."
   ]
  },
  {
   "cell_type": "markdown",
   "id": "ed2f4a30",
   "metadata": {
    "id": "ed2f4a30",
    "papermill": {
     "duration": 0.109327,
     "end_time": "2022-09-17T00:12:57.963155",
     "exception": false,
     "start_time": "2022-09-17T00:12:57.853828",
     "status": "completed"
    },
    "tags": []
   },
   "source": [
    "## Задание\n",
    "\n",
    "* Выполнить проверку предложенной гипотезы\n",
    "* Выполнить проверку статистической гипотезы для проверки нормальности числовых признаков\n",
    "* Проверка мультиколлинеарности\n",
    "* Все статистические тесты должны быть выполнены с 95%-м уровнем достоверности (т.е. значение р < 0,05)"
   ]
  },
  {
   "cell_type": "markdown",
   "id": "b36dd14f-cd82-46c1-87de-cde64db77940",
   "metadata": {
    "id": "b36dd14f-cd82-46c1-87de-cde64db77940",
    "papermill": {
     "duration": 0.106947,
     "end_time": "2022-09-17T00:13:02.034149",
     "exception": false,
     "start_time": "2022-09-17T00:13:01.927202",
     "status": "completed"
    },
    "tags": []
   },
   "source": [
    "## Датасет"
   ]
  },
  {
   "cell_type": "markdown",
   "id": "ab7d97da-ee9e-4cd5-8d01-f75481a99393",
   "metadata": {
    "id": "ab7d97da-ee9e-4cd5-8d01-f75481a99393"
   },
   "source": [
    "Как данные представлены заказчиком:"
   ]
  },
  {
   "cell_type": "markdown",
   "id": "746dd87c-32f5-4ee4-97f3-ace09b9661ae",
   "metadata": {
    "id": "746dd87c-32f5-4ee4-97f3-ace09b9661ae",
    "papermill": {
     "duration": 0.107761,
     "end_time": "2022-09-17T00:13:02.248931",
     "exception": false,
     "start_time": "2022-09-17T00:13:02.141170",
     "status": "completed"
    },
    "tags": []
   },
   "source": [
    "<table>\n",
    "<thead><tr>\n",
    "<th><strong>Feature Name</strong></th>\n",
    "<th><strong>Description</strong></th>\n",
    "<th><strong>Data Type</strong></th>\n",
    "</tr>\n",
    "</thead>\n",
    "<tbody>\n",
    "<tr>\n",
    "<td>customerID</td>\n",
    "<td>Содержит идентификатор клиента</td>\n",
    "<td>categorical</td>\n",
    "</tr>\n",
    "<tr>\n",
    "<td>gender</td>\n",
    "<td>Пол клиента</td>\n",
    "<td>categorical</td>\n",
    "</tr>\n",
    "<tr>\n",
    "<td>SeniorCitizen</td>\n",
    "<td>Является ли клиент пожилым гражданином</td>\n",
    "<td>numeric, int</td>\n",
    "</tr>\n",
    "<tr>\n",
    "<td>Partner</td>\n",
    "<td>Есть ли у клиента партнер</td>\n",
    "<td>categorical</td>\n",
    "</tr>\n",
    "<tr>\n",
    "<td>Dependents</td>\n",
    "<td>Является ли клиент кормильцем</td>\n",
    "<td>categorical</td>\n",
    "</tr>\n",
    "<tr>\n",
    "<td>tenure</td>\n",
    "<td>Количество месяцев, в течение которых клиент оставался в компании</td>\n",
    "<td>numeric, int</td>\n",
    "</tr>\n",
    "<tr>\n",
    "<td>PhoneService</td>\n",
    "<td>Есть ли у клиента телефонная связь</td>\n",
    "<td>categorical</td>\n",
    "</tr>\n",
    "<tr>\n",
    "<td>MultipleLines</td>\n",
    "<td>Есть ли у клиента несколько линий</td>\n",
    "<td>categorical</td>\n",
    "</tr>\n",
    "<tr>\n",
    "<td>InternetService</td>\n",
    "<td>Интернет-провайдер клиента</td>\n",
    "<td>categorical</td>\n",
    "</tr>\n",
    "<tr>\n",
    "<td>OnlineSecurity</td>\n",
    "<td>Есть ли у клиента онлайн-безопасность</td>\n",
    "<td>categorical</td>\n",
    "</tr>\n",
    "<tr>\n",
    "<td>OnlineBackup</td>\n",
    "<td>Есть ли у клиента онлайн-резервное копирование</td>\n",
    "<td>categorical</td>\n",
    "</tr>\n",
    "<tr>\n",
    "<td>DeviceProtection</td>\n",
    "<td>Имеет ли клиент защиту устройства</td>\n",
    "<td>categorical</td>\n",
    "</tr>\n",
    "<tr>\n",
    "<td>TechSupport</td>\n",
    "<td>Есть ли у клиента техническая поддержка</td>\n",
    "<td>categorical</td>\n",
    "</tr>\n",
    "<tr>\n",
    "<td>streamingTV</td>\n",
    "<td>Есть ли у клиента потоковое телевидение</td>\n",
    "<td>categorical</td>\n",
    "</tr>\n",
    "<tr>\n",
    "<td>streamingMovies</td>\n",
    "<td>Есть ли у клиента стриминговые сервисы</td>\n",
    "<td>categorical</td>\n",
    "</tr>\n",
    "<tr>\n",
    "<td>Contract</td>\n",
    "<td>Срок действия контракта заказчика</td>\n",
    "<td>categorical</td>\n",
    "</tr>\n",
    "<tr>\n",
    "<td>PaperlessBilling</td>\n",
    "<td>Имеет ли клиент безналичные счета</td>\n",
    "<td>categorical</td>\n",
    "</tr>\n",
    "<tr>\n",
    "<td>PaymentMethod</td>\n",
    "<td>Способ оплаты клиента</td>\n",
    "<td>categorical</td>\n",
    "</tr>\n",
    "<tr>\n",
    "<td>MonthlyCharges</td>\n",
    "<td>Сумма, взимаемая с клиента ежемесячно </td>\n",
    "<td> numeric , int</td>\n",
    "</tr>\n",
    "<tr>\n",
    "<td>TotalCharges</td>\n",
    "<td>Общая сумма, списанная с клиента</td>\n",
    "<td>object</td>\n",
    "</tr>\n",
    "<tr>\n",
    "<td>Churn</td>\n",
    "<td>Ушел ли клиент</td>\n",
    "<td>categorical</td>\n",
    "</tr>\n",
    "</tbody>\n",
    "</table>"
   ]
  },
  {
   "cell_type": "markdown",
   "id": "08ae603f-bf76-4e2a-b7e0-cc8f4c48ea08",
   "metadata": {
    "id": "08ae603f-bf76-4e2a-b7e0-cc8f4c48ea08"
   },
   "source": [
    "Описание от заказчика:\n",
    "\n",
    "Каждая строка представляет клиента, каждый столбец содержит атрибуты клиента.\n",
    "\n",
    "Набор данных включает информацию :\n",
    "\n",
    "- Клиенты, которые ушли в течение последнего месяца — колонка называется `Churn`\n",
    "- Услуги, на которые подписался каждый клиент — телефон, несколько линий, интернет, онлайн-безопасность, резервное копирование, защита устройств, техническая поддержка, потоковое ТВ и фильмы.\n",
    "- Информация о счетах клиентов — как долго они являются клиентами, контракт, способ оплаты, безналичные счета, ежемесячные платежи и общая сумма платежей.\n",
    "- Демографическая информация о клиентах — пол, возраст, наличие партнеров и иждивенцев."
   ]
  },
  {
   "cell_type": "markdown",
   "id": "d5987f69",
   "metadata": {
    "id": "d5987f69",
    "papermill": {
     "duration": 0.104938,
     "end_time": "2022-09-17T00:12:58.405685",
     "exception": false,
     "start_time": "2022-09-17T00:12:58.300747",
     "status": "completed"
    },
    "tags": []
   },
   "source": [
    "## 1. Импорт Библиотек "
   ]
  },
  {
   "cell_type": "markdown",
   "id": "02b1ba32-c7a4-4cca-940c-2c26096652a5",
   "metadata": {
    "id": "02b1ba32-c7a4-4cca-940c-2c26096652a5"
   },
   "source": [
    "Импортируйте необходимые библиотеки"
   ]
  },
  {
   "cell_type": "code",
   "execution_count": 1,
   "id": "aced3dd7",
   "metadata": {
    "_kg_hide-input": true,
    "id": "aced3dd7",
    "papermill": {
     "duration": 2.648922,
     "end_time": "2022-09-17T00:13:01.160303",
     "exception": false,
     "start_time": "2022-09-17T00:12:58.511381",
     "status": "completed"
    },
    "tags": []
   },
   "outputs": [],
   "source": [
    "import numpy as np\n",
    "import pandas as pd\n",
    "pd.set_option('display.max_columns', None) # отобразить все колонки\n",
    "\n",
    "from scipy import stats"
   ]
  },
  {
   "cell_type": "markdown",
   "id": "a08aba17",
   "metadata": {
    "id": "a08aba17",
    "papermill": {
     "duration": 0.105855,
     "end_time": "2022-09-17T00:13:01.597528",
     "exception": false,
     "start_time": "2022-09-17T00:13:01.491673",
     "status": "completed"
    },
    "tags": []
   },
   "source": [
    "## Данные"
   ]
  },
  {
   "cell_type": "code",
   "execution_count": 2,
   "id": "423cbac6",
   "metadata": {
    "id": "423cbac6",
    "papermill": {
     "duration": 0.24658,
     "end_time": "2022-09-17T00:13:02.607322",
     "exception": false,
     "start_time": "2022-09-17T00:13:02.360742",
     "status": "completed"
    },
    "tags": []
   },
   "outputs": [
    {
     "data": {
      "text/html": [
       "<div>\n",
       "<style scoped>\n",
       "    .dataframe tbody tr th:only-of-type {\n",
       "        vertical-align: middle;\n",
       "    }\n",
       "\n",
       "    .dataframe tbody tr th {\n",
       "        vertical-align: top;\n",
       "    }\n",
       "\n",
       "    .dataframe thead th {\n",
       "        text-align: right;\n",
       "    }\n",
       "</style>\n",
       "<table border=\"1\" class=\"dataframe\">\n",
       "  <thead>\n",
       "    <tr style=\"text-align: right;\">\n",
       "      <th></th>\n",
       "      <th>customerID</th>\n",
       "      <th>gender</th>\n",
       "      <th>SeniorCitizen</th>\n",
       "      <th>Partner</th>\n",
       "      <th>Dependents</th>\n",
       "      <th>tenure</th>\n",
       "      <th>PhoneService</th>\n",
       "      <th>MultipleLines</th>\n",
       "      <th>InternetService</th>\n",
       "      <th>OnlineSecurity</th>\n",
       "      <th>OnlineBackup</th>\n",
       "      <th>DeviceProtection</th>\n",
       "      <th>TechSupport</th>\n",
       "      <th>StreamingTV</th>\n",
       "      <th>StreamingMovies</th>\n",
       "      <th>Contract</th>\n",
       "      <th>PaperlessBilling</th>\n",
       "      <th>PaymentMethod</th>\n",
       "      <th>MonthlyCharges</th>\n",
       "      <th>TotalCharges</th>\n",
       "      <th>Churn</th>\n",
       "    </tr>\n",
       "  </thead>\n",
       "  <tbody>\n",
       "    <tr>\n",
       "      <th>0</th>\n",
       "      <td>7590-VHVEG</td>\n",
       "      <td>Female</td>\n",
       "      <td>0</td>\n",
       "      <td>Yes</td>\n",
       "      <td>No</td>\n",
       "      <td>1</td>\n",
       "      <td>No</td>\n",
       "      <td>No phone service</td>\n",
       "      <td>DSL</td>\n",
       "      <td>No</td>\n",
       "      <td>Yes</td>\n",
       "      <td>No</td>\n",
       "      <td>No</td>\n",
       "      <td>No</td>\n",
       "      <td>No</td>\n",
       "      <td>Month-to-month</td>\n",
       "      <td>Yes</td>\n",
       "      <td>Electronic check</td>\n",
       "      <td>29.85</td>\n",
       "      <td>29.85</td>\n",
       "      <td>No</td>\n",
       "    </tr>\n",
       "    <tr>\n",
       "      <th>1</th>\n",
       "      <td>5575-GNVDE</td>\n",
       "      <td>Male</td>\n",
       "      <td>0</td>\n",
       "      <td>No</td>\n",
       "      <td>No</td>\n",
       "      <td>34</td>\n",
       "      <td>Yes</td>\n",
       "      <td>No</td>\n",
       "      <td>DSL</td>\n",
       "      <td>Yes</td>\n",
       "      <td>No</td>\n",
       "      <td>Yes</td>\n",
       "      <td>No</td>\n",
       "      <td>No</td>\n",
       "      <td>No</td>\n",
       "      <td>One year</td>\n",
       "      <td>No</td>\n",
       "      <td>Mailed check</td>\n",
       "      <td>56.95</td>\n",
       "      <td>1889.5</td>\n",
       "      <td>No</td>\n",
       "    </tr>\n",
       "    <tr>\n",
       "      <th>2</th>\n",
       "      <td>3668-QPYBK</td>\n",
       "      <td>Male</td>\n",
       "      <td>0</td>\n",
       "      <td>No</td>\n",
       "      <td>No</td>\n",
       "      <td>2</td>\n",
       "      <td>Yes</td>\n",
       "      <td>No</td>\n",
       "      <td>DSL</td>\n",
       "      <td>Yes</td>\n",
       "      <td>Yes</td>\n",
       "      <td>No</td>\n",
       "      <td>No</td>\n",
       "      <td>No</td>\n",
       "      <td>No</td>\n",
       "      <td>Month-to-month</td>\n",
       "      <td>Yes</td>\n",
       "      <td>Mailed check</td>\n",
       "      <td>53.85</td>\n",
       "      <td>108.15</td>\n",
       "      <td>Yes</td>\n",
       "    </tr>\n",
       "    <tr>\n",
       "      <th>3</th>\n",
       "      <td>7795-CFOCW</td>\n",
       "      <td>Male</td>\n",
       "      <td>0</td>\n",
       "      <td>No</td>\n",
       "      <td>No</td>\n",
       "      <td>45</td>\n",
       "      <td>No</td>\n",
       "      <td>No phone service</td>\n",
       "      <td>DSL</td>\n",
       "      <td>Yes</td>\n",
       "      <td>No</td>\n",
       "      <td>Yes</td>\n",
       "      <td>Yes</td>\n",
       "      <td>No</td>\n",
       "      <td>No</td>\n",
       "      <td>One year</td>\n",
       "      <td>No</td>\n",
       "      <td>Bank transfer (automatic)</td>\n",
       "      <td>42.30</td>\n",
       "      <td>1840.75</td>\n",
       "      <td>No</td>\n",
       "    </tr>\n",
       "    <tr>\n",
       "      <th>4</th>\n",
       "      <td>9237-HQITU</td>\n",
       "      <td>Female</td>\n",
       "      <td>0</td>\n",
       "      <td>No</td>\n",
       "      <td>No</td>\n",
       "      <td>2</td>\n",
       "      <td>Yes</td>\n",
       "      <td>No</td>\n",
       "      <td>Fiber optic</td>\n",
       "      <td>No</td>\n",
       "      <td>No</td>\n",
       "      <td>No</td>\n",
       "      <td>No</td>\n",
       "      <td>No</td>\n",
       "      <td>No</td>\n",
       "      <td>Month-to-month</td>\n",
       "      <td>Yes</td>\n",
       "      <td>Electronic check</td>\n",
       "      <td>70.70</td>\n",
       "      <td>151.65</td>\n",
       "      <td>Yes</td>\n",
       "    </tr>\n",
       "  </tbody>\n",
       "</table>\n",
       "</div>"
      ],
      "text/plain": [
       "   customerID  gender  SeniorCitizen Partner Dependents  tenure PhoneService  \\\n",
       "0  7590-VHVEG  Female              0     Yes         No       1           No   \n",
       "1  5575-GNVDE    Male              0      No         No      34          Yes   \n",
       "2  3668-QPYBK    Male              0      No         No       2          Yes   \n",
       "3  7795-CFOCW    Male              0      No         No      45           No   \n",
       "4  9237-HQITU  Female              0      No         No       2          Yes   \n",
       "\n",
       "      MultipleLines InternetService OnlineSecurity OnlineBackup  \\\n",
       "0  No phone service             DSL             No          Yes   \n",
       "1                No             DSL            Yes           No   \n",
       "2                No             DSL            Yes          Yes   \n",
       "3  No phone service             DSL            Yes           No   \n",
       "4                No     Fiber optic             No           No   \n",
       "\n",
       "  DeviceProtection TechSupport StreamingTV StreamingMovies        Contract  \\\n",
       "0               No          No          No              No  Month-to-month   \n",
       "1              Yes          No          No              No        One year   \n",
       "2               No          No          No              No  Month-to-month   \n",
       "3              Yes         Yes          No              No        One year   \n",
       "4               No          No          No              No  Month-to-month   \n",
       "\n",
       "  PaperlessBilling              PaymentMethod  MonthlyCharges TotalCharges  \\\n",
       "0              Yes           Electronic check           29.85        29.85   \n",
       "1               No               Mailed check           56.95       1889.5   \n",
       "2              Yes               Mailed check           53.85       108.15   \n",
       "3               No  Bank transfer (automatic)           42.30      1840.75   \n",
       "4              Yes           Electronic check           70.70       151.65   \n",
       "\n",
       "  Churn  \n",
       "0    No  \n",
       "1    No  \n",
       "2   Yes  \n",
       "3    No  \n",
       "4   Yes  "
      ]
     },
     "execution_count": 2,
     "metadata": {},
     "output_type": "execute_result"
    }
   ],
   "source": [
    "df = pd.read_csv(\"./Churn.csv\")\n",
    "df.head()"
   ]
  },
  {
   "cell_type": "markdown",
   "id": "59d8f6d7",
   "metadata": {
    "id": "59d8f6d7",
    "papermill": {
     "duration": 0.110182,
     "end_time": "2022-09-17T00:13:04.215152",
     "exception": false,
     "start_time": "2022-09-17T00:13:04.104970",
     "status": "completed"
    },
    "tags": []
   },
   "source": [
    "## 2. Описательный анализ данных"
   ]
  },
  {
   "cell_type": "markdown",
   "id": "4f3a9143-db55-4062-92c1-95bae165c967",
   "metadata": {
    "id": "4f3a9143-db55-4062-92c1-95bae165c967"
   },
   "source": [
    "Рассмотрите данные — изучите медианы, средние, дисперсии и т.д. \n",
    "\n",
    "Что можете сказать о данных? Сделайте вывод."
   ]
  },
  {
   "cell_type": "code",
   "execution_count": 3,
   "id": "103b2699-e4bd-46b4-a287-d4e70ad26878",
   "metadata": {
    "id": "103b2699-e4bd-46b4-a287-d4e70ad26878"
   },
   "outputs": [
    {
     "name": "stdout",
     "output_type": "stream",
     "text": [
      "<class 'pandas.core.frame.DataFrame'>\n",
      "RangeIndex: 7043 entries, 0 to 7042\n",
      "Data columns (total 21 columns):\n",
      " #   Column            Non-Null Count  Dtype  \n",
      "---  ------            --------------  -----  \n",
      " 0   customerID        7043 non-null   object \n",
      " 1   gender            7043 non-null   object \n",
      " 2   SeniorCitizen     7043 non-null   int64  \n",
      " 3   Partner           7043 non-null   object \n",
      " 4   Dependents        7043 non-null   object \n",
      " 5   tenure            7043 non-null   int64  \n",
      " 6   PhoneService      7043 non-null   object \n",
      " 7   MultipleLines     7043 non-null   object \n",
      " 8   InternetService   7043 non-null   object \n",
      " 9   OnlineSecurity    7043 non-null   object \n",
      " 10  OnlineBackup      7043 non-null   object \n",
      " 11  DeviceProtection  7043 non-null   object \n",
      " 12  TechSupport       7043 non-null   object \n",
      " 13  StreamingTV       7043 non-null   object \n",
      " 14  StreamingMovies   7043 non-null   object \n",
      " 15  Contract          7043 non-null   object \n",
      " 16  PaperlessBilling  7043 non-null   object \n",
      " 17  PaymentMethod     7043 non-null   object \n",
      " 18  MonthlyCharges    7043 non-null   float64\n",
      " 19  TotalCharges      7043 non-null   object \n",
      " 20  Churn             7043 non-null   object \n",
      "dtypes: float64(1), int64(2), object(18)\n",
      "memory usage: 1.1+ MB\n"
     ]
    }
   ],
   "source": [
    "# ваше решение\n",
    "df.info()"
   ]
  },
  {
   "cell_type": "code",
   "execution_count": 4,
   "id": "ca59f3e8",
   "metadata": {},
   "outputs": [
    {
     "data": {
      "text/plain": [
       "customerID          0\n",
       "gender              0\n",
       "SeniorCitizen       0\n",
       "Partner             0\n",
       "Dependents          0\n",
       "tenure              0\n",
       "PhoneService        0\n",
       "MultipleLines       0\n",
       "InternetService     0\n",
       "OnlineSecurity      0\n",
       "OnlineBackup        0\n",
       "DeviceProtection    0\n",
       "TechSupport         0\n",
       "StreamingTV         0\n",
       "StreamingMovies     0\n",
       "Contract            0\n",
       "PaperlessBilling    0\n",
       "PaymentMethod       0\n",
       "MonthlyCharges      0\n",
       "TotalCharges        0\n",
       "Churn               0\n",
       "dtype: int64"
      ]
     },
     "execution_count": 4,
     "metadata": {},
     "output_type": "execute_result"
    }
   ],
   "source": [
    "df.isna().sum()"
   ]
  },
  {
   "cell_type": "code",
   "execution_count": 5,
   "id": "5310082f",
   "metadata": {},
   "outputs": [
    {
     "data": {
      "text/plain": [
       "array([[<Axes: title={'center': 'SeniorCitizen'}>,\n",
       "        <Axes: title={'center': 'tenure'}>],\n",
       "       [<Axes: title={'center': 'MonthlyCharges'}>, <Axes: >]],\n",
       "      dtype=object)"
      ]
     },
     "execution_count": 5,
     "metadata": {},
     "output_type": "execute_result"
    },
    {
     "data": {
      "image/png": "[encoded data removed]",
      "text/plain": [
       "<Figure size 640x480 with 4 Axes>"
      ]
     },
     "metadata": {},
     "output_type": "display_data"
    }
   ],
   "source": [
    "df.hist()"
   ]
  },
  {
   "cell_type": "code",
   "execution_count": 6,
   "id": "14fda94c",
   "metadata": {},
   "outputs": [
    {
     "data": {
      "text/plain": [
       "SeniorCitizen      0.162147\n",
       "tenure            32.371149\n",
       "MonthlyCharges    64.761692\n",
       "dtype: float64"
      ]
     },
     "execution_count": 6,
     "metadata": {},
     "output_type": "execute_result"
    }
   ],
   "source": [
    "df.mean(numeric_only=True)"
   ]
  },
  {
   "cell_type": "code",
   "execution_count": 7,
   "id": "ba6511a8",
   "metadata": {},
   "outputs": [
    {
     "data": {
      "text/plain": [
       "SeniorCitizen      0.00\n",
       "tenure            29.00\n",
       "MonthlyCharges    70.35\n",
       "dtype: float64"
      ]
     },
     "execution_count": 7,
     "metadata": {},
     "output_type": "execute_result"
    }
   ],
   "source": [
    "df.median(numeric_only=True)"
   ]
  },
  {
   "cell_type": "code",
   "execution_count": 8,
   "id": "19024c0c",
   "metadata": {},
   "outputs": [
    {
     "data": {
      "text/html": [
       "<div>\n",
       "<style scoped>\n",
       "    .dataframe tbody tr th:only-of-type {\n",
       "        vertical-align: middle;\n",
       "    }\n",
       "\n",
       "    .dataframe tbody tr th {\n",
       "        vertical-align: top;\n",
       "    }\n",
       "\n",
       "    .dataframe thead th {\n",
       "        text-align: right;\n",
       "    }\n",
       "</style>\n",
       "<table border=\"1\" class=\"dataframe\">\n",
       "  <thead>\n",
       "    <tr style=\"text-align: right;\">\n",
       "      <th></th>\n",
       "      <th>SeniorCitizen</th>\n",
       "      <th>tenure</th>\n",
       "      <th>MonthlyCharges</th>\n",
       "    </tr>\n",
       "  </thead>\n",
       "  <tbody>\n",
       "    <tr>\n",
       "      <th>0</th>\n",
       "      <td>0</td>\n",
       "      <td>1</td>\n",
       "      <td>20.05</td>\n",
       "    </tr>\n",
       "  </tbody>\n",
       "</table>\n",
       "</div>"
      ],
      "text/plain": [
       "   SeniorCitizen  tenure  MonthlyCharges\n",
       "0              0       1           20.05"
      ]
     },
     "execution_count": 8,
     "metadata": {},
     "output_type": "execute_result"
    }
   ],
   "source": [
    "df.mode(numeric_only=True)"
   ]
  },
  {
   "cell_type": "code",
   "execution_count": 9,
   "id": "a2fa3782",
   "metadata": {},
   "outputs": [
    {
     "data": {
      "text/plain": [
       "SeniorCitizen       0.135875\n",
       "tenure            603.168108\n",
       "MonthlyCharges    905.410934\n",
       "dtype: float64"
      ]
     },
     "execution_count": 9,
     "metadata": {},
     "output_type": "execute_result"
    }
   ],
   "source": [
    "df.var(numeric_only=True)"
   ]
  },
  {
   "cell_type": "code",
   "execution_count": 10,
   "id": "99e05dd1",
   "metadata": {},
   "outputs": [
    {
     "data": {
      "text/plain": [
       "SeniorCitizen      0.368612\n",
       "tenure            24.559481\n",
       "MonthlyCharges    30.090047\n",
       "dtype: float64"
      ]
     },
     "execution_count": 10,
     "metadata": {},
     "output_type": "execute_result"
    }
   ],
   "source": [
    "df.std(numeric_only=True)"
   ]
  },
  {
   "cell_type": "code",
   "execution_count": 11,
   "id": "0ccc0d3e",
   "metadata": {},
   "outputs": [
    {
     "data": {
      "text/plain": [
       "<Axes: >"
      ]
     },
     "execution_count": 11,
     "metadata": {},
     "output_type": "execute_result"
    },
    {
     "data": {
      "image/png": "[encoded data removed]",
      "text/plain": [
       "<Figure size 640x480 with 1 Axes>"
      ]
     },
     "metadata": {},
     "output_type": "display_data"
    }
   ],
   "source": [
    "df.boxplot(column=['SeniorCitizen', 'tenure', 'MonthlyCharges'], grid= False , color='black')"
   ]
  },
  {
   "cell_type": "markdown",
   "id": "1daff97f-7552-4abb-918f-39fdda6d078e",
   "metadata": {
    "id": "1daff97f-7552-4abb-918f-39fdda6d078e"
   },
   "source": [
    "**Вывод:** Все что я хотел сказать, я уже сказал. Авторы курса, он хорош), спору нет, но прошу, меньше копировать-вставить:)\n",
    "Либо делаете другие задания, либо пусть будет повтор с другим датасетом, чтобы можно было сказать что-то новое о данных(это пожелание) "
   ]
  },
  {
   "cell_type": "markdown",
   "id": "20dfbfdf",
   "metadata": {
    "id": "20dfbfdf",
    "papermill": {
     "duration": 0.109572,
     "end_time": "2022-09-17T00:13:04.713273",
     "exception": false,
     "start_time": "2022-09-17T00:13:04.603701",
     "status": "completed"
    },
    "tags": []
   },
   "source": [
    "### Уникальные значения для всех столбцов"
   ]
  },
  {
   "cell_type": "markdown",
   "id": "6dae3e7e-2d2d-48f4-a815-12203933284b",
   "metadata": {
    "id": "6dae3e7e-2d2d-48f4-a815-12203933284b",
    "tags": []
   },
   "source": [
    "Рассмотрите уникальные значения категориальных признаков. \n",
    "\n",
    "Сделайте вывод.\n",
    "\n",
    "**Подсказка:** можете воспользоваться методом `describe(include='object')`"
   ]
  },
  {
   "cell_type": "code",
   "execution_count": 12,
   "id": "8fdc1546-6a9b-4dc8-afdc-fca1fd637ded",
   "metadata": {
    "id": "8fdc1546-6a9b-4dc8-afdc-fca1fd637ded"
   },
   "outputs": [
    {
     "data": {
      "text/html": [
       "<div>\n",
       "<style scoped>\n",
       "    .dataframe tbody tr th:only-of-type {\n",
       "        vertical-align: middle;\n",
       "    }\n",
       "\n",
       "    .dataframe tbody tr th {\n",
       "        vertical-align: top;\n",
       "    }\n",
       "\n",
       "    .dataframe thead th {\n",
       "        text-align: right;\n",
       "    }\n",
       "</style>\n",
       "<table border=\"1\" class=\"dataframe\">\n",
       "  <thead>\n",
       "    <tr style=\"text-align: right;\">\n",
       "      <th></th>\n",
       "      <th>customerID</th>\n",
       "      <th>gender</th>\n",
       "      <th>Partner</th>\n",
       "      <th>Dependents</th>\n",
       "      <th>PhoneService</th>\n",
       "      <th>MultipleLines</th>\n",
       "      <th>InternetService</th>\n",
       "      <th>OnlineSecurity</th>\n",
       "      <th>OnlineBackup</th>\n",
       "      <th>DeviceProtection</th>\n",
       "      <th>TechSupport</th>\n",
       "      <th>StreamingTV</th>\n",
       "      <th>StreamingMovies</th>\n",
       "      <th>Contract</th>\n",
       "      <th>PaperlessBilling</th>\n",
       "      <th>PaymentMethod</th>\n",
       "      <th>TotalCharges</th>\n",
       "      <th>Churn</th>\n",
       "    </tr>\n",
       "  </thead>\n",
       "  <tbody>\n",
       "    <tr>\n",
       "      <th>count</th>\n",
       "      <td>7043</td>\n",
       "      <td>7043</td>\n",
       "      <td>7043</td>\n",
       "      <td>7043</td>\n",
       "      <td>7043</td>\n",
       "      <td>7043</td>\n",
       "      <td>7043</td>\n",
       "      <td>7043</td>\n",
       "      <td>7043</td>\n",
       "      <td>7043</td>\n",
       "      <td>7043</td>\n",
       "      <td>7043</td>\n",
       "      <td>7043</td>\n",
       "      <td>7043</td>\n",
       "      <td>7043</td>\n",
       "      <td>7043</td>\n",
       "      <td>7043</td>\n",
       "      <td>7043</td>\n",
       "    </tr>\n",
       "    <tr>\n",
       "      <th>unique</th>\n",
       "      <td>7043</td>\n",
       "      <td>2</td>\n",
       "      <td>2</td>\n",
       "      <td>2</td>\n",
       "      <td>2</td>\n",
       "      <td>3</td>\n",
       "      <td>3</td>\n",
       "      <td>3</td>\n",
       "      <td>3</td>\n",
       "      <td>3</td>\n",
       "      <td>3</td>\n",
       "      <td>3</td>\n",
       "      <td>3</td>\n",
       "      <td>3</td>\n",
       "      <td>2</td>\n",
       "      <td>4</td>\n",
       "      <td>6531</td>\n",
       "      <td>2</td>\n",
       "    </tr>\n",
       "    <tr>\n",
       "      <th>top</th>\n",
       "      <td>7590-VHVEG</td>\n",
       "      <td>Male</td>\n",
       "      <td>No</td>\n",
       "      <td>No</td>\n",
       "      <td>Yes</td>\n",
       "      <td>No</td>\n",
       "      <td>Fiber optic</td>\n",
       "      <td>No</td>\n",
       "      <td>No</td>\n",
       "      <td>No</td>\n",
       "      <td>No</td>\n",
       "      <td>No</td>\n",
       "      <td>No</td>\n",
       "      <td>Month-to-month</td>\n",
       "      <td>Yes</td>\n",
       "      <td>Electronic check</td>\n",
       "      <td></td>\n",
       "      <td>No</td>\n",
       "    </tr>\n",
       "    <tr>\n",
       "      <th>freq</th>\n",
       "      <td>1</td>\n",
       "      <td>3555</td>\n",
       "      <td>3641</td>\n",
       "      <td>4933</td>\n",
       "      <td>6361</td>\n",
       "      <td>3390</td>\n",
       "      <td>3096</td>\n",
       "      <td>3498</td>\n",
       "      <td>3088</td>\n",
       "      <td>3095</td>\n",
       "      <td>3473</td>\n",
       "      <td>2810</td>\n",
       "      <td>2785</td>\n",
       "      <td>3875</td>\n",
       "      <td>4171</td>\n",
       "      <td>2365</td>\n",
       "      <td>11</td>\n",
       "      <td>5174</td>\n",
       "    </tr>\n",
       "  </tbody>\n",
       "</table>\n",
       "</div>"
      ],
      "text/plain": [
       "        customerID gender Partner Dependents PhoneService MultipleLines  \\\n",
       "count         7043   7043    7043       7043         7043          7043   \n",
       "unique        7043      2       2          2            2             3   \n",
       "top     7590-VHVEG   Male      No         No          Yes            No   \n",
       "freq             1   3555    3641       4933         6361          3390   \n",
       "\n",
       "       InternetService OnlineSecurity OnlineBackup DeviceProtection  \\\n",
       "count             7043           7043         7043             7043   \n",
       "unique               3              3            3                3   \n",
       "top        Fiber optic             No           No               No   \n",
       "freq              3096           3498         3088             3095   \n",
       "\n",
       "       TechSupport StreamingTV StreamingMovies        Contract  \\\n",
       "count         7043        7043            7043            7043   \n",
       "unique           3           3               3               3   \n",
       "top             No          No              No  Month-to-month   \n",
       "freq          3473        2810            2785            3875   \n",
       "\n",
       "       PaperlessBilling     PaymentMethod TotalCharges Churn  \n",
       "count              7043              7043         7043  7043  \n",
       "unique                2                 4         6531     2  \n",
       "top                 Yes  Electronic check                 No  \n",
       "freq               4171              2365           11  5174  "
      ]
     },
     "execution_count": 12,
     "metadata": {},
     "output_type": "execute_result"
    }
   ],
   "source": [
    "# ваше решение\n",
    "df.describe(include='object')"
   ]
  },
  {
   "cell_type": "code",
   "execution_count": 13,
   "id": "9a2e2cef",
   "metadata": {},
   "outputs": [
    {
     "data": {
      "text/plain": [
       "<Axes: xlabel='Partner,OnlineSecurity'>"
      ]
     },
     "execution_count": 13,
     "metadata": {},
     "output_type": "execute_result"
    },
    {
     "data": {
      "image/png": "[encoded data removed]",
      "text/plain": [
       "<Figure size 640x480 with 1 Axes>"
      ]
     },
     "metadata": {},
     "output_type": "display_data"
    }
   ],
   "source": [
    "ct = pd.crosstab([df.Partner, df.OnlineSecurity], df.StreamingTV)\n",
    "ct.plot(kind='bar')"
   ]
  },
  {
   "cell_type": "markdown",
   "id": "31dd4378-da15-45df-94a6-2e6d9466b368",
   "metadata": {
    "id": "31dd4378-da15-45df-94a6-2e6d9466b368"
   },
   "source": [
    "**Вывод:** Поторяться не стану"
   ]
  },
  {
   "cell_type": "markdown",
   "id": "71169f8f-3bf5-498c-8844-ec8e47c232a4",
   "metadata": {
    "id": "71169f8f-3bf5-498c-8844-ec8e47c232a4",
    "papermill": {
     "duration": 0.107391,
     "end_time": "2022-09-17T00:13:03.296525",
     "exception": false,
     "start_time": "2022-09-17T00:13:03.189134",
     "status": "completed"
    },
    "tags": []
   },
   "source": [
    "## 3. Предобработка данных"
   ]
  },
  {
   "cell_type": "markdown",
   "id": "0a01fab1-c07b-46b0-a2d2-e8939670ed1d",
   "metadata": {
    "id": "0a01fab1-c07b-46b0-a2d2-e8939670ed1d",
    "papermill": {
     "duration": 0.110418,
     "end_time": "2022-09-17T00:13:05.443495",
     "exception": false,
     "start_time": "2022-09-17T00:13:05.333077",
     "status": "completed"
    },
    "tags": []
   },
   "source": [
    "### Дубликаты"
   ]
  },
  {
   "cell_type": "markdown",
   "id": "e30c5d7d-10fe-4889-9156-e89b3ac80e9f",
   "metadata": {
    "id": "e30c5d7d-10fe-4889-9156-e89b3ac80e9f"
   },
   "source": [
    "Предобработайте датасет — проверьте на наличие дубликатов и удалите, если они есть."
   ]
  },
  {
   "cell_type": "code",
   "execution_count": 14,
   "id": "719cd83b-60bd-4da9-81c4-0c22893b3e47",
   "metadata": {
    "id": "719cd83b-60bd-4da9-81c4-0c22893b3e47"
   },
   "outputs": [
    {
     "name": "stdout",
     "output_type": "stream",
     "text": [
      "0\n"
     ]
    }
   ],
   "source": [
    "# ваше решение\n",
    "print(len(df)- len(df.drop_duplicates()))\n",
    "df.drop_duplicates(inplace=True)"
   ]
  },
  {
   "cell_type": "markdown",
   "id": "8e8f7fbc",
   "metadata": {
    "id": "8e8f7fbc",
    "papermill": {
     "duration": 0.110418,
     "end_time": "2022-09-17T00:13:05.443495",
     "exception": false,
     "start_time": "2022-09-17T00:13:05.333077",
     "status": "completed"
    },
    "tags": []
   },
   "source": [
    "### Отсутствующие значения"
   ]
  },
  {
   "cell_type": "markdown",
   "id": "cefe6e59-bbf6-409f-bc89-299984ccf9ec",
   "metadata": {
    "id": "cefe6e59-bbf6-409f-bc89-299984ccf9ec"
   },
   "source": [
    "Пояснение к данному датасету:\n",
    "\n",
    "Не всегда в данных есть явные пропуски, которые легко индексируются средствами Pandas. К сожалению бывают проблемы с выгрузками данных, некачественными источниками, или когда данные записываются вручную — часто присутствует человеческий фактор. По мере работы с новыми данными лучше проверять на наличие таких данных, иначе из-за этого исследование может исказиться.\n",
    "\n",
    "Рассмотрим такой случай:"
   ]
  },
  {
   "cell_type": "code",
   "execution_count": 15,
   "id": "3493172e",
   "metadata": {
    "id": "3493172e",
    "papermill": {
     "duration": 0.127904,
     "end_time": "2022-09-17T00:13:05.681445",
     "exception": false,
     "start_time": "2022-09-17T00:13:05.553541",
     "status": "completed"
    },
    "tags": []
   },
   "outputs": [
    {
     "data": {
      "text/plain": [
       "customerID          0\n",
       "gender              0\n",
       "SeniorCitizen       0\n",
       "Partner             0\n",
       "Dependents          0\n",
       "tenure              0\n",
       "PhoneService        0\n",
       "MultipleLines       0\n",
       "InternetService     0\n",
       "OnlineSecurity      0\n",
       "OnlineBackup        0\n",
       "DeviceProtection    0\n",
       "TechSupport         0\n",
       "StreamingTV         0\n",
       "StreamingMovies     0\n",
       "Contract            0\n",
       "PaperlessBilling    0\n",
       "PaymentMethod       0\n",
       "MonthlyCharges      0\n",
       "TotalCharges        0\n",
       "Churn               0\n",
       "dtype: int64"
      ]
     },
     "execution_count": 15,
     "metadata": {},
     "output_type": "execute_result"
    }
   ],
   "source": [
    "df.isna().sum()"
   ]
  },
  {
   "cell_type": "markdown",
   "id": "9262f68f-8d27-4794-ab21-327484d502ac",
   "metadata": {
    "id": "9262f68f-8d27-4794-ab21-327484d502ac"
   },
   "source": [
    "Да, не видно пропусков. Но почему тогда столбец `TotalCharges` не отобразился изначально как числовой столбец?\n",
    "\n",
    "Проверим все столбцы:"
   ]
  },
  {
   "cell_type": "code",
   "execution_count": 16,
   "id": "c086249f",
   "metadata": {
    "id": "c086249f",
    "papermill": {
     "duration": 0.212036,
     "end_time": "2022-09-17T00:13:06.005380",
     "exception": false,
     "start_time": "2022-09-17T00:13:05.793344",
     "status": "completed"
    },
    "tags": []
   },
   "outputs": [
    {
     "name": "stdout",
     "output_type": "stream",
     "text": [
      "Неявные пропуски столбца TotalCharges: 11\n"
     ]
    }
   ],
   "source": [
    "for col in df:\n",
    "    if df[col].dtype == 'object':\n",
    "        nans = df[col].apply(lambda x: len(x.strip())==0).sum()\n",
    "        if nans > 0:\n",
    "            print(f'Неявные пропуски столбца {col}:', df[col].apply(lambda x: len(x.strip())==0).sum())"
   ]
  },
  {
   "cell_type": "markdown",
   "id": "d9751428-4425-4a69-a8b9-0d8be7bdda21",
   "metadata": {
    "id": "d9751428-4425-4a69-a8b9-0d8be7bdda21"
   },
   "source": [
    "Что мы можем сделать в таком случае?\n",
    "\n",
    "1) По этому же фильтру удалить строки с пропусками, чтобы не искажать данные\n",
    "2) Перевести тип столбца на числовой с параметром `errors = 'coerce'` и удалить\n",
    "\n",
    "Но можно не удалять, чтобы не потерять данные, а:\n",
    "\n",
    "1) Заменить значения на другое\n",
    "2) Поменять на другое — но только в том случае, если есть какая-то зависимость в данных.\n",
    "\n",
    "Давайте изменим тип и найдем зависимость:"
   ]
  },
  {
   "cell_type": "code",
   "execution_count": 17,
   "id": "32c7fbb7-ea06-491f-9629-525175141ed2",
   "metadata": {
    "id": "32c7fbb7-ea06-491f-9629-525175141ed2",
    "tags": []
   },
   "outputs": [
    {
     "data": {
      "text/html": [
       "<div>\n",
       "<style scoped>\n",
       "    .dataframe tbody tr th:only-of-type {\n",
       "        vertical-align: middle;\n",
       "    }\n",
       "\n",
       "    .dataframe tbody tr th {\n",
       "        vertical-align: top;\n",
       "    }\n",
       "\n",
       "    .dataframe thead th {\n",
       "        text-align: right;\n",
       "    }\n",
       "</style>\n",
       "<table border=\"1\" class=\"dataframe\">\n",
       "  <thead>\n",
       "    <tr style=\"text-align: right;\">\n",
       "      <th></th>\n",
       "      <th>customerID</th>\n",
       "      <th>gender</th>\n",
       "      <th>SeniorCitizen</th>\n",
       "      <th>Partner</th>\n",
       "      <th>Dependents</th>\n",
       "      <th>tenure</th>\n",
       "      <th>PhoneService</th>\n",
       "      <th>MultipleLines</th>\n",
       "      <th>InternetService</th>\n",
       "      <th>OnlineSecurity</th>\n",
       "      <th>OnlineBackup</th>\n",
       "      <th>DeviceProtection</th>\n",
       "      <th>TechSupport</th>\n",
       "      <th>StreamingTV</th>\n",
       "      <th>StreamingMovies</th>\n",
       "      <th>Contract</th>\n",
       "      <th>PaperlessBilling</th>\n",
       "      <th>PaymentMethod</th>\n",
       "      <th>MonthlyCharges</th>\n",
       "      <th>TotalCharges</th>\n",
       "      <th>Churn</th>\n",
       "    </tr>\n",
       "  </thead>\n",
       "  <tbody>\n",
       "    <tr>\n",
       "      <th>488</th>\n",
       "      <td>4472-LVYGI</td>\n",
       "      <td>Female</td>\n",
       "      <td>0</td>\n",
       "      <td>Yes</td>\n",
       "      <td>Yes</td>\n",
       "      <td>0</td>\n",
       "      <td>No</td>\n",
       "      <td>No phone service</td>\n",
       "      <td>DSL</td>\n",
       "      <td>Yes</td>\n",
       "      <td>No</td>\n",
       "      <td>Yes</td>\n",
       "      <td>Yes</td>\n",
       "      <td>Yes</td>\n",
       "      <td>No</td>\n",
       "      <td>Two year</td>\n",
       "      <td>Yes</td>\n",
       "      <td>Bank transfer (automatic)</td>\n",
       "      <td>52.55</td>\n",
       "      <td>NaN</td>\n",
       "      <td>No</td>\n",
       "    </tr>\n",
       "    <tr>\n",
       "      <th>753</th>\n",
       "      <td>3115-CZMZD</td>\n",
       "      <td>Male</td>\n",
       "      <td>0</td>\n",
       "      <td>No</td>\n",
       "      <td>Yes</td>\n",
       "      <td>0</td>\n",
       "      <td>Yes</td>\n",
       "      <td>No</td>\n",
       "      <td>No</td>\n",
       "      <td>No internet service</td>\n",
       "      <td>No internet service</td>\n",
       "      <td>No internet service</td>\n",
       "      <td>No internet service</td>\n",
       "      <td>No internet service</td>\n",
       "      <td>No internet service</td>\n",
       "      <td>Two year</td>\n",
       "      <td>No</td>\n",
       "      <td>Mailed check</td>\n",
       "      <td>20.25</td>\n",
       "      <td>NaN</td>\n",
       "      <td>No</td>\n",
       "    </tr>\n",
       "    <tr>\n",
       "      <th>936</th>\n",
       "      <td>5709-LVOEQ</td>\n",
       "      <td>Female</td>\n",
       "      <td>0</td>\n",
       "      <td>Yes</td>\n",
       "      <td>Yes</td>\n",
       "      <td>0</td>\n",
       "      <td>Yes</td>\n",
       "      <td>No</td>\n",
       "      <td>DSL</td>\n",
       "      <td>Yes</td>\n",
       "      <td>Yes</td>\n",
       "      <td>Yes</td>\n",
       "      <td>No</td>\n",
       "      <td>Yes</td>\n",
       "      <td>Yes</td>\n",
       "      <td>Two year</td>\n",
       "      <td>No</td>\n",
       "      <td>Mailed check</td>\n",
       "      <td>80.85</td>\n",
       "      <td>NaN</td>\n",
       "      <td>No</td>\n",
       "    </tr>\n",
       "    <tr>\n",
       "      <th>1082</th>\n",
       "      <td>4367-NUYAO</td>\n",
       "      <td>Male</td>\n",
       "      <td>0</td>\n",
       "      <td>Yes</td>\n",
       "      <td>Yes</td>\n",
       "      <td>0</td>\n",
       "      <td>Yes</td>\n",
       "      <td>Yes</td>\n",
       "      <td>No</td>\n",
       "      <td>No internet service</td>\n",
       "      <td>No internet service</td>\n",
       "      <td>No internet service</td>\n",
       "      <td>No internet service</td>\n",
       "      <td>No internet service</td>\n",
       "      <td>No internet service</td>\n",
       "      <td>Two year</td>\n",
       "      <td>No</td>\n",
       "      <td>Mailed check</td>\n",
       "      <td>25.75</td>\n",
       "      <td>NaN</td>\n",
       "      <td>No</td>\n",
       "    </tr>\n",
       "    <tr>\n",
       "      <th>1340</th>\n",
       "      <td>1371-DWPAZ</td>\n",
       "      <td>Female</td>\n",
       "      <td>0</td>\n",
       "      <td>Yes</td>\n",
       "      <td>Yes</td>\n",
       "      <td>0</td>\n",
       "      <td>No</td>\n",
       "      <td>No phone service</td>\n",
       "      <td>DSL</td>\n",
       "      <td>Yes</td>\n",
       "      <td>Yes</td>\n",
       "      <td>Yes</td>\n",
       "      <td>Yes</td>\n",
       "      <td>Yes</td>\n",
       "      <td>No</td>\n",
       "      <td>Two year</td>\n",
       "      <td>No</td>\n",
       "      <td>Credit card (automatic)</td>\n",
       "      <td>56.05</td>\n",
       "      <td>NaN</td>\n",
       "      <td>No</td>\n",
       "    </tr>\n",
       "    <tr>\n",
       "      <th>3331</th>\n",
       "      <td>7644-OMVMY</td>\n",
       "      <td>Male</td>\n",
       "      <td>0</td>\n",
       "      <td>Yes</td>\n",
       "      <td>Yes</td>\n",
       "      <td>0</td>\n",
       "      <td>Yes</td>\n",
       "      <td>No</td>\n",
       "      <td>No</td>\n",
       "      <td>No internet service</td>\n",
       "      <td>No internet service</td>\n",
       "      <td>No internet service</td>\n",
       "      <td>No internet service</td>\n",
       "      <td>No internet service</td>\n",
       "      <td>No internet service</td>\n",
       "      <td>Two year</td>\n",
       "      <td>No</td>\n",
       "      <td>Mailed check</td>\n",
       "      <td>19.85</td>\n",
       "      <td>NaN</td>\n",
       "      <td>No</td>\n",
       "    </tr>\n",
       "    <tr>\n",
       "      <th>3826</th>\n",
       "      <td>3213-VVOLG</td>\n",
       "      <td>Male</td>\n",
       "      <td>0</td>\n",
       "      <td>Yes</td>\n",
       "      <td>Yes</td>\n",
       "      <td>0</td>\n",
       "      <td>Yes</td>\n",
       "      <td>Yes</td>\n",
       "      <td>No</td>\n",
       "      <td>No internet service</td>\n",
       "      <td>No internet service</td>\n",
       "      <td>No internet service</td>\n",
       "      <td>No internet service</td>\n",
       "      <td>No internet service</td>\n",
       "      <td>No internet service</td>\n",
       "      <td>Two year</td>\n",
       "      <td>No</td>\n",
       "      <td>Mailed check</td>\n",
       "      <td>25.35</td>\n",
       "      <td>NaN</td>\n",
       "      <td>No</td>\n",
       "    </tr>\n",
       "    <tr>\n",
       "      <th>4380</th>\n",
       "      <td>2520-SGTTA</td>\n",
       "      <td>Female</td>\n",
       "      <td>0</td>\n",
       "      <td>Yes</td>\n",
       "      <td>Yes</td>\n",
       "      <td>0</td>\n",
       "      <td>Yes</td>\n",
       "      <td>No</td>\n",
       "      <td>No</td>\n",
       "      <td>No internet service</td>\n",
       "      <td>No internet service</td>\n",
       "      <td>No internet service</td>\n",
       "      <td>No internet service</td>\n",
       "      <td>No internet service</td>\n",
       "      <td>No internet service</td>\n",
       "      <td>Two year</td>\n",
       "      <td>No</td>\n",
       "      <td>Mailed check</td>\n",
       "      <td>20.00</td>\n",
       "      <td>NaN</td>\n",
       "      <td>No</td>\n",
       "    </tr>\n",
       "    <tr>\n",
       "      <th>5218</th>\n",
       "      <td>2923-ARZLG</td>\n",
       "      <td>Male</td>\n",
       "      <td>0</td>\n",
       "      <td>Yes</td>\n",
       "      <td>Yes</td>\n",
       "      <td>0</td>\n",
       "      <td>Yes</td>\n",
       "      <td>No</td>\n",
       "      <td>No</td>\n",
       "      <td>No internet service</td>\n",
       "      <td>No internet service</td>\n",
       "      <td>No internet service</td>\n",
       "      <td>No internet service</td>\n",
       "      <td>No internet service</td>\n",
       "      <td>No internet service</td>\n",
       "      <td>One year</td>\n",
       "      <td>Yes</td>\n",
       "      <td>Mailed check</td>\n",
       "      <td>19.70</td>\n",
       "      <td>NaN</td>\n",
       "      <td>No</td>\n",
       "    </tr>\n",
       "    <tr>\n",
       "      <th>6670</th>\n",
       "      <td>4075-WKNIU</td>\n",
       "      <td>Female</td>\n",
       "      <td>0</td>\n",
       "      <td>Yes</td>\n",
       "      <td>Yes</td>\n",
       "      <td>0</td>\n",
       "      <td>Yes</td>\n",
       "      <td>Yes</td>\n",
       "      <td>DSL</td>\n",
       "      <td>No</td>\n",
       "      <td>Yes</td>\n",
       "      <td>Yes</td>\n",
       "      <td>Yes</td>\n",
       "      <td>Yes</td>\n",
       "      <td>No</td>\n",
       "      <td>Two year</td>\n",
       "      <td>No</td>\n",
       "      <td>Mailed check</td>\n",
       "      <td>73.35</td>\n",
       "      <td>NaN</td>\n",
       "      <td>No</td>\n",
       "    </tr>\n",
       "    <tr>\n",
       "      <th>6754</th>\n",
       "      <td>2775-SEFEE</td>\n",
       "      <td>Male</td>\n",
       "      <td>0</td>\n",
       "      <td>No</td>\n",
       "      <td>Yes</td>\n",
       "      <td>0</td>\n",
       "      <td>Yes</td>\n",
       "      <td>Yes</td>\n",
       "      <td>DSL</td>\n",
       "      <td>Yes</td>\n",
       "      <td>Yes</td>\n",
       "      <td>No</td>\n",
       "      <td>Yes</td>\n",
       "      <td>No</td>\n",
       "      <td>No</td>\n",
       "      <td>Two year</td>\n",
       "      <td>Yes</td>\n",
       "      <td>Bank transfer (automatic)</td>\n",
       "      <td>61.90</td>\n",
       "      <td>NaN</td>\n",
       "      <td>No</td>\n",
       "    </tr>\n",
       "  </tbody>\n",
       "</table>\n",
       "</div>"
      ],
      "text/plain": [
       "      customerID  gender  SeniorCitizen Partner Dependents  tenure  \\\n",
       "488   4472-LVYGI  Female              0     Yes        Yes       0   \n",
       "753   3115-CZMZD    Male              0      No        Yes       0   \n",
       "936   5709-LVOEQ  Female              0     Yes        Yes       0   \n",
       "1082  4367-NUYAO    Male              0     Yes        Yes       0   \n",
       "1340  1371-DWPAZ  Female              0     Yes        Yes       0   \n",
       "3331  7644-OMVMY    Male              0     Yes        Yes       0   \n",
       "3826  3213-VVOLG    Male              0     Yes        Yes       0   \n",
       "4380  2520-SGTTA  Female              0     Yes        Yes       0   \n",
       "5218  2923-ARZLG    Male              0     Yes        Yes       0   \n",
       "6670  4075-WKNIU  Female              0     Yes        Yes       0   \n",
       "6754  2775-SEFEE    Male              0      No        Yes       0   \n",
       "\n",
       "     PhoneService     MultipleLines InternetService       OnlineSecurity  \\\n",
       "488            No  No phone service             DSL                  Yes   \n",
       "753           Yes                No              No  No internet service   \n",
       "936           Yes                No             DSL                  Yes   \n",
       "1082          Yes               Yes              No  No internet service   \n",
       "1340           No  No phone service             DSL                  Yes   \n",
       "3331          Yes                No              No  No internet service   \n",
       "3826          Yes               Yes              No  No internet service   \n",
       "4380          Yes                No              No  No internet service   \n",
       "5218          Yes                No              No  No internet service   \n",
       "6670          Yes               Yes             DSL                   No   \n",
       "6754          Yes               Yes             DSL                  Yes   \n",
       "\n",
       "             OnlineBackup     DeviceProtection          TechSupport  \\\n",
       "488                    No                  Yes                  Yes   \n",
       "753   No internet service  No internet service  No internet service   \n",
       "936                   Yes                  Yes                   No   \n",
       "1082  No internet service  No internet service  No internet service   \n",
       "1340                  Yes                  Yes                  Yes   \n",
       "3331  No internet service  No internet service  No internet service   \n",
       "3826  No internet service  No internet service  No internet service   \n",
       "4380  No internet service  No internet service  No internet service   \n",
       "5218  No internet service  No internet service  No internet service   \n",
       "6670                  Yes                  Yes                  Yes   \n",
       "6754                  Yes                   No                  Yes   \n",
       "\n",
       "              StreamingTV      StreamingMovies  Contract PaperlessBilling  \\\n",
       "488                   Yes                   No  Two year              Yes   \n",
       "753   No internet service  No internet service  Two year               No   \n",
       "936                   Yes                  Yes  Two year               No   \n",
       "1082  No internet service  No internet service  Two year               No   \n",
       "1340                  Yes                   No  Two year               No   \n",
       "3331  No internet service  No internet service  Two year               No   \n",
       "3826  No internet service  No internet service  Two year               No   \n",
       "4380  No internet service  No internet service  Two year               No   \n",
       "5218  No internet service  No internet service  One year              Yes   \n",
       "6670                  Yes                   No  Two year               No   \n",
       "6754                   No                   No  Two year              Yes   \n",
       "\n",
       "                  PaymentMethod  MonthlyCharges  TotalCharges Churn  \n",
       "488   Bank transfer (automatic)           52.55           NaN    No  \n",
       "753                Mailed check           20.25           NaN    No  \n",
       "936                Mailed check           80.85           NaN    No  \n",
       "1082               Mailed check           25.75           NaN    No  \n",
       "1340    Credit card (automatic)           56.05           NaN    No  \n",
       "3331               Mailed check           19.85           NaN    No  \n",
       "3826               Mailed check           25.35           NaN    No  \n",
       "4380               Mailed check           20.00           NaN    No  \n",
       "5218               Mailed check           19.70           NaN    No  \n",
       "6670               Mailed check           73.35           NaN    No  \n",
       "6754  Bank transfer (automatic)           61.90           NaN    No  "
      ]
     },
     "execution_count": 17,
     "metadata": {},
     "output_type": "execute_result"
    }
   ],
   "source": [
    "df[\"TotalCharges\"] = pd.to_numeric(df[\"TotalCharges\"], errors = 'coerce')\n",
    "\n",
    "df[df[\"TotalCharges\"].isna()]"
   ]
  },
  {
   "cell_type": "markdown",
   "id": "2c030a1f-7848-4412-93b1-a8eecc8cbf5f",
   "metadata": {
    "id": "2c030a1f-7848-4412-93b1-a8eecc8cbf5f"
   },
   "source": [
    "**Но как выглядят наши данные обычно?**"
   ]
  },
  {
   "cell_type": "code",
   "execution_count": 18,
   "id": "c5a0c8e0-8906-4a9a-b081-b718f4e11053",
   "metadata": {
    "id": "c5a0c8e0-8906-4a9a-b081-b718f4e11053",
    "tags": []
   },
   "outputs": [
    {
     "data": {
      "text/html": [
       "<div>\n",
       "<style scoped>\n",
       "    .dataframe tbody tr th:only-of-type {\n",
       "        vertical-align: middle;\n",
       "    }\n",
       "\n",
       "    .dataframe tbody tr th {\n",
       "        vertical-align: top;\n",
       "    }\n",
       "\n",
       "    .dataframe thead th {\n",
       "        text-align: right;\n",
       "    }\n",
       "</style>\n",
       "<table border=\"1\" class=\"dataframe\">\n",
       "  <thead>\n",
       "    <tr style=\"text-align: right;\">\n",
       "      <th></th>\n",
       "      <th>customerID</th>\n",
       "      <th>gender</th>\n",
       "      <th>SeniorCitizen</th>\n",
       "      <th>Partner</th>\n",
       "      <th>Dependents</th>\n",
       "      <th>tenure</th>\n",
       "      <th>PhoneService</th>\n",
       "      <th>MultipleLines</th>\n",
       "      <th>InternetService</th>\n",
       "      <th>OnlineSecurity</th>\n",
       "      <th>OnlineBackup</th>\n",
       "      <th>DeviceProtection</th>\n",
       "      <th>TechSupport</th>\n",
       "      <th>StreamingTV</th>\n",
       "      <th>StreamingMovies</th>\n",
       "      <th>Contract</th>\n",
       "      <th>PaperlessBilling</th>\n",
       "      <th>PaymentMethod</th>\n",
       "      <th>MonthlyCharges</th>\n",
       "      <th>TotalCharges</th>\n",
       "      <th>Churn</th>\n",
       "    </tr>\n",
       "  </thead>\n",
       "  <tbody>\n",
       "    <tr>\n",
       "      <th>4405</th>\n",
       "      <td>8417-FMLZI</td>\n",
       "      <td>Male</td>\n",
       "      <td>0</td>\n",
       "      <td>Yes</td>\n",
       "      <td>Yes</td>\n",
       "      <td>6</td>\n",
       "      <td>Yes</td>\n",
       "      <td>No</td>\n",
       "      <td>Fiber optic</td>\n",
       "      <td>No</td>\n",
       "      <td>Yes</td>\n",
       "      <td>No</td>\n",
       "      <td>No</td>\n",
       "      <td>No</td>\n",
       "      <td>Yes</td>\n",
       "      <td>Month-to-month</td>\n",
       "      <td>Yes</td>\n",
       "      <td>Credit card (automatic)</td>\n",
       "      <td>83.55</td>\n",
       "      <td>477.55</td>\n",
       "      <td>Yes</td>\n",
       "    </tr>\n",
       "    <tr>\n",
       "      <th>2873</th>\n",
       "      <td>0148-DCDOS</td>\n",
       "      <td>Male</td>\n",
       "      <td>0</td>\n",
       "      <td>No</td>\n",
       "      <td>No</td>\n",
       "      <td>25</td>\n",
       "      <td>Yes</td>\n",
       "      <td>Yes</td>\n",
       "      <td>Fiber optic</td>\n",
       "      <td>No</td>\n",
       "      <td>No</td>\n",
       "      <td>No</td>\n",
       "      <td>No</td>\n",
       "      <td>Yes</td>\n",
       "      <td>Yes</td>\n",
       "      <td>Month-to-month</td>\n",
       "      <td>Yes</td>\n",
       "      <td>Bank transfer (automatic)</td>\n",
       "      <td>94.70</td>\n",
       "      <td>2362.10</td>\n",
       "      <td>Yes</td>\n",
       "    </tr>\n",
       "    <tr>\n",
       "      <th>262</th>\n",
       "      <td>7529-ZDFXI</td>\n",
       "      <td>Male</td>\n",
       "      <td>1</td>\n",
       "      <td>Yes</td>\n",
       "      <td>No</td>\n",
       "      <td>57</td>\n",
       "      <td>Yes</td>\n",
       "      <td>Yes</td>\n",
       "      <td>Fiber optic</td>\n",
       "      <td>No</td>\n",
       "      <td>Yes</td>\n",
       "      <td>No</td>\n",
       "      <td>No</td>\n",
       "      <td>No</td>\n",
       "      <td>Yes</td>\n",
       "      <td>Month-to-month</td>\n",
       "      <td>Yes</td>\n",
       "      <td>Electronic check</td>\n",
       "      <td>89.85</td>\n",
       "      <td>4925.35</td>\n",
       "      <td>No</td>\n",
       "    </tr>\n",
       "    <tr>\n",
       "      <th>4122</th>\n",
       "      <td>4632-XJMEX</td>\n",
       "      <td>Male</td>\n",
       "      <td>0</td>\n",
       "      <td>No</td>\n",
       "      <td>Yes</td>\n",
       "      <td>53</td>\n",
       "      <td>Yes</td>\n",
       "      <td>No</td>\n",
       "      <td>DSL</td>\n",
       "      <td>Yes</td>\n",
       "      <td>Yes</td>\n",
       "      <td>No</td>\n",
       "      <td>Yes</td>\n",
       "      <td>No</td>\n",
       "      <td>No</td>\n",
       "      <td>One year</td>\n",
       "      <td>No</td>\n",
       "      <td>Credit card (automatic)</td>\n",
       "      <td>62.85</td>\n",
       "      <td>3419.50</td>\n",
       "      <td>No</td>\n",
       "    </tr>\n",
       "    <tr>\n",
       "      <th>138</th>\n",
       "      <td>6217-KDYWC</td>\n",
       "      <td>Male</td>\n",
       "      <td>0</td>\n",
       "      <td>No</td>\n",
       "      <td>Yes</td>\n",
       "      <td>57</td>\n",
       "      <td>Yes</td>\n",
       "      <td>No</td>\n",
       "      <td>No</td>\n",
       "      <td>No internet service</td>\n",
       "      <td>No internet service</td>\n",
       "      <td>No internet service</td>\n",
       "      <td>No internet service</td>\n",
       "      <td>No internet service</td>\n",
       "      <td>No internet service</td>\n",
       "      <td>Two year</td>\n",
       "      <td>Yes</td>\n",
       "      <td>Mailed check</td>\n",
       "      <td>19.60</td>\n",
       "      <td>1170.55</td>\n",
       "      <td>No</td>\n",
       "    </tr>\n",
       "  </tbody>\n",
       "</table>\n",
       "</div>"
      ],
      "text/plain": [
       "      customerID gender  SeniorCitizen Partner Dependents  tenure  \\\n",
       "4405  8417-FMLZI   Male              0     Yes        Yes       6   \n",
       "2873  0148-DCDOS   Male              0      No         No      25   \n",
       "262   7529-ZDFXI   Male              1     Yes         No      57   \n",
       "4122  4632-XJMEX   Male              0      No        Yes      53   \n",
       "138   6217-KDYWC   Male              0      No        Yes      57   \n",
       "\n",
       "     PhoneService MultipleLines InternetService       OnlineSecurity  \\\n",
       "4405          Yes            No     Fiber optic                   No   \n",
       "2873          Yes           Yes     Fiber optic                   No   \n",
       "262           Yes           Yes     Fiber optic                   No   \n",
       "4122          Yes            No             DSL                  Yes   \n",
       "138           Yes            No              No  No internet service   \n",
       "\n",
       "             OnlineBackup     DeviceProtection          TechSupport  \\\n",
       "4405                  Yes                   No                   No   \n",
       "2873                   No                   No                   No   \n",
       "262                   Yes                   No                   No   \n",
       "4122                  Yes                   No                  Yes   \n",
       "138   No internet service  No internet service  No internet service   \n",
       "\n",
       "              StreamingTV      StreamingMovies        Contract  \\\n",
       "4405                   No                  Yes  Month-to-month   \n",
       "2873                  Yes                  Yes  Month-to-month   \n",
       "262                    No                  Yes  Month-to-month   \n",
       "4122                   No                   No        One year   \n",
       "138   No internet service  No internet service        Two year   \n",
       "\n",
       "     PaperlessBilling              PaymentMethod  MonthlyCharges  \\\n",
       "4405              Yes    Credit card (automatic)           83.55   \n",
       "2873              Yes  Bank transfer (automatic)           94.70   \n",
       "262               Yes           Electronic check           89.85   \n",
       "4122               No    Credit card (automatic)           62.85   \n",
       "138               Yes               Mailed check           19.60   \n",
       "\n",
       "      TotalCharges Churn  \n",
       "4405        477.55   Yes  \n",
       "2873       2362.10   Yes  \n",
       "262        4925.35    No  \n",
       "4122       3419.50    No  \n",
       "138        1170.55    No  "
      ]
     },
     "execution_count": 18,
     "metadata": {},
     "output_type": "execute_result"
    }
   ],
   "source": [
    "df.sample(5)"
   ]
  },
  {
   "cell_type": "markdown",
   "id": "089c43d2-f7e8-4494-8f29-0419d0e4d193",
   "metadata": {
    "id": "089c43d2-f7e8-4494-8f29-0419d0e4d193"
   },
   "source": [
    "**Ничего не заметили?**\n",
    "\n",
    "Может общая сумма, списанная с клиента, равна сумме, взимаемой с клиента ежемесячно умноженной на количество времени?\n",
    "\n",
    "Давайте посмотрим."
   ]
  },
  {
   "cell_type": "code",
   "execution_count": 19,
   "id": "b5694487-db1c-4cf6-b543-af9e6a120970",
   "metadata": {
    "id": "b5694487-db1c-4cf6-b543-af9e6a120970"
   },
   "outputs": [
    {
     "data": {
      "text/html": [
       "<div>\n",
       "<style scoped>\n",
       "    .dataframe tbody tr th:only-of-type {\n",
       "        vertical-align: middle;\n",
       "    }\n",
       "\n",
       "    .dataframe tbody tr th {\n",
       "        vertical-align: top;\n",
       "    }\n",
       "\n",
       "    .dataframe thead th {\n",
       "        text-align: right;\n",
       "    }\n",
       "</style>\n",
       "<table border=\"1\" class=\"dataframe\">\n",
       "  <thead>\n",
       "    <tr style=\"text-align: right;\">\n",
       "      <th></th>\n",
       "      <th>customerID</th>\n",
       "      <th>gender</th>\n",
       "      <th>SeniorCitizen</th>\n",
       "      <th>Partner</th>\n",
       "      <th>Dependents</th>\n",
       "      <th>tenure</th>\n",
       "      <th>PhoneService</th>\n",
       "      <th>MultipleLines</th>\n",
       "      <th>InternetService</th>\n",
       "      <th>OnlineSecurity</th>\n",
       "      <th>OnlineBackup</th>\n",
       "      <th>DeviceProtection</th>\n",
       "      <th>TechSupport</th>\n",
       "      <th>StreamingTV</th>\n",
       "      <th>StreamingMovies</th>\n",
       "      <th>Contract</th>\n",
       "      <th>PaperlessBilling</th>\n",
       "      <th>PaymentMethod</th>\n",
       "      <th>MonthlyCharges</th>\n",
       "      <th>TotalCharges</th>\n",
       "      <th>Churn</th>\n",
       "    </tr>\n",
       "  </thead>\n",
       "  <tbody>\n",
       "    <tr>\n",
       "      <th>0</th>\n",
       "      <td>7590-VHVEG</td>\n",
       "      <td>Female</td>\n",
       "      <td>0</td>\n",
       "      <td>Yes</td>\n",
       "      <td>No</td>\n",
       "      <td>1</td>\n",
       "      <td>No</td>\n",
       "      <td>No phone service</td>\n",
       "      <td>DSL</td>\n",
       "      <td>No</td>\n",
       "      <td>Yes</td>\n",
       "      <td>No</td>\n",
       "      <td>No</td>\n",
       "      <td>No</td>\n",
       "      <td>No</td>\n",
       "      <td>Month-to-month</td>\n",
       "      <td>Yes</td>\n",
       "      <td>Electronic check</td>\n",
       "      <td>29.85</td>\n",
       "      <td>29.85</td>\n",
       "      <td>No</td>\n",
       "    </tr>\n",
       "    <tr>\n",
       "      <th>20</th>\n",
       "      <td>8779-QRDMV</td>\n",
       "      <td>Male</td>\n",
       "      <td>1</td>\n",
       "      <td>No</td>\n",
       "      <td>No</td>\n",
       "      <td>1</td>\n",
       "      <td>No</td>\n",
       "      <td>No phone service</td>\n",
       "      <td>DSL</td>\n",
       "      <td>No</td>\n",
       "      <td>No</td>\n",
       "      <td>Yes</td>\n",
       "      <td>No</td>\n",
       "      <td>No</td>\n",
       "      <td>Yes</td>\n",
       "      <td>Month-to-month</td>\n",
       "      <td>Yes</td>\n",
       "      <td>Electronic check</td>\n",
       "      <td>39.65</td>\n",
       "      <td>39.65</td>\n",
       "      <td>Yes</td>\n",
       "    </tr>\n",
       "    <tr>\n",
       "      <th>22</th>\n",
       "      <td>1066-JKSGK</td>\n",
       "      <td>Male</td>\n",
       "      <td>0</td>\n",
       "      <td>No</td>\n",
       "      <td>No</td>\n",
       "      <td>1</td>\n",
       "      <td>Yes</td>\n",
       "      <td>No</td>\n",
       "      <td>No</td>\n",
       "      <td>No internet service</td>\n",
       "      <td>No internet service</td>\n",
       "      <td>No internet service</td>\n",
       "      <td>No internet service</td>\n",
       "      <td>No internet service</td>\n",
       "      <td>No internet service</td>\n",
       "      <td>Month-to-month</td>\n",
       "      <td>No</td>\n",
       "      <td>Mailed check</td>\n",
       "      <td>20.15</td>\n",
       "      <td>20.15</td>\n",
       "      <td>Yes</td>\n",
       "    </tr>\n",
       "    <tr>\n",
       "      <th>27</th>\n",
       "      <td>8665-UTDHZ</td>\n",
       "      <td>Male</td>\n",
       "      <td>0</td>\n",
       "      <td>Yes</td>\n",
       "      <td>Yes</td>\n",
       "      <td>1</td>\n",
       "      <td>No</td>\n",
       "      <td>No phone service</td>\n",
       "      <td>DSL</td>\n",
       "      <td>No</td>\n",
       "      <td>Yes</td>\n",
       "      <td>No</td>\n",
       "      <td>No</td>\n",
       "      <td>No</td>\n",
       "      <td>No</td>\n",
       "      <td>Month-to-month</td>\n",
       "      <td>No</td>\n",
       "      <td>Electronic check</td>\n",
       "      <td>30.20</td>\n",
       "      <td>30.20</td>\n",
       "      <td>Yes</td>\n",
       "    </tr>\n",
       "    <tr>\n",
       "      <th>33</th>\n",
       "      <td>7310-EGVHZ</td>\n",
       "      <td>Male</td>\n",
       "      <td>0</td>\n",
       "      <td>No</td>\n",
       "      <td>No</td>\n",
       "      <td>1</td>\n",
       "      <td>Yes</td>\n",
       "      <td>No</td>\n",
       "      <td>No</td>\n",
       "      <td>No internet service</td>\n",
       "      <td>No internet service</td>\n",
       "      <td>No internet service</td>\n",
       "      <td>No internet service</td>\n",
       "      <td>No internet service</td>\n",
       "      <td>No internet service</td>\n",
       "      <td>Month-to-month</td>\n",
       "      <td>No</td>\n",
       "      <td>Bank transfer (automatic)</td>\n",
       "      <td>20.20</td>\n",
       "      <td>20.20</td>\n",
       "      <td>No</td>\n",
       "    </tr>\n",
       "  </tbody>\n",
       "</table>\n",
       "</div>"
      ],
      "text/plain": [
       "    customerID  gender  SeniorCitizen Partner Dependents  tenure PhoneService  \\\n",
       "0   7590-VHVEG  Female              0     Yes         No       1           No   \n",
       "20  8779-QRDMV    Male              1      No         No       1           No   \n",
       "22  1066-JKSGK    Male              0      No         No       1          Yes   \n",
       "27  8665-UTDHZ    Male              0     Yes        Yes       1           No   \n",
       "33  7310-EGVHZ    Male              0      No         No       1          Yes   \n",
       "\n",
       "       MultipleLines InternetService       OnlineSecurity  \\\n",
       "0   No phone service             DSL                   No   \n",
       "20  No phone service             DSL                   No   \n",
       "22                No              No  No internet service   \n",
       "27  No phone service             DSL                   No   \n",
       "33                No              No  No internet service   \n",
       "\n",
       "           OnlineBackup     DeviceProtection          TechSupport  \\\n",
       "0                   Yes                   No                   No   \n",
       "20                   No                  Yes                   No   \n",
       "22  No internet service  No internet service  No internet service   \n",
       "27                  Yes                   No                   No   \n",
       "33  No internet service  No internet service  No internet service   \n",
       "\n",
       "            StreamingTV      StreamingMovies        Contract PaperlessBilling  \\\n",
       "0                    No                   No  Month-to-month              Yes   \n",
       "20                   No                  Yes  Month-to-month              Yes   \n",
       "22  No internet service  No internet service  Month-to-month               No   \n",
       "27                   No                   No  Month-to-month               No   \n",
       "33  No internet service  No internet service  Month-to-month               No   \n",
       "\n",
       "                PaymentMethod  MonthlyCharges  TotalCharges Churn  \n",
       "0            Electronic check           29.85         29.85    No  \n",
       "20           Electronic check           39.65         39.65   Yes  \n",
       "22               Mailed check           20.15         20.15   Yes  \n",
       "27           Electronic check           30.20         30.20   Yes  \n",
       "33  Bank transfer (automatic)           20.20         20.20    No  "
      ]
     },
     "execution_count": 19,
     "metadata": {},
     "output_type": "execute_result"
    }
   ],
   "source": [
    "df[(df['TotalCharges'] / df['MonthlyCharges']) == df['tenure']].head()"
   ]
  },
  {
   "cell_type": "markdown",
   "id": "12128a01-51a2-4a15-a8ab-d72557b413fe",
   "metadata": {
    "id": "12128a01-51a2-4a15-a8ab-d72557b413fe"
   },
   "source": [
    "Нашей гипотезе есть место быть.\n",
    "\n",
    "Значит `TotalCharges` = `MonthlyCharges` * время. В данном датасете указано только количество месяцев, без точного времени, поэтому будет грубо просто перемножить один столбец на другой. Но пропуски мы уже можем заменить на `0`, так как в тех строках `tenure` == 0.\n",
    "\n",
    "Заменим пропуски на нужное нам число."
   ]
  },
  {
   "cell_type": "code",
   "execution_count": 20,
   "id": "085bfa2f-2800-4814-9877-9fccf7c5994c",
   "metadata": {
    "id": "085bfa2f-2800-4814-9877-9fccf7c5994c",
    "tags": []
   },
   "outputs": [],
   "source": [
    "df['TotalCharges'].fillna(0, inplace=True)"
   ]
  },
  {
   "cell_type": "markdown",
   "id": "pt3BGKLdPcn9",
   "metadata": {
    "id": "pt3BGKLdPcn9"
   },
   "source": [
    "### Изменение типа данных"
   ]
  },
  {
   "cell_type": "markdown",
   "id": "12573416-214f-48ef-9a39-3d007253cf7a",
   "metadata": {
    "id": "12573416-214f-48ef-9a39-3d007253cf7a"
   },
   "source": [
    "Рассмотрев все данные, замените типы на нужные (при необходимости):\n",
    "\n",
    "- Если есть числа — на `int` или `float`\n",
    "- Если категории — можно оставить `object`"
   ]
  },
  {
   "cell_type": "code",
   "execution_count": 21,
   "id": "8099b599-1a04-437b-a2c9-ee834eee2809",
   "metadata": {
    "id": "8099b599-1a04-437b-a2c9-ee834eee2809"
   },
   "outputs": [],
   "source": [
    "# ваше решение\n",
    "df.TotalCharges = df.TotalCharges.astype(float)"
   ]
  },
  {
   "cell_type": "markdown",
   "id": "6e2ca993-d92d-4ea3-bca5-6408708f6e83",
   "metadata": {
    "id": "6e2ca993-d92d-4ea3-bca5-6408708f6e83"
   },
   "source": [
    "**Вывод:** Свиснул... Ой, то есть перевел)"
   ]
  },
  {
   "cell_type": "markdown",
   "id": "84339281",
   "metadata": {
    "id": "84339281",
    "papermill": {
     "duration": 0.135596,
     "end_time": "2022-09-17T00:13:12.914231",
     "exception": false,
     "start_time": "2022-09-17T00:13:12.778635",
     "status": "completed"
    },
    "tags": []
   },
   "source": [
    "# 4. Проверка гипотез"
   ]
  },
  {
   "cell_type": "markdown",
   "id": "a6d6cc55-2a27-45ac-9f63-6ba92410d0ae",
   "metadata": {
    "id": "a6d6cc55-2a27-45ac-9f63-6ba92410d0ae"
   },
   "source": [
    "Задание: сравнить две выборки — `Churn='No'` и `Churn='Yes'` \n",
    "\n",
    "Гипотеза — среднее количество месяцев, в течение которых клиент оставался в компании, отличается между двумя выборками."
   ]
  },
  {
   "cell_type": "code",
   "execution_count": 22,
   "id": "a0d13764-53ad-4218-b614-c3ca5fb40ad2",
   "metadata": {
    "id": "a0d13764-53ad-4218-b614-c3ca5fb40ad2"
   },
   "outputs": [
    {
     "name": "stdout",
     "output_type": "stream",
     "text": [
      "P-value:0.00000. Нулевая гипотеза отвергается\n"
     ]
    }
   ],
   "source": [
    "# ваше решение\n",
    "ch_y = df[df['Churn'] == 'Yes']\n",
    "ch_n = df[df['Churn'] == 'No']\n",
    "\n",
    "alpha = .05\n",
    "\n",
    "t_stat, pvalue = stats.ttest_ind(ch_y['tenure'], ch_n['tenure'])\n",
    "\n",
    "if pvalue < alpha:\n",
    "    print(f'P-value:{pvalue:.5f}. Нулевая гипотеза отвергается')\n",
    "else:\n",
    "    print(f'P-value:{pvalue:.5f}. Подтверждается нулевая гипотеза')"
   ]
  },
  {
   "cell_type": "markdown",
   "id": "66691f06-afde-4300-99f9-a4c781878d68",
   "metadata": {
    "id": "66691f06-afde-4300-99f9-a4c781878d68"
   },
   "source": [
    "**Вывод:** среднее количество месяцев, в течение которых клиент оставался в компании, действительно отличается между двумя выборками(НАВЕРНОЕ :/ )"
   ]
  },
  {
   "cell_type": "markdown",
   "id": "182612f7",
   "metadata": {
    "id": "182612f7",
    "papermill": {
     "duration": 0.135397,
     "end_time": "2022-09-17T00:13:13.186292",
     "exception": false,
     "start_time": "2022-09-17T00:13:13.050895",
     "status": "completed"
    },
    "tags": []
   },
   "source": [
    "## 5. Статистический анализ на норму"
   ]
  },
  {
   "cell_type": "markdown",
   "id": "c9cdddbd-896d-48af-9b88-662204560cb7",
   "metadata": {
    "id": "c9cdddbd-896d-48af-9b88-662204560cb7"
   },
   "source": [
    "Задание: выберите числовые признаки и проведите анализ — соответствуют ли распределения нормальному?"
   ]
  },
  {
   "cell_type": "code",
   "execution_count": 23,
   "id": "7cf1ce3c-4ee0-4a63-a3fc-a0ef35e759f6",
   "metadata": {
    "id": "7cf1ce3c-4ee0-4a63-a3fc-a0ef35e759f6"
   },
   "outputs": [
    {
     "name": "stdout",
     "output_type": "stream",
     "text": [
      "P-value:0.00000. Нулевая гипотеза отвергается\n"
     ]
    }
   ],
   "source": [
    "# ваше решение\n",
    "_, pvalue = stats.normaltest(df.SeniorCitizen) # применим К'2-тест Д'Агостино для SeniorCitizen\n",
    "\n",
    "alpha = .05\n",
    "\n",
    "if pvalue < alpha:\n",
    "    print(f'P-value:{pvalue:.5f}. Нулевая гипотеза отвергается')\n",
    "else:\n",
    "    print(f'P-value:{pvalue:.5f}. Подтверждается нулевая гипотеза')"
   ]
  },
  {
   "cell_type": "code",
   "execution_count": 24,
   "id": "c5c7251c-09de-40c2-8fc6-372e9dc30d19",
   "metadata": {
    "id": "c5c7251c-09de-40c2-8fc6-372e9dc30d19"
   },
   "outputs": [
    {
     "data": {
      "image/png": "[encoded data removed]",
      "text/plain": [
       "<Figure size 640x480 with 1 Axes>"
      ]
     },
     "metadata": {},
     "output_type": "display_data"
    },
    {
     "data": {
      "image/png": "[encoded data removed]",
      "text/plain": [
       "<Figure size 640x480 with 1 Axes>"
      ]
     },
     "metadata": {},
     "output_type": "display_data"
    },
    {
     "data": {
      "image/png": "[encoded data removed]",
      "text/plain": [
       "<Figure size 640x480 with 1 Axes>"
      ]
     },
     "metadata": {},
     "output_type": "display_data"
    }
   ],
   "source": [
    "# Попробую разнообразить и посмотреть распелдление более интересным способом (QQplot)\n",
    "import statsmodels.api as sm\n",
    "import matplotlib.pyplot as plt\n",
    "\n",
    "fig1 = sm.qqplot(df.tenure, line='45')\n",
    "fig2 = sm.qqplot(df.MonthlyCharges, line='45')\n",
    "fig2 = sm.qqplot(df.TotalCharges, line='45')\n",
    "plt.show()"
   ]
  },
  {
   "cell_type": "markdown",
   "id": "b9040662-d2e5-4bfe-9d50-e7070ea54714",
   "metadata": {
    "id": "b9040662-d2e5-4bfe-9d50-e7070ea54714"
   },
   "source": [
    "**Вывод:** Где то я это уже видел..."
   ]
  },
  {
   "cell_type": "markdown",
   "id": "c99ad67d-b05b-42d2-bf68-3f887a938f35",
   "metadata": {
    "id": "c99ad67d-b05b-42d2-bf68-3f887a938f35",
    "tags": []
   },
   "source": [
    "## 6. ЗАДАЧИ PRO"
   ]
  },
  {
   "cell_type": "markdown",
   "id": "21df731c-c6c5-48e5-8ea0-a8231b8a0141",
   "metadata": {
    "id": "21df731c-c6c5-48e5-8ea0-a8231b8a0141"
   },
   "source": [
    "Мы провели базовый анализ выше и сделали выводы.\n",
    "\n",
    "Но требование заказчика — выяснить причину ухода клиента.\n",
    "\n",
    "Ваша задача — провести полный анализ с помощью статистических гипотез взаимосвязи всех признаков с нашим таргетом `Churn` (целевым признаком). \n",
    "\n",
    "**Этапы:**\n",
    "\n",
    "1.\tПредобработка данных — измените датасет в части: категориальные признаки надо перевести в числовые представления. Главное —понимать взаимосвязь: бинарный признак, порядковый, просто категории или что-то иное.\n",
    "2.\tВыберите нужные гипотезы, основываясь на типах признаков.\n",
    "3.\tПроведите анализ и выясните, почему клиент уходит, с чем коррелирует Churn, может это зависит от пола клиента? Или есть иные обстоятельства?\n",
    "4.\tПосле проверки гипотез постройте тепловую карту корреляции Phik и сделайте дополнительный вывод.\n",
    "5.\tДополните общий вывод.\n",
    "\n",
    "\n",
    "**Примечание:** задание не ограничено только этими этапами. Можно их дополнить — может стоит сделать фильтр данных, рассмотреть данные под другим углом и провести дополнительную аналитику? Средствами и методами не ограничены."
   ]
  },
  {
   "cell_type": "markdown",
   "id": "5e45f2ba",
   "metadata": {},
   "source": [
    "Для начала нужно перевести все качественные переменные в количественные..."
   ]
  },
  {
   "cell_type": "code",
   "execution_count": 25,
   "id": "699d3895",
   "metadata": {},
   "outputs": [],
   "source": [
    "for col in df:\n",
    "    df[col] = pd.factorize(df[col])[0]\n",
    "    \n",
    "# gender: 0-Female 1-Male\n",
    "# Остальные: 1-Yes 0-No, Parther, PhoneService и тд, везде, где ДА и НЕТ"
   ]
  },
  {
   "cell_type": "markdown",
   "id": "cca49fce",
   "metadata": {},
   "source": [
    "Разбираем значения на две выборки: Те кто ушел и кто не ушел"
   ]
  },
  {
   "cell_type": "code",
   "execution_count": 26,
   "id": "63fd32a0",
   "metadata": {},
   "outputs": [],
   "source": [
    "ch_y = df[df['Churn'] == 1] # ушли\n",
    "ch_n = df[df['Churn'] == 0] # не ушли"
   ]
  },
  {
   "cell_type": "markdown",
   "id": "43cb338f",
   "metadata": {},
   "source": [
    "На основе наших данных сформулируем несколько гипотиз, обабщенно, мы назовем их так:\n",
    "1. Женьщины используют интернет сервисы больше\n",
    "2. Клиент - пожилой человек\n",
    "3. Наличие пары влияет на испотзование услуг\n",
    "4. Клиент - кормит смемью\n",
    "5. Клиент слишком долго нашим клиентом и ему это надоело\n",
    "6. Клиент имеет телефонную связь\n",
    "7. Клиент имеет несколько линий связи"
   ]
  },
  {
   "cell_type": "markdown",
   "id": "46c76d37",
   "metadata": {},
   "source": [
    "Для проверки гипотиз будем применять scipy.stats.ttest_ind(), тк выборки \n",
    "ch_y и ch_n не являются зависимыми, так это части одной выборки разбитых на ту где клиент ушел, а где нет"
   ]
  },
  {
   "cell_type": "markdown",
   "id": "2e421fbb",
   "metadata": {},
   "source": [
    "- H0 - нулевая гипотиза(самый худший вариант из возможных)\n",
    "- H1 - первичная гипотиза(альтернатива нулевой)"
   ]
  },
  {
   "cell_type": "markdown",
   "id": "ca88d3a7",
   "metadata": {},
   "source": [
    "# Проверка гипотизы 1: Женьщины используют интернет сервисы больше"
   ]
  },
  {
   "cell_type": "markdown",
   "id": "9a8e0d89",
   "metadata": {},
   "source": [
    "- H0: Кол-ство женщин, отказавшийся от услуг равно кол-ству мужчин, отказавшийся от услуг.\n",
    "- H1: Кол-ство женщин, отказавшийся от услуг не равно кол-ству мужчин, отказавшийся от услуг."
   ]
  },
  {
   "cell_type": "code",
   "execution_count": 27,
   "id": "748cafd3",
   "metadata": {},
   "outputs": [
    {
     "data": {
      "text/plain": [
       "1    2625\n",
       "0    2549\n",
       "Name: gender, dtype: int64"
      ]
     },
     "execution_count": 27,
     "metadata": {},
     "output_type": "execute_result"
    }
   ],
   "source": [
    "ch_n['gender'].value_counts()"
   ]
  },
  {
   "cell_type": "code",
   "execution_count": 28,
   "id": "a43e8dfc",
   "metadata": {},
   "outputs": [
    {
     "data": {
      "text/plain": [
       "0    939\n",
       "1    930\n",
       "Name: gender, dtype: int64"
      ]
     },
     "execution_count": 28,
     "metadata": {},
     "output_type": "execute_result"
    }
   ],
   "source": [
    "ch_y['gender'].value_counts()"
   ]
  },
  {
   "cell_type": "code",
   "execution_count": 29,
   "id": "e6548867",
   "metadata": {},
   "outputs": [
    {
     "name": "stdout",
     "output_type": "stream",
     "text": [
      "P-value:0.46990. Подтверждается нулевая гипотеза\n"
     ]
    }
   ],
   "source": [
    "alpha = .05\n",
    "\n",
    "t_stat, pvalue = stats.ttest_ind(ch_n['gender'], ch_y['gender'])\n",
    "\n",
    "if pvalue < alpha:\n",
    "    print(f'P-value:{pvalue:.5f}. Нулевая гипотеза отвергается')\n",
    "else:\n",
    "    print(f'P-value:{pvalue:.5f}. Подтверждается нулевая гипотеза')"
   ]
  },
  {
   "cell_type": "markdown",
   "id": "9f1296c1",
   "metadata": {},
   "source": [
    "**Вывод**: Нет смысла смотреть акцентировать внимание поле уходящего клиента, так примерно количество оставшихся или покинувших компанию примерно одинаково."
   ]
  },
  {
   "cell_type": "markdown",
   "id": "bc66266a",
   "metadata": {},
   "source": [
    "# Проверка гипотизы 2: Клиент - пожилой человек"
   ]
  },
  {
   "cell_type": "markdown",
   "id": "d6de421e",
   "metadata": {},
   "source": [
    "- H0: Кол-ство пожилых, отказавшийся от услуг равно кол-ству не пожилых, отказавшийся от услуг.\n",
    "- H1: Кол-ство пожилых, отказавшийся от услуг не равно кол-ству не пожилых, отказавшийся от услуг."
   ]
  },
  {
   "cell_type": "code",
   "execution_count": 30,
   "id": "965cc825",
   "metadata": {},
   "outputs": [
    {
     "data": {
      "text/plain": [
       "0    4508\n",
       "1     666\n",
       "Name: SeniorCitizen, dtype: int64"
      ]
     },
     "execution_count": 30,
     "metadata": {},
     "output_type": "execute_result"
    }
   ],
   "source": [
    "ch_n['SeniorCitizen'].value_counts()"
   ]
  },
  {
   "cell_type": "code",
   "execution_count": 31,
   "id": "75f84bbd",
   "metadata": {},
   "outputs": [
    {
     "data": {
      "text/plain": [
       "0    1393\n",
       "1     476\n",
       "Name: SeniorCitizen, dtype: int64"
      ]
     },
     "execution_count": 31,
     "metadata": {},
     "output_type": "execute_result"
    }
   ],
   "source": [
    "ch_y['SeniorCitizen'].value_counts()"
   ]
  },
  {
   "cell_type": "code",
   "execution_count": 32,
   "id": "2a995426",
   "metadata": {},
   "outputs": [
    {
     "name": "stdout",
     "output_type": "stream",
     "text": [
      "P-value:0.00000. Нулевая гипотеза отвергается\n"
     ]
    }
   ],
   "source": [
    "alpha = .05\n",
    "\n",
    "t_stat, pvalue = stats.ttest_ind(ch_n['SeniorCitizen'], ch_y['SeniorCitizen'])\n",
    "\n",
    "if pvalue < alpha:\n",
    "    print(f'P-value:{pvalue:.5f}. Нулевая гипотеза отвергается')\n",
    "else:\n",
    "    print(f'P-value:{pvalue:.5f}. Подтверждается нулевая гипотеза')"
   ]
  },
  {
   "cell_type": "markdown",
   "id": "af7e41b4",
   "metadata": {},
   "source": [
    "**Вывод**: берем во внимание H1 + факт, что больше людей уходит, чем остается, и большая часть уходит именно не пожилого возраста.\n",
    "Первая зацепка: большинство уходящий - \"молодеж\""
   ]
  },
  {
   "cell_type": "markdown",
   "id": "44ba4e1d",
   "metadata": {},
   "source": [
    "# Проверка гипотизы 3: Наличие пары влияет на использование услуг"
   ]
  },
  {
   "cell_type": "markdown",
   "id": "a8feef6d",
   "metadata": {},
   "source": [
    "- H0: Кол-ство людей с парой, отказавшийся от услуг равно кол-ству людей без пары, отказавшийся от услуг.\n",
    "- H1: Кол-ство людей с парой, отказавшийся от услуг не равно кол-ству людей без пары, отказавшийся от услуг."
   ]
  },
  {
   "cell_type": "code",
   "execution_count": 33,
   "id": "216ba426",
   "metadata": {},
   "outputs": [
    {
     "data": {
      "text/plain": [
       "0    2733\n",
       "1    2441\n",
       "Name: Partner, dtype: int64"
      ]
     },
     "execution_count": 33,
     "metadata": {},
     "output_type": "execute_result"
    }
   ],
   "source": [
    "ch_n['Partner'].value_counts()"
   ]
  },
  {
   "cell_type": "code",
   "execution_count": 34,
   "id": "2bc94f13",
   "metadata": {},
   "outputs": [
    {
     "data": {
      "text/plain": [
       "1    1200\n",
       "0     669\n",
       "Name: Partner, dtype: int64"
      ]
     },
     "execution_count": 34,
     "metadata": {},
     "output_type": "execute_result"
    }
   ],
   "source": [
    "ch_y['Partner'].value_counts()"
   ]
  },
  {
   "cell_type": "code",
   "execution_count": 35,
   "id": "a4f1a06c",
   "metadata": {},
   "outputs": [
    {
     "name": "stdout",
     "output_type": "stream",
     "text": [
      "P-value:0.00000. Нулевая гипотеза отвергается\n"
     ]
    }
   ],
   "source": [
    "alpha = .05\n",
    "\n",
    "t_stat, pvalue = stats.ttest_ind(ch_n['Partner'], ch_y['Partner'])\n",
    "\n",
    "if pvalue < alpha:\n",
    "    print(f'P-value:{pvalue:.5f}. Нулевая гипотеза отвергается')\n",
    "else:\n",
    "    print(f'P-value:{pvalue:.5f}. Подтверждается нулевая гипотеза')"
   ]
  },
  {
   "cell_type": "markdown",
   "id": "020cc082",
   "metadata": {},
   "source": [
    "Большая часть людей уходящих без пары. \"Возьмем на карандаш\""
   ]
  },
  {
   "cell_type": "markdown",
   "id": "9cdf5047",
   "metadata": {},
   "source": [
    "# Проверка гипотизы 4: Клиент - кормит смемью\n",
    "- H0: Кол-ство кормильцев, отказавшийся от услуг равно кол-ству свободных, отказавшийся от услуг.\n",
    "- H1: Кол-ство кормильцев, отказавшийся от услуг не равно кол-ству свободных, отказавшийся от услуг."
   ]
  },
  {
   "cell_type": "code",
   "execution_count": 36,
   "id": "42167774",
   "metadata": {},
   "outputs": [
    {
     "data": {
      "text/plain": [
       "0    3390\n",
       "1    1784\n",
       "Name: Dependents, dtype: int64"
      ]
     },
     "execution_count": 36,
     "metadata": {},
     "output_type": "execute_result"
    }
   ],
   "source": [
    "ch_n['Dependents'].value_counts()"
   ]
  },
  {
   "cell_type": "code",
   "execution_count": 37,
   "id": "1b9b7e92",
   "metadata": {},
   "outputs": [
    {
     "data": {
      "text/plain": [
       "0    1543\n",
       "1     326\n",
       "Name: Dependents, dtype: int64"
      ]
     },
     "execution_count": 37,
     "metadata": {},
     "output_type": "execute_result"
    }
   ],
   "source": [
    "ch_y['Dependents'].value_counts()"
   ]
  },
  {
   "cell_type": "code",
   "execution_count": 38,
   "id": "5a3f5a9d",
   "metadata": {},
   "outputs": [
    {
     "name": "stdout",
     "output_type": "stream",
     "text": [
      "P-value:0.00000. Нулевая гипотеза отвергается\n"
     ]
    }
   ],
   "source": [
    "alpha = .05\n",
    "\n",
    "t_stat, pvalue = stats.ttest_ind(ch_n['Dependents'], ch_y['Dependents'])\n",
    "\n",
    "if pvalue < alpha:\n",
    "    print(f'P-value:{pvalue:.5f}. Нулевая гипотеза отвергается')\n",
    "else:\n",
    "    print(f'P-value:{pvalue:.5f}. Подтверждается нулевая гипотеза')"
   ]
  },
  {
   "cell_type": "markdown",
   "id": "3c7dc17b",
   "metadata": {},
   "source": [
    "**Вывод**: и тут и там большиство не кормильцы. \n",
    "Вторая зацепка: большинство уходящих, одинокие люди..."
   ]
  },
  {
   "cell_type": "markdown",
   "id": "19f0325d",
   "metadata": {},
   "source": [
    "# Проверка гипотизы 5: Клиент слишком долго ,был нашим клиентом и ему это надоело\n",
    "- H0: Срок контракта с компанией не влияет на факт ухода\n",
    "- H1: Срок контракта с компанией влияет на факт ухода"
   ]
  },
  {
   "cell_type": "code",
   "execution_count": 39,
   "id": "07275a58",
   "metadata": {},
   "outputs": [
    {
     "name": "stdout",
     "output_type": "stream",
     "text": [
      "P-value:-0.14435. Нулевая гипотеза отвергается\n"
     ]
    }
   ],
   "source": [
    "pvalue = df['tenure'].corr(df['Churn'])\n",
    "\n",
    "if pvalue < alpha:\n",
    "    print(f'P-value:{pvalue:.5f}. Нулевая гипотеза отвергается')\n",
    "else:\n",
    "    print(f'P-value:{pvalue:.5f}. Подтверждается нулевая гипотеза')"
   ]
  },
  {
   "cell_type": "markdown",
   "id": "ccc487b7",
   "metadata": {},
   "source": [
    "Количество месяцев у ушедших в среднем больше, значит больше уходят, те, кто в\n",
    "компании долгое время"
   ]
  },
  {
   "cell_type": "code",
   "execution_count": 40,
   "id": "fa1f5f5a",
   "metadata": {},
   "outputs": [
    {
     "data": {
      "text/plain": [
       "32.372825666795514"
      ]
     },
     "execution_count": 40,
     "metadata": {},
     "output_type": "execute_result"
    }
   ],
   "source": [
    "ch_n['tenure'].mean()"
   ]
  },
  {
   "cell_type": "code",
   "execution_count": 41,
   "id": "2a8ad060",
   "metadata": {},
   "outputs": [
    {
     "data": {
      "text/plain": [
       "25.39325842696629"
      ]
     },
     "execution_count": 41,
     "metadata": {},
     "output_type": "execute_result"
    }
   ],
   "source": [
    "ch_y['tenure'].mean()"
   ]
  },
  {
   "cell_type": "markdown",
   "id": "c4d00563",
   "metadata": {},
   "source": [
    "Количество месяцев у ушедших в среднем больше, значит больше уходят, те, кто в\n",
    "компании долгое время"
   ]
  },
  {
   "cell_type": "markdown",
   "id": "720df750",
   "metadata": {},
   "source": [
    "# Проверка гипотизы 6: Клиент имеет телефонную связь\n",
    "- H0: Кол-ство людей, отказавшийся от услуг, обладающих телефонной связью равно кол-ству без связи, отказавшийся от услуг.\n",
    "- H1: Кол-ство людей, отказавшийся от услуг, обладающих телефонной связью не равно кол-ству без связи, отказавшийся от услуг."
   ]
  },
  {
   "cell_type": "code",
   "execution_count": 42,
   "id": "36d28cf2",
   "metadata": {},
   "outputs": [
    {
     "data": {
      "text/plain": [
       "1    4662\n",
       "0     512\n",
       "Name: PhoneService, dtype: int64"
      ]
     },
     "execution_count": 42,
     "metadata": {},
     "output_type": "execute_result"
    }
   ],
   "source": [
    "ch_n['PhoneService'].value_counts()"
   ]
  },
  {
   "cell_type": "code",
   "execution_count": 43,
   "id": "a4758963",
   "metadata": {},
   "outputs": [
    {
     "data": {
      "text/plain": [
       "1    1699\n",
       "0     170\n",
       "Name: PhoneService, dtype: int64"
      ]
     },
     "execution_count": 43,
     "metadata": {},
     "output_type": "execute_result"
    }
   ],
   "source": [
    "ch_y['PhoneService'].value_counts()"
   ]
  },
  {
   "cell_type": "code",
   "execution_count": 44,
   "id": "3f3d8854",
   "metadata": {},
   "outputs": [
    {
     "name": "stdout",
     "output_type": "stream",
     "text": [
      "P-value:0.31631. Подтверждается нулевая гипотеза\n"
     ]
    }
   ],
   "source": [
    "alpha = .05\n",
    "\n",
    "t_stat, pvalue = stats.ttest_ind(ch_n['PhoneService'], ch_y['PhoneService'])\n",
    "\n",
    "if pvalue < alpha:\n",
    "    print(f'P-value:{pvalue:.5f}. Нулевая гипотеза отвергается')\n",
    "else:\n",
    "    print(f'P-value:{pvalue:.5f}. Подтверждается нулевая гипотеза')"
   ]
  },
  {
   "cell_type": "markdown",
   "id": "564d6a7d",
   "metadata": {},
   "source": [
    "Значит это роли не играет"
   ]
  },
  {
   "cell_type": "markdown",
   "id": "e496ff95",
   "metadata": {},
   "source": [
    "# Проверка гипотизы 7: Клиент имеет несколько линий связи\n",
    "- H0: Кол-ство людей, отказавшийся от услуг, обладающих несколькими линиями связи равно кол-ству без линий связи, отказавшийся от услуг.\n",
    "- H1: Кол-ство людей, отказавшийся от услуг, обладающих несколькими линиями связи не равно кол-ству без линий связи, отказавшийся от услуг."
   ]
  },
  {
   "cell_type": "code",
   "execution_count": 45,
   "id": "1e4d7a02",
   "metadata": {},
   "outputs": [
    {
     "data": {
      "text/plain": [
       "1    2541\n",
       "2    2121\n",
       "0     512\n",
       "Name: MultipleLines, dtype: int64"
      ]
     },
     "execution_count": 45,
     "metadata": {},
     "output_type": "execute_result"
    }
   ],
   "source": [
    "ch_n['MultipleLines'].value_counts()"
   ]
  },
  {
   "cell_type": "code",
   "execution_count": 46,
   "id": "1dfede91",
   "metadata": {},
   "outputs": [
    {
     "data": {
      "text/plain": [
       "2    850\n",
       "1    849\n",
       "0    170\n",
       "Name: MultipleLines, dtype: int64"
      ]
     },
     "execution_count": 46,
     "metadata": {},
     "output_type": "execute_result"
    }
   ],
   "source": [
    "ch_y['MultipleLines'].value_counts()"
   ]
  },
  {
   "cell_type": "code",
   "execution_count": 47,
   "id": "787e3947",
   "metadata": {},
   "outputs": [
    {
     "data": {
      "text/plain": [
       "0       0\n",
       "1       1\n",
       "2       1\n",
       "3       0\n",
       "4       1\n",
       "       ..\n",
       "7038    2\n",
       "7039    2\n",
       "7040    0\n",
       "7041    2\n",
       "7042    1\n",
       "Name: MultipleLines, Length: 7043, dtype: int64"
      ]
     },
     "execution_count": 47,
     "metadata": {},
     "output_type": "execute_result"
    }
   ],
   "source": [
    "df['MultipleLines']"
   ]
  },
  {
   "cell_type": "code",
   "execution_count": 48,
   "id": "bda0659e",
   "metadata": {},
   "outputs": [
    {
     "name": "stdout",
     "output_type": "stream",
     "text": [
      "P-value:0.00231. Нулевая гипотеза отвергается\n"
     ]
    }
   ],
   "source": [
    "alpha = .05\n",
    "\n",
    "t_stat, pvalue = stats.ttest_ind(ch_n['MultipleLines'], ch_y['MultipleLines'])\n",
    "\n",
    "if pvalue < alpha:\n",
    "    print(f'P-value:{pvalue:.5f}. Нулевая гипотеза отвергается')\n",
    "else:\n",
    "    print(f'P-value:{pvalue:.5f}. Подтверждается нулевая гипотеза')"
   ]
  },
  {
   "cell_type": "markdown",
   "id": "ef309357",
   "metadata": {},
   "source": [
    "# Общий вывод: Большинство уходящий являются молодые люди на основе отстутствия связи"
   ]
  },
  {
   "cell_type": "code",
   "execution_count": 49,
   "id": "afc572ca",
   "metadata": {},
   "outputs": [
    {
     "data": {
      "image/png": "[encoded data removed]",
      "text/plain": [
       "<Figure size 640x480 with 2 Axes>"
      ]
     },
     "metadata": {},
     "output_type": "display_data"
    }
   ],
   "source": [
    "import seaborn as sns\n",
    "\n",
    "\n",
    "corrs = df.dropna().corr()\n",
    "sns.heatmap(corrs,\n",
    "            cmap='Reds',\n",
    "            square=True,\n",
    "            vmin=0, \n",
    "            annot=True);"
   ]
  },
  {
   "cell_type": "markdown",
   "id": "3f3c0bce-40e3-4933-92a5-3b3e83b2ec89",
   "metadata": {
    "id": "3f3c0bce-40e3-4933-92a5-3b3e83b2ec89"
   },
   "source": [
    "Опишите данные и результат исследования, основываясь на предыдущих шагах:"
   ]
  },
  {
   "cell_type": "markdown",
   "id": "d8efa465-45b6-4f4d-b11d-fe89361cebcc",
   "metadata": {
    "id": "d8efa465-45b6-4f4d-b11d-fe89361cebcc"
   },
   "source": []
  }
 ],
 "metadata": {
  "colab": {
   "provenance": []
  },
  "kernelspec": {
   "display_name": "Python 3 (ipykernel)",
   "language": "python",
   "name": "python3"
  },
  "language_info": {
   "codemirror_mode": {
    "name": "ipython",
    "version": 3
   },
   "file_extension": ".py",
   "mimetype": "text/x-python",
   "name": "python",
   "nbconvert_exporter": "python",
   "pygments_lexer": "ipython3",
   "version": "3.10.9"
  },
  "papermill": {
   "default_parameters": {},
   "duration": 110.694338,
   "end_time": "2022-09-17T00:14:38.634386",
   "environment_variables": {},
   "exception": null,
   "input_path": "__notebook__.ipynb",
   "output_path": "__notebook__.ipynb",
   "parameters": {},
   "start_time": "2022-09-17T00:12:47.940048",
   "version": "2.3.3"
  }
 },
 "nbformat": 4,
 "nbformat_minor": 5
}
