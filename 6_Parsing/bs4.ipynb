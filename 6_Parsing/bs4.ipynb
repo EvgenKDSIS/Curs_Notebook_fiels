{
 "cells": [
  {
   "cell_type": "code",
   "execution_count": 6,
   "id": "09d256a7-1316-4ec5-846a-9ad1aee1d203",
   "metadata": {
    "tags": []
   },
   "outputs": [],
   "source": [
    "import requests\n",
    "from bs4 import BeautifulSoup\n",
    "\n",
    "url = 'https://yandex.ru/'\n",
    "r = requests.get(url, timeout=10) # verify=False\n",
    "soup = BeautifulSoup(r.content, 'html.parser')\n",
    "# print(soup.prettify())"
   ]
  },
  {
   "cell_type": "markdown",
   "id": "d2654103-7e16-469d-9645-f141a8872ada",
   "metadata": {},
   "source": [
    "> Примечание: советую использовать два параметра — `verify` и `timeout`, так как иногда сайты блокируют моментальный доступ или требуют верификацию. Можно их не использовать.\n",
    "\n",
    "> Примечание: советую использовать в `BeautifulSoup(r.content, ‘html.parser')` либо `html.parser` либо `lxml`. `lxml` чуточку быстрее."
   ]
  },
  {
   "cell_type": "markdown",
   "id": "8518b994-13fe-402b-b91e-99dcc2f51274",
   "metadata": {},
   "source": [
    "# Команды (методы)\n",
    "\n",
    "- `print(soup.prettify())` - Вывести полный код страницы\n",
    "\n",
    "- `print(soup.get_text())` - Вывести весь текст страницы\n",
    "\n",
    "- `soup.find_all('p')` - Получение всех тегов `<p>`\n",
    "\n",
    "- `soup.find('h1')` - Получение первого тега `<h1>`\n",
    "\n",
    "- `soup.find_all(class_='content')` - Получение всех элементов с классом `'content'`\n",
    "\n",
    "- `soup.find(id='main')` - Получение элемента с идентификатором `'main'`\n",
    "\n",
    "- `soup.find('p').text` - Получение текста из первого тега `<p>`\n",
    "\n",
    "- `for p in soup.find_all('p'): print(p.text)` - Получение текста со всех тегов `<p>` for p\n",
    "\n",
    "- `soup.select()` - Искать элементы с помощью CSS селекторов\n",
    "\n",
    "- `soup.select_one()` - Искать первый элемент, соответствующий указанным CSS селекторам\n",
    "\n",
    "- `tag.parent` - Возвращает родительский элемент тега\n",
    "\n",
    "- `tag.children` - Возвращает итератор по дочерним элементам тега\n",
    "\n",
    "- `tag.next_sibling` - Возвращает следующий соседний элемент тега\n",
    "\n",
    "- `tag.previous_sibling` - Возвращает предыдущий соседний элемент тега"
   ]
  },
  {
   "cell_type": "code",
   "execution_count": null,
   "id": "9469989f-9307-4d94-aa35-153cdf9be665",
   "metadata": {},
   "outputs": [],
   "source": []
  }
 ],
 "metadata": {
  "kernelspec": {
   "display_name": "Python 3 (ipykernel)",
   "language": "python",
   "name": "python3"
  },
  "language_info": {
   "codemirror_mode": {
    "name": "ipython",
    "version": 3
   },
   "file_extension": ".py",
   "mimetype": "text/x-python",
   "name": "python",
   "nbconvert_exporter": "python",
   "pygments_lexer": "ipython3",
   "version": "3.10.9"
  }
 },
 "nbformat": 4,
 "nbformat_minor": 5
}
