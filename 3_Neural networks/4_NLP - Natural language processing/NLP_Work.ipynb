{
 "cells": [
  {
   "cell_type": "markdown",
   "metadata": {
    "id": "uVQjRFc6abYJ"
   },
   "source": [
    "# 3.4.3 Виды нейронных сетей для задач **NLP**"
   ]
  },
  {
   "cell_type": "markdown",
   "metadata": {
    "id": "J4fq8ZgP8mno"
   },
   "source": [
    "Ранее мы рассматривали различные методики оцифровки текстов и работы с ними в лекции. А сейчас рассмотрим эти приёмы работы на примере оценки тональности статей. Ссылка на набор данных прведена в конце ноутбука.\n",
    "\n",
    "В данном разделе посмотрим, как работать с \"мешком слов\" и различными векторными моделями. Рассмотрим нейросети как полносвязные, так и работающие со слоем Embedding. Модели на основе LSTM не покажем, т.к. материала очень много, а сейчас \"нишу\" этих моделей занимают сети-трансформеры. Сеть LSTM может быть получена добавлением слоя LSTM после Embedding, например, или после входного слоя Dence. Это и будет вашим домашним заданием.\n",
    "А в следующем пункте рассмотрим извлечение эмбеддингов (здесь подразумевается не слой, а векторные представления слов) с помощью знаменитой модели-трансформера BERT."
   ]
  },
  {
   "cell_type": "markdown",
   "metadata": {
    "id": "L3ymZDQcgo2b"
   },
   "source": [
    "# Импортируем  библиотеки"
   ]
  },
  {
   "cell_type": "code",
   "execution_count": 1,
   "metadata": {
    "id": "UhSdMDrkgW00"
   },
   "outputs": [],
   "source": [
    "import numpy as np\n",
    "import pandas as pd\n",
    "import seaborn as sns\n",
    "from pprint import pprint\n",
    "import json\n",
    "\n",
    "from sklearn.preprocessing import OneHotEncoder\n",
    "from sklearn.model_selection import train_test_split\n",
    "\n",
    "from tensorflow.keras.preprocessing.text import Tokenizer\n",
    "from tensorflow.keras.preprocessing.sequence import pad_sequences\n",
    "from tensorflow.keras.models import Sequential\n",
    "from tensorflow.keras.layers import Input, Dense, Dropout, BatchNormalization, Embedding, SpatialDropout1D, Flatten\n",
    "from tensorflow.keras.optimizers import Adam\n",
    "from tensorflow.keras.metrics import Accuracy"
   ]
  },
  {
   "cell_type": "code",
   "execution_count": 2,
   "metadata": {
    "id": "gUTZPfjOHtv8"
   },
   "outputs": [],
   "source": [
    "PPRINT_WIDTH = 160 # константа для функции pprint, количество символов в одной строке при выводе"
   ]
  },
  {
   "cell_type": "markdown",
   "metadata": {
    "id": "jNCE1TjA8o7J"
   },
   "source": [
    "# Загрузка и знакомство с данными"
   ]
  },
  {
   "cell_type": "code",
   "execution_count": 4,
   "metadata": {
    "colab": {
     "base_uri": "https://localhost:8080/",
     "height": 223
    },
    "id": "dlmSs2BtAeCh",
    "outputId": "8e36458b-8621-4c0c-af6e-174a1665ec30"
   },
   "outputs": [
    {
     "ename": "UnicodeDecodeError",
     "evalue": "'charmap' codec can't decode byte 0x98 in position 1126: character maps to <undefined>",
     "output_type": "error",
     "traceback": [
      "\u001b[1;31m---------------------------------------------------------------------------\u001b[0m",
      "\u001b[1;31mUnicodeDecodeError\u001b[0m                        Traceback (most recent call last)",
      "Cell \u001b[1;32mIn[4], line 4\u001b[0m\n\u001b[0;32m      1\u001b[0m path_train \u001b[38;5;241m=\u001b[39m \u001b[38;5;124m'\u001b[39m\u001b[38;5;124m./train.json\u001b[39m\u001b[38;5;124m'\u001b[39m\n\u001b[0;32m      3\u001b[0m \u001b[38;5;28;01mwith\u001b[39;00m \u001b[38;5;28mopen\u001b[39m(path_train, \u001b[38;5;124m'\u001b[39m\u001b[38;5;124mr\u001b[39m\u001b[38;5;124m'\u001b[39m) \u001b[38;5;28;01mas\u001b[39;00m f:\n\u001b[1;32m----> 4\u001b[0m     data_train \u001b[38;5;241m=\u001b[39m json\u001b[38;5;241m.\u001b[39mloads(\u001b[43mf\u001b[49m\u001b[38;5;241;43m.\u001b[39;49m\u001b[43mread\u001b[49m\u001b[43m(\u001b[49m\u001b[43m)\u001b[49m)\n\u001b[0;32m      6\u001b[0m text_data \u001b[38;5;241m=\u001b[39m pd\u001b[38;5;241m.\u001b[39mDataFrame(data_train)\n\u001b[0;32m      7\u001b[0m text_data\u001b[38;5;241m.\u001b[39mdrop(columns \u001b[38;5;241m=\u001b[39m \u001b[38;5;124m'\u001b[39m\u001b[38;5;124mid\u001b[39m\u001b[38;5;124m'\u001b[39m, inplace \u001b[38;5;241m=\u001b[39m \u001b[38;5;28;01mTrue\u001b[39;00m)\n",
      "File \u001b[1;32mC:\\ProgramData\\anaconda3\\lib\\encodings\\cp1251.py:23\u001b[0m, in \u001b[0;36mIncrementalDecoder.decode\u001b[1;34m(self, input, final)\u001b[0m\n\u001b[0;32m     22\u001b[0m \u001b[38;5;28;01mdef\u001b[39;00m \u001b[38;5;21mdecode\u001b[39m(\u001b[38;5;28mself\u001b[39m, \u001b[38;5;28minput\u001b[39m, final\u001b[38;5;241m=\u001b[39m\u001b[38;5;28;01mFalse\u001b[39;00m):\n\u001b[1;32m---> 23\u001b[0m     \u001b[38;5;28;01mreturn\u001b[39;00m \u001b[43mcodecs\u001b[49m\u001b[38;5;241;43m.\u001b[39;49m\u001b[43mcharmap_decode\u001b[49m\u001b[43m(\u001b[49m\u001b[38;5;28;43minput\u001b[39;49m\u001b[43m,\u001b[49m\u001b[38;5;28;43mself\u001b[39;49m\u001b[38;5;241;43m.\u001b[39;49m\u001b[43merrors\u001b[49m\u001b[43m,\u001b[49m\u001b[43mdecoding_table\u001b[49m\u001b[43m)\u001b[49m[\u001b[38;5;241m0\u001b[39m]\n",
      "\u001b[1;31mUnicodeDecodeError\u001b[0m: 'charmap' codec can't decode byte 0x98 in position 1126: character maps to <undefined>"
     ]
    }
   ],
   "source": [
    "path_train = './train.json'\n",
    "\n",
    "with open(path_train, 'r') as f:\n",
    "    data_train = json.loads(f.read())\n",
    "\n",
    "text_data = pd.DataFrame(data_train)\n",
    "text_data.drop(columns = 'id', inplace = True)\n",
    "print(text_data.shape)\n",
    "text_data.head()"
   ]
  },
  {
   "cell_type": "code",
   "execution_count": null,
   "metadata": {
    "colab": {
     "base_uri": "https://localhost:8080/"
    },
    "id": "VcufaL_26Pw7",
    "outputId": "9042e101-1a50-4ab2-e50f-d9e812f9432b"
   },
   "outputs": [],
   "source": [
    "text_data.shape # выведем размерность нашего DataFrame"
   ]
  },
  {
   "cell_type": "code",
   "execution_count": null,
   "metadata": {
    "colab": {
     "base_uri": "https://localhost:8080/"
    },
    "id": "woWZbq2JixZk",
    "outputId": "b512503a-0341-4732-90c5-6c9ccd5c3ed3"
   },
   "outputs": [],
   "source": [
    "# подсчитаем количество уникальных классов отзывов\n",
    "n_classes = text_data['sentiment'].nunique()\n",
    "n_classes"
   ]
  },
  {
   "cell_type": "code",
   "execution_count": null,
   "metadata": {
    "colab": {
     "base_uri": "https://localhost:8080/"
    },
    "id": "7Ii6NOfEi5Dc",
    "outputId": "ebbf9e8e-8073-41a9-9e89-de01ab29ba24"
   },
   "outputs": [],
   "source": [
    "# посмотрим количество записей по каждому классу\n",
    "text_data['sentiment'].value_counts()"
   ]
  },
  {
   "cell_type": "code",
   "execution_count": null,
   "metadata": {
    "id": "KaJF-1l5jFYN"
   },
   "outputs": [],
   "source": [
    "#  сделаем разделение наших данных на обучение тест с учетом стратификации\n",
    "train_index, test_index = train_test_split(np.arange(text_data.shape[0]), stratify = text_data['sentiment'])\n",
    "\n",
    "x_train_raw = text_data.iloc[train_index, 0].values\n",
    "y_train_raw = text_data.iloc[train_index, 1].values\n",
    "x_test_raw = text_data.iloc[test_index, 0].values\n",
    "y_test_raw = text_data.iloc[test_index, 1].values"
   ]
  },
  {
   "cell_type": "code",
   "execution_count": null,
   "metadata": {
    "colab": {
     "base_uri": "https://localhost:8080/"
    },
    "id": "umsYQ2IN8auy",
    "outputId": "93c3fe5c-aa71-46ec-dabe-089a8cff8846"
   },
   "outputs": [],
   "source": [
    "# посмотрим на размерность наших данных\n",
    "x_train_raw.shape, x_test_raw.shape"
   ]
  },
  {
   "cell_type": "code",
   "execution_count": null,
   "metadata": {
    "colab": {
     "base_uri": "https://localhost:8080/"
    },
    "id": "rKYvaF-1cjhl",
    "outputId": "3566aa82-c53e-44d7-ff24-a3f8535f3c90"
   },
   "outputs": [],
   "source": [
    "# посмотрим произвольную  запись (пока \"сырой\" текст) в обучающей выборке\n",
    "pprint(x_train_raw[1], width=PPRINT_WIDTH)"
   ]
  },
  {
   "cell_type": "code",
   "execution_count": null,
   "metadata": {
    "colab": {
     "base_uri": "https://localhost:8080/",
     "height": 36
    },
    "id": "pHwqcwnDcjwd",
    "outputId": "4e2ac147-2042-41d3-adb0-41cae6012155"
   },
   "outputs": [],
   "source": [
    "# посмотрим на класс данной записи\n",
    "y_train_raw[1]"
   ]
  },
  {
   "cell_type": "markdown",
   "metadata": {
    "id": "lGyobT_-6Uju"
   },
   "source": [
    "# Базовые алгоритмы обработки текстов, с использованием Keras"
   ]
  },
  {
   "cell_type": "markdown",
   "metadata": {
    "id": "S2Hv-0NhyoOK"
   },
   "source": [
    "Keras не является специализированной библиотекой по работе с естественным языком. Тем не менее, в Keras предусмотрены инструменты, которые позволяют нам быстро произвести обработку текстов для подачи их в нейронную сеть.\n",
    "К таким инструментам можно отнести Tokenizer и Embedding слой."
   ]
  },
  {
   "cell_type": "markdown",
   "metadata": {
    "id": "C9joXqOoEZPu"
   },
   "source": [
    "## Использование OHE подхода"
   ]
  },
  {
   "cell_type": "markdown",
   "metadata": {
    "id": "oM22eaxnyldA"
   },
   "source": [
    "Первым, базовым алгоритмом \"векторизации\" текста является OHE (One Hot Encoding)  нашего мешка слов.\n",
    "\n",
    "Алгоритм заключается в следующем:\n",
    "1. Мы разбиваем текст на отдельные единицы смысла - токены. В простейшем случае один токен равен одному слову.\n",
    "2. Мы считаем, сколько раз каждый токен встретился во всех наших текстах.\n",
    "3. Выбираем **NUM_WORDS**   - количество слов, которые будем учитывать в нашей модели. Скорее всего **NUM_WORDS** будет меньше, чем общее количество слов в обучающих текстах.\n",
    "4. Упорядочим все слова по частоте и выберем **NUM_WORDS** самых часто используемых слов.\n",
    "5. Зададим специальный токен UNKNOWN для кодирования слов, не вошедших в самые часто встречаемые слова.\n",
    "6. Токену UNKNOWN присвоим номер 1, все остальные слова также пронумеруем числами от 2 до **NUM_WORDS** + 1.\n",
    "7. Индес 0 пока не используем, он нам понадобится для заадчи выравнивания последовательностей.\n",
    "\n",
    "Теперь любой текст мы можем закодировать вектором длинной **NUM_WORDS** + 1.\n",
    "*  Если слово с номером (индексом) i присутствует в тексте, то в ячейку с этим номером мы ставим 1\n",
    "*  Если слово с номером (индексом) i в тексте не встречается, то в ячейку с этим номером мы ставим 0"
   ]
  },
  {
   "cell_type": "markdown",
   "metadata": {
    "id": "UzaUm8_H8mWd"
   },
   "source": [
    "### Tokenizer + OHE формат"
   ]
  },
  {
   "cell_type": "markdown",
   "metadata": {
    "id": "c53uHiud6xTQ"
   },
   "source": [
    "В данном разделе мы будем использовать специальный объект Keras Tokenizer.\n",
    "У Tokenizer есть несколько основных методов, помогающим нам в работе с текстами:\n",
    "1. fit_on_texts - обновляет внутреннюю лексику на основе списка текстов. Он предобрабатывает текст, может привести слова к нижнему регистру, убирает лишние \"мусорные\" символы. Затем он создает словарный индекс на основании частоты слов.\n",
    "2. texts_to_sequences - преобразует каждый текст в текстах в последовательность целых чисел (индексов)\n",
    "3. sequences_to_texts - делает обратное преобразование последовательности индексов в слова\n",
    "4. text_to_matrix - преобразует наши тексты в вектора в формате One Hot Encoding\n",
    "\n",
    "После обучения Tokenizer нам доступны:\n",
    "1. Словарь index_word - соответствие индексов и слов (токенов)\n",
    "2. Словарь word_index - соответствие слов (токенов) и индексов\n"
   ]
  },
  {
   "cell_type": "code",
   "execution_count": null,
   "metadata": {
    "id": "9r65zKPQ6jPm"
   },
   "outputs": [],
   "source": [
    "NUM_WORDS = 20000 # константа, максимальное количество слов, которые будет учитывать наша модель\n",
    "\n",
    "# создадим наш Токенайзер\n",
    "tokenizer = Tokenizer(num_words=NUM_WORDS, # максимальное количество слов, которые будет учитывать наш токенайзер\n",
    "                      filters='!\"#$%&()*+,-–—./…:;<=>?@[\\\\]^_`{|}~«»\\t\\n\\xa0\\ufeff', # символы, которые он токенайзер будет фильтровать\n",
    "                      lower=True,  #приводятся ли все символы к нижнему регситру\n",
    "                      split=' ',  # символ, по которому происходит разделение на слова (токены)\n",
    "                      char_level=False,  # являются ли токенами отдельные буквы\n",
    "                      oov_token='UNKNOWN' # токен для неизвестных слов\n",
    "                     )\n",
    "\n",
    "tokenizer.fit_on_texts(x_train_raw) # обучим наш токенайзер на обучающих текстах"
   ]
  },
  {
   "cell_type": "code",
   "execution_count": null,
   "metadata": {
    "colab": {
     "base_uri": "https://localhost:8080/",
     "height": 36
    },
    "id": "hdVX75kk6jYt",
    "outputId": "e799b7e5-c305-4a16-dc44-36bfcf51919a"
   },
   "outputs": [],
   "source": [
    "tokenizer.index_word[5] # посмотрим, какое слово хранится в словаре токенайзера с индексом 5"
   ]
  },
  {
   "cell_type": "code",
   "execution_count": null,
   "metadata": {
    "id": "mu62nYTi6vtm"
   },
   "outputs": [],
   "source": [
    "x_train_seq = tokenizer.texts_to_sequences(x_train_raw) # преобразуем наши тексты в последовательность токенов (индексов слов)"
   ]
  },
  {
   "cell_type": "code",
   "execution_count": null,
   "metadata": {
    "colab": {
     "base_uri": "https://localhost:8080/"
    },
    "id": "GZv_Modt64D_",
    "outputId": "928f74e7-e11c-4e01-f19b-d4e736e9c659"
   },
   "outputs": [],
   "source": [
    "pprint(x_train_seq[1], compact=True, width=PPRINT_WIDTH) # посмотрим, как закодирована один из отзывов"
   ]
  },
  {
   "cell_type": "code",
   "execution_count": null,
   "metadata": {
    "colab": {
     "base_uri": "https://localhost:8080/"
    },
    "id": "NhDALJUT-I35",
    "outputId": "2434bfb6-e278-46a9-8d5f-58a1ca4d639a"
   },
   "outputs": [],
   "source": [
    "# а теперь попробуем сделать обратное декодирование нашей последовательности в текст\n",
    "# это позволит нам понять, какие данные видит нейронная сеть\n",
    "text = ' '\n",
    "for i in x_train_seq[1]:\n",
    "    text += tokenizer.index_word[i] + ' '\n",
    "pprint(text, width=PPRINT_WIDTH)"
   ]
  },
  {
   "cell_type": "code",
   "execution_count": null,
   "metadata": {
    "id": "4nwMpat7ckAP"
   },
   "outputs": [],
   "source": [
    "# Преобразуем наши текстовые данные в формат One Hot Encoding\n",
    "x_train_01 = tokenizer.texts_to_matrix(x_train_raw)\n",
    "x_test_01 = tokenizer.texts_to_matrix(x_test_raw)"
   ]
  },
  {
   "cell_type": "code",
   "execution_count": null,
   "metadata": {
    "colab": {
     "base_uri": "https://localhost:8080/"
    },
    "id": "FJoVJpRw8Tah",
    "outputId": "76f67071-d733-4f01-ab4f-aa75f227fde7"
   },
   "outputs": [],
   "source": [
    "x_train_01.shape # посмотрим на форму полученного массива с обучающими данными"
   ]
  },
  {
   "cell_type": "code",
   "execution_count": null,
   "metadata": {
    "colab": {
     "base_uri": "https://localhost:8080/",
     "height": 129
    },
    "id": "nlUwyoLrwY7w",
    "outputId": "8ac47bab-f291-4469-e47f-c83c061be787"
   },
   "outputs": [],
   "source": [
    "# закодируем нашу целевую переменную (класс отзыва) в формат OHE для подачи в нейронную сеть\n",
    "target_encoeder = OneHotEncoder(sparse=False) # создадим объект Encoder\n",
    "target_encoeder.fit(y_train_raw.reshape([-1, 1])) # обучим его на целевом признаке из обучающих данных"
   ]
  },
  {
   "cell_type": "code",
   "execution_count": null,
   "metadata": {
    "colab": {
     "base_uri": "https://localhost:8080/"
    },
    "id": "dXr_4HcZCoBJ",
    "outputId": "2f7aed2b-ee3b-4ce4-bae5-044bf8936cef"
   },
   "outputs": [],
   "source": [
    "# сохраним названия классов в отдельную переменную, это понадобится нам на этапе предсказани\n",
    "classes_names = target_encoeder.categories_[0] # названия классов хранятся в .categories_[0]\n",
    "classes_names"
   ]
  },
  {
   "cell_type": "code",
   "execution_count": null,
   "metadata": {
    "id": "ore_XKzrwtvl"
   },
   "outputs": [],
   "source": [
    "# приведем наши целевые переменные из называний в формат OHO для подачи в нейронную сеть\n",
    "y_train_01 = target_encoeder.transform(y_train_raw.reshape([-1, 1]))\n",
    "y_test_01 = target_encoeder.transform(y_test_raw.reshape([-1, 1]))"
   ]
  },
  {
   "cell_type": "code",
   "execution_count": null,
   "metadata": {
    "colab": {
     "base_uri": "https://localhost:8080/"
    },
    "id": "RGnTJdPg-pac",
    "outputId": "bd69d69a-a716-4d73-bdee-d1676a88553f"
   },
   "outputs": [],
   "source": [
    "y_train_01.shape # посмотрим на размерность полученных данных"
   ]
  },
  {
   "cell_type": "markdown",
   "metadata": {
    "id": "mkUkTMhy9nWQ"
   },
   "source": [
    "### Создание и обучение модели"
   ]
  },
  {
   "cell_type": "code",
   "execution_count": null,
   "metadata": {
    "colab": {
     "base_uri": "https://localhost:8080/"
    },
    "id": "Z6G1KN4D9SS3",
    "outputId": "d50577d4-f0be-41d8-80dd-333117944bef"
   },
   "outputs": [],
   "source": [
    "# создадим простую модель с одним внутренним полносвязным слоем\n",
    "model01 = Sequential()\n",
    "model01.add(Dense(64, input_dim=NUM_WORDS, activation='relu'))\n",
    "model01.add(BatchNormalization())\n",
    "model01.add(Dropout(0.4))\n",
    "model01.add(Dense(n_classes,activation='softmax'))\n",
    "\n",
    "model01.compile(optimizer=Adam(learning_rate=0.001),  loss='categorical_crossentropy',  metrics=['accuracy'])\n",
    "\n",
    "model01.summary()"
   ]
  },
  {
   "cell_type": "code",
   "execution_count": null,
   "metadata": {
    "colab": {
     "base_uri": "https://localhost:8080/"
    },
    "id": "-gGSQPpml7Br",
    "outputId": "923a5477-4a12-4545-c27a-bb9c8d1db07f"
   },
   "outputs": [],
   "source": [
    "# обучим модель\n",
    "model01.fit(x = x_train_01,  y = y_train_01, epochs = 5, verbose = 1, validation_data= (x_test_01, y_test_01))"
   ]
  },
  {
   "cell_type": "markdown",
   "metadata": {
    "id": "EYRuIohw_0ec"
   },
   "source": [
    "### Инференс модели"
   ]
  },
  {
   "cell_type": "markdown",
   "metadata": {
    "id": "Pd6KGvRiBUZB"
   },
   "source": [
    "Инференс - это эксплуатация обученной модели.\n",
    "В данном разделе мы покажем, как с помощью обученной модели классифицировать новый отзыв, в том числе как провести преддобработку отзыва, а также как по предсказанию модели определить класс отзыва."
   ]
  },
  {
   "cell_type": "code",
   "execution_count": null,
   "metadata": {
    "id": "atB81tNs_32C"
   },
   "outputs": [],
   "source": [
    "# создадим новый отзыв и попробуем использовать обученную модель для предсказания \"класса\" данного отзыва\n",
    "new_rewiew = \"\"\" МОСКВА, 27 июл — РИА Новости. Администрация президента США Джо Байдена играла жизненно важную роль в обеих атаках на Крымский мост, заявил американский журналист и лауреат Пулитцеровской премии Сеймур Херш в статье, которую опубликовал на своей странице на платформе Substack.\n",
    "\"Конечно, это были наши технологии. Дрон управлялся дистанционно и был наполовину погружен в воду, как торпеда\", — привел Херш слова одного из американских чиновников.\n",
    "Журналист поинтересовался у собеседника, не задумывались ли в администрации перед атакой о возможности возмездия со стороны России. Тот ответил, что они \"так далеко не думают\".\n",
    "\"Наша национальная стратегия заключается в том, что Зеленский может делать все, что хочет. Нет никакого присмотра взрослых\", — цитирует Херш чиновника.\n",
    "\"\"\""
   ]
  },
  {
   "cell_type": "code",
   "execution_count": null,
   "metadata": {
    "colab": {
     "base_uri": "https://localhost:8080/"
    },
    "id": "jQBY0Wh3_3_0",
    "outputId": "28d207e4-7b19-471e-f905-3eae13ed1a60"
   },
   "outputs": [],
   "source": [
    "# выведем наш отзыв на печать\n",
    "pprint(new_rewiew, width=PPRINT_WIDTH)"
   ]
  },
  {
   "cell_type": "code",
   "execution_count": null,
   "metadata": {
    "colab": {
     "base_uri": "https://localhost:8080/"
    },
    "id": "Hf0rq1W9Ar2s",
    "outputId": "b540cbe2-f1ba-4234-c055-82e3439d0777"
   },
   "outputs": [],
   "source": [
    "# переведем наш отзыв в OHO представление с помощью обученного токенайзера\n",
    "review_to_oho = tokenizer.texts_to_matrix([new_rewiew])\n",
    "review_to_oho.shape"
   ]
  },
  {
   "cell_type": "code",
   "execution_count": null,
   "metadata": {
    "colab": {
     "base_uri": "https://localhost:8080/"
    },
    "id": "ZRmUxoheA3C8",
    "outputId": "e0d0e417-a2c2-4bd5-c281-cff40855f0f3"
   },
   "outputs": [],
   "source": [
    "# получим предсказание в виде вероятностей каждого класса\n",
    "pred = model01.predict(review_to_oho)\n",
    "\n",
    "# вычислим класс, вероятность которого максимальная\n",
    "num_class = np.argmax(pred)"
   ]
  },
  {
   "cell_type": "code",
   "execution_count": null,
   "metadata": {
    "colab": {
     "base_uri": "https://localhost:8080/"
    },
    "id": "LBm3LCszBhZD",
    "outputId": "6673a33a-df3c-458a-f1ff-a4ac86714503"
   },
   "outputs": [],
   "source": [
    "num_class # посмотрим номер этого класса"
   ]
  },
  {
   "cell_type": "code",
   "execution_count": null,
   "metadata": {
    "colab": {
     "base_uri": "https://localhost:8080/",
     "height": 36
    },
    "id": "2y7QPOEtBoF0",
    "outputId": "f1fc3dc1-b5ac-4377-8421-c68485800cf8"
   },
   "outputs": [],
   "source": [
    "# выведем текстовую метку класса отзыва\n",
    "classes_names[num_class]"
   ]
  },
  {
   "cell_type": "markdown",
   "metadata": {
    "id": "FSIxDyeIEh-H"
   },
   "source": [
    "## Использование Embedding"
   ]
  },
  {
   "cell_type": "markdown",
   "metadata": {
    "id": "D5cwO_Em3n9l"
   },
   "source": [
    "Мы научились кодировать слова и тексты с помощью OHE. Но значимых слов в тексте может быть очень много, соответственно вырастает и размерность пространства (напомним, что в OHE подходе каждому слову соответствует своя размерность).\n",
    "А что если попробовать перевести все слова в пространство размером N, где N сильно меньше чем количество слов? Например, при количестве слов 50 000 мы можем захотеть переместить их все в пространство размерностью 100 (200 или 300).\n",
    "Именно эту задачу и решает слой Embedding. Он хранит (и обучает) векторное представление для каждого слова.\n",
    "Интересен также побочный эффект: если взять обученный Embedding, то часто векторные представления близких по значению слов расположены в N-мерном пространстве ближе друг к другу, чем слова, далекие по значению.\n",
    "\n",
    "Keras предлагает нам готовый слой - Embedding. Основные аргументы данного слоя:\n",
    "1. input_dim - количество используемых слов, для которых нужно выучить векторное представление\n",
    "2. output_dim - размерность вектора \"представления слова\", т.е. векторного пространства, в которое мы переводим наши слова\n",
    "3. input_length - длинна последовательности (количество слов в отрезке текста)"
   ]
  },
  {
   "cell_type": "markdown",
   "metadata": {
    "id": "eRxj-5RDExdK"
   },
   "source": [
    "### Подготовка обучающей выборки"
   ]
  },
  {
   "cell_type": "code",
   "execution_count": null,
   "metadata": {
    "id": "ZkrYN1gjEp3P"
   },
   "outputs": [],
   "source": [
    "NUM_WORDS = 20000 # количество слов в словаре\n",
    "\n",
    "# объявляем наш tokenizer\n",
    "tokenizer = Tokenizer(num_words=NUM_WORDS,\n",
    "                      filters='!\"#$%&()*+,-–—./…:;<=>?@[\\\\]^_`{|}~«»\\t\\n\\xa0\\ufeff',\n",
    "                      lower=True, split=' ', char_level=False, oov_token='UNKNOWN'\n",
    "                     )\n",
    "# обучаем tokenizer на текстах, составляем словарь частотности\n",
    "tokenizer.fit_on_texts(x_train_raw)"
   ]
  },
  {
   "cell_type": "code",
   "execution_count": null,
   "metadata": {
    "id": "rEX3ULt7FFZm"
   },
   "outputs": [],
   "source": [
    "# переводим наши тексты в последовательность индексов (токенов) с помощью tokenizer\n",
    "x_train_seq = tokenizer.texts_to_sequences(x_train_raw)\n",
    "x_test_seq = tokenizer.texts_to_sequences(x_test_raw)"
   ]
  },
  {
   "cell_type": "markdown",
   "metadata": {
    "id": "eP4ZhrkB8he2"
   },
   "source": [
    "На следующем шаге нам  нужно рассчитать оптимальную длину последовательности. Для этого исследуем такой показатель, как количество слов в текстах, находящихся в обучающей выборке (среднее количество слов в отзыве)."
   ]
  },
  {
   "cell_type": "code",
   "execution_count": null,
   "metadata": {
    "colab": {
     "base_uri": "https://localhost:8080/",
     "height": 447
    },
    "id": "U0Aq47tjIosh",
    "outputId": "ff7a0fcd-27ea-4643-e5b8-6763b3dbe534"
   },
   "outputs": [],
   "source": [
    "# построим гистограмму для количества слов в отзывах\n",
    "sns.histplot([len(x) for x in x_train_seq])"
   ]
  },
  {
   "cell_type": "code",
   "execution_count": null,
   "metadata": {
    "id": "UOi6MUD7Jq5Y"
   },
   "outputs": [],
   "source": [
    "# объявим функцию для чистки наших последовательностей от тега unknown\n",
    "# мы предполагаем, что наличие тега unknown не несет значимой информации\n",
    "def drop_UNKNOWN (x_seq, unknown=1):\n",
    "    x_seq_short = []\n",
    "    for x in x_seq:\n",
    "        x_ = np.array(x)\n",
    "        x_ = x_[np.where(x_ !=unknown )]\n",
    "        x_seq_short.append(list(x_))\n",
    "    return x_seq_short"
   ]
  },
  {
   "cell_type": "code",
   "execution_count": null,
   "metadata": {
    "id": "PAgTkFGLPuRE"
   },
   "outputs": [],
   "source": [
    "# очистим наши последовательности, полученные из обучающей и тестовой выборок\n",
    "# от тега unknown с использованием объявленной функции\n",
    "x_train_seq_short = drop_UNKNOWN(x_train_seq)\n",
    "x_test_seq_short = drop_UNKNOWN(x_test_seq)"
   ]
  },
  {
   "cell_type": "code",
   "execution_count": null,
   "metadata": {
    "colab": {
     "base_uri": "https://localhost:8080/",
     "height": 447
    },
    "id": "_9moUodTJrPn",
    "outputId": "4e10d43f-7e0d-414d-da15-1cd75d4eae63"
   },
   "outputs": [],
   "source": [
    "# построим гистограмму количества токенов для последовательностей\n",
    "# из которых был удален тег unknown\n",
    "sns.histplot([len(x) for x in x_train_seq_short])"
   ]
  },
  {
   "cell_type": "markdown",
   "metadata": {
    "id": "H1kNcfXp97gO"
   },
   "source": [
    "Анализируя графики мы делаем вывод, что большая часть наших отзывов имеет длинну последовательности токенов меньшую или равную 2000."
   ]
  },
  {
   "cell_type": "code",
   "execution_count": null,
   "metadata": {
    "id": "IhhXgvMGL521"
   },
   "outputs": [],
   "source": [
    "# устанавливаем максимальную длинну последовательности токенов\n",
    "MAX_LEN_SEQ = 2000"
   ]
  },
  {
   "cell_type": "code",
   "execution_count": null,
   "metadata": {
    "id": "vHlDspsSD9Ps"
   },
   "outputs": [],
   "source": [
    "# вырвниваем длинну всех последовательностей токенов до MAX_LEN_SEQ\n",
    "# при помощи стандартного инструмента pad_sequence, входящего в Keras\n",
    "# при этом последовательности короче MAX_LEN_SEQ будут дополнены нулями\n",
    "# а последовательности длиннее MAX_LEN_SEQ будут обрезаны\n",
    "\n",
    "x_train_emb = pad_sequences(x_train_seq_short, padding='post', maxlen=MAX_LEN_SEQ)\n",
    "x_test_emb = pad_sequences(x_test_seq_short, padding='post', maxlen=MAX_LEN_SEQ)"
   ]
  },
  {
   "cell_type": "code",
   "execution_count": null,
   "metadata": {
    "colab": {
     "base_uri": "https://localhost:8080/",
     "height": 129
    },
    "id": "DOIkvpLkFFZo",
    "outputId": "eff9fbfb-4387-4b42-e31f-8cbf9cbe0e55"
   },
   "outputs": [],
   "source": [
    "# объявляем кодировщик для целевого признака (класса отзыва)\n",
    "# используем стандартный OneHotEncoder из библиотеки Sklearn\n",
    "target_encoeder = OneHotEncoder(sparse=False)\n",
    "\n",
    "# обучаем наш кодировщик на целевых призаках обучающей выборки\n",
    "target_encoeder.fit(y_train_raw.reshape([-1, 1]))"
   ]
  },
  {
   "cell_type": "code",
   "execution_count": null,
   "metadata": {
    "colab": {
     "base_uri": "https://localhost:8080/"
    },
    "id": "rMnXXIkMFFZp",
    "outputId": "54ffb734-6f55-430d-8f9a-d51f86228848"
   },
   "outputs": [],
   "source": [
    "# объявляем переменную classes_names, в которой сохраним матрицу\n",
    "# с названиями классов (тип отзыва)\n",
    "# названия классов понадобятся нам на этапе инференса\n",
    "classes_names = target_encoeder.categories_[0]\n",
    "classes_names"
   ]
  },
  {
   "cell_type": "code",
   "execution_count": null,
   "metadata": {
    "id": "jgD5OrvpFFZp"
   },
   "outputs": [],
   "source": [
    "# переведем целевые переменные для обучающей и тестовой выборки в формат OHE\n",
    "# это нужно для подачи в модель\n",
    "\n",
    "y_train_01 = target_encoeder.transform(y_train_raw.reshape([-1, 1]))\n",
    "y_test_01 = target_encoeder.transform(y_test_raw.reshape([-1, 1]))"
   ]
  },
  {
   "cell_type": "markdown",
   "metadata": {
    "id": "KEMj8085FLCU"
   },
   "source": [
    "### Создание и обучение модели"
   ]
  },
  {
   "cell_type": "code",
   "execution_count": null,
   "metadata": {
    "colab": {
     "base_uri": "https://localhost:8080/"
    },
    "id": "rfEag9l9EqJe",
    "outputId": "9bacd3f4-1b27-40a6-a633-5f22ac4acb2b"
   },
   "outputs": [],
   "source": [
    "# объявим нашу модель\n",
    "modelEmb = Sequential() # объявляем нашу модель как последовательность слоев\n",
    "# добавляем слой Embedding\n",
    "modelEmb.add(Embedding(input_dim=NUM_WORDS, output_dim=200, input_length=MAX_LEN_SEQ))\n",
    "# добавляем слой SpatialDropout1D для \"прореживания\" и борьбы с переобучением\n",
    "modelEmb.add(SpatialDropout1D(0.5))\n",
    "# добавим выравнивающий слой\n",
    "modelEmb.add(Flatten())\n",
    "# добавим Dense слой на 16 нейронов\n",
    "modelEmb.add(Dense(16,  activation='relu'))\n",
    "# добавим батч-нормализацию для борьбы с переобучением\n",
    "modelEmb.add(BatchNormalization())\n",
    "# добавим прореживание для борьбы с переобучением\n",
    "modelEmb.add(Dropout(0.2))\n",
    "# добавим выходной полносвязный слой для классификации\n",
    "modelEmb.add(Dense(n_classes,activation='softmax'))\n",
    "\n",
    "# компилируем модель\n",
    "modelEmb.compile(optimizer=Adam(learning_rate=0.001),  loss='categorical_crossentropy',  metrics=['accuracy'])\n",
    "\n",
    "# выводим данные по модели\n",
    "modelEmb.summary()"
   ]
  },
  {
   "cell_type": "code",
   "execution_count": null,
   "metadata": {
    "colab": {
     "base_uri": "https://localhost:8080/"
    },
    "id": "23pccQyaEqMf",
    "outputId": "96f1a313-8453-4ac5-fd8b-3612d9624042"
   },
   "outputs": [],
   "source": [
    "# обучаем модель\n",
    "modelEmb.fit(x = x_train_emb,  y = y_train_01, epochs = 10, verbose = 1, validation_data= (x_test_emb, y_test_01))"
   ]
  },
  {
   "cell_type": "markdown",
   "metadata": {
    "id": "y_9KWdIFTgVB"
   },
   "source": [
    "### Инференс модели"
   ]
  },
  {
   "cell_type": "code",
   "execution_count": null,
   "metadata": {
    "id": "LT4xw-L1XXIT"
   },
   "outputs": [],
   "source": [
    "# создадим новый отзыв, по которому мы хотим получить предсказание\n",
    "new_rewiew = \"\"\"Вертолет Ми-8Т, принадлежащий компании \"АлтайАвиа\", потерпел крушение в районе села Тюнгур в Усть-Коксинском районе Республики Алтай примерно в 15:00 по местному времени (11:00 мск). По предварительным данным, при заходе на посадку машина задела электропровода и загорелась.\n",
    "На борту находились 16 человек: трое членов экипажа и 13 туристов. Восемь человек доставили в больницу, из них четверо в тяжелом состоянии, еще у четверых травмы средней степени тяжести. Среди погибших — одна гражданка Белоруссии.\n",
    "\"\"\""
   ]
  },
  {
   "cell_type": "code",
   "execution_count": null,
   "metadata": {
    "colab": {
     "base_uri": "https://localhost:8080/"
    },
    "id": "hr1GnCgPXXIU",
    "outputId": "de33eb65-d74c-422b-c29d-f7ac1968d9dc"
   },
   "outputs": [],
   "source": [
    "# выведем отзыв на печать\n",
    "pprint(new_rewiew, width=PPRINT_WIDTH)"
   ]
  },
  {
   "cell_type": "code",
   "execution_count": null,
   "metadata": {
    "id": "-Fcxo8lnXglV"
   },
   "outputs": [],
   "source": [
    "review_to_seq = tokenizer.texts_to_sequences([new_rewiew]) # преобразуем наш отзыв в последовательность индексов\n",
    "review_to_seq = drop_UNKNOWN(review_to_seq) # удалим из отзыва тег UNKNOWN\n",
    "review_to_emb = pad_sequences(review_to_seq, padding='post', maxlen=MAX_LEN_SEQ) # выравняем длинну наше последовательности до MAX_LEN_SEQ"
   ]
  },
  {
   "cell_type": "code",
   "execution_count": null,
   "metadata": {
    "colab": {
     "base_uri": "https://localhost:8080/"
    },
    "id": "6KQSQYTDXXIW",
    "outputId": "6c909f11-081e-4841-c8f4-bff98b7f0cf7"
   },
   "outputs": [],
   "source": [
    "pred = modelEmb.predict(review_to_emb) # получим предсказание нашей модели в виде вероятностей по каждому классу\n",
    "num_class = np.argmax(pred)  # получим номер наиболее вероятного класса"
   ]
  },
  {
   "cell_type": "code",
   "execution_count": null,
   "metadata": {
    "colab": {
     "base_uri": "https://localhost:8080/"
    },
    "id": "QQM1k3rSXXIX",
    "outputId": "d5dd4483-5a36-4020-b104-509630c2b961"
   },
   "outputs": [],
   "source": [
    "num_class # посмотрим номер наиболее вероятного класса"
   ]
  },
  {
   "cell_type": "code",
   "execution_count": null,
   "metadata": {
    "colab": {
     "base_uri": "https://localhost:8080/",
     "height": 36
    },
    "id": "t8ecpG4hXXIX",
    "outputId": "eba2c299-6dc4-46cb-d8cc-fc99f4fa19e7"
   },
   "outputs": [],
   "source": [
    "classes_names[num_class] # выведем название класса, предсказанного моделью"
   ]
  },
  {
   "cell_type": "markdown",
   "metadata": {
    "id": "qX7H11J_89Xa"
   },
   "source": [
    "# Дополнительные алгоритмы и продвинутые методы работы с текстами"
   ]
  },
  {
   "cell_type": "markdown",
   "metadata": {
    "id": "6XG_Ceb9DLor"
   },
   "source": [
    "Теперь, когда мы рассмотрели базовые алгоритмы подготовки текстов к подаче в нейронную сеть рассмотрим, какие еще существуют подходы и техники к работе с текстами.\n",
    "Вы можете использовать их как по отдельности, так и в сочетании друг с другом и ранее изученными алгоритмами.\n",
    "\n",
    "В данном разделе мы рассмотрим три базовые темы:\n",
    "1. Превращение текста в списки слов (токенов)\n",
    "2. Векторизация с использованием алгоритмов из библиотеки SKlearn\n",
    "3. Word2Vec\n"
   ]
  },
  {
   "cell_type": "markdown",
   "metadata": {
    "id": "fQJ9mevhH5en"
   },
   "source": [
    "Установим и импортируем библиотеки, которые нам понадобятся в этом разделе."
   ]
  },
  {
   "cell_type": "code",
   "execution_count": null,
   "metadata": {
    "colab": {
     "base_uri": "https://localhost:8080/"
    },
    "id": "sE7lTH5HH4PE",
    "outputId": "7b3f7457-4708-4a11-efe1-9cf9fa5ca417"
   },
   "outputs": [],
   "source": [
    "!pip install -q pymorphy2 # установим библиотеку pymorphy"
   ]
  },
  {
   "cell_type": "code",
   "execution_count": null,
   "metadata": {
    "colab": {
     "base_uri": "https://localhost:8080/"
    },
    "id": "RR4UoPk1H0v1",
    "outputId": "f26565da-1bcf-4d34-d240-191aa2b47d32"
   },
   "outputs": [],
   "source": [
    "# импортируем специализированные библиотеки nltk, pymorphy2 и gensim\n",
    "# это специализированные библиотеки для работы с естественным языком\n",
    "import nltk\n",
    "from nltk.corpus import stopwords\n",
    "from nltk.tokenize import word_tokenize, sent_tokenize\n",
    "from nltk.stem import SnowballStemmer\n",
    "\n",
    "import pymorphy2\n",
    "\n",
    "from gensim.models.word2vec import Word2Vec\n",
    "from gensim.utils import simple_preprocess\n",
    "import gensim.downloader as api\n",
    "\n",
    "nltk.download('stopwords')\n",
    "nltk.download('punkt')\n",
    "\n",
    "# из библиотеки Sklearn импортируем три наиболее популярных Vectorizer для работы с текстами\n",
    "from sklearn.feature_extraction.text import CountVectorizer, TfidfVectorizer, HashingVectorizer"
   ]
  },
  {
   "cell_type": "markdown",
   "metadata": {
    "id": "n30mAau1i9Qq"
   },
   "source": [
    "## Токенизация, удаление стоп-слов"
   ]
  },
  {
   "cell_type": "markdown",
   "metadata": {
    "id": "XgTFx213EroZ"
   },
   "source": [
    "Первым этапом при работе с текстом является его токенизация, т.е. разбиение на составные части. При этом на первом этапе мы можем весь текст разбить на составные единицы - предложения, а предложения в свою очередь разбить на отдельные слова (токены)\n",
    "\n",
    "Мы уже изучили Tokenizer, входящий в Keras.  Нужно также понимать, что Keras не является специализированным NLP-пакетом, и Keras Tokenizer имеет только базовый функционал. Посмотрим, как применять токенизацию на примере функций sent_tokenize и word_tokenize, входящих в состав библиотеки nltk.\n",
    "\n",
    "Еще одной концепцией, которую нам нужно понять являются стоп-слова (stop-words). Основная мысль этой концепции заключается в том, что не все слова несут нашей модели полезную информацию. Такие слова как \"и\", \"в\", \"на\", \"это\", \"по\" и т.д. скорее будут мешать нашей модели находить что-то по настоящему полезное.\n",
    "Нам будет полезно избавиться от этих слов на этапе предобработки. Мы воспользуемся готовым списком русских стоп-слов (stopwords из библиотеки nltk)."
   ]
  },
  {
   "cell_type": "code",
   "execution_count": null,
   "metadata": {
    "id": "uDp9HmrCE0A_"
   },
   "outputs": [],
   "source": [
    "# возьмем любой отзыв, на котором будем показывать технику работы с текстами\n",
    "new_rewiew = \"\"\" Если вы еще не видели этот фильм, вам действительно стоит это сделать. Я не помню со времён 'Мертвеца ' и 'Дон Жуан де Марко ' ещё какую-то столь же яркую роль Деппа.\n",
    "Знакомьтесь — Джон Уилмот граф Рочестер, поэт, драматург, сатирик, бунтарь, безбожник, распутник, любимец женщин, фаворит короля. Последнего, кстати, Карла II по прозвищу 'Весёлый король', уставшего уже от эпохи распуства и пытающегося внести хоть какой-то порядок в государственные дела, сына убитого Кромвелем Карла I, обладателя большого кривого носа превосходно сыграл Джон Малкович.\n",
    "'Распутник' снят по реальным событиям. Сам по себе Джон Уилмот был личность незаурядная, яркая. Ещё при своей жизни он послужил прототипом персонажей для нескольких театральных пьес. Что уж говорить, что после смерти интерес к нему никак не ослабел. В 1994 году драматург Стивен Джефриз написал пьесу 'The Libertine', которая шла на сцене Лондонского Королевского Театра (с Джоном Малковичем в главной роли). В 2004 режиссёр Лоренс Данмор экранизирует пьесу Джефриза, тем самым увековечив удивительную жизнь графа Рочестера в кинематографе.\n",
    "Жизнь и вправду была не скучная — похитил богатую невесту, отсидел в Тауре (правда недолго), воевал на флоте (где отличился), снова похитил невесту (на этот раз женился), писал стихи и пьесы (в том числе похабные, в том числе сатиры на короля), был отлучен от Двора (опять же не надолго), ну и, конечно, попойки, карты, женщины и... театр.\n",
    "\"\"\""
   ]
  },
  {
   "cell_type": "code",
   "execution_count": null,
   "metadata": {
    "id": "CXxRmAJLKhLB"
   },
   "outputs": [],
   "source": [
    "# при помощи функции sent_tokenize разобъем наш отзыв на отдельные предожения\n",
    "ss = sent_tokenize(new_rewiew)"
   ]
  },
  {
   "cell_type": "code",
   "execution_count": null,
   "metadata": {
    "colab": {
     "base_uri": "https://localhost:8080/"
    },
    "id": "2wJ9D9qoKmuw",
    "outputId": "881c6ede-af2a-4c49-cd74-c4910214c601"
   },
   "outputs": [],
   "source": [
    "len(ss) # посмотрим на количество получившихся предожений"
   ]
  },
  {
   "cell_type": "code",
   "execution_count": null,
   "metadata": {
    "colab": {
     "base_uri": "https://localhost:8080/"
    },
    "id": "Se887mmwKoyQ",
    "outputId": "ef765e8f-4e91-4d8f-9757-6b69c5bd5359"
   },
   "outputs": [],
   "source": [
    "pprint(ss, width=PPRINT_WIDTH) # посмотрим на полученный список предложений"
   ]
  },
  {
   "cell_type": "code",
   "execution_count": null,
   "metadata": {
    "id": "a2BA5ldAlURB"
   },
   "outputs": [],
   "source": [
    "# разобъем наш текст на слова с использованием word_tokenize из пакета nltk\n",
    "tokens = word_tokenize(new_rewiew, language='russian')"
   ]
  },
  {
   "cell_type": "code",
   "execution_count": null,
   "metadata": {
    "colab": {
     "base_uri": "https://localhost:8080/"
    },
    "id": "O6ckGYdtrfHh",
    "outputId": "ceae9343-9def-4a01-ac11-b439d8470eb8"
   },
   "outputs": [],
   "source": [
    "# выведем список получившихся слов (токенов) на печать\n",
    "pprint(tokens, compact=True, width=PPRINT_WIDTH)"
   ]
  },
  {
   "cell_type": "code",
   "execution_count": null,
   "metadata": {
    "id": "J4DLZ2wYrHcX"
   },
   "outputs": [],
   "source": [
    "# очистим наш список токенов от пунктуации и знаков препинания\n",
    "tokens = [i for i in tokens if (i not in '!\"#$%&\\'()*+,-./:;<=>?@[\\]^_`{|}~')]"
   ]
  },
  {
   "cell_type": "code",
   "execution_count": null,
   "metadata": {
    "colab": {
     "base_uri": "https://localhost:8080/"
    },
    "id": "_lO8l_-lrsE8",
    "outputId": "4e95c383-f54f-421a-b63b-011e0f4818fa"
   },
   "outputs": [],
   "source": [
    "# посмотрим на результат\n",
    "pprint(tokens, compact=True, width=PPRINT_WIDTH)"
   ]
  },
  {
   "cell_type": "code",
   "execution_count": null,
   "metadata": {
    "colab": {
     "base_uri": "https://localhost:8080/"
    },
    "id": "BNy_EhWrIbP5",
    "outputId": "9f67606d-6c51-4563-df22-1a45888df2e0"
   },
   "outputs": [],
   "source": [
    "# приведем все наши токены (слова) к нижнему регистру\n",
    "tokens = [i.lower() for i in tokens]\n",
    "# посмотрим на результат\n",
    "pprint(tokens, compact=True, width=PPRINT_WIDTH)"
   ]
  },
  {
   "cell_type": "code",
   "execution_count": null,
   "metadata": {
    "id": "zxQOGOYXsTpY"
   },
   "outputs": [],
   "source": [
    "# загрузим список стоп-слов русского языка\n",
    "stop_words = stopwords.words('russian')\n",
    "\n",
    "# добавим в него еще немного стоп-слов\n",
    "stop_words.extend(['что', 'это', 'так', 'вот', 'быть', 'как', 'в', '—', '–', 'к', 'на', '...'])\n",
    "\n",
    "# очистим наш список токенов от стоп-слов\n",
    "tokens = [i for i in tokens if (i not in stop_words)]"
   ]
  },
  {
   "cell_type": "code",
   "execution_count": null,
   "metadata": {
    "colab": {
     "base_uri": "https://localhost:8080/"
    },
    "id": "FX9QlXrpsb33",
    "outputId": "fccc3c80-4a45-414d-9e3f-9b7f699407d8"
   },
   "outputs": [],
   "source": [
    "# посмотрим на результат\n",
    "pprint(tokens, compact=True, width=PPRINT_WIDTH)"
   ]
  },
  {
   "cell_type": "code",
   "execution_count": null,
   "metadata": {
    "colab": {
     "base_uri": "https://localhost:8080/"
    },
    "id": "O1YIeGW8s2ih",
    "outputId": "7ec61e56-da2e-4bbe-8164-b43bc7d930dd"
   },
   "outputs": [],
   "source": [
    "# почистим от кавычек, которые могли \"прилипнуть\" к словам\n",
    "tokens = [i.replace(\"«\", \"\").replace(\"»\", \"\").replace(\"'\", \"\").replace('\"', \"\") for i in tokens]\n",
    "pprint(tokens, compact=True, width=PPRINT_WIDTH)"
   ]
  },
  {
   "cell_type": "markdown",
   "metadata": {
    "id": "JPihmOB49Srp"
   },
   "source": [
    "## Лемматизация и стемминг"
   ]
  },
  {
   "cell_type": "markdown",
   "metadata": {
    "id": "Jtl7oa2xJPPu"
   },
   "source": [
    "Итак, мы разбили наши тексты на отдельны слова (токены).\n",
    "Мы с вами знаем, что слова в русском языке очень изменчивы. Было бы классно подавать модели не все возможные словоформы, а каким-то образом привести разные варианты одного и того же слова к одному токену.\n",
    "Для этого выделяют два основных подхода:\n",
    "* Стемминг\n",
    "* Лемматизация\n",
    "\n",
    "**Стемминг** - это \"стрижка\" слов, когда по определенному алгоритму удаляются окончания.\n",
    "\n",
    "**Лемматизация** - приведение слова к начальной форме с использованием готовых словарей."
   ]
  },
  {
   "cell_type": "code",
   "execution_count": null,
   "metadata": {
    "id": "kwZlNbhKtjG8"
   },
   "outputs": [],
   "source": [
    "# создаем объект \"стеммер\" используя SnowballStemmer из библиотеки nltk\n",
    "snowball = SnowballStemmer(language='russian')"
   ]
  },
  {
   "cell_type": "code",
   "execution_count": null,
   "metadata": {
    "colab": {
     "base_uri": "https://localhost:8080/"
    },
    "id": "e7CjbXHUt0Yp",
    "outputId": "e10bdd17-08b0-4d78-b357-5728c9e03818"
   },
   "outputs": [],
   "source": [
    "# делаем \"стрижку\" наших токенов\n",
    "tokens_stemmed = [snowball.stem(i.lower()) for i in tokens]\n",
    "\n",
    "# и смотрим, что у нас получилось\n",
    "pprint(tokens_stemmed, compact=True, width=PPRINT_WIDTH)"
   ]
  },
  {
   "cell_type": "code",
   "execution_count": null,
   "metadata": {
    "colab": {
     "base_uri": "https://localhost:8080/"
    },
    "id": "kRlVVfr7wdIq",
    "outputId": "b87151b6-5b7f-4e31-ca13-0c427c43d1d6"
   },
   "outputs": [],
   "source": [
    "# создадим объект Лемматизатор, используя функцию MorphAnalyzer из пакета pymorphy2\n",
    "morph = pymorphy2.MorphAnalyzer()\n",
    "\n",
    "# посмотрим на результат работы лемматизатора на примере одного слова\n",
    "morph.parse(\"хочу\")"
   ]
  },
  {
   "cell_type": "code",
   "execution_count": null,
   "metadata": {
    "colab": {
     "base_uri": "https://localhost:8080/",
     "height": 36
    },
    "id": "hxjcGJ5iwdXq",
    "outputId": "c5c37ff2-87ef-4eb7-d2d6-dde23eb2d655"
   },
   "outputs": [],
   "source": [
    "# а вот так можно \"дотянуться\" до начальной формы произвольного слова\n",
    "morph.parse(\"хотеть\")[0].normal_form"
   ]
  },
  {
   "cell_type": "code",
   "execution_count": null,
   "metadata": {
    "id": "nj5LmBHgxZ16"
   },
   "outputs": [],
   "source": [
    "# лемматизируем все наши токены\n",
    "tokens_lemmatized = [morph.parse(i)[0].normal_form for i in tokens]"
   ]
  },
  {
   "cell_type": "code",
   "execution_count": null,
   "metadata": {
    "colab": {
     "base_uri": "https://localhost:8080/"
    },
    "id": "4BqpQ7c9xk6K",
    "outputId": "d0f80030-70b3-4f7a-8017-962b9efe0a4a"
   },
   "outputs": [],
   "source": [
    "# посмотрим на результат\n",
    "pprint(tokens_lemmatized, compact=True, width=PPRINT_WIDTH)"
   ]
  },
  {
   "cell_type": "markdown",
   "metadata": {
    "id": "Oc9IuOna01-u"
   },
   "source": [
    "## Соединим всё вместе"
   ]
  },
  {
   "cell_type": "code",
   "execution_count": null,
   "metadata": {
    "id": "8Gy9jrx707e7"
   },
   "outputs": [],
   "source": [
    "# создадим функцию, предобрабатывающую текст на русском языке\n",
    "def preprocess_russian(text):\n",
    "    '''\n",
    "    функция принимает на вход текст\n",
    "    очищает от знков препинания и стоп слов\n",
    "    и возвращает список слов в начальной форме\n",
    "    '''\n",
    "    tokens = nltk.word_tokenize(text, language='russian') # разбиваем текст на токены\n",
    "\n",
    "    # чистим от мусора, ковычек и приводим к нижнему регистру\n",
    "    tokens = [i for i in tokens if (i not in '!\"#$%&\\'()*+,-./:;<=>?@[\\]^_`{|}~')]\n",
    "    tokens = [i.replace(\"«\", \"\").replace(\"»\", \"\").replace(\"'\", \"\").replace('\"', \"\") for i in tokens]\n",
    "    tokens = [i.lower() for i in tokens]\n",
    "\n",
    "    # загружаем стоп-слова из nltk и добавляем свои\n",
    "    stop_words = stopwords.words('russian')\n",
    "    stop_words.extend(['что', 'это', 'так', 'вот', 'быть', 'как', 'в', '—', '–', 'к', 'на', '...'])\n",
    "    # удаляем стоп-слова\n",
    "    tokens = [i for i in tokens if (i not in stop_words)] # удаляем стоп-слова из спика слов\n",
    "    # берем начальную словоформу с помощью лемматизатора\n",
    "    tokens_lemmatized = [morph.parse(i)[0].normal_form for i in tokens]\n",
    "\n",
    "    return tokens_lemmatized"
   ]
  },
  {
   "cell_type": "code",
   "execution_count": null,
   "metadata": {
    "id": "FXbrBl6f1pLq"
   },
   "outputs": [],
   "source": [
    "# преобразуем наш текст в набор токенов\n",
    "x_train_tokens = [preprocess_russian(text) for text in x_train_raw]"
   ]
  },
  {
   "cell_type": "code",
   "execution_count": null,
   "metadata": {
    "colab": {
     "base_uri": "https://localhost:8080/"
    },
    "id": "p1XdH4LX185h",
    "outputId": "aaa3afb5-6c4e-41cc-ae3b-e9131c3b4fd0"
   },
   "outputs": [],
   "source": [
    "# посмотрим во что преобразовался первый отзыв\n",
    "pprint(x_train_tokens[0], compact=True, width=PPRINT_WIDTH)"
   ]
  },
  {
   "cell_type": "code",
   "execution_count": null,
   "metadata": {
    "id": "FqUDmN8C405t"
   },
   "outputs": [],
   "source": [
    "# соединим наши слова (токены) в одну строку\n",
    "x_train_texts = [' '.join(tokens) for tokens in x_train_tokens]"
   ]
  },
  {
   "cell_type": "code",
   "execution_count": null,
   "metadata": {
    "colab": {
     "base_uri": "https://localhost:8080/"
    },
    "id": "Av944sRv5Cx4",
    "outputId": "28180757-8f7f-4cf8-abcc-89d57de5aa72"
   },
   "outputs": [],
   "source": [
    "# выведем полученную строку на печать\n",
    "pprint(x_train_texts[0], compact=True, width=PPRINT_WIDTH)"
   ]
  },
  {
   "cell_type": "markdown",
   "metadata": {
    "id": "Qv4zY2VT_vdc"
   },
   "source": [
    "## Векторизация"
   ]
  },
  {
   "cell_type": "markdown",
   "metadata": {
    "id": "sadnJ27D-cGi"
   },
   "source": [
    "В данном разделе мы рассмотрим три варианта, дополняющие подход OHE кодирования.\n",
    "Все варианты могут быть реализованы с помощью стандартных функций из библиотеки Sklearn"
   ]
  },
  {
   "cell_type": "markdown",
   "metadata": {
    "id": "iq57efndzYaQ"
   },
   "source": [
    "### CountVectorizer"
   ]
  },
  {
   "cell_type": "markdown",
   "metadata": {
    "id": "cc-ApEcU-o4H"
   },
   "source": [
    "CountVectorizer похож на подход OHE, но он возвращает не 0/1, а считает количество вхождений для каждого слова."
   ]
  },
  {
   "cell_type": "code",
   "execution_count": null,
   "metadata": {
    "id": "EDNVOng0zXff"
   },
   "outputs": [],
   "source": [
    "# объявим наш vectorizer, обратите внимание на возможность использовать stop-words\n",
    "vectorizer = CountVectorizer(max_features=2000, stop_words=stop_words)"
   ]
  },
  {
   "cell_type": "code",
   "execution_count": null,
   "metadata": {
    "colab": {
     "base_uri": "https://localhost:8080/",
     "height": 144
    },
    "id": "Muo5i_Sr0HNb",
    "outputId": "1c222bf3-f905-4c40-dc6d-f5155be2546d"
   },
   "outputs": [],
   "source": [
    "# обучим CountVectorizer на наших текстах\n",
    "vectorizer.fit(x_train_raw)"
   ]
  },
  {
   "cell_type": "code",
   "execution_count": null,
   "metadata": {
    "id": "O8Gn92fg5NAl"
   },
   "outputs": [],
   "source": [
    "# преобразуем наши тексты в векторную форму\n",
    "x_train_count = vectorizer.transform(x_train_raw).toarray()\n",
    "x_test_count = vectorizer.transform(x_test_raw).toarray()"
   ]
  },
  {
   "cell_type": "code",
   "execution_count": null,
   "metadata": {
    "colab": {
     "base_uri": "https://localhost:8080/"
    },
    "id": "8G-8CaVN6Ngg",
    "outputId": "b0893b2a-3317-437d-915c-793271eeb139"
   },
   "outputs": [],
   "source": [
    "# посмотрим на размерной полученной матрицы\n",
    "x_train_count.shape"
   ]
  },
  {
   "cell_type": "code",
   "execution_count": null,
   "metadata": {
    "colab": {
     "base_uri": "https://localhost:8080/"
    },
    "id": "a2wCC_9k6Pet",
    "outputId": "de5ac665-5073-48e0-cca7-265d10bd5e53"
   },
   "outputs": [],
   "source": [
    "# посмотрим на вектор, являющийся первой строкой полученной матрицы\n",
    "x_train_count[0]"
   ]
  },
  {
   "cell_type": "code",
   "execution_count": null,
   "metadata": {
    "colab": {
     "base_uri": "https://localhost:8080/"
    },
    "id": "mzTBnLtn6ZIv",
    "outputId": "55faa179-25e6-47a1-af0f-139a94360a22"
   },
   "outputs": [],
   "source": [
    "# посмотрим на максимальный элемент вектра\n",
    "x_train_count[0].max()"
   ]
  },
  {
   "cell_type": "markdown",
   "metadata": {
    "id": "EkzPGYcH63rd"
   },
   "source": [
    "### TfidfVectorizer"
   ]
  },
  {
   "cell_type": "markdown",
   "metadata": {
    "id": "AGs8lqGeAErD"
   },
   "source": [
    "Одна из проблем CountVectorizer является то, что некоторые слова, которые часто встречаются в тексте могут оказаться не очень важными. Этого недостатка лишен TfidfVectorizer. Для каждого слова в наборе (корпусе) документов он рассчитвает метрику, зависящую от двух факторов:\n",
    "* **Частота слова (Term Frequency)** - предполагаем что слово, которое часто встречается в документе, важно этого документа.\n",
    "* **Обратная частота документа (Inverse Document Frequency)**  - предполагаем, что слово, которое часто встречается во всех документах менее важно для конкретного документа.\n",
    "\n",
    "Знакомиться со сложными математическими формулами мы не будем, достаточно знать основной принцип работы TfidfVectorizer."
   ]
  },
  {
   "cell_type": "code",
   "execution_count": null,
   "metadata": {
    "id": "7yvvY0sS7J7M"
   },
   "outputs": [],
   "source": [
    "# создадим функцию, с помощью которой мы склеим между собой отзывы с одинаковой оценкой\n",
    "# эти огромные тексты пригодятся нам для обучения нашего TfidfVectorizer\n",
    "def join_texts (X_train, y_train):\n",
    "\n",
    "    train_data = pd.DataFrame({'text': X_train, 'label': y_train})\n",
    "\n",
    "    joined_texts = []\n",
    "    classes = []\n",
    "    for label in train_data.label.unique():\n",
    "        joined_text = list(train_data[train_data.label == label]['text'])\n",
    "        joined_texts.append(' '.join(joined_text))\n",
    "        classes.append(label)\n",
    "    return joined_texts\n",
    "\n",
    "joined_text = join_texts(x_train_raw, y_train_raw)"
   ]
  },
  {
   "cell_type": "code",
   "execution_count": null,
   "metadata": {
    "colab": {
     "base_uri": "https://localhost:8080/",
     "height": 74
    },
    "id": "H9TbOGdW7KT6",
    "outputId": "57213c76-4e1f-415d-c31d-855ba26b84db"
   },
   "outputs": [],
   "source": [
    "# объявим наш TfidfVectorizer и обучим его на полученных текстах\n",
    "vectorizer = TfidfVectorizer(max_features = 20000)\n",
    "vectorizer.fit(joined_text)"
   ]
  },
  {
   "cell_type": "code",
   "execution_count": null,
   "metadata": {
    "id": "i6wGBCeb72cE"
   },
   "outputs": [],
   "source": [
    "# с помощью обученного vectorizer преобразуем наши обучающие выборки в векторную форму\n",
    "x_train_tfidf = vectorizer.transform(x_train_raw).toarray()\n",
    "x_test_tfidf = vectorizer.transform(x_test_raw).toarray()"
   ]
  },
  {
   "cell_type": "code",
   "execution_count": null,
   "metadata": {
    "colab": {
     "base_uri": "https://localhost:8080/"
    },
    "id": "rPfKXoj072ut",
    "outputId": "4a8514c0-fcfe-4b0c-ca25-b3dad0cc4f3b"
   },
   "outputs": [],
   "source": [
    "# посмотрим на размерность матрицы\n",
    "x_train_tfidf.shape"
   ]
  },
  {
   "cell_type": "code",
   "execution_count": null,
   "metadata": {
    "colab": {
     "base_uri": "https://localhost:8080/"
    },
    "id": "hXgAEGNW9lft",
    "outputId": "759e7f5b-29c5-46b1-fa1c-ed465698f732"
   },
   "outputs": [],
   "source": [
    "# и на одну из строк полученной матрицы\n",
    "x_train_tfidf[0]"
   ]
  },
  {
   "cell_type": "markdown",
   "metadata": {
    "id": "0iG0IhC08nV2"
   },
   "source": [
    "### HashingVectorizer"
   ]
  },
  {
   "cell_type": "markdown",
   "metadata": {
    "id": "iP-XqaItEYta"
   },
   "source": [
    "Подсчеты количества и частоты слов могут стать очень утомительными, а при росте количества слов растет словарь, что приводит замедлению алгоритмов и ограничениям на память.\n",
    "**HashingVectorizer** помогает нам с этим бороться.  В его основе лежит простая идея - давайте сделаем одностороннюю функцию, которая с помощью функции (называется хэш-функция) преобразует слово в целое число из определенного диапазона.\n",
    "* К недостаткам такого подхода можно отнести возникновение **коллизий** ситуаций, когда разные слова могут иметь одинаковое значение хэш функции.\n",
    "* К плюсам же стоит отнести отутствие необходимости обучения HashingVectorizer (он сразу готов к работе) и его способность работать с любыми словами (не нужно контролировать, есть ли слово в словаре).\n",
    "\n",
    "Кстати, подход, основанный на использовании Hashing Trick есть и в Keras. Вот [ссылка](https://tf.keras.layers.experimental.preprocessing.Hashing) на слой Hashing, который недавно появился в Keras."
   ]
  },
  {
   "cell_type": "code",
   "execution_count": null,
   "metadata": {
    "id": "r1npHFHP80C0"
   },
   "outputs": [],
   "source": [
    "HASH_DIM = 1024 # установим размерность нашего пространства\n",
    "\n",
    "# создадим наш Hashing vectorizer\n",
    "vectorizer = HashingVectorizer(n_features=HASH_DIM)"
   ]
  },
  {
   "cell_type": "code",
   "execution_count": null,
   "metadata": {
    "id": "AvhQslMT9B4c"
   },
   "outputs": [],
   "source": [
    "# преобразуем наши тексты в матрицы с помощью HashingVectorizer\n",
    "x_train_hashed = vectorizer.transform(x_train_raw).toarray()\n",
    "x_test_hashed = vectorizer.transform(x_test_raw).toarray()"
   ]
  },
  {
   "cell_type": "code",
   "execution_count": null,
   "metadata": {
    "colab": {
     "base_uri": "https://localhost:8080/"
    },
    "id": "jAyOlaRbJkYJ",
    "outputId": "0d08b13d-4492-406f-d90b-9b7885f7a788"
   },
   "outputs": [],
   "source": [
    "x_train_hashed.shape # посмотрим на размерности полученной матрицы"
   ]
  },
  {
   "cell_type": "code",
   "execution_count": null,
   "metadata": {
    "colab": {
     "base_uri": "https://localhost:8080/"
    },
    "id": "0_LVrD5l9Mgg",
    "outputId": "d947ad9d-c059-4c46-9379-b3e5edd9882f"
   },
   "outputs": [],
   "source": [
    "x_train_hashed[0] # посмотрим на произвольный вектор"
   ]
  },
  {
   "cell_type": "markdown",
   "metadata": {
    "id": "WQhT0JonX3lW"
   },
   "source": [
    "# Word2Vec"
   ]
  },
  {
   "cell_type": "markdown",
   "metadata": {
    "id": "koElX7L8LyIa"
   },
   "source": [
    "Когда мы говорили про Embedding, то обусуждали концепцию векторного представления для слов, когда каждому слову мы сопоставлям вектор в 100 (200, 300) мерном пространстве. И говорили о том, что в обученном Embedding представлении схожие по смыслу слова имеют \"близкие\" вектора.\n",
    "\n",
    "Word2Vec работает точно также. Основная разница в том, что Embedding слой обучается вместе с моделью, а представление Word2Vec можно обучить отдельно,  просто на текстах.\n",
    "\n",
    "Для обучения Word2Vec  используется следующий алгоритм:\n",
    "1. Скользящим окном текст нарезается на небольшие отрывыки (3-5 слов)\n",
    "2. Обучается модель, которая по для каждого слова учится предсказывать слова, которые часто встречаются рядом, т.е.  в рамках одного отрывка.\n",
    "3. Наш Word2Vec получается путем извлечения внутренних слоев из обученной таким образом модели.\n",
    "\n",
    "Прямо сейчс нам не нужно понимать всех деталей обучения Word2Vec, мы просто можем взять готовые функции из библиотек. Важно понимать, что учить Word2Vec достаточно просто, ведь нам не нужно собирать и размечать данные. Достаточно найти большой корпус документов и иметь достаточно машинных ресурсов и терпения."
   ]
  },
  {
   "cell_type": "markdown",
   "metadata": {
    "id": "-Mm8dA0hdUap"
   },
   "source": [
    "Отчасти понять для себя смысл векторизации можно на следующей картинке:"
   ]
  },
  {
   "cell_type": "markdown",
   "metadata": {
    "id": "Fv_pDOffdMCr"
   },
   "source": [
    "![image.png](data:image/png;base64,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)"
   ]
  },
  {
   "cell_type": "markdown",
   "metadata": {
    "id": "RhusQDT9djEN"
   },
   "source": [
    "##Интересные особенности векторного представления"
   ]
  },
  {
   "cell_type": "markdown",
   "metadata": {
    "id": "TuwaByklo54D"
   },
   "source": [
    "###Работа с векторами смыслов"
   ]
  },
  {
   "cell_type": "markdown",
   "metadata": {
    "id": "nvXfLIR-rCws"
   },
   "source": [
    "![image.png](data:image/png;base64,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)"
   ]
  },
  {
   "cell_type": "markdown",
   "metadata": {
    "id": "73IGZtuApMTV"
   },
   "source": [
    "###Применение косинусного расстояния"
   ]
  },
  {
   "cell_type": "markdown",
   "metadata": {
    "id": "cOC3asJFsTmC"
   },
   "source": [
    "Оно же коэффициент Отиаи, и рассчитывается как косинус угла между двумя векторами. При этом для параллельных (одинаково направленных) векторов $cos~0^o = 1$, $cos~90^o = 0$, а остальные значения для острых углов находятся где-то в промежутке между этими числами, для тупых углов - отрицательны. То есть можно использовать это для оценки схожести смыслов."
   ]
  },
  {
   "cell_type": "markdown",
   "metadata": {
    "id": "it8BGkeulk3D"
   },
   "source": [
    "## Обучение представления Word2Vec под собственную задачу"
   ]
  },
  {
   "cell_type": "markdown",
   "metadata": {
    "id": "QBVz-g2DPTTC"
   },
   "source": [
    "В этом разделе мы посмотрим, как можно попробовать обучить представление Word2Vec под свою задачу. Для этого мы возьмем расширенную базу отзывов, чтобы получить более совершенное представление."
   ]
  },
  {
   "cell_type": "code",
   "execution_count": null,
   "metadata": {
    "id": "ASxI68kUNKC2"
   },
   "outputs": [],
   "source": [
    "df = text_data.copy()"
   ]
  },
  {
   "cell_type": "code",
   "execution_count": null,
   "metadata": {
    "colab": {
     "base_uri": "https://localhost:8080/",
     "height": 206
    },
    "id": "KVE2yTtJj3FO",
    "outputId": "bfad2707-ec98-42e6-a5c9-67bc196e4aab"
   },
   "outputs": [],
   "source": [
    "df.head()"
   ]
  },
  {
   "cell_type": "code",
   "execution_count": null,
   "metadata": {
    "id": "NCrh1b7NsfO5"
   },
   "outputs": [],
   "source": [
    "# создадим функцию для предобработки текстов\n",
    "# она похоже на ту, что мы уже использовали,\n",
    "# но сейчас мы не будем использовть лемматизацию\n",
    "def simple_preprocess_russian(text):\n",
    "    tokens = nltk.word_tokenize(text, language='russian')\n",
    "    tokens = [i for i in tokens if (i not in '!\"#$%&\\'()*+,-./:;<=>?@[\\]^_`{|}~')]\n",
    "    tokens = [i.replace(\"«\", \"\").replace(\"»\", \"\").replace(\"'\", \"\").replace('\"', \"\").replace('.', \"\") for i in tokens]\n",
    "    tokens = [i.lower() for i in tokens]\n",
    "    return tokens"
   ]
  },
  {
   "cell_type": "code",
   "execution_count": null,
   "metadata": {
    "id": "QUNR6-4lIbPU"
   },
   "outputs": [],
   "source": [
    "# Разобъем наш набор текстов на токены, для этого:\n",
    "words = [] # создадим пустой список, в него будем добавлять списки слов\n",
    "for review in df['text']: # проходим циклом по отзывам из нашего DataFrame\n",
    "    ss = nltk.sent_tokenize(review,language=\"russian\") # разбиваем отзывы на отдельные преложения\n",
    "    for s in ss: # и для каждого предложения\n",
    "        words.append(simple_preprocess_russian(s)) #извлекаем из него слова-токены"
   ]
  },
  {
   "cell_type": "code",
   "execution_count": null,
   "metadata": {
    "colab": {
     "base_uri": "https://localhost:8080/"
    },
    "id": "fbwisVNzJ2HR",
    "outputId": "6fc6e9e4-e8cd-41bb-b258-2f26a2c38cd0"
   },
   "outputs": [],
   "source": [
    "len(words) # посмотрим на длину полученного списка (соответвтует количеству предожений)"
   ]
  },
  {
   "cell_type": "code",
   "execution_count": null,
   "metadata": {
    "colab": {
     "base_uri": "https://localhost:8080/"
    },
    "id": "zSmy03KZJ6z_",
    "outputId": "07a00452-3c32-41ad-bc1b-310a162ee4a3"
   },
   "outputs": [],
   "source": [
    "pprint(words[0], compact=True) # выведем на печать какую-нибудь из записей в нашем списке"
   ]
  },
  {
   "cell_type": "code",
   "execution_count": null,
   "metadata": {
    "colab": {
     "base_uri": "https://localhost:8080/"
    },
    "id": "f7KpEb-YHaf7",
    "outputId": "19191892-305d-44f1-fd17-859275855650"
   },
   "outputs": [],
   "source": [
    "# гиперпараметры для обучения Word2Vec\n",
    "num_features = 100 #размность векторного пространства, в который будем переводить слова\n",
    "min_word_count = 1 # сколько раз слово должно встретиться в текстах, что-бы мы брали его в расчет\n",
    "num_workers = 4\n",
    "window_size = 4 # размер окна, из которого мы формируем контекст\n",
    "subsampling = 1e-3\n",
    "\n",
    "w2v_my = Word2Vec(\n",
    "       words,\n",
    "       workers=num_workers,\n",
    "       #size = num_features,\n",
    "       min_count=min_word_count,\n",
    "       window = window_size,\n",
    "       sample=subsampling)\n",
    "\n",
    "w2v_my.init_sims(replace=True) # выполняется для очистки памяти, удаляет лишние данные модели, использовать только если не планируете дообучать\n",
    "\n",
    "# сохраним нашу модель\n",
    "w2v_my.save(\"/content/my_w2vmodel\")\n",
    "w2v_my.wv.save_word2vec_format(\"/content/my_w2vmodel.w2v\")"
   ]
  },
  {
   "cell_type": "code",
   "execution_count": null,
   "metadata": {
    "id": "iGiftjh8OVm5"
   },
   "outputs": [],
   "source": [
    "# прочитаем сохраненную модель\n",
    "w2v_my = Word2Vec.load(\"/content/my_w2vmodel\")"
   ]
  },
  {
   "cell_type": "code",
   "execution_count": null,
   "metadata": {
    "colab": {
     "base_uri": "https://localhost:8080/"
    },
    "id": "DltqXN8NHwz7",
    "outputId": "22517e40-e274-40e9-f926-d0d58cc6c9be"
   },
   "outputs": [],
   "source": [
    "# вычислим, на что похоже \"король\" + \"женщина\" - \"мужчина\"\n",
    "print(w2v_my.wv.most_similar(positive= [\"президент\", \"женщина\"], negative=[\"мужчина\"]))"
   ]
  },
  {
   "cell_type": "code",
   "execution_count": null,
   "metadata": {
    "colab": {
     "base_uri": "https://localhost:8080/"
    },
    "id": "F6L0ZqXVITCT",
    "outputId": "c85a0f4b-06f3-4134-bba2-ebf0401e6767"
   },
   "outputs": [],
   "source": [
    "# найдем близкие слова к слову \"криминальный\"\n",
    "print(w2v_my.wv.most_similar(positive= [\"криминальный\"]))"
   ]
  },
  {
   "cell_type": "code",
   "execution_count": null,
   "metadata": {
    "colab": {
     "base_uri": "https://localhost:8080/"
    },
    "id": "YxeMRI9xxDZk",
    "outputId": "842dc4c8-682e-4544-f065-8b03fbeabe28"
   },
   "outputs": [],
   "source": [
    "# найдем близкие слова к слову \"траволта\"\n",
    "print(w2v_my.wv.most_similar(positive= [\"путин\"]))"
   ]
  },
  {
   "cell_type": "code",
   "execution_count": null,
   "metadata": {
    "colab": {
     "base_uri": "https://localhost:8080/"
    },
    "id": "jgReLXeWqUh9",
    "outputId": "972c87a5-a7ca-495f-b20b-0d4be137a9dd"
   },
   "outputs": [],
   "source": [
    "w2v_my.wv['лидер'] # посмотрим, что из себя представляет векторное представление слова \"лидер\""
   ]
  },
  {
   "cell_type": "markdown",
   "metadata": {
    "id": "wG_mC8r4lzvZ"
   },
   "source": [
    "## Загрузка предобученных Word2Vec представлений"
   ]
  },
  {
   "cell_type": "markdown",
   "metadata": {
    "id": "8-Ce2VJgRITu"
   },
   "source": [
    "Итак, мы научились обучать и сохранять собственные представления. Но самое удобное для нас заключается в том, что очень много представлений **Word2Vec** уже обучены до нас и мы просто можем воспользоваться готовыми.\n",
    "Покажем, как загружать готовые представления на примере **gensim.downloader**."
   ]
  },
  {
   "cell_type": "code",
   "execution_count": null,
   "metadata": {
    "colab": {
     "base_uri": "https://localhost:8080/"
    },
    "id": "sv5i3nRcpgMl",
    "outputId": "d67917b0-7804-4239-f63f-103fe02b106c"
   },
   "outputs": [],
   "source": [
    "list(api.info()['models'].keys()) #выведем список представлений, доступных для скачивания"
   ]
  },
  {
   "cell_type": "code",
   "execution_count": null,
   "metadata": {
    "colab": {
     "base_uri": "https://localhost:8080/"
    },
    "id": "hDEfJOTkmDDr",
    "outputId": "011b16ab-d371-4560-9727-0f3b3bda2d21"
   },
   "outputs": [],
   "source": [
    "# загрузим предобученные представления для русского и английского языков\n",
    "w2v_ru = api.load(\"word2vec-ruscorpora-300\")\n",
    "w2v_en = api.load(\"glove-wiki-gigaword-300\")"
   ]
  },
  {
   "cell_type": "code",
   "execution_count": null,
   "metadata": {
    "colab": {
     "base_uri": "https://localhost:8080/"
    },
    "id": "2jR8hsh9mDOS",
    "outputId": "f3929009-11cb-4f65-b9cd-9d9bcae1619b"
   },
   "outputs": [],
   "source": [
    "# проверим, чему равно король + женщина - мужчина\n",
    "print(w2v_ru.most_similar(positive= [\"король_NOUN\", \"женщина_NOUN\"], negative=[\"мужчина_NOUN\"]))"
   ]
  },
  {
   "cell_type": "code",
   "execution_count": null,
   "metadata": {
    "colab": {
     "base_uri": "https://localhost:8080/"
    },
    "id": "VEFtA7eCmDV4",
    "outputId": "dff15a66-0a89-48db-e237-1274d8be75b4"
   },
   "outputs": [],
   "source": [
    "# проверим чему равно king + woman - man\n",
    "print(w2v_en.most_similar(positive= [\"king\", \"woman\"], negative=[\"man\"]))"
   ]
  },
  {
   "cell_type": "markdown",
   "metadata": {
    "id": "PP8_NpF3rWw8"
   },
   "source": [
    "## Использование обученного представления Word2Vec в качестве Embedding слоя в Keras\n"
   ]
  },
  {
   "cell_type": "markdown",
   "metadata": {
    "id": "8bYqaafwUroo"
   },
   "source": [
    "Итак, мы имеем обученный Word2Vec. Как его использовать? Конечно, можно перевести наши слова в векторную форму и подавать их в модель. Но существует еще один способ - загрузить веса обученного Word2Vec в наш Enbedding слой.\n",
    "Посмотрим, как это можно сделать."
   ]
  },
  {
   "cell_type": "code",
   "execution_count": null,
   "metadata": {
    "id": "RQllpk8C_GH-"
   },
   "outputs": [],
   "source": [
    "# произведем предобработку наших текстов\n",
    "x_train_cleared = [' '.join(simple_preprocess_russian(text)) for text in x_train_raw]\n",
    "x_test_cleared = [' '.join(simple_preprocess_russian(text)) for text in x_test_raw]"
   ]
  },
  {
   "cell_type": "code",
   "execution_count": null,
   "metadata": {
    "id": "C-aZnrts_GTk"
   },
   "outputs": [],
   "source": [
    "NUM_WORDS = 20000 # максимальное количество слов\n",
    "MAX_LEN_SEQ = 800 # длинна последовательности\n",
    "\n",
    "# создадим tokenizer\n",
    "tokenizer = Tokenizer(num_words=NUM_WORDS, # максимальное количество слов, которые будет учитывать наш токенайзер\n",
    "                      filters='!\"#$%&()*+,-–—./…:;<=>?@[\\\\]^_`{|}~«»\\t\\n\\xa0\\ufeff', # символы, которые он токенайзер будет фильтровать\n",
    "                      lower=True,  #приводятся ли все символы к нижнему регситру\n",
    "                      split=' ',  # символ, по которому происходит разделение на слова (токены)\n",
    "                      char_level=False,  # являются ли токенами отдельные буквы\n",
    "                      oov_token='UNKNOWN' # токен для неизвестных слов\n",
    "                     )\n",
    "\n",
    "# обучим токенайзер на обучающей выборке\n",
    "tokenizer.fit_on_texts(x_train_cleared)"
   ]
  },
  {
   "cell_type": "code",
   "execution_count": null,
   "metadata": {
    "colab": {
     "base_uri": "https://localhost:8080/"
    },
    "id": "PEVxkVwA_GdP",
    "outputId": "da7138ce-51bc-41a0-95f6-93425da15470"
   },
   "outputs": [],
   "source": [
    "# переведем наши тексты в последовательности\n",
    "x_train_seq = tokenizer.texts_to_sequences(x_train_cleared)\n",
    "x_test_seq = tokenizer.texts_to_sequences(x_test_cleared)\n",
    "pprint(x_train_seq[0], compact=True)"
   ]
  },
  {
   "cell_type": "code",
   "execution_count": null,
   "metadata": {
    "id": "8QuFTb2OL5Zo"
   },
   "outputs": [],
   "source": [
    "# выравняем длины последовательностей\n",
    "x_train_emb = pad_sequences(x_train_seq, padding='post', maxlen=MAX_LEN_SEQ)\n",
    "x_test_emb = pad_sequences(x_test_seq, padding='post', maxlen=MAX_LEN_SEQ)"
   ]
  },
  {
   "cell_type": "code",
   "execution_count": null,
   "metadata": {
    "colab": {
     "base_uri": "https://localhost:8080/"
    },
    "id": "Qgi2vl97sQzO",
    "outputId": "61406671-cc36-4980-dba9-9a0a7fa40aed"
   },
   "outputs": [],
   "source": [
    "# объявим функцию для извлечения весов для Embedding из предобученного Word2Vec\n",
    "def get_weight_matrix(embedding, vocab):\n",
    "    # определим размер словаря\n",
    "    vocab_size = NUM_WORDS+2\n",
    "    # создадим матрицу нужной размерности\n",
    "    weight_matrix = np.zeros((vocab_size, num_features))\n",
    "    # проходим по словарю и сохраняем вектора, используя индексы из Tokenizer\n",
    "    for word, i in vocab.items():\n",
    "        if i <= vocab_size:\n",
    "            try:\n",
    "                weight_matrix[i] = embedding[word]\n",
    "            except:\n",
    "                print(f'word {word} not in vocabulary')\n",
    "    return weight_matrix\n",
    "\n",
    "embedding_vectors = get_weight_matrix(w2v_my, tokenizer.word_index)"
   ]
  },
  {
   "cell_type": "code",
   "execution_count": null,
   "metadata": {
    "colab": {
     "base_uri": "https://localhost:8080/"
    },
    "id": "m7kRZC_VMToU",
    "outputId": "a1d227df-6a4e-4925-c650-09fe44ad045c"
   },
   "outputs": [],
   "source": [
    "# создаем нашу модель\n",
    "modelEmb = Sequential()\n",
    "# добавляем Embedding слой, в котором в качестве весов используются даные из предобученного Word2Vec\n",
    "my_emb = Embedding(NUM_WORDS+2, 100, weights=[embedding_vectors], input_length=MAX_LEN_SEQ, trainable=True)\n",
    "modelEmb.add(my_emb)\n",
    "\n",
    "# добавляем слой SpatialDropout1D для \"прореживания\" и борьбы с переобучением\n",
    "modelEmb.add(SpatialDropout1D(0.5))\n",
    "# добавим выравнивающий слой\n",
    "modelEmb.add(Flatten())\n",
    "# добавим Dense слой на 16 нейронов\n",
    "modelEmb.add(Dense(16,  activation='relu'))\n",
    "# добавим батч-нормализацию для борьбы с переобучением\n",
    "modelEmb.add(BatchNormalization())\n",
    "# добавим прореживание для борьбы с переобучением\n",
    "modelEmb.add(Dropout(0.2))\n",
    "# добавим выходной полносвязный слой для классификации\n",
    "modelEmb.add(Dense(n_classes,activation='softmax'))\n",
    "\n",
    "# компилируем модель\n",
    "modelEmb.compile(optimizer=Adam(learning_rate=0.001),  loss='categorical_crossentropy',  metrics=['accuracy'])\n",
    "\n",
    "# выводим данные по модели\n",
    "modelEmb.summary()"
   ]
  },
  {
   "cell_type": "code",
   "execution_count": null,
   "metadata": {
    "colab": {
     "base_uri": "https://localhost:8080/"
    },
    "id": "a2huk0n-ubd4",
    "outputId": "20840bf1-fb1a-4fb8-dd5f-add43b2c78a4"
   },
   "outputs": [],
   "source": [
    "# обучаем нашу модель\n",
    "modelEmb.fit(x = x_train_emb,  y = y_train_01, epochs = 10, verbose = 1, validation_data= (x_test_emb, y_test_01))"
   ]
  },
  {
   "cell_type": "markdown",
   "metadata": {
    "id": "OrY1M0q39qSJ"
   },
   "source": [
    "#3.4.4 Использование BERT для построения эмбеддинга слов, классификации"
   ]
  },
  {
   "cell_type": "code",
   "execution_count": null,
   "metadata": {
    "colab": {
     "base_uri": "https://localhost:8080/"
    },
    "id": "3N2GRpkYC9Qy",
    "outputId": "e8e05d0f-2f57-41f7-bd76-59d161153f64"
   },
   "outputs": [],
   "source": [
    "!gdown https://github.com/yutkin/Lenta.Ru-News-Dataset/releases/download/v1.1/lenta-ru-news.csv.bz2\n",
    "!gdown http://files.deeppavlov.ai/deeppavlov_data/bert/rubert_cased_L-12_H-768_A-12_pt.tar.gz\n",
    "!bzip2 -d lenta-ru-news.csv.bz2\n",
    "!tar -xzf /content/rubert_cased_L-12_H-768_A-12_pt.tar.gz"
   ]
  },
  {
   "cell_type": "code",
   "execution_count": null,
   "metadata": {
    "colab": {
     "base_uri": "https://localhost:8080/"
    },
    "id": "E76imh5mDFmA",
    "outputId": "09ea5e2d-11d2-4922-f8b4-c6aaf9482e31"
   },
   "outputs": [],
   "source": [
    "!pip install transformers\n",
    "!pip install pyyaml"
   ]
  },
  {
   "cell_type": "code",
   "execution_count": null,
   "metadata": {
    "id": "oON5ZcxfC_V5"
   },
   "outputs": [],
   "source": [
    "import gc\n",
    "import numpy as np\n",
    "import pandas as pd\n",
    "import torch\n",
    "import os\n",
    "import json\n",
    "\n",
    "from tqdm import tqdm\n",
    "from sklearn.model_selection import train_test_split\n",
    "from sklearn.metrics import roc_auc_score\n",
    "from sklearn.decomposition import PCA\n",
    "from sklearn.cluster import AgglomerativeClustering\n",
    "from torch.utils.data import Dataset, DataLoader\n",
    "from transformers import BertModel, BertTokenizer"
   ]
  },
  {
   "cell_type": "code",
   "execution_count": null,
   "metadata": {
    "colab": {
     "base_uri": "https://localhost:8080/",
     "height": 390
    },
    "id": "Uh9kq7EBDJKJ",
    "outputId": "21d4a483-27c9-4e42-c044-af00a826a211"
   },
   "outputs": [],
   "source": [
    "gc.collect()\n",
    "df = pd.read_csv('/lenta-ru-news.csv', low_memory=False)\n",
    "df['topic'].unique()\n",
    "# 'Библиотека', 'Россия', 'Мир', 'Экономика', 'Интернет и СМИ',\n",
    "# 'Спорт', 'Культура', 'Из жизни', 'Силовые структуры',\n",
    "# 'Наука и техника', 'Бывший СССР', nan, 'Дом', 'Сочи', 'ЧМ-2014',\n",
    "# 'Путешествия', 'Ценности', 'Легпром', 'Бизнес', 'МедНовости',\n",
    "# 'Оружие', '69-я параллель', 'Культпросвет ', 'Крым'"
   ]
  },
  {
   "cell_type": "code",
   "execution_count": null,
   "metadata": {
    "id": "zqBy5YrqI0YG"
   },
   "outputs": [],
   "source": [
    "corpus = df.loc[df['topic']=='Наука и техника', 'text'].to_numpy()\n",
    "corpus = corpus[:10000]"
   ]
  },
  {
   "cell_type": "code",
   "execution_count": null,
   "metadata": {
    "id": "1_XHgtHRJW6_"
   },
   "outputs": [],
   "source": [
    "corpus[0]\n",
    "# Американские ученые в ближайшее время отправят на орбиту спутник,\n",
    "# который проверит два фундаментальных предположения, выдвинутых Альбертом Эйнштейном..."
   ]
  },
  {
   "cell_type": "code",
   "execution_count": null,
   "metadata": {
    "id": "YNzrvnh1Jair"
   },
   "outputs": [],
   "source": [
    "with open(\"/rubert_cased_L-12_H-768_A-12_pt/bert_config.json\", \"r\") as read_file, open(\"/rubert_cased_L-12_H-768_A-12_pt/config.json\", \"w\") as conf:\n",
    "    file = json.load(read_file)\n",
    "    conf.write(json.dumps(file))"
   ]
  },
  {
   "cell_type": "code",
   "execution_count": null,
   "metadata": {
    "id": "GlRCmcOYJhMf"
   },
   "outputs": [],
   "source": [
    "!rm /content/rubert_cased_L-12_H-768_A-12_pt/bert_config.json"
   ]
  },
  {
   "cell_type": "code",
   "execution_count": null,
   "metadata": {
    "id": "mYjkQeViJjHf"
   },
   "outputs": [],
   "source": [
    "#tokenizer = BertTokenizer.from_pretrained('rubert_cased_L-12_H-768_A-12_pt')\n",
    "#model = BertModel.from_pretrained('rubert_cased_L-12_H-768_A-12_pt', output_hidden_states = True)"
   ]
  },
  {
   "cell_type": "code",
   "execution_count": null,
   "metadata": {
    "id": "Cn8tgVthKMcE"
   },
   "outputs": [],
   "source": [
    "tokenizer = BertTokenizer.from_pretrained('DeepPavlov/rubert-base-cased')\n",
    "model = BertModel.from_pretrained('DeepPavlov/rubert-base-cased', output_hidden_states = True)"
   ]
  },
  {
   "cell_type": "code",
   "execution_count": null,
   "metadata": {
    "id": "-AWWeryeKz68"
   },
   "outputs": [],
   "source": [
    "class CustomDataset(Dataset):\n",
    "\n",
    "    def __init__(self, X):\n",
    "        self.text = X\n",
    "\n",
    "    def tokenize(self, text):\n",
    "        return tokenizer(text, return_tensors='pt', padding='max_length', truncation=True, max_length=150)\n",
    "\n",
    "    def __len__(self):\n",
    "        return self.text.shape[0]\n",
    "\n",
    "    def __getitem__(self, index):\n",
    "        output = self.text[index]\n",
    "        output = self.tokenize(output)\n",
    "        return {k: v.reshape(-1) for k, v in output.items()}\n",
    "\n",
    "\n",
    "eval_ds = CustomDataset(corpus)\n",
    "eval_dataloader = DataLoader(eval_ds, batch_size=10)"
   ]
  },
  {
   "cell_type": "code",
   "execution_count": null,
   "metadata": {
    "id": "gNJgqmpwK_ZG"
   },
   "outputs": [],
   "source": [
    "def mean_pooling(model_output, attention_mask):\n",
    "    token_embeddings = model_output['last_hidden_state']\n",
    "    input_mask_expanded = attention_mask.unsqueeze(-1).expand(token_embeddings.size()).float()\n",
    "    sum_embeddings = torch.sum(token_embeddings * input_mask_expanded, 1)\n",
    "    sum_mask = torch.clamp(input_mask_expanded.sum(1), min=1e-9)\n",
    "    return sum_embeddings / sum_mask"
   ]
  },
  {
   "cell_type": "code",
   "execution_count": null,
   "metadata": {
    "id": "AE5LJwKgLG1V"
   },
   "outputs": [],
   "source": [
    "device = torch.device(\"cuda\") if torch.cuda.is_available() else torch.device(\"cpu\")\n",
    "model.to(device)\n",
    "model.eval()\n",
    "\n",
    "embeddings = torch.Tensor().to(device)\n",
    "\n",
    "with torch.no_grad():\n",
    "    for n_batch, batch in enumerate(tqdm(eval_dataloader)):\n",
    "        batch = {k: v.to(device) for k, v in batch.items()}\n",
    "        outputs = model(**batch)\n",
    "        embeddings = torch.cat([embeddings, mean_pooling(outputs, batch['attention_mask'])])\n",
    "    embeddings = embeddings.cpu().numpy()"
   ]
  },
  {
   "cell_type": "code",
   "execution_count": null,
   "metadata": {
    "id": "fSoilQkxLLGu"
   },
   "outputs": [],
   "source": [
    "from sklearn.decomposition import PCA\n",
    "pca = PCA(n_components=15, random_state=42)\n",
    "emb_15d = pca.fit_transform(embeddings)"
   ]
  },
  {
   "cell_type": "code",
   "execution_count": null,
   "metadata": {
    "id": "3XhztIYZWa3U"
   },
   "outputs": [],
   "source": [
    "from sklearn.cluster import AgglomerativeClustering\n",
    "clustering = AgglomerativeClustering(n_clusters=None, distance_threshold=0.6, affinity='cosine', linkage='average').fit(emb_15d)"
   ]
  },
  {
   "cell_type": "code",
   "execution_count": null,
   "metadata": {
    "id": "zDmaL3CBMTEe"
   },
   "outputs": [],
   "source": [
    "pca = PCA(n_components=2, random_state=42)\n",
    "emb_2d = pd.DataFrame(pca.fit_transform(embeddings), columns=['x1', 'x2'])\n",
    "emb_2d['label'] = clustering.labels_\n",
    "emb_2d['label'].nunique() # 40"
   ]
  },
  {
   "cell_type": "code",
   "execution_count": null,
   "metadata": {
    "id": "eZuZMyp1MYD5"
   },
   "outputs": [],
   "source": [
    "import plotly.express as px\n",
    "fig = px.scatter(emb_2d, x='x1', y='x2', color='label', width=800, height=600)\n",
    "fig.show()"
   ]
  },
  {
   "cell_type": "code",
   "execution_count": null,
   "metadata": {
    "id": "8cBJ5im7MgT_"
   },
   "outputs": [],
   "source": [
    "def show_examples(cluster, n):\n",
    "    for i in range(n):\n",
    "        print(i, corpus[emb_2d['label'] == cluster][i].split('.')[0])\n",
    "show_examples(cluster=0, n=3)\n",
    "\n",
    "# 0 Доплеровский радар в армии США будет использоваться не только для составления метеорологических карт,\n",
    "#   но и для раннего предупреждения о биологической или химической атаке с воздуха\n",
    "# 1 Военно-космические силы США приняли на вооружение новую систему,\n",
    "#   предназначенную для глушения космических спутников, сообщает агентство Reuters\n",
    "# 2 На авиабазе ВВС США \"Эдвардс\" в Калифорнии проведены первые успешные испытания боевого лазера воздушного базирования"
   ]
  },
  {
   "cell_type": "code",
   "execution_count": null,
   "metadata": {
    "id": "SPJIk58BMjtA"
   },
   "outputs": [],
   "source": [
    "show_examples(cluster=6, n=3)\n",
    "\n",
    "# 0 Используя преимущества технологии Blu-ray (синий лазер, в отличие от красного, применяемого в CD и DVD-приводах),\n",
    "#   позволяющей создавать сверхтонкие носители информации, корпорация Sony и компания Toppan Printing разработали \"бумажный\" диск,\n",
    "#   на который можно записать 25 гигабайт видео\n",
    "# 1 Американская компания Microvision создала лазерную технологию,\n",
    "#   которая позволит человеку видеть дополнительное изображение - помимо той картинки, которую он получает при помощи обычного зрения\n",
    "# 2 Автор операционной системы Linux Линус Торвальдс (Linus Torvalds) предлагает создать новую систему #   регистрации изменений, вносимых в операционную системы, с целью предотвращения любых обвинений в нарушении авторских прав, сообщает Siliconvalley"
   ]
  },
  {
   "cell_type": "markdown",
   "metadata": {
    "id": "gJeZ8HVjBFsZ"
   },
   "source": [
    "#3.4 Задание."
   ]
  },
  {
   "cell_type": "markdown",
   "metadata": {
    "id": "aC_Dy59tz8kF"
   },
   "source": [
    "### 1. Лёгкий уровень.\n",
    "Подставьте в нейронные сети из п.3.4.3 по распознаванию тональностей новостей слой LSTM и обучите нейронные сети. Сделайте выводы, улучшила ли подстановка слоя качество распознавания тональностей."
   ]
  },
  {
   "cell_type": "code",
   "execution_count": null,
   "metadata": {
    "id": "a2Pe1Nohbk9V"
   },
   "outputs": [],
   "source": [
    "from tensorflow.keras.layers import LSTM"
   ]
  },
  {
   "cell_type": "code",
   "execution_count": null,
   "metadata": {
    "id": "8a8soPKObz_J"
   },
   "outputs": [],
   "source": [
    "model_LSTM = Sequential()\n",
    "\n",
    "model_LSTM.add(Embedding(input_dim=NUM_WORDS, output_dim=200, input_length=MAX_LEN_SEQ, weights=[embedding_vectors], trainable=True))\n",
    "model_LSTM.add(SpatialDropout1D(0.5))\n",
    "\n",
    "model_LSTM.add(LSTM(128, dropout=0.2, recurrent_dropout=0.2))\n",
    "\n",
    "model_LSTM.add(Flatten())\n",
    "model_LSTM.add(Dense(16,  activation='relu'))\n",
    "model_LSTM.add(BatchNormalization())\n",
    "\n",
    "model_LSTM.add(Dropout(0.2))\n",
    "model_LSTM.add(Dense(n_classes,activation='softmax'))\n",
    "\n",
    "# выводим данные по модели\n",
    "model_LSTM.summary()"
   ]
  },
  {
   "cell_type": "code",
   "execution_count": null,
   "metadata": {
    "id": "h6_KepKUdEqe"
   },
   "outputs": [],
   "source": [
    "model_LSTM.compile(optimizer=Adam(learning_rate=0.001),  loss='categorical_crossentropy',  metrics=['accuracy'])"
   ]
  },
  {
   "cell_type": "code",
   "execution_count": null,
   "metadata": {
    "id": "cbuZ6N2qdFVd"
   },
   "outputs": [],
   "source": [
    "model_LSTM.fit(x=x_train_emb, y=y_train_01, validation_data=(x_train_emb, y_train_01), epochs=10, batch_size=32, verbose=1)"
   ]
  },
  {
   "cell_type": "markdown",
   "metadata": {
    "id": "X50EP4-heszI"
   },
   "source": []
  },
  {
   "cell_type": "markdown",
   "metadata": {
    "id": "5qbwueUd1zf4"
   },
   "source": [
    "### 2. Сложный уровень"
   ]
  },
  {
   "cell_type": "markdown",
   "metadata": {
    "id": "KcvDy2Ni2PYs"
   },
   "source": [
    "Найдите код модели классификации BERT. Возьмите русскую модель, доучите её и запустите классификацию тональностей отзывов на данной модели. Можно не добиваться высоких показателей метрик - примеров для обучения мало для существенного роста метрик модели."
   ]
  },
  {
   "cell_type": "markdown",
   "metadata": {
    "id": "J6JV88oKXyx_"
   },
   "source": [
    "# Литература"
   ]
  },
  {
   "cell_type": "markdown",
   "metadata": {
    "id": "rlURjhTWaYGh"
   },
   "source": [
    "1. [Подходы лемматизации с примерами на Python\n",
    "](https://https://webdevblog.ru/podhody-lemmatizacii-s-primerami-v-python/)\n",
    "\n",
    "2. [Gensim — Руководство для начинающих](https://webdevblog.ru/gensim-rukovodstvo-dlya-nachinajushhih/)\n",
    "\n",
    "3. [Чудесный мир Word Embeddings: какие они бывают и зачем нужны?](https://habr.com/ru/company/ods/blog/329410/)\n",
    "\n",
    "4. [Классификация документов: 7 практических подходов для небольших наборов данных](https://habr.com/ru/post/504744/)\n",
    "\n",
    "5. [Отличная обзорная статья по подходам при обработке текстов](https://habr.com/ru/company/mailru/blog/358736/)\n",
    "\n",
    "6. [Более специализированная статья по подходам при обработке текстов - языковые модели, рекуррентные слои, машинный перевод](https://neurohive.io/ru/osnovy-data-science/5-metodov-v-nlp-kotorye-izmenjat-obshhenie-v-budushhem/)\n",
    "\n",
    "7. [Набор данных анализа тональности текста](https://www.kaggle.com/competitions/methodcompetition1/data)\n",
    "\n",
    "8. [Применение эмбеддингов полученных с помощью BERT](https://habr.com/ru/articles/653443/)\n",
    "\n",
    "9. [Набор данных для эмбеддингов](https://github.com/yutkin/Lenta.Ru-News-Dataset)\n",
    "\n",
    "10. [модель BERT](https://huggingface.co/DeepPavlov/rubert-base-cased)"
   ]
  }
 ],
 "metadata": {
  "colab": {
   "machine_shape": "hm",
   "provenance": []
  },
  "kernelspec": {
   "display_name": "Python 3 (ipykernel)",
   "language": "python",
   "name": "python3"
  },
  "language_info": {
   "codemirror_mode": {
    "name": "ipython",
    "version": 3
   },
   "file_extension": ".py",
   "mimetype": "text/x-python",
   "name": "python",
   "nbconvert_exporter": "python",
   "pygments_lexer": "ipython3",
   "version": "3.10.9"
  }
 },
 "nbformat": 4,
 "nbformat_minor": 1
}
