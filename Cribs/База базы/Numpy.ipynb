{
 "cells": [
  {
   "cell_type": "markdown",
   "metadata": {
    "id": "0AoPSXyUTTLc"
   },
   "source": [
    "## Массив Numpy"
   ]
  },
  {
   "cell_type": "code",
   "execution_count": null,
   "metadata": {
    "id": "-B6Os5J4V-my"
   },
   "outputs": [],
   "source": [
    "import numpy as np"
   ]
  },
  {
   "cell_type": "markdown",
   "metadata": {
    "id": "lIM5gFo4TbUg"
   },
   "source": [
    "### Как создать массив Numpy"
   ]
  },
  {
   "cell_type": "markdown",
   "metadata": {
    "id": "LKUY5Wkl4v8W"
   },
   "source": [
    "#### Функция np.array()"
   ]
  },
  {
   "cell_type": "code",
   "execution_count": null,
   "metadata": {
    "colab": {
     "base_uri": "https://localhost:8080/"
    },
    "id": "x3wxNu5jthst",
    "outputId": "5e82f2dd-8fa6-47ef-9c79-1bc02144c056"
   },
   "outputs": [
    {
     "data": {
      "text/plain": [
       "array([0, 1, 2, 3, 4, 5, 6, 7, 8, 9])"
      ]
     },
     "execution_count": 2,
     "metadata": {},
     "output_type": "execute_result"
    }
   ],
   "source": [
    "# # создадим массив из списка\n",
    "arr = np.array([0, 1, 2, 3, 4, 5, 6, 7, 8, 9])\n",
    "arr"
   ]
  },
  {
   "cell_type": "code",
   "execution_count": null,
   "metadata": {
    "colab": {
     "base_uri": "https://localhost:8080/"
    },
    "id": "tLWO1t--thwP",
    "outputId": "fc83c63b-57fc-41e4-b2b0-75a891a82b37"
   },
   "outputs": [
    {
     "data": {
      "text/plain": [
       "array([0, 1, 2, 3, 4, 5, 6, 7, 8, 9])"
      ]
     },
     "execution_count": 3,
     "metadata": {},
     "output_type": "execute_result"
    }
   ],
   "source": [
    "# или кортежа\n",
    "arr = np.array((0, 1, 2, 3, 4, 5, 6, 7, 8, 9))\n",
    "arr"
   ]
  },
  {
   "cell_type": "markdown",
   "metadata": {
    "id": "xTN_Etcv5EUM"
   },
   "source": [
    "#### Функция np.arange()"
   ]
  },
  {
   "cell_type": "code",
   "execution_count": null,
   "metadata": {
    "colab": {
     "base_uri": "https://localhost:8080/"
    },
    "id": "7m8RmMp_WfV1",
    "outputId": "f259c58f-638d-4f2c-960e-46eb537d6b95"
   },
   "outputs": [
    {
     "data": {
      "text/plain": [
       "array([0, 1, 2, 3, 4, 5, 6, 7, 8, 9])"
      ]
     },
     "execution_count": 4,
     "metadata": {},
     "output_type": "execute_result"
    }
   ],
   "source": [
    "# аналог функции range() для списков\n",
    "# верхняя граница (не входит в последовательность) является обязательным параметром\n",
    "arr = np.arange(10)\n",
    "arr"
   ]
  },
  {
   "cell_type": "code",
   "execution_count": null,
   "metadata": {
    "colab": {
     "base_uri": "https://localhost:8080/"
    },
    "id": "pvAYZNQq7vdW",
    "outputId": "3a7c939c-e94b-4ca6-df3e-7c47eace8222"
   },
   "outputs": [
    {
     "data": {
      "text/plain": [
       "array([2, 4, 6, 8])"
      ]
     },
     "execution_count": 5,
     "metadata": {},
     "output_type": "execute_result"
    }
   ],
   "source": [
    "# нижняя граница и шаг не являются обязательными\n",
    "arr = np.arange(2, 10, 2)\n",
    "\n",
    "# при использовании функции print() исчезают запятые\n",
    "arr"
   ]
  },
  {
   "cell_type": "code",
   "execution_count": null,
   "metadata": {
    "colab": {
     "base_uri": "https://localhost:8080/",
     "height": 183
    },
    "id": "jXvlU2O7fn2b",
    "outputId": "df9acac7-f0c8-4fc3-9e27-af5f19db18ec"
   },
   "outputs": [
    {
     "ename": "TypeError",
     "evalue": "ignored",
     "output_type": "error",
     "traceback": [
      "\u001b[0;31m---------------------------------------------------------------------------\u001b[0m",
      "\u001b[0;31mTypeError\u001b[0m                                 Traceback (most recent call last)",
      "\u001b[0;32m<ipython-input-6-6d5b2dabb5dd>\u001b[0m in \u001b[0;36m<module>\u001b[0;34m()\u001b[0m\n\u001b[1;32m      1\u001b[0m \u001b[0;31m# range() отличается тем, что тип float не допускается\u001b[0m\u001b[0;34m\u001b[0m\u001b[0;34m\u001b[0m\u001b[0;34m\u001b[0m\u001b[0m\n\u001b[0;32m----> 2\u001b[0;31m \u001b[0mlist\u001b[0m\u001b[0;34m(\u001b[0m\u001b[0mrange\u001b[0m\u001b[0;34m(\u001b[0m\u001b[0;36m2\u001b[0m\u001b[0;34m,\u001b[0m \u001b[0;36m5.5\u001b[0m\u001b[0;34m,\u001b[0m \u001b[0;36m0.5\u001b[0m\u001b[0;34m)\u001b[0m\u001b[0;34m)\u001b[0m\u001b[0;34m\u001b[0m\u001b[0;34m\u001b[0m\u001b[0m\n\u001b[0m",
      "\u001b[0;31mTypeError\u001b[0m: 'float' object cannot be interpreted as an integer"
     ]
    }
   ],
   "source": [
    "# range() отличается тем, что тип float не допускается\n",
    "list(range(2, 5.5, 0.5))"
   ]
  },
  {
   "cell_type": "code",
   "execution_count": null,
   "metadata": {
    "colab": {
     "base_uri": "https://localhost:8080/"
    },
    "id": "iHWwIbO79gYb",
    "outputId": "89febd0b-8332-4aff-b1b6-d761b9bed040"
   },
   "outputs": [
    {
     "data": {
      "text/plain": [
       "array([2. , 2.5, 3. , 3.5, 4. , 4.5, 5. ])"
      ]
     },
     "execution_count": 7,
     "metadata": {},
     "output_type": "execute_result"
    }
   ],
   "source": [
    "np.arange(2, 5.5, 0.5)"
   ]
  },
  {
   "cell_type": "markdown",
   "metadata": {
    "id": "4rqtyGhIlMY0"
   },
   "source": [
    "#### Тип данных элементов массива"
   ]
  },
  {
   "cell_type": "code",
   "execution_count": null,
   "metadata": {
    "colab": {
     "base_uri": "https://localhost:8080/"
    },
    "id": "_8ep8dl-XYmd",
    "outputId": "430ba18b-f5c6-4c40-cdc9-0e7939c951e7"
   },
   "outputs": [
    {
     "name": "stdout",
     "output_type": "stream",
     "text": [
      "[0. 1. 2. 3. 4. 5. 6. 7. 8. 9.]\n",
      "float64\n"
     ]
    }
   ],
   "source": [
    "# хотя Numpy сам подбирает тип данных, его можно указать принудительно\n",
    "arr_f = np.array([0, 1, 2, 3, 4, 5, 6, 7, 8, 9], float)\n",
    "\n",
    "# выведем массив с типом данных float\n",
    "print(arr_f)\n",
    "\n",
    "# а также посмотрим на тип данных отдельного элемента через dtype\n",
    "print(arr_f.dtype)"
   ]
  },
  {
   "cell_type": "markdown",
   "metadata": {
    "id": "srNun-vzW8Ns"
   },
   "source": [
    "### Свойства (атрибуты) массива"
   ]
  },
  {
   "cell_type": "code",
   "execution_count": null,
   "metadata": {
    "colab": {
     "base_uri": "https://localhost:8080/"
    },
    "id": "OgCm8EQmCsBG",
    "outputId": "e4128865-d171-4998-ce83-6e1ba8fec8b3"
   },
   "outputs": [
    {
     "data": {
      "text/plain": [
       "array([2, 4, 6, 8])"
      ]
     },
     "execution_count": 9,
     "metadata": {},
     "output_type": "execute_result"
    }
   ],
   "source": [
    "# возьмем массив, который мы создали выше\n",
    "arr"
   ]
  },
  {
   "cell_type": "code",
   "execution_count": null,
   "metadata": {
    "colab": {
     "base_uri": "https://localhost:8080/"
    },
    "id": "RqrBwqN0W_Bh",
    "outputId": "102f8874-2ed2-4834-c1ef-229262b5aa4c"
   },
   "outputs": [
    {
     "data": {
      "text/plain": [
       "1"
      ]
     },
     "execution_count": 10,
     "metadata": {},
     "output_type": "execute_result"
    }
   ],
   "source": [
    "# ndim позволяет узнать количество измерений\n",
    "arr.ndim"
   ]
  },
  {
   "cell_type": "code",
   "execution_count": null,
   "metadata": {
    "colab": {
     "base_uri": "https://localhost:8080/"
    },
    "id": "KXLx5xBIXFrV",
    "outputId": "305d678a-c1bd-40fb-edf9-5e10d738e6cb"
   },
   "outputs": [
    {
     "data": {
      "text/plain": [
       "(4,)"
      ]
     },
     "execution_count": 11,
     "metadata": {},
     "output_type": "execute_result"
    }
   ],
   "source": [
    "# shape выводит количество элементов в каждом измерении\n",
    "arr.shape"
   ]
  },
  {
   "cell_type": "code",
   "execution_count": null,
   "metadata": {
    "colab": {
     "base_uri": "https://localhost:8080/"
    },
    "id": "ySepUZYCXJt2",
    "outputId": "31c16f42-6c66-4307-fcb7-a6fbe40e0e3f"
   },
   "outputs": [
    {
     "data": {
      "text/plain": [
       "4"
      ]
     },
     "execution_count": 12,
     "metadata": {},
     "output_type": "execute_result"
    }
   ],
   "source": [
    "# общее количество элементов во всех измерениях\n",
    "arr.size"
   ]
  },
  {
   "cell_type": "code",
   "execution_count": null,
   "metadata": {
    "colab": {
     "base_uri": "https://localhost:8080/"
    },
    "id": "3bfjG3tBXVpv",
    "outputId": "18492e4a-aed5-4187-a01f-75f878cc11af"
   },
   "outputs": [
    {
     "data": {
      "text/plain": [
       "dtype('int64')"
      ]
     },
     "execution_count": 13,
     "metadata": {},
     "output_type": "execute_result"
    }
   ],
   "source": [
    "# тип данных отдельного элемента\n",
    "# в нашем случае - это целое число длиной 64 бита\n",
    "arr.dtype"
   ]
  },
  {
   "cell_type": "code",
   "execution_count": null,
   "metadata": {
    "colab": {
     "base_uri": "https://localhost:8080/"
    },
    "id": "oc2nDHd4T9Ts",
    "outputId": "1b1def5b-afc3-4244-80d0-45b9db889b23"
   },
   "outputs": [
    {
     "data": {
      "text/plain": [
       "8"
      ]
     },
     "execution_count": 14,
     "metadata": {},
     "output_type": "execute_result"
    }
   ],
   "source": [
    "# размер в байтах (8 бит) одного элемента\n",
    "# 64 / 8 бит = 8 байтов\n",
    "arr.itemsize"
   ]
  },
  {
   "cell_type": "code",
   "execution_count": null,
   "metadata": {
    "colab": {
     "base_uri": "https://localhost:8080/"
    },
    "id": "js98UFM5MhK8",
    "outputId": "ba0806d7-f000-4d1c-f7ac-6e669b94399e"
   },
   "outputs": [
    {
     "data": {
      "text/plain": [
       "32"
      ]
     },
     "execution_count": 15,
     "metadata": {},
     "output_type": "execute_result"
    }
   ],
   "source": [
    "# общий размер массива в байтах (4 элемента х 8 байтов)\n",
    "# позволяет понять поместится ли массив в оперативную память или нет\n",
    "arr.nbytes"
   ]
  },
  {
   "cell_type": "code",
   "execution_count": null,
   "metadata": {
    "colab": {
     "base_uri": "https://localhost:8080/"
    },
    "id": "cWVeVAkwLyR7",
    "outputId": "9ffb16a6-535f-4895-e4c2-f4fb80d25dda"
   },
   "outputs": [
    {
     "data": {
      "text/plain": [
       "32"
      ]
     },
     "execution_count": 16,
     "metadata": {},
     "output_type": "execute_result"
    }
   ],
   "source": [
    "# того же результата можно добиться, \n",
    "# умножив общее количество элементов на размер одного элемента в байтах\n",
    "arr.size * arr.itemsize"
   ]
  },
  {
   "cell_type": "markdown",
   "metadata": {
    "id": "P_R5wQUfWEm8"
   },
   "source": [
    "### Измерения массива"
   ]
  },
  {
   "cell_type": "markdown",
   "metadata": {
    "id": "zaTwTdR34QRV"
   },
   "source": [
    "#### Массив с нулевым измерением"
   ]
  },
  {
   "cell_type": "code",
   "execution_count": null,
   "metadata": {
    "colab": {
     "base_uri": "https://localhost:8080/"
    },
    "id": "mziFGTgZ9JA1",
    "outputId": "b008820d-4894-4c96-f5bf-35a479907827"
   },
   "outputs": [
    {
     "data": {
      "text/plain": [
       "array(42)"
      ]
     },
     "execution_count": 17,
     "metadata": {},
     "output_type": "execute_result"
    }
   ],
   "source": [
    "# массив с нулевым измерением - это число (квадратные скобки не нужны)\n",
    "arr_0D = np.array(42)\n",
    "arr_0D"
   ]
  },
  {
   "cell_type": "code",
   "execution_count": null,
   "metadata": {
    "colab": {
     "base_uri": "https://localhost:8080/"
    },
    "id": "uXg0E8lHQQNu",
    "outputId": "bd417bf0-c59a-44c7-f2d7-fa2f83f15d00"
   },
   "outputs": [
    {
     "name": "stdout",
     "output_type": "stream",
     "text": [
      "0\n",
      "()\n",
      "1\n"
     ]
    }
   ],
   "source": [
    "# выведем измерения, элементы в каждом из них и общее количество элементов\n",
    "print(arr_0D.ndim)\n",
    "print(arr_0D.shape)\n",
    "print(arr_0D.size)"
   ]
  },
  {
   "cell_type": "markdown",
   "metadata": {
    "id": "5azGOwUd4T7G"
   },
   "source": [
    "#### Одномерный массив (вектор)"
   ]
  },
  {
   "cell_type": "code",
   "execution_count": null,
   "metadata": {
    "colab": {
     "base_uri": "https://localhost:8080/"
    },
    "id": "epa2EYJm9RCh",
    "outputId": "c2dcd199-8769-49c7-80da-660d55af4f0b"
   },
   "outputs": [
    {
     "data": {
      "text/plain": [
       "array([1, 2, 3])"
      ]
     },
     "execution_count": 19,
     "metadata": {},
     "output_type": "execute_result"
    }
   ],
   "source": [
    "# для создания одномерного массива (вектора) нужны одни квадратные скобки\n",
    "arr_1D = np.array([1, 2, 3])\n",
    "arr_1D"
   ]
  },
  {
   "cell_type": "code",
   "execution_count": null,
   "metadata": {
    "colab": {
     "base_uri": "https://localhost:8080/"
    },
    "id": "RChZYx_rOzuc",
    "outputId": "9f6693eb-9bd3-423c-cca6-e8ad2560ac0c"
   },
   "outputs": [
    {
     "name": "stdout",
     "output_type": "stream",
     "text": [
      "1\n",
      "(3,)\n",
      "3\n"
     ]
    }
   ],
   "source": [
    "# снова воспользуемся атрибутами массива\n",
    "print(arr_1D.ndim)\n",
    "print(arr_1D.shape)\n",
    "print(arr_1D.size)"
   ]
  },
  {
   "cell_type": "markdown",
   "metadata": {
    "id": "Sya65bVc4W_0"
   },
   "source": [
    "#### Двумерный массив (матрица)"
   ]
  },
  {
   "cell_type": "code",
   "execution_count": null,
   "metadata": {
    "colab": {
     "base_uri": "https://localhost:8080/"
    },
    "id": "fS1P0yHnWLg1",
    "outputId": "3f70b4e9-5673-4a8e-828e-8f3cad0e73c0"
   },
   "outputs": [
    {
     "data": {
      "text/plain": [
       "array([[1, 2, 3],\n",
       "       [4, 5, 6]])"
      ]
     },
     "execution_count": 21,
     "metadata": {},
     "output_type": "execute_result"
    }
   ],
   "source": [
    "# двумерный массив (матрица) - это одномерные массивы, \n",
    "# вложенные во вторые квадратные скобки\n",
    "arr_2D = np.array([[1, 2, 3], [4, 5, 6]])\n",
    "arr_2D"
   ]
  },
  {
   "cell_type": "code",
   "execution_count": null,
   "metadata": {
    "colab": {
     "base_uri": "https://localhost:8080/"
    },
    "id": "RjtoWsiwW3_m",
    "outputId": "7615c162-0e35-4ed5-932b-1960b3fca442"
   },
   "outputs": [
    {
     "name": "stdout",
     "output_type": "stream",
     "text": [
      "2\n",
      "(2, 3)\n",
      "6\n"
     ]
    }
   ],
   "source": [
    "print(arr_2D.ndim)\n",
    "print(arr_2D.shape)\n",
    "\n",
    "# атрибут size двумерного массива более интуитивно понятен\n",
    "# в данном случае два элемента одного измерения умножены на три элемента второго\n",
    "print(arr_2D.size)"
   ]
  },
  {
   "cell_type": "code",
   "execution_count": null,
   "metadata": {
    "colab": {
     "base_uri": "https://localhost:8080/"
    },
    "id": "jDHqphcuPAJj",
    "outputId": "7e92825c-f3fb-411d-bb4f-eac77aee644f"
   },
   "outputs": [
    {
     "data": {
      "text/plain": [
       "array([[1],\n",
       "       [2],\n",
       "       [3]])"
      ]
     },
     "execution_count": 23,
     "metadata": {},
     "output_type": "execute_result"
    }
   ],
   "source": [
    "# такая матрица имеет три строки с один элементом в каждой\n",
    "column = np.array([[1], [2], [3]])\n",
    "column"
   ]
  },
  {
   "cell_type": "code",
   "execution_count": null,
   "metadata": {
    "colab": {
     "base_uri": "https://localhost:8080/"
    },
    "id": "es7zQS9oPtXh",
    "outputId": "4c0b0fce-6f1f-477c-8e9e-77ee1845ab0e"
   },
   "outputs": [
    {
     "data": {
      "text/plain": [
       "(3, 1)"
      ]
     },
     "execution_count": 24,
     "metadata": {},
     "output_type": "execute_result"
    }
   ],
   "source": [
    "# посмотрим на размерность\n",
    "column.shape"
   ]
  },
  {
   "cell_type": "code",
   "execution_count": null,
   "metadata": {
    "colab": {
     "base_uri": "https://localhost:8080/"
    },
    "id": "IaY7z3pwPO9C",
    "outputId": "6f3497ca-903a-431c-f616-c468faaa4c9b"
   },
   "outputs": [
    {
     "data": {
      "text/plain": [
       "array([[1, 2, 3]])"
      ]
     },
     "execution_count": 25,
     "metadata": {},
     "output_type": "execute_result"
    }
   ],
   "source": [
    "# в этой наоборот, только одна строка с тремя элементами\n",
    "row = np.array([[1, 2, 3]])\n",
    "row"
   ]
  },
  {
   "cell_type": "code",
   "execution_count": null,
   "metadata": {
    "colab": {
     "base_uri": "https://localhost:8080/"
    },
    "id": "8_58yDDEU8lm",
    "outputId": "c3dc35ce-ed28-4e31-f369-ef8db1dc11ac"
   },
   "outputs": [
    {
     "data": {
      "text/plain": [
       "(1, 3)"
      ]
     },
     "execution_count": 26,
     "metadata": {},
     "output_type": "execute_result"
    }
   ],
   "source": [
    "# размерность будет иной\n",
    "row.shape"
   ]
  },
  {
   "cell_type": "markdown",
   "metadata": {
    "id": "fnBErM7T4bga"
   },
   "source": [
    "#### Трехмерный массив"
   ]
  },
  {
   "cell_type": "code",
   "execution_count": null,
   "metadata": {
    "colab": {
     "base_uri": "https://localhost:8080/"
    },
    "id": "Um2TRCK6Z0ki",
    "outputId": "266877a1-f44a-40f1-8938-1174b0102229"
   },
   "outputs": [
    {
     "data": {
      "text/plain": [
       "array([[[ 0,  1,  2],\n",
       "        [ 3,  4,  5]],\n",
       "\n",
       "       [[ 6,  7,  8],\n",
       "        [ 9, 10, 11]]])"
      ]
     },
     "execution_count": 27,
     "metadata": {},
     "output_type": "execute_result"
    }
   ],
   "source": [
    "# np.arange(), как мы уже видели выше, создаст одномерный массив, \n",
    "# а np.reshape() распределит элементы по измерениям\n",
    "arr_3D = np.arange(12).reshape(2, 2, 3)\n",
    "arr_3D"
   ]
  },
  {
   "cell_type": "code",
   "execution_count": null,
   "metadata": {
    "colab": {
     "base_uri": "https://localhost:8080/"
    },
    "id": "h4RWzeXmZ8J6",
    "outputId": "2991f352-a563-422d-fa52-7fbd14207609"
   },
   "outputs": [
    {
     "name": "stdout",
     "output_type": "stream",
     "text": [
      "3\n",
      "(2, 2, 3)\n",
      "12\n"
     ]
    }
   ],
   "source": [
    "# выведем атрибуты\n",
    "print(arr_3D.ndim)\n",
    "print(arr_3D.shape)\n",
    "print(arr_3D.size)"
   ]
  },
  {
   "cell_type": "markdown",
   "metadata": {
    "id": "h509XfwIUesO"
   },
   "source": [
    "### Другие способы создания массивов"
   ]
  },
  {
   "cell_type": "markdown",
   "metadata": {
    "id": "aE392Jb8Hk6-"
   },
   "source": [
    "Функция np.zeros()"
   ]
  },
  {
   "cell_type": "code",
   "execution_count": null,
   "metadata": {
    "colab": {
     "base_uri": "https://localhost:8080/"
    },
    "id": "r5nHFPLpQC1D",
    "outputId": "1d4eef2e-ac2d-404a-ee4e-130ebcf0c3fa"
   },
   "outputs": [
    {
     "data": {
      "text/plain": [
       "array([0., 0., 0., 0., 0.])"
      ]
     },
     "execution_count": 38,
     "metadata": {},
     "output_type": "execute_result"
    }
   ],
   "source": [
    "# ей мы можем передать одно значение для создания одномерного массива, \n",
    "# заполненного нулями\n",
    "np.zeros(5)"
   ]
  },
  {
   "cell_type": "code",
   "execution_count": null,
   "metadata": {
    "colab": {
     "base_uri": "https://localhost:8080/"
    },
    "id": "JTb1Ig1k-_bo",
    "outputId": "35c569ef-7eff-4527-eec3-d6d151cb316e"
   },
   "outputs": [
    {
     "data": {
      "text/plain": [
       "array([[0., 0., 0.],\n",
       "       [0., 0., 0.]])"
      ]
     },
     "execution_count": 39,
     "metadata": {},
     "output_type": "execute_result"
    }
   ],
   "source": [
    "# или кортеж из чисел для указания количества нулей в каждом измерении\n",
    "np.zeros((2, 3))"
   ]
  },
  {
   "cell_type": "markdown",
   "metadata": {
    "id": "O-WXRu7mIQ62"
   },
   "source": [
    "Функция np.ones()"
   ]
  },
  {
   "cell_type": "code",
   "execution_count": null,
   "metadata": {
    "colab": {
     "base_uri": "https://localhost:8080/"
    },
    "id": "WdGlNjuzSvfL",
    "outputId": "11dd6379-9a62-4518-91eb-59f24cb54593"
   },
   "outputs": [
    {
     "data": {
      "text/plain": [
       "array([[[1., 1., 1.],\n",
       "        [1., 1., 1.]],\n",
       "\n",
       "       [[1., 1., 1.],\n",
       "        [1., 1., 1.]]])"
      ]
     },
     "execution_count": 40,
     "metadata": {},
     "output_type": "execute_result"
    }
   ],
   "source": [
    "# аналогично можно создать массив, заполненный единицами\n",
    "np.ones((2, 2, 3))"
   ]
  },
  {
   "cell_type": "markdown",
   "metadata": {
    "id": "U39nLsRDJKNK"
   },
   "source": [
    "Функция np.full()"
   ]
  },
  {
   "cell_type": "code",
   "execution_count": null,
   "metadata": {
    "colab": {
     "base_uri": "https://localhost:8080/"
    },
    "id": "7zQyai8dVarz",
    "outputId": "a5a33fb3-689e-4f3b-a807-89f9deae0109"
   },
   "outputs": [
    {
     "data": {
      "text/plain": [
       "array([[4, 4, 4],\n",
       "       [4, 4, 4]])"
      ]
     },
     "execution_count": 41,
     "metadata": {},
     "output_type": "execute_result"
    }
   ],
   "source": [
    "# создадим матрицу 2 х 3 и заполним ее цифрой четыре\n",
    "np.full((2, 3), 4)"
   ]
  },
  {
   "cell_type": "markdown",
   "metadata": {
    "id": "XfTmn-ptJQRq"
   },
   "source": [
    "Функция np.empty()"
   ]
  },
  {
   "cell_type": "code",
   "execution_count": null,
   "metadata": {
    "colab": {
     "base_uri": "https://localhost:8080/"
    },
    "id": "E2nagZxo5f3X",
    "outputId": "f836ee82-f155-4151-a6b7-cdc2d7c14da1"
   },
   "outputs": [
    {
     "data": {
      "text/plain": [
       "array([[4.67830757e-310, 0.00000000e+000],\n",
       "       [0.00000000e+000, 0.00000000e+000],\n",
       "       [0.00000000e+000, 0.00000000e+000]])"
      ]
     },
     "execution_count": 43,
     "metadata": {},
     "output_type": "execute_result"
    }
   ],
   "source": [
    "# создадим пустую матрицу 3 х 2\n",
    "np.empty((3, 2))"
   ]
  },
  {
   "cell_type": "markdown",
   "metadata": {
    "id": "xf3CFNnHIY0G"
   },
   "source": [
    "Функции np.zeros_like(), np.ones_like(), np.full_like(), np.empty_like()"
   ]
  },
  {
   "cell_type": "code",
   "execution_count": null,
   "metadata": {
    "colab": {
     "base_uri": "https://localhost:8080/"
    },
    "id": "0wfGgIEz4y-M",
    "outputId": "fdb50f7e-388f-4627-81a1-49de247861d3"
   },
   "outputs": [
    {
     "data": {
      "text/plain": [
       "array([[1, 2, 3],\n",
       "       [4, 5, 6]])"
      ]
     },
     "execution_count": 12,
     "metadata": {},
     "output_type": "execute_result"
    }
   ],
   "source": [
    "# создадим массив 2 x 3 с числами от 1 до 6\n",
    "a = np.arange(1, 7).reshape(2, 3)\n",
    "a"
   ]
  },
  {
   "cell_type": "code",
   "execution_count": null,
   "metadata": {
    "colab": {
     "base_uri": "https://localhost:8080/"
    },
    "id": "5pNjGqG8VvIz",
    "outputId": "c7731257-e028-49e6-d2cc-f1ace81307f0"
   },
   "outputs": [
    {
     "data": {
      "text/plain": [
       "array([[0, 0, 0],\n",
       "       [0, 0, 0]])"
      ]
     },
     "execution_count": 38,
     "metadata": {},
     "output_type": "execute_result"
    }
   ],
   "source": [
    "# превратим его в массив с нулями\n",
    "np.zeros_like(a)"
   ]
  },
  {
   "cell_type": "code",
   "execution_count": null,
   "metadata": {
    "colab": {
     "base_uri": "https://localhost:8080/"
    },
    "id": "PZvMI1P5V0Bq",
    "outputId": "c6ff60ed-4ac9-47e1-a07f-439898e49847"
   },
   "outputs": [
    {
     "data": {
      "text/plain": [
       "array([[1, 1, 1],\n",
       "       [1, 1, 1]])"
      ]
     },
     "execution_count": 39,
     "metadata": {},
     "output_type": "execute_result"
    }
   ],
   "source": [
    "# единицами\n",
    "np.ones_like(a)"
   ]
  },
  {
   "cell_type": "code",
   "execution_count": null,
   "metadata": {
    "colab": {
     "base_uri": "https://localhost:8080/"
    },
    "id": "i0yHlwAgJUzk",
    "outputId": "bfdad968-b946-46e5-9a15-b1b2728aa4b4"
   },
   "outputs": [
    {
     "data": {
      "text/plain": [
       "array([[2, 2, 2],\n",
       "       [2, 2, 2]])"
      ]
     },
     "execution_count": 40,
     "metadata": {},
     "output_type": "execute_result"
    }
   ],
   "source": [
    "# двойками\n",
    "np.full_like(a, 2)"
   ]
  },
  {
   "cell_type": "code",
   "execution_count": null,
   "metadata": {
    "colab": {
     "base_uri": "https://localhost:8080/"
    },
    "id": "96v3UMSuJhRH",
    "outputId": "5628d768-0299-46a9-8ba3-8e88feb42bdb"
   },
   "outputs": [
    {
     "data": {
      "text/plain": [
       "array([[94382026318352,              0,              0],\n",
       "       [             0,              0,              0]])"
      ]
     },
     "execution_count": 42,
     "metadata": {},
     "output_type": "execute_result"
    }
   ],
   "source": [
    "# и пустыми значениями\n",
    "np.empty_like(a)"
   ]
  },
  {
   "cell_type": "markdown",
   "metadata": {
    "id": "zSv8QWc7J9Pw"
   },
   "source": [
    "Функция np.linspspace()"
   ]
  },
  {
   "cell_type": "code",
   "execution_count": null,
   "metadata": {
    "colab": {
     "base_uri": "https://localhost:8080/"
    },
    "id": "DALGWhEq7nuE",
    "outputId": "dd0e031d-b34e-4d67-ed00-1ca524a78245"
   },
   "outputs": [
    {
     "data": {
      "text/plain": [
       "array([0. , 0.1, 0.2, 0.3, 0.4, 0.5, 0.6, 0.7, 0.8, 0.9])"
      ]
     },
     "execution_count": 43,
     "metadata": {},
     "output_type": "execute_result"
    }
   ],
   "source": [
    "# создадим диапазон от 0 до 0,9 и\n",
    "# разделим его на десять точек, включая 0 и 0,9\n",
    "np.linspace(0, 0.9, 10)"
   ]
  },
  {
   "cell_type": "code",
   "execution_count": null,
   "metadata": {
    "colab": {
     "base_uri": "https://localhost:8080/"
    },
    "id": "2BuvXAiOhauQ",
    "outputId": "b30573b1-a4ab-48d9-f9c3-03251ed8db66"
   },
   "outputs": [
    {
     "data": {
      "text/plain": [
       "array([0. , 0.1, 0.2, 0.3, 0.4, 0.5, 0.6, 0.7, 0.8, 0.9])"
      ]
     },
     "execution_count": 11,
     "metadata": {},
     "output_type": "execute_result"
    }
   ],
   "source": [
    "# сравните с np.arange (здесь мы указываем шаг)\n",
    "np.arange(0, 1, 0.1)"
   ]
  },
  {
   "cell_type": "code",
   "execution_count": null,
   "metadata": {
    "colab": {
     "base_uri": "https://localhost:8080/",
     "height": 392
    },
    "id": "q-k6f1RfHVb8",
    "outputId": "571ce8a8-871a-42ca-e30e-a4d33070f331"
   },
   "outputs": [
    {
     "data": {
      "image/png": "[encoded data removed]",
      "text/plain": [
       "<Figure size 576x432 with 1 Axes>"
      ]
     },
     "metadata": {
      "needs_background": "light"
     },
     "output_type": "display_data"
    }
   ],
   "source": [
    "# импортируем библиотеку matplotlib\n",
    "import matplotlib.pyplot as plt\n",
    "\n",
    "# зададим размер графика в дюймах\n",
    "plt.figure(figsize = (8, 6))\n",
    "\n",
    "# зададим интервал, например, от -5 до 5 и сформируем на нем 5000 точек\n",
    "# это будут наши координаты по оси x\n",
    "x = np.linspace(-5, 5, 5000)\n",
    "\n",
    "# по оси y отложим квадрат этих точек\n",
    "y = x ** 2\n",
    "\n",
    "# создадим сетку\n",
    "plt.grid()\n",
    "\n",
    "# выведем кривую и подписи на графике\n",
    "plt.plot(x, y)\n",
    "plt.xlabel('x', fontsize = 14)\n",
    "plt.ylabel('y', fontsize = 14)\n",
    "\n",
    "# результатом будет парабола\n",
    "plt.show()"
   ]
  },
  {
   "cell_type": "code",
   "execution_count": null,
   "metadata": {
    "colab": {
     "base_uri": "https://localhost:8080/"
    },
    "id": "BLKcZRmBU35X",
    "outputId": "c13f1834-8882-46e3-fbeb-e9f20e310a64"
   },
   "outputs": [
    {
     "data": {
      "text/plain": [
       "array([-5.       , -4.9979996, -4.9959992, -4.9939988, -4.9919984,\n",
       "       -4.989998 , -4.9879976, -4.9859972, -4.9839968, -4.9819964])"
      ]
     },
     "execution_count": 14,
     "metadata": {},
     "output_type": "execute_result"
    }
   ],
   "source": [
    "# в качестве примера выведем первые десять точек,\n",
    "# созданные функцией np.linspace()\n",
    "x[:10]"
   ]
  },
  {
   "cell_type": "markdown",
   "metadata": {
    "id": "itXoryh5KI9A"
   },
   "source": [
    "Функции np.random.rand() и np.random.randint()"
   ]
  },
  {
   "cell_type": "code",
   "execution_count": null,
   "metadata": {
    "colab": {
     "base_uri": "https://localhost:8080/"
    },
    "id": "x_rMDmPcezrW",
    "outputId": "e5178d5b-2a8f-4321-b5f2-067fadc12c44"
   },
   "outputs": [
    {
     "data": {
      "text/plain": [
       "array([[0.13506003, 0.50671081, 0.48772983],\n",
       "       [0.93478513, 0.31008048, 0.96621122],\n",
       "       [0.7404316 , 0.81168816, 0.94700116],\n",
       "       [0.18212183, 0.92247344, 0.2120635 ]])"
      ]
     },
     "execution_count": 2,
     "metadata": {},
     "output_type": "execute_result"
    }
   ],
   "source": [
    "# создадим массив заданной размерности, заполненный числами\n",
    "# в интервале [0, 1)\n",
    "np.random.rand(4, 3)"
   ]
  },
  {
   "cell_type": "code",
   "execution_count": null,
   "metadata": {
    "colab": {
     "base_uri": "https://localhost:8080/"
    },
    "id": "t7b_gs7kTfcX",
    "outputId": "c6892221-8f1b-47e5-8b53-1abe9ca38e9b"
   },
   "outputs": [
    {
     "data": {
      "text/plain": [
       "array([[[-1,  0],\n",
       "        [-1,  2],\n",
       "        [-1, -1]],\n",
       "\n",
       "       [[-2,  0],\n",
       "        [ 0,  0],\n",
       "        [-2,  1]]])"
      ]
     },
     "execution_count": 5,
     "metadata": {},
     "output_type": "execute_result"
    }
   ],
   "source": [
    "# создадим массив целых чисел в заданном диапазоне \n",
    "# (верхняя граница в него не входит)\n",
    "# и с заданной размерностью\n",
    "np.random.randint(-3, 3, size = (2, 3, 2))"
   ]
  },
  {
   "cell_type": "markdown",
   "metadata": {
    "id": "QNwLPsETXLB9"
   },
   "source": [
    "np.fromfunction()"
   ]
  },
  {
   "cell_type": "code",
   "execution_count": null,
   "metadata": {
    "id": "SB2LUN9jlauX"
   },
   "outputs": [],
   "source": [
    "# создадим собственную функцию, которая принимает два числа\n",
    "# и возводит первое число в степень второго\n",
    "def power(i, j):\n",
    "    return i ** j"
   ]
  },
  {
   "cell_type": "code",
   "execution_count": null,
   "metadata": {
    "colab": {
     "base_uri": "https://localhost:8080/"
    },
    "id": "fCHY1lRbkxCP",
    "outputId": "09406753-a304-4841-9fa0-56a3da86af76"
   },
   "outputs": [
    {
     "name": "stdout",
     "output_type": "stream",
     "text": [
      "[[1. 0. 0.]\n",
      " [1. 1. 1.]\n",
      " [1. 2. 4.]]\n"
     ]
    }
   ],
   "source": [
    "# применим эту функцию к каждой ячейке массива 3 x 3\n",
    "np.fromfunction(power, (3, 3))"
   ]
  },
  {
   "cell_type": "code",
   "execution_count": null,
   "metadata": {
    "colab": {
     "base_uri": "https://localhost:8080/"
    },
    "id": "BTNYb7dAlKDI",
    "outputId": "e18c7c2b-fe44-46ee-87a8-31ac0dd7e844"
   },
   "outputs": [
    {
     "data": {
      "text/plain": [
       "array([[ True, False, False],\n",
       "       [False,  True, False],\n",
       "       [False, False,  True]])"
      ]
     },
     "execution_count": 24,
     "metadata": {},
     "output_type": "execute_result"
    }
   ],
   "source": [
    "# также можно передать lambda-функцию, которая проверяет равенство двух чисел\n",
    "np.fromfunction(lambda i, j : i == j, (3, 3))"
   ]
  },
  {
   "cell_type": "markdown",
   "metadata": {
    "id": "ngd7-nTPlsE4"
   },
   "source": [
    "Матрица в формате csr и метод .toarray()"
   ]
  },
  {
   "cell_type": "code",
   "execution_count": null,
   "metadata": {
    "colab": {
     "base_uri": "https://localhost:8080/"
    },
    "id": "zBVZ-vMPogvd",
    "outputId": "c4281778-f890-4dda-b811-62e95842b55a"
   },
   "outputs": [
    {
     "data": {
      "text/plain": [
       "array([[2, 0, 0, 1, 0, 0, 0],\n",
       "       [0, 0, 3, 0, 0, 2, 0],\n",
       "       [0, 0, 0, 1, 0, 0, 0]])"
      ]
     },
     "execution_count": 34,
     "metadata": {},
     "output_type": "execute_result"
    }
   ],
   "source": [
    "# создадим матрицу с преобладанием нулевых значений\n",
    "A = np.array([[2, 0, 0, 1, 0, 0, 0], [0, 0, 3, 0, 0, 2, 0], [0, 0, 0, 1, 0, 0, 0]])\n",
    "A"
   ]
  },
  {
   "cell_type": "code",
   "execution_count": null,
   "metadata": {
    "colab": {
     "base_uri": "https://localhost:8080/"
    },
    "id": "T46-aB3Zyoa3",
    "outputId": "cd915bfd-f0a3-46e7-85f1-34e433996788"
   },
   "outputs": [
    {
     "data": {
      "text/plain": [
       "0.7619047619047619"
      ]
     },
     "execution_count": 44,
     "metadata": {},
     "output_type": "execute_result"
    }
   ],
   "source": [
    "# посчитаем долю нулевых значений\n",
    "1.0 - np.count_nonzero(A) / A.size"
   ]
  },
  {
   "cell_type": "code",
   "execution_count": null,
   "metadata": {
    "colab": {
     "base_uri": "https://localhost:8080/"
    },
    "id": "NburDJaKpTYS",
    "outputId": "93e0a070-3eef-4512-d60f-9b121b409f72"
   },
   "outputs": [
    {
     "name": "stdout",
     "output_type": "stream",
     "text": [
      "  (0, 0)\t2\n",
      "  (0, 3)\t1\n",
      "  (1, 2)\t3\n",
      "  (1, 5)\t2\n",
      "  (2, 3)\t1\n"
     ]
    }
   ],
   "source": [
    "# импортируем функцию csr_matrix()\n",
    "from scipy.sparse import csr_matrix\n",
    "\n",
    "# матрицу A удобно хранить в формате csr,\n",
    "B = csr_matrix(A)\n",
    "\n",
    "# где указывается положение ненулевого значения и само значение\n",
    "print(B)"
   ]
  },
  {
   "cell_type": "code",
   "execution_count": null,
   "metadata": {
    "colab": {
     "base_uri": "https://localhost:8080/"
    },
    "id": "-d2xgGl2tebr",
    "outputId": "2f36aa79-e616-495d-fcda-1f9d46a10eff"
   },
   "outputs": [
    {
     "data": {
      "text/plain": [
       "array([[2, 0, 0, 1, 0, 0, 0],\n",
       "       [0, 0, 3, 0, 0, 2, 0],\n",
       "       [0, 0, 0, 1, 0, 0, 0]], dtype=int64)"
      ]
     },
     "execution_count": 36,
     "metadata": {},
     "output_type": "execute_result"
    }
   ],
   "source": [
    "# восстановить массив Numpy можно с помощью метода .toarray()\n",
    "C = B.toarray()\n",
    "C"
   ]
  },
  {
   "cell_type": "markdown",
   "metadata": {
    "id": "rgTp32HFZd3d"
   },
   "source": [
    "### Индексы и срезы"
   ]
  },
  {
   "cell_type": "markdown",
   "metadata": {
    "id": "NYWHFhT-PjiU"
   },
   "source": [
    "#### Индекс элемента массива"
   ]
  },
  {
   "cell_type": "code",
   "execution_count": null,
   "metadata": {
    "colab": {
     "base_uri": "https://localhost:8080/"
    },
    "id": "1Vt97kwCUUV7",
    "outputId": "eb66c55a-a527-493b-b708-480279cb3f3e"
   },
   "outputs": [
    {
     "data": {
      "text/plain": [
       "array([[1, 2, 3],\n",
       "       [4, 5, 6]])"
      ]
     },
     "execution_count": 3,
     "metadata": {},
     "output_type": "execute_result"
    }
   ],
   "source": [
    "# рассмотрим двумерный массив\n",
    "a = np.array([[1, 2, 3], [4, 5, 6]])\n",
    "a"
   ]
  },
  {
   "cell_type": "code",
   "execution_count": null,
   "metadata": {
    "colab": {
     "base_uri": "https://localhost:8080/"
    },
    "id": "SCqhT3latpsC",
    "outputId": "d764ba22-b0ee-4894-c3b4-848b008da3c2"
   },
   "outputs": [
    {
     "data": {
      "text/plain": [
       "(2, 3)"
      ]
     },
     "execution_count": 10,
     "metadata": {},
     "output_type": "execute_result"
    }
   ],
   "source": [
    "# первое значение атрибута shape относится к внешнему измерению\n",
    "# второе - к внутреннему\n",
    "a.shape"
   ]
  },
  {
   "cell_type": "code",
   "execution_count": null,
   "metadata": {
    "colab": {
     "base_uri": "https://localhost:8080/"
    },
    "id": "ed9G4uzjUf0G",
    "outputId": "74b147f5-543a-466f-a9dc-ff93f2280b3e"
   },
   "outputs": [
    {
     "data": {
      "text/plain": [
       "array([1, 2, 3])"
      ]
     },
     "execution_count": 40,
     "metadata": {},
     "output_type": "execute_result"
    }
   ],
   "source": [
    "# выведем первый элемент внешнего измерения\n",
    "a[0]"
   ]
  },
  {
   "cell_type": "code",
   "execution_count": null,
   "metadata": {
    "colab": {
     "base_uri": "https://localhost:8080/"
    },
    "id": "vjR_aJIYUqSs",
    "outputId": "5df1fb34-8938-4ef2-d788-8a02b6b3191c"
   },
   "outputs": [
    {
     "data": {
      "text/plain": [
       "1"
      ]
     },
     "execution_count": 4,
     "metadata": {},
     "output_type": "execute_result"
    }
   ],
   "source": [
    "# второй индекс [0] позволяет обратиться\n",
    "# к элементам внутреннего измерения\n",
    "a[0][0]"
   ]
  },
  {
   "cell_type": "code",
   "execution_count": null,
   "metadata": {
    "colab": {
     "base_uri": "https://localhost:8080/"
    },
    "id": "qo6zLndJPLfq",
    "outputId": "a2e762ab-6161-4286-e38d-2d81591106c5"
   },
   "outputs": [
    {
     "data": {
      "text/plain": [
       "6"
      ]
     },
     "execution_count": 5,
     "metadata": {},
     "output_type": "execute_result"
    }
   ],
   "source": [
    "# выведем значение шесть\n",
    "a[1][2]"
   ]
  },
  {
   "cell_type": "markdown",
   "metadata": {
    "id": "Hcpiis-3PtPo"
   },
   "source": [
    "#### Срез массива"
   ]
  },
  {
   "cell_type": "markdown",
   "metadata": {
    "id": "Vt8Px4xyStn9"
   },
   "source": [
    "Массив 1D"
   ]
  },
  {
   "cell_type": "code",
   "execution_count": null,
   "metadata": {
    "colab": {
     "base_uri": "https://localhost:8080/"
    },
    "id": "k-qSMCTPPySo",
    "outputId": "0d22f2be-1298-486a-b0c0-48e80140d39a"
   },
   "outputs": [
    {
     "data": {
      "text/plain": [
       "array([1, 2, 3, 4, 5, 6, 7, 8])"
      ]
     },
     "execution_count": 2,
     "metadata": {},
     "output_type": "execute_result"
    }
   ],
   "source": [
    "# начнем с одномерного массива\n",
    "b = np.array([1, 2, 3, 4, 5, 6, 7, 8])\n",
    "b"
   ]
  },
  {
   "cell_type": "code",
   "execution_count": null,
   "metadata": {
    "colab": {
     "base_uri": "https://localhost:8080/"
    },
    "id": "hC_cUN1XW_pd",
    "outputId": "e6540d71-f26c-4891-8c39-39cb1410faa4"
   },
   "outputs": [
    {
     "data": {
      "text/plain": [
       "array([2, 4, 6])"
      ]
     },
     "execution_count": 3,
     "metadata": {},
     "output_type": "execute_result"
    }
   ],
   "source": [
    "# возьмем каждый второй элемент\n",
    "# в интервале с 1-го по 6-й индекс\n",
    "b[1:6:2]"
   ]
  },
  {
   "cell_type": "markdown",
   "metadata": {
    "id": "WAwm6TPkSxuO"
   },
   "source": [
    "Массив 2D"
   ]
  },
  {
   "cell_type": "code",
   "execution_count": null,
   "metadata": {
    "colab": {
     "base_uri": "https://localhost:8080/"
    },
    "id": "VKNeFhlPXH30",
    "outputId": "2a4180d5-bcdd-442d-c80f-22973cb21301"
   },
   "outputs": [
    {
     "data": {
      "text/plain": [
       "array([[1, 2, 3, 4],\n",
       "       [5, 6, 7, 8]])"
      ]
     },
     "execution_count": 4,
     "metadata": {},
     "output_type": "execute_result"
    }
   ],
   "source": [
    "# теперь возьмем двумерный массив\n",
    "c = np.array([[1, 2, 3, 4], [5, 6, 7, 8]])\n",
    "c"
   ]
  },
  {
   "cell_type": "code",
   "execution_count": null,
   "metadata": {
    "colab": {
     "base_uri": "https://localhost:8080/"
    },
    "id": "kpZdL8XBT2lI",
    "outputId": "dbb0bc15-6554-4f18-b395-b9158ca691c8"
   },
   "outputs": [
    {
     "data": {
      "text/plain": [
       "array([1, 2])"
      ]
     },
     "execution_count": 5,
     "metadata": {},
     "output_type": "execute_result"
    }
   ],
   "source": [
    "# сделаем срез из первой строки и первых двух столбцов\n",
    "c[0, :2]"
   ]
  },
  {
   "cell_type": "code",
   "execution_count": null,
   "metadata": {
    "colab": {
     "base_uri": "https://localhost:8080/"
    },
    "id": "fSnEYbxwTqUL",
    "outputId": "c30ba2eb-4eee-4c59-8011-4b54528c574c"
   },
   "outputs": [
    {
     "data": {
      "text/plain": [
       "array([2, 6])"
      ]
     },
     "execution_count": 6,
     "metadata": {},
     "output_type": "execute_result"
    }
   ],
   "source": [
    "# а теперь возьмем обе строки во втором столбце\n",
    "c[:, 1]"
   ]
  },
  {
   "cell_type": "code",
   "execution_count": null,
   "metadata": {
    "colab": {
     "base_uri": "https://localhost:8080/"
    },
    "id": "0g_79-O3U4H2",
    "outputId": "34dcde40-5bb1-4213-a75f-3595deaf447d"
   },
   "outputs": [
    {
     "data": {
      "text/plain": [
       "1"
      ]
     },
     "execution_count": 7,
     "metadata": {},
     "output_type": "execute_result"
    }
   ],
   "source": [
    "# выведем элемент в первой строке и первом столбце\n",
    "c[0, 0]"
   ]
  },
  {
   "cell_type": "code",
   "execution_count": null,
   "metadata": {
    "colab": {
     "base_uri": "https://localhost:8080/"
    },
    "id": "NULWFbsjU_Rs",
    "outputId": "53d2b36e-79bf-42c2-bbc6-19cbbfd9bcf3"
   },
   "outputs": [
    {
     "data": {
      "text/plain": [
       "8"
      ]
     },
     "execution_count": 8,
     "metadata": {},
     "output_type": "execute_result"
    }
   ],
   "source": [
    "# выведем элемент в последней строке и последнем столбце\n",
    "c[-1, -1]"
   ]
  },
  {
   "cell_type": "code",
   "execution_count": null,
   "metadata": {
    "colab": {
     "base_uri": "https://localhost:8080/"
    },
    "id": "ZaGgo5XOxbEr",
    "outputId": "74654d9f-03c3-428b-fb78-1adaf7c2fc31"
   },
   "outputs": [
    {
     "data": {
      "text/plain": [
       "array([5, 7])"
      ]
     },
     "execution_count": 9,
     "metadata": {},
     "output_type": "execute_result"
    }
   ],
   "source": [
    "# возьмем всю вторую строку и каждый второй столбец\n",
    "c[1, ::2]"
   ]
  },
  {
   "cell_type": "markdown",
   "metadata": {
    "id": "JjVlHDMIS1YX"
   },
   "source": [
    "Массив 3D"
   ]
  },
  {
   "cell_type": "code",
   "execution_count": null,
   "metadata": {
    "colab": {
     "base_uri": "https://localhost:8080/"
    },
    "id": "gzo23jLttFiZ",
    "outputId": "86330eab-83db-47d7-9904-d32aa2a1bb4b"
   },
   "outputs": [
    {
     "data": {
      "text/plain": [
       "array([[[ 0,  1],\n",
       "        [ 2,  3]],\n",
       "\n",
       "       [[ 4,  5],\n",
       "        [ 6,  7]],\n",
       "\n",
       "       [[ 8,  9],\n",
       "        [10, 11]],\n",
       "\n",
       "       [[12, 13],\n",
       "        [14, 15]]])"
      ]
     },
     "execution_count": 11,
     "metadata": {},
     "output_type": "execute_result"
    }
   ],
   "source": [
    "# создадим трехмерный массив\n",
    "d = np.arange(16).reshape(4, 2, -1)\n",
    "d"
   ]
  },
  {
   "cell_type": "code",
   "execution_count": null,
   "metadata": {
    "colab": {
     "base_uri": "https://localhost:8080/"
    },
    "id": "dNp3j4Ngw3yo",
    "outputId": "efe710c7-39f5-4322-9c47-4d73695813b5"
   },
   "outputs": [
    {
     "data": {
      "text/plain": [
       "10"
      ]
     },
     "execution_count": 12,
     "metadata": {},
     "output_type": "execute_result"
    }
   ],
   "source": [
    "# выведем значение 10\n",
    "d[2][1][0]"
   ]
  },
  {
   "cell_type": "code",
   "execution_count": null,
   "metadata": {
    "colab": {
     "base_uri": "https://localhost:8080/"
    },
    "id": "uX4WPUoTUMN_",
    "outputId": "3408c872-9f4f-4fe5-9175-18b7df8c4b37"
   },
   "outputs": [
    {
     "data": {
      "text/plain": [
       "array([[10, 11],\n",
       "       [14, 15]])"
      ]
     },
     "execution_count": 13,
     "metadata": {},
     "output_type": "execute_result"
    }
   ],
   "source": [
    "# выведем третью и четвертую матрицу [2:]\n",
    "# и в них вторую строку [1] и все столбцы [:]\n",
    "d[2:, 1, :]"
   ]
  },
  {
   "cell_type": "code",
   "execution_count": null,
   "metadata": {
    "colab": {
     "base_uri": "https://localhost:8080/"
    },
    "id": "iV14zN0Lxcbu",
    "outputId": "0acc1081-31c0-4c7d-b806-5bb17f36d700"
   },
   "outputs": [
    {
     "data": {
      "text/plain": [
       "array([[[0, 1],\n",
       "        [2, 3]],\n",
       "\n",
       "       [[4, 5],\n",
       "        [6, 7]]])"
      ]
     },
     "execution_count": 21,
     "metadata": {},
     "output_type": "execute_result"
    }
   ],
   "source": [
    "# выведем первые две матрицы массива\n",
    "d[:2]"
   ]
  },
  {
   "cell_type": "code",
   "execution_count": null,
   "metadata": {
    "colab": {
     "base_uri": "https://localhost:8080/"
    },
    "id": "kp0nMAmq_pPe",
    "outputId": "0af0ec02-91d9-4c18-99c4-f1677e13d760"
   },
   "outputs": [
    {
     "data": {
      "text/plain": [
       "array([[ 0,  1],\n",
       "       [ 4,  5],\n",
       "       [ 8,  9],\n",
       "       [12, 13]])"
      ]
     },
     "execution_count": 22,
     "metadata": {},
     "output_type": "execute_result"
    }
   ],
   "source": [
    "# выведем первые строки каждой матрицы\n",
    "d[:, 0, :]"
   ]
  },
  {
   "cell_type": "markdown",
   "metadata": {
    "id": "ZGtucKsnBvc3"
   },
   "source": [
    "### Оси массива"
   ]
  },
  {
   "cell_type": "markdown",
   "metadata": {
    "id": "__XESBNh7s0_"
   },
   "source": [
    "#### Массив 2D"
   ]
  },
  {
   "cell_type": "code",
   "execution_count": null,
   "metadata": {
    "colab": {
     "base_uri": "https://localhost:8080/"
    },
    "id": "kyupod4IBzzn",
    "outputId": "1b7285b6-ffbf-4a0f-bf3d-d599772387c8"
   },
   "outputs": [
    {
     "data": {
      "text/plain": [
       "array([[1, 2],\n",
       "       [3, 4]])"
      ]
     },
     "execution_count": 10,
     "metadata": {},
     "output_type": "execute_result"
    }
   ],
   "source": [
    "# обратимся к двумерному массиву\n",
    "arr_2D = np.array([[1, 2], [3, 4]])\n",
    "arr_2D"
   ]
  },
  {
   "cell_type": "code",
   "execution_count": null,
   "metadata": {
    "colab": {
     "base_uri": "https://localhost:8080/"
    },
    "id": "TxZjgULlENoZ",
    "outputId": "c70e36f1-5411-4444-bb8d-4f76795aa63f"
   },
   "outputs": [
    {
     "data": {
      "text/plain": [
       "(2, 2)"
      ]
     },
     "execution_count": 11,
     "metadata": {},
     "output_type": "execute_result"
    }
   ],
   "source": [
    "arr_2D.shape"
   ]
  },
  {
   "cell_type": "markdown",
   "metadata": {
    "id": "-IGUAfusJ7di"
   },
   "source": [
    "Сложение вдоль первой оси (axis = 0)"
   ]
  },
  {
   "cell_type": "code",
   "execution_count": null,
   "metadata": {
    "colab": {
     "base_uri": "https://localhost:8080/"
    },
    "id": "Fmgnj8ikB4i8",
    "outputId": "b51f8a59-39e6-4a79-8aee-7ffe30be12e8"
   },
   "outputs": [
    {
     "data": {
      "text/plain": [
       "array([4, 6])"
      ]
     },
     "execution_count": 12,
     "metadata": {},
     "output_type": "execute_result"
    }
   ],
   "source": [
    "# найдем сумму по столбцам (вдоль оси 0)\n",
    "np.sum(arr_2D, axis = 0)"
   ]
  },
  {
   "cell_type": "markdown",
   "metadata": {
    "id": "jFxAiXkRKJjW"
   },
   "source": [
    "Сложение вдоль второй оси (axis = 1)"
   ]
  },
  {
   "cell_type": "code",
   "execution_count": null,
   "metadata": {
    "colab": {
     "base_uri": "https://localhost:8080/"
    },
    "id": "bXtqyfpcCmO6",
    "outputId": "fadfe378-461e-44c8-9f6b-c981ff4b8eb3"
   },
   "outputs": [
    {
     "data": {
      "text/plain": [
       "array([3, 7])"
      ]
     },
     "execution_count": 13,
     "metadata": {},
     "output_type": "execute_result"
    }
   ],
   "source": [
    "# и сумму по строкам (вдоль оси 1)\n",
    "np.sum(arr_2D, axis = 1)"
   ]
  },
  {
   "cell_type": "markdown",
   "metadata": {
    "id": "ObrkD3rMKQuM"
   },
   "source": [
    "Сложение вдоль обеих осей (axis = (0, 1))"
   ]
  },
  {
   "cell_type": "code",
   "execution_count": null,
   "metadata": {
    "colab": {
     "base_uri": "https://localhost:8080/"
    },
    "id": "Xqr3GMkzC6Q1",
    "outputId": "ebdb32ad-df3b-4be7-fbd0-83a5a009fe87"
   },
   "outputs": [
    {
     "data": {
      "text/plain": [
       "10"
      ]
     },
     "execution_count": 14,
     "metadata": {},
     "output_type": "execute_result"
    }
   ],
   "source": [
    "# если передать кортеж с указанием обеих осей (0, 1)\n",
    "# сумма будет рассчитана вначале вдоль оси 0, затем вдоль оси 1\n",
    "np.sum(arr_2D, axis = (0, 1))"
   ]
  },
  {
   "cell_type": "code",
   "execution_count": null,
   "metadata": {
    "colab": {
     "base_uri": "https://localhost:8080/"
    },
    "id": "QHr6-c7qGMN_",
    "outputId": "46c61b82-25f1-4bd4-a362-daa8bc8c6ed0"
   },
   "outputs": [
    {
     "data": {
      "text/plain": [
       "10"
      ]
     },
     "execution_count": 15,
     "metadata": {},
     "output_type": "execute_result"
    }
   ],
   "source": [
    "# если ничего не указывать, сумма также будет рассчитана по всем элементам массива\n",
    "np.sum(arr_2D)"
   ]
  },
  {
   "cell_type": "code",
   "execution_count": null,
   "metadata": {
    "colab": {
     "base_uri": "https://localhost:8080/"
    },
    "id": "GiuTVmgCZsqd",
    "outputId": "6ccefef9-a77d-42f2-b7d4-9de583e56a00"
   },
   "outputs": [
    {
     "data": {
      "text/plain": [
       "10"
      ]
     },
     "execution_count": 16,
     "metadata": {},
     "output_type": "execute_result"
    }
   ],
   "source": [
    "# в этом случае под капотом стоит значение по умолчанию axis = None\n",
    "np.sum(arr_2D, axis = None)"
   ]
  },
  {
   "cell_type": "markdown",
   "metadata": {
    "id": "8-bynilMKe47"
   },
   "source": [
    "Отрицательные значения в параметре axis"
   ]
  },
  {
   "cell_type": "code",
   "execution_count": null,
   "metadata": {
    "colab": {
     "base_uri": "https://localhost:8080/"
    },
    "id": "MNzg2u6gx3EG",
    "outputId": "8971614f-5b7d-41e5-b8f3-e7f055a58f50"
   },
   "outputs": [
    {
     "data": {
      "text/plain": [
       "array([3, 7])"
      ]
     },
     "execution_count": 35,
     "metadata": {},
     "output_type": "execute_result"
    }
   ],
   "source": [
    "# axis = -1 соответствует последней оси массива, в данном случае, axis = 1\n",
    "np.sum(arr_2D, axis = -1)"
   ]
  },
  {
   "cell_type": "code",
   "execution_count": null,
   "metadata": {
    "colab": {
     "base_uri": "https://localhost:8080/"
    },
    "id": "mlXISFzyzWWK",
    "outputId": "b70552ff-c6a5-44d7-9951-37ac4f5a277a"
   },
   "outputs": [
    {
     "data": {
      "text/plain": [
       "array([4, 6])"
      ]
     },
     "execution_count": 36,
     "metadata": {},
     "output_type": "execute_result"
    }
   ],
   "source": [
    "# axis =-2 указывает на первую ось, то есть axis = 0\n",
    "np.sum(arr_2D, axis = -2)"
   ]
  },
  {
   "cell_type": "markdown",
   "metadata": {
    "id": "kOFFInXJ7zd6"
   },
   "source": [
    "#### Массив 3D"
   ]
  },
  {
   "cell_type": "code",
   "execution_count": null,
   "metadata": {
    "colab": {
     "base_uri": "https://localhost:8080/"
    },
    "id": "KoZxhwSX74QF",
    "outputId": "8700dc6a-1f95-4c57-b3a2-503e4dfb86ad"
   },
   "outputs": [
    {
     "data": {
      "text/plain": [
       "array([[[ 0,  1,  2],\n",
       "        [ 3,  4,  5]],\n",
       "\n",
       "       [[ 6,  7,  8],\n",
       "        [ 9, 10, 11]]])"
      ]
     },
     "execution_count": 3,
     "metadata": {},
     "output_type": "execute_result"
    }
   ],
   "source": [
    "# обратимся к трехмерному массиву\n",
    "arr_3D = np.arange(12).reshape(2, 2, 3)\n",
    "arr_3D"
   ]
  },
  {
   "cell_type": "markdown",
   "metadata": {
    "id": "YT1t3Gu1KlcX"
   },
   "source": [
    "Сложение вдоль первой оси (axis = 0)"
   ]
  },
  {
   "cell_type": "code",
   "execution_count": null,
   "metadata": {
    "colab": {
     "base_uri": "https://localhost:8080/"
    },
    "id": "7U9erpuw3lji",
    "outputId": "4005b34d-2ddc-433c-b652-80f5a740d066"
   },
   "outputs": [
    {
     "data": {
      "text/plain": [
       "array([[ 6,  8, 10],\n",
       "       [12, 14, 16]])"
      ]
     },
     "execution_count": 4,
     "metadata": {},
     "output_type": "execute_result"
    }
   ],
   "source": [
    "# применим np.sum() с параметром axis = 0\n",
    "np.sum(arr_3D, axis = 0)"
   ]
  },
  {
   "cell_type": "code",
   "execution_count": null,
   "metadata": {
    "colab": {
     "base_uri": "https://localhost:8080/"
    },
    "id": "vkoHAkYB4krO",
    "outputId": "d8c9a239-0607-422b-d10c-b5a7697ab288"
   },
   "outputs": [
    {
     "data": {
      "text/plain": [
       "array([[0, 1, 2],\n",
       "       [3, 4, 5]])"
      ]
     },
     "execution_count": 5,
     "metadata": {},
     "output_type": "execute_result"
    }
   ],
   "source": [
    "# теперь возьмем первую матрицу\n",
    "arr_3D[0]"
   ]
  },
  {
   "cell_type": "code",
   "execution_count": null,
   "metadata": {
    "colab": {
     "base_uri": "https://localhost:8080/"
    },
    "id": "ohasOJz5GylS",
    "outputId": "2ab3951b-10ed-4342-ba83-475497ba3574"
   },
   "outputs": [
    {
     "data": {
      "text/plain": [
       "array([[ 6,  7,  8],\n",
       "       [ 9, 10, 11]])"
      ]
     },
     "execution_count": 6,
     "metadata": {},
     "output_type": "execute_result"
    }
   ],
   "source": [
    "# возьмем вторую матрицу\n",
    "arr_3D[1]"
   ]
  },
  {
   "cell_type": "code",
   "execution_count": null,
   "metadata": {
    "colab": {
     "base_uri": "https://localhost:8080/"
    },
    "id": "1uc6iXivG2db",
    "outputId": "9c3d23c3-40af-4f41-9acd-6283d8750b6b"
   },
   "outputs": [
    {
     "data": {
      "text/plain": [
       "array([[ 6,  8, 10],\n",
       "       [12, 14, 16]])"
      ]
     },
     "execution_count": 7,
     "metadata": {},
     "output_type": "execute_result"
    }
   ],
   "source": [
    "# и поэлементно сложим их\n",
    "arr_3D[0] + arr_3D[1]"
   ]
  },
  {
   "cell_type": "code",
   "execution_count": null,
   "metadata": {
    "colab": {
     "base_uri": "https://localhost:8080/"
    },
    "id": "HwxOebzSJj49",
    "outputId": "194f3c98-e2af-4079-afca-8b84278a5959"
   },
   "outputs": [
    {
     "data": {
      "text/plain": [
       "array([[ 6.,  8., 10.],\n",
       "       [12., 14., 16.]])"
      ]
     },
     "execution_count": 15,
     "metadata": {},
     "output_type": "execute_result"
    }
   ],
   "source": [
    "# то же самое можно реализовать через цикл for\n",
    "\n",
    "# создадим нулевую матрицу размером 2 x 3\n",
    "total = np.zeros((2, 3))\n",
    "\n",
    "# создадим цикл из двух итераций\n",
    "for i in range(2):\n",
    "\n",
    "  # на первой итерации запишем в нулевой массив первую матрицу,\n",
    "  # а затем прибавим к ней вторую\n",
    "    total += arr_3D[i]\n",
    "\n",
    "total"
   ]
  },
  {
   "cell_type": "markdown",
   "metadata": {
    "id": "3OHYIM4GKtwV"
   },
   "source": [
    "Сложение вдоль второй оси (axis = 1)"
   ]
  },
  {
   "cell_type": "code",
   "execution_count": null,
   "metadata": {
    "colab": {
     "base_uri": "https://localhost:8080/"
    },
    "id": "nIeZkT8A7_Fj",
    "outputId": "eb41ece4-a7a3-4267-b388-290fcbbbc542"
   },
   "outputs": [
    {
     "data": {
      "text/plain": [
       "array([[ 3,  5,  7],\n",
       "       [15, 17, 19]])"
      ]
     },
     "execution_count": 9,
     "metadata": {},
     "output_type": "execute_result"
    }
   ],
   "source": [
    "# применим np.sum()\n",
    "np.sum(arr_3D, axis = 1)"
   ]
  },
  {
   "cell_type": "code",
   "execution_count": null,
   "metadata": {
    "colab": {
     "base_uri": "https://localhost:8080/"
    },
    "id": "l7qn51RWLIV9",
    "outputId": "6d811a7a-3c20-4c0b-ff3e-b087bf31fc16"
   },
   "outputs": [
    {
     "data": {
      "text/plain": [
       "array([3, 5, 7])"
      ]
     },
     "execution_count": 10,
     "metadata": {},
     "output_type": "execute_result"
    }
   ],
   "source": [
    "# сложим столбцы первой\n",
    "arr_3D[0][0] + arr_3D[0][1]"
   ]
  },
  {
   "cell_type": "code",
   "execution_count": null,
   "metadata": {
    "colab": {
     "base_uri": "https://localhost:8080/"
    },
    "id": "Klvv3A6RMkfS",
    "outputId": "19c4e49d-5bdc-4b20-9dcd-b6c1040abf77"
   },
   "outputs": [
    {
     "data": {
      "text/plain": [
       "array([15, 17, 19])"
      ]
     },
     "execution_count": 11,
     "metadata": {},
     "output_type": "execute_result"
    }
   ],
   "source": [
    "# и второй матрицы\n",
    "arr_3D[1][0] + arr_3D[1][1]"
   ]
  },
  {
   "cell_type": "code",
   "execution_count": null,
   "metadata": {
    "colab": {
     "base_uri": "https://localhost:8080/"
    },
    "id": "0l-g2FSjKznd",
    "outputId": "6316ed35-d3de-4ced-fd37-e50a3ed11fa3"
   },
   "outputs": [
    {
     "data": {
      "text/plain": [
       "array([[ 3.,  5.,  7.],\n",
       "       [15., 17., 19.]])"
      ]
     },
     "execution_count": 16,
     "metadata": {},
     "output_type": "execute_result"
    }
   ],
   "source": [
    "# создадим нулевую матрицу 2 x 3\n",
    "total = np.zeros((2, 3))\n",
    "\n",
    "# вначале пройдемся по матрицам\n",
    "for i in range(2):\n",
    "\n",
    "  # затем по строкам каждой матрицы\n",
    "  for j in range(2):\n",
    "\n",
    "    # и в первую строку total запишем сумму столбцов первой матрицы arr_3D,\n",
    "    # а во вторую - сумму столбцов второй матрицы\n",
    "    total[i] += arr_3D[i][j]\n",
    "\n",
    "total"
   ]
  },
  {
   "cell_type": "markdown",
   "metadata": {
    "id": "FlZ9BflvMu6H"
   },
   "source": [
    "Сложение вдоль третьей оси (axis = 2)"
   ]
  },
  {
   "cell_type": "code",
   "execution_count": null,
   "metadata": {
    "colab": {
     "base_uri": "https://localhost:8080/"
    },
    "id": "oSfFaWwaMyZC",
    "outputId": "806c2500-1b35-40fe-fd6c-382ab4a69f6a"
   },
   "outputs": [
    {
     "data": {
      "text/plain": [
       "array([[ 3, 12],\n",
       "       [21, 30]])"
      ]
     },
     "execution_count": 13,
     "metadata": {},
     "output_type": "execute_result"
    }
   ],
   "source": [
    "# применим np.sum()\n",
    "np.sum(arr_3D, axis = 2)"
   ]
  },
  {
   "cell_type": "code",
   "execution_count": null,
   "metadata": {
    "colab": {
     "base_uri": "https://localhost:8080/"
    },
    "id": "7KQ3voZNNiAP",
    "outputId": "447f6a4f-7d6c-421e-89c6-de155479ec75"
   },
   "outputs": [
    {
     "data": {
      "text/plain": [
       "3"
      ]
     },
     "execution_count": 70,
     "metadata": {},
     "output_type": "execute_result"
    }
   ],
   "source": [
    "# сложим элементы первой строки первой матрицы\n",
    "arr_3D[0][0][0] + arr_3D[0][0][1] + arr_3D[0][0][2]"
   ]
  },
  {
   "cell_type": "code",
   "execution_count": null,
   "metadata": {
    "colab": {
     "base_uri": "https://localhost:8080/"
    },
    "id": "rxRiuo2uN68S",
    "outputId": "1c51309d-9cc0-4781-83dd-b1a9b09ee264"
   },
   "outputs": [
    {
     "data": {
      "text/plain": [
       "12"
      ]
     },
     "execution_count": 71,
     "metadata": {},
     "output_type": "execute_result"
    }
   ],
   "source": [
    "# второй строки первой матрицы\n",
    "arr_3D[0][1][0] + arr_3D[0][1][1] + arr_3D[0][1][2]"
   ]
  },
  {
   "cell_type": "code",
   "execution_count": null,
   "metadata": {
    "colab": {
     "base_uri": "https://localhost:8080/"
    },
    "id": "ykcyLReqOC8w",
    "outputId": "78c0fc3f-7803-4816-d5fa-a342d5a36d0b"
   },
   "outputs": [
    {
     "data": {
      "text/plain": [
       "21"
      ]
     },
     "execution_count": 72,
     "metadata": {},
     "output_type": "execute_result"
    }
   ],
   "source": [
    "# первой строки второй матрицы\n",
    "arr_3D[1][0][0] + arr_3D[1][0][1] + arr_3D[1][0][2]"
   ]
  },
  {
   "cell_type": "code",
   "execution_count": null,
   "metadata": {
    "colab": {
     "base_uri": "https://localhost:8080/"
    },
    "id": "cNrSMakqONNQ",
    "outputId": "86f91ddb-6e26-4ca0-df74-44c29bc4352e"
   },
   "outputs": [
    {
     "data": {
      "text/plain": [
       "30"
      ]
     },
     "execution_count": 74,
     "metadata": {},
     "output_type": "execute_result"
    }
   ],
   "source": [
    "# второй строки второй матрицы\n",
    "arr_3D[1][1][0] + arr_3D[1][1][1] + arr_3D[1][1][2]"
   ]
  },
  {
   "cell_type": "code",
   "execution_count": null,
   "metadata": {
    "colab": {
     "base_uri": "https://localhost:8080/"
    },
    "id": "8qSiW9RCOZ6e",
    "outputId": "735eb0f1-db45-4bfe-ebb4-44232ce47978"
   },
   "outputs": [
    {
     "data": {
      "text/plain": [
       "array([[ 3., 12.],\n",
       "       [21., 30.]])"
      ]
     },
     "execution_count": 86,
     "metadata": {},
     "output_type": "execute_result"
    }
   ],
   "source": [
    "# создадим нулевой массив 2 x 2 для записи результатов\n",
    "total = np.zeros((2, 2))\n",
    "\n",
    "# пройдемся по матрицам\n",
    "for i in range(2):\n",
    "\n",
    "  # по строкам матрицы\n",
    "  for j in range(2):\n",
    "\n",
    "    # и по столбцам\n",
    "    for k in arr_3D[i][j]:\n",
    "\n",
    "      # индексы i, j запишут результат сложения элементов строк k\n",
    "      # в квадратную матрицу 2 x 2\n",
    "        total[i][j] += k\n",
    "\n",
    "total"
   ]
  },
  {
   "cell_type": "markdown",
   "metadata": {
    "id": "NJOn_OX4STxT"
   },
   "source": [
    "Сложение вдоль первой и второй осей (axis = (0, 1))"
   ]
  },
  {
   "cell_type": "code",
   "execution_count": null,
   "metadata": {
    "colab": {
     "base_uri": "https://localhost:8080/"
    },
    "id": "V5AFcjDZUZXr",
    "outputId": "3d1649e8-ef1c-4abf-8556-6656bfc0a178"
   },
   "outputs": [
    {
     "data": {
      "text/plain": [
       "array([18, 22, 26])"
      ]
     },
     "execution_count": 17,
     "metadata": {},
     "output_type": "execute_result"
    }
   ],
   "source": [
    "# применим функцию np.sum()\n",
    "np.sum(arr_3D, axis = (0, 1))"
   ]
  },
  {
   "cell_type": "code",
   "execution_count": null,
   "metadata": {
    "colab": {
     "base_uri": "https://localhost:8080/"
    },
    "id": "YH4jQsnPSts8",
    "outputId": "ab5ecfc3-13f2-4171-d7bc-fa8301bb9dcc"
   },
   "outputs": [
    {
     "data": {
      "text/plain": [
       "array([[ 6.,  8., 10.],\n",
       "       [12., 14., 16.]])"
      ]
     },
     "execution_count": 18,
     "metadata": {},
     "output_type": "execute_result"
    }
   ],
   "source": [
    "# при использовании двух циклов мы вначале складываем матрицы\n",
    "total_0 = np.zeros((2, 3))\n",
    "\n",
    "for i in range(2):\n",
    "    total_0 += arr_3D[i]\n",
    "\n",
    "total_0"
   ]
  },
  {
   "cell_type": "code",
   "execution_count": null,
   "metadata": {
    "colab": {
     "base_uri": "https://localhost:8080/"
    },
    "id": "_YR7xNRY1Go8",
    "outputId": "b1367d86-4367-47d9-daf2-d15d4e2ee002"
   },
   "outputs": [
    {
     "data": {
      "text/plain": [
       "array([18., 22., 26.])"
      ]
     },
     "execution_count": 19,
     "metadata": {},
     "output_type": "execute_result"
    }
   ],
   "source": [
    "# а затем столбцы этих матриц\n",
    "total_1 = np.zeros(3)\n",
    "\n",
    "for j in range(2):\n",
    "    total_1 += total_0[j]\n",
    "\n",
    "total_1"
   ]
  },
  {
   "cell_type": "code",
   "execution_count": null,
   "metadata": {
    "colab": {
     "base_uri": "https://localhost:8080/"
    },
    "id": "YfJuRNyaVUq2",
    "outputId": "674adde7-24ae-4ede-9acf-08d23f9f666d"
   },
   "outputs": [
    {
     "data": {
      "text/plain": [
       "array([18., 22., 26.])"
      ]
     },
     "execution_count": 104,
     "metadata": {},
     "output_type": "execute_result"
    }
   ],
   "source": [
    "total = np.zeros(3)\n",
    "\n",
    "# в двух циклах пройдемся по строкам каждой матрицы\n",
    "for i in range(2):\n",
    "    for j in range(2):\n",
    "\n",
    "    # и поэлементно сложим их\n",
    "        total += arr_3D[i][j]\n",
    "\n",
    "total"
   ]
  },
  {
   "cell_type": "markdown",
   "metadata": {
    "id": "_4FGHcALTiLi"
   },
   "source": [
    "Сложение вдоль всех трех осей (axis = (0, 1, 2))"
   ]
  },
  {
   "cell_type": "code",
   "execution_count": null,
   "metadata": {
    "colab": {
     "base_uri": "https://localhost:8080/"
    },
    "id": "fmyV8teqTppB",
    "outputId": "7470fcbf-49ab-4a71-87ed-c309c72fb4fd"
   },
   "outputs": [
    {
     "data": {
      "text/plain": [
       "66"
      ]
     },
     "execution_count": 21,
     "metadata": {},
     "output_type": "execute_result"
    }
   ],
   "source": [
    "np.sum(arr_3D, axis = (0, 1, 2))"
   ]
  },
  {
   "cell_type": "code",
   "execution_count": null,
   "metadata": {
    "colab": {
     "base_uri": "https://localhost:8080/"
    },
    "id": "qS-PIa-xg-F3",
    "outputId": "80a99001-b7ff-4e8d-8b3c-11c3a7af4e2d"
   },
   "outputs": [
    {
     "data": {
      "text/plain": [
       "66"
      ]
     },
     "execution_count": 22,
     "metadata": {},
     "output_type": "execute_result"
    }
   ],
   "source": [
    "np.sum(arr_3D)"
   ]
  },
  {
   "cell_type": "code",
   "execution_count": null,
   "metadata": {
    "colab": {
     "base_uri": "https://localhost:8080/"
    },
    "id": "fgpHst7TIgIV",
    "outputId": "a675c0ca-175d-4814-967e-ac414d17dcfa"
   },
   "outputs": [
    {
     "data": {
      "text/plain": [
       "66"
      ]
     },
     "execution_count": 77,
     "metadata": {},
     "output_type": "execute_result"
    }
   ],
   "source": [
    "total = 0\n",
    "\n",
    "# в трех вложенных циклах мы пройдемся по всем элементам массива\n",
    "for i in range(2):\n",
    "    for j in range(2):\n",
    "        for k in range(3):\n",
    "\n",
    "          # и запишем сумму этих элементов в переменную total\n",
    "          total += arr_3D[i][j][k]\n",
    "\n",
    "total"
   ]
  },
  {
   "cell_type": "markdown",
   "metadata": {
    "id": "fgA2VPOwZSpZ"
   },
   "source": [
    "### Операции с массивами"
   ]
  },
  {
   "cell_type": "markdown",
   "metadata": {
    "id": "_hsyRA1bCBWD"
   },
   "source": [
    "#### Функция len()"
   ]
  },
  {
   "cell_type": "code",
   "execution_count": null,
   "metadata": {
    "colab": {
     "base_uri": "https://localhost:8080/"
    },
    "id": "7xpKd_nBBkw2",
    "outputId": "f65b13d1-93f7-418e-f272-8235f426b71a"
   },
   "outputs": [
    {
     "data": {
      "text/plain": [
       "array([[[ 0,  1,  2],\n",
       "        [ 3,  4,  5]],\n",
       "\n",
       "       [[ 6,  7,  8],\n",
       "        [ 9, 10, 11]]])"
      ]
     },
     "execution_count": 2,
     "metadata": {},
     "output_type": "execute_result"
    }
   ],
   "source": [
    "# вновь возьмем трехмерный массив\n",
    "arr_3D = np.arange(12).reshape(2, 2, 3)\n",
    "arr_3D"
   ]
  },
  {
   "cell_type": "code",
   "execution_count": null,
   "metadata": {
    "colab": {
     "base_uri": "https://localhost:8080/"
    },
    "id": "dBaWPQ8EAAIC",
    "outputId": "0910c217-9880-4796-b668-88d9180d2c16"
   },
   "outputs": [
    {
     "data": {
      "text/plain": [
       "2"
      ]
     },
     "execution_count": 3,
     "metadata": {},
     "output_type": "execute_result"
    }
   ],
   "source": [
    "# по умолчанию функция len() выводит длину внешнего измерения\n",
    "# это внешние скобки, в которых содержатся две матрицы\n",
    "len(arr_3D)"
   ]
  },
  {
   "cell_type": "code",
   "execution_count": null,
   "metadata": {
    "colab": {
     "base_uri": "https://localhost:8080/"
    },
    "id": "vmOWiErJAZ1K",
    "outputId": "aabffc51-a959-4617-d447-d4f05f9694a8"
   },
   "outputs": [
    {
     "data": {
      "text/plain": [
       "3"
      ]
     },
     "execution_count": 4,
     "metadata": {},
     "output_type": "execute_result"
    }
   ],
   "source": [
    "# чтобы вывести длину внутреннего измерения, т.е. вектора из трех элементов,\n",
    "# нужно воспользоваться индексами\n",
    "len(arr_3D[0][0])"
   ]
  },
  {
   "cell_type": "markdown",
   "metadata": {
    "id": "XM6MaRtDQ9JS"
   },
   "source": [
    "#### Вхождение в массив"
   ]
  },
  {
   "cell_type": "code",
   "execution_count": null,
   "metadata": {
    "colab": {
     "base_uri": "https://localhost:8080/"
    },
    "id": "rl5B8DpZQ8nG",
    "outputId": "e7cc8366-bea8-4d1c-c828-263ccdd9e2a8"
   },
   "outputs": [
    {
     "data": {
      "text/plain": [
       "True"
      ]
     },
     "execution_count": 5,
     "metadata": {},
     "output_type": "execute_result"
    }
   ],
   "source": [
    "# проверим, входит ли значение 3 в массив arr_3D\n",
    "3 in arr_3D"
   ]
  },
  {
   "cell_type": "code",
   "execution_count": null,
   "metadata": {
    "colab": {
     "base_uri": "https://localhost:8080/"
    },
    "id": "6J3FVhfFRZmp",
    "outputId": "2b206fe2-8d6c-4a1a-c7c4-4b7fb35411bf"
   },
   "outputs": [
    {
     "data": {
      "text/plain": [
       "False"
      ]
     },
     "execution_count": 6,
     "metadata": {},
     "output_type": "execute_result"
    }
   ],
   "source": [
    "# проверим, не входит ли значение 11 в массив arr_3D\n",
    "11 not in arr_3D"
   ]
  },
  {
   "cell_type": "markdown",
   "metadata": {
    "id": "W8i50wrnIUWl"
   },
   "source": [
    "#### Распакова массива"
   ]
  },
  {
   "cell_type": "code",
   "execution_count": null,
   "metadata": {
    "colab": {
     "base_uri": "https://localhost:8080/"
    },
    "id": "C-1YKJLZIZXZ",
    "outputId": "31ab1a9e-a125-496e-b394-76f69c4f9b9c"
   },
   "outputs": [
    {
     "data": {
      "text/plain": [
       "array([[ 1,  2,  3,  4,  5,  6,  7,  8,  9],\n",
       "       [10, 11, 12, 13, 14, 15, 16, 17, 18],\n",
       "       [19, 20, 21, 22, 23, 24, 25, 26, 27]])"
      ]
     },
     "execution_count": 14,
     "metadata": {},
     "output_type": "execute_result"
    }
   ],
   "source": [
    "# возьмем матрицу из трех строк и девяти столбцов\n",
    "a = np.arange(1, 28).reshape(3, 9)\n",
    "a"
   ]
  },
  {
   "cell_type": "code",
   "execution_count": null,
   "metadata": {
    "colab": {
     "base_uri": "https://localhost:8080/"
    },
    "id": "Kdnv1BP6hDmz",
    "outputId": "16ebba0f-e557-4b7f-934b-1f9bec916cae"
   },
   "outputs": [
    {
     "data": {
      "text/plain": [
       "array([1, 2, 3, 4, 5, 6, 7, 8, 9])"
      ]
     },
     "execution_count": 17,
     "metadata": {},
     "output_type": "execute_result"
    }
   ],
   "source": [
    "# каждую строку можно распаковать в отдельную переменную\n",
    "x, y, z = a\n",
    "\n",
    "# выведем первую переменную (строку)\n",
    "x"
   ]
  },
  {
   "cell_type": "code",
   "execution_count": null,
   "metadata": {
    "colab": {
     "base_uri": "https://localhost:8080/"
    },
    "id": "MH5_vSynhr8t",
    "outputId": "ca3b8dff-e6c4-4005-834b-f997f951e3ea"
   },
   "outputs": [
    {
     "name": "stdout",
     "output_type": "stream",
     "text": [
      "1\n",
      "[2, 3, 4, 5, 6, 7, 8]\n",
      "9\n"
     ]
    }
   ],
   "source": [
    "# теперь распакуем первый, последний и остальные элементы \n",
    "# первой строки в отдельные переменные\n",
    "x, *y, z = a[0]\n",
    "\n",
    "# выведем каждую переменную\n",
    "print(x)\n",
    "print(y)\n",
    "print(z)"
   ]
  },
  {
   "cell_type": "markdown",
   "metadata": {
    "id": "R_4d85uRyrIA"
   },
   "source": [
    "#### Изменение элементов массива"
   ]
  },
  {
   "cell_type": "code",
   "execution_count": null,
   "metadata": {
    "colab": {
     "base_uri": "https://localhost:8080/"
    },
    "id": "0X12Qt4Oyukb",
    "outputId": "acb914c4-046f-40e4-8851-4948bc90233c"
   },
   "outputs": [
    {
     "data": {
      "text/plain": [
       "array([[1, 2, 3],\n",
       "       [4, 5, 6]])"
      ]
     },
     "execution_count": 20,
     "metadata": {},
     "output_type": "execute_result"
    }
   ],
   "source": [
    "# обратимся к двумерному массиву\n",
    "arr_2D = np.array([[1, 2, 3], [4, 5, 6]])\n",
    "arr_2D"
   ]
  },
  {
   "cell_type": "code",
   "execution_count": null,
   "metadata": {
    "colab": {
     "base_uri": "https://localhost:8080/"
    },
    "id": "bbJoLXWUy4Ra",
    "outputId": "17fff7f7-1b9c-4389-b0e8-e6103e1b036e"
   },
   "outputs": [
    {
     "data": {
      "text/plain": [
       "array([[2, 2, 3],\n",
       "       [4, 5, 6]])"
      ]
     },
     "execution_count": 21,
     "metadata": {},
     "output_type": "execute_result"
    }
   ],
   "source": [
    "# заменим первый элемент первой строки по его индексу\n",
    "arr_2D[0, 0] = 2\n",
    "arr_2D"
   ]
  },
  {
   "cell_type": "code",
   "execution_count": null,
   "metadata": {
    "colab": {
     "base_uri": "https://localhost:8080/"
    },
    "id": "mWrT49JnzBii",
    "outputId": "11208caf-9bf8-401c-c88d-9120893902b8"
   },
   "outputs": [
    {
     "data": {
      "text/plain": [
       "array([[1, 1, 1],\n",
       "       [4, 5, 6]])"
      ]
     },
     "execution_count": 22,
     "metadata": {},
     "output_type": "execute_result"
    }
   ],
   "source": [
    "# запишем значение 1 в первую строку\n",
    "arr_2D[0] = 1\n",
    "arr_2D"
   ]
  },
  {
   "cell_type": "code",
   "execution_count": null,
   "metadata": {
    "colab": {
     "base_uri": "https://localhost:8080/"
    },
    "id": "xctpzik00moR",
    "outputId": "51086296-259a-4696-b5c4-1c0861d06d22"
   },
   "outputs": [
    {
     "data": {
      "text/plain": [
       "array([[1, 1, 0, 1],\n",
       "       [5, 6, 0, 8]])"
      ]
     },
     "execution_count": 6,
     "metadata": {},
     "output_type": "execute_result"
    }
   ],
   "source": [
    "# запишем 0 в третий столбец массива\n",
    "arr_2D[:, 2] = 0\n",
    "arr_2D"
   ]
  },
  {
   "cell_type": "code",
   "execution_count": null,
   "metadata": {
    "colab": {
     "base_uri": "https://localhost:8080/"
    },
    "id": "xILTEo4lzKgS",
    "outputId": "0875e51c-2a03-4da1-cc21-4da8e227bb32"
   },
   "outputs": [
    {
     "data": {
      "text/plain": [
       "array([[[ 0,  1,  2],\n",
       "        [ 3,  4,  5]],\n",
       "\n",
       "       [[ 6,  7,  8],\n",
       "        [ 9, 10, 11]]])"
      ]
     },
     "execution_count": 2,
     "metadata": {},
     "output_type": "execute_result"
    }
   ],
   "source": [
    "# обратимся к трехмерному массиву\n",
    "arr_3D = np.arange(12).reshape(2, 2, 3)\n",
    "arr_3D"
   ]
  },
  {
   "cell_type": "code",
   "execution_count": null,
   "metadata": {
    "colab": {
     "base_uri": "https://localhost:8080/"
    },
    "id": "7vTRDmPaYUXH",
    "outputId": "305a35a2-4b44-4a42-84e6-f0c7c8842a23"
   },
   "outputs": [
    {
     "data": {
      "text/plain": [
       "array([[[ 0,  1,  2],\n",
       "        [ 3,  4,  5]],\n",
       "\n",
       "       [[ 6,  0,  8],\n",
       "        [ 9,  1, 11]]])"
      ]
     },
     "execution_count": 3,
     "metadata": {},
     "output_type": "execute_result"
    }
   ],
   "source": [
    "# выберем второй столбец второй матрицы и\n",
    "# заменим значения столбца 7 и 10 на 0 и 1\n",
    "arr_3D[1, :, 1] = [0, 1]\n",
    "\n",
    "# при такой операции размер среза должен совпадать\n",
    "# с количеством передаваемых значений\n",
    "arr_3D"
   ]
  },
  {
   "cell_type": "code",
   "execution_count": null,
   "metadata": {
    "colab": {
     "base_uri": "https://localhost:8080/"
    },
    "id": "3UAnqAAgTYgj",
    "outputId": "7af26c1c-79ae-4f56-f0e2-5e982f08ce62"
   },
   "outputs": [
    {
     "data": {
      "text/plain": [
       "array([[[7, 7, 7],\n",
       "        [7, 7, 7]],\n",
       "\n",
       "       [[7, 7, 7],\n",
       "        [7, 7, 7]]])"
      ]
     },
     "execution_count": 4,
     "metadata": {},
     "output_type": "execute_result"
    }
   ],
   "source": [
    "# заменим все элементы массива на число семь\n",
    "arr_3D.fill(7)\n",
    "arr_3D"
   ]
  },
  {
   "cell_type": "markdown",
   "metadata": {
    "id": "e5FEAOF-IT9j"
   },
   "source": [
    "#### Сортировка массива и обратный порядок его элементов"
   ]
  },
  {
   "cell_type": "markdown",
   "metadata": {
    "id": "SGwCDYOcbcWP"
   },
   "source": [
    "Функция np.sort()"
   ]
  },
  {
   "cell_type": "code",
   "execution_count": null,
   "metadata": {
    "colab": {
     "base_uri": "https://localhost:8080/"
    },
    "id": "rkl_4UPjZUoi",
    "outputId": "c56bad4a-2af5-4008-ada4-bb0842b97f7d"
   },
   "outputs": [
    {
     "data": {
      "text/plain": [
       "array([[4, 8, 2],\n",
       "       [2, 3, 1]])"
      ]
     },
     "execution_count": 88,
     "metadata": {},
     "output_type": "execute_result"
    }
   ],
   "source": [
    "# возьмем двумерный массив\n",
    "a = np.array([[4, 8, 2], [2, 3, 1]])\n",
    "a"
   ]
  },
  {
   "cell_type": "code",
   "execution_count": null,
   "metadata": {
    "colab": {
     "base_uri": "https://localhost:8080/"
    },
    "id": "Jou-S9fAZeKB",
    "outputId": "278af61f-e810-4b10-ceaa-3d2c938dbccc"
   },
   "outputs": [
    {
     "data": {
      "text/plain": [
       "array([[2, 4, 8],\n",
       "       [1, 2, 3]])"
      ]
     },
     "execution_count": 89,
     "metadata": {},
     "output_type": "execute_result"
    }
   ],
   "source": [
    "# по умолчанию сортировка идет с параметром axis = -1 (последняя ось)\n",
    "np.sort(a)"
   ]
  },
  {
   "cell_type": "code",
   "execution_count": null,
   "metadata": {
    "colab": {
     "base_uri": "https://localhost:8080/"
    },
    "id": "DX9GYNEebtjo",
    "outputId": "80dfbf34-d78f-4c6b-81b8-1ae74033f774"
   },
   "outputs": [
    {
     "data": {
      "text/plain": [
       "array([[2, 4, 8],\n",
       "       [1, 2, 3]])"
      ]
     },
     "execution_count": 90,
     "metadata": {},
     "output_type": "execute_result"
    }
   ],
   "source": [
    "# для двумерного массива это ось 1\n",
    "np.sort(a, axis = 1)"
   ]
  },
  {
   "cell_type": "code",
   "execution_count": null,
   "metadata": {
    "colab": {
     "base_uri": "https://localhost:8080/"
    },
    "id": "fFJG6i4gcdmu",
    "outputId": "a64c81bf-8a64-4f45-b495-e0926536eaa2"
   },
   "outputs": [
    {
     "data": {
      "text/plain": [
       "array([[2, 3, 1],\n",
       "       [4, 8, 2]])"
      ]
     },
     "execution_count": 91,
     "metadata": {},
     "output_type": "execute_result"
    }
   ],
   "source": [
    "# посмотрим на сортировку по оси 0\n",
    "np.sort(a, axis = 0)"
   ]
  },
  {
   "cell_type": "code",
   "execution_count": null,
   "metadata": {
    "colab": {
     "base_uri": "https://localhost:8080/"
    },
    "id": "mj4N3QO6dB1P",
    "outputId": "d12a6f53-0464-490f-edd9-078d1f71ca08"
   },
   "outputs": [
    {
     "data": {
      "text/plain": [
       "array([1, 2, 2, 3, 4, 8])"
      ]
     },
     "execution_count": 41,
     "metadata": {},
     "output_type": "execute_result"
    }
   ],
   "source": [
    "# axis = None вначале возвращает одномерный массив,\n",
    "# а затем сортирует\n",
    "np.sort(a, axis = None)"
   ]
  },
  {
   "cell_type": "markdown",
   "metadata": {
    "id": "ravVjzHrbgGw"
   },
   "source": [
    "Обратный порядок элементов массива через оператор среза"
   ]
  },
  {
   "cell_type": "code",
   "execution_count": null,
   "metadata": {
    "colab": {
     "base_uri": "https://localhost:8080/"
    },
    "id": "KREB12x8uX_P",
    "outputId": "3600ef36-bfd0-406f-f7fa-2f1fbbc0174e"
   },
   "outputs": [
    {
     "data": {
      "text/plain": [
       "array([9, 8, 7, 6, 5, 4, 3, 2, 1, 0])"
      ]
     },
     "execution_count": 2,
     "metadata": {},
     "output_type": "execute_result"
    }
   ],
   "source": [
    "# оператор среза с параметром шага -1\n",
    "# задает обратный порядок элементов массива\n",
    "np.array([0, 1, 2, 3, 4, 5, 6, 7, 8, 9])[::-1]"
   ]
  },
  {
   "cell_type": "code",
   "execution_count": null,
   "metadata": {
    "colab": {
     "base_uri": "https://localhost:8080/"
    },
    "id": "fL5U479ckXWr",
    "outputId": "266d25c4-ddb9-4a43-c65d-f1643b71d680"
   },
   "outputs": [
    {
     "data": {
      "text/plain": [
       "array([7, 6, 5, 4])"
      ]
     },
     "execution_count": 3,
     "metadata": {},
     "output_type": "execute_result"
    }
   ],
   "source": [
    "# обратный порядок можно совмещать со срезами\n",
    "np.array([0, 1, 2, 3, 4, 5, 6, 7, 8, 9])[-3:3:-1]"
   ]
  },
  {
   "cell_type": "code",
   "execution_count": null,
   "metadata": {
    "colab": {
     "base_uri": "https://localhost:8080/"
    },
    "id": "bG36HK6tkgXv",
    "outputId": "426346ff-4735-4409-aca5-cb2425054cc3"
   },
   "outputs": [
    {
     "data": {
      "text/plain": [
       "array([[4, 8, 2],\n",
       "       [2, 3, 1],\n",
       "       [1, 7, 2]])"
      ]
     },
     "execution_count": 62,
     "metadata": {},
     "output_type": "execute_result"
    }
   ],
   "source": [
    "# в двумерном массиве\n",
    "a = np.array([[4, 8, 2], [2, 3, 1], [1, 7, 2]])\n",
    "a"
   ]
  },
  {
   "cell_type": "code",
   "execution_count": null,
   "metadata": {
    "colab": {
     "base_uri": "https://localhost:8080/"
    },
    "id": "_LQLDaEvkFjf",
    "outputId": "0356d3d9-d73f-4be4-e87f-8257e0ed76cb"
   },
   "outputs": [
    {
     "data": {
      "text/plain": [
       "array([[2, 7, 1],\n",
       "       [1, 3, 2],\n",
       "       [2, 8, 4]])"
      ]
     },
     "execution_count": 63,
     "metadata": {},
     "output_type": "execute_result"
    }
   ],
   "source": [
    "# можно задать обратный порядок по двум измерениям (axis = (0, 1))\n",
    "a[::-1, ::-1]"
   ]
  },
  {
   "cell_type": "code",
   "execution_count": null,
   "metadata": {
    "colab": {
     "base_uri": "https://localhost:8080/"
    },
    "id": "8xwMOXyYIhaP",
    "outputId": "faa69a80-6830-449a-aacf-75b0f09f709a"
   },
   "outputs": [
    {
     "data": {
      "text/plain": [
       "array([[1, 7, 2],\n",
       "       [2, 3, 1],\n",
       "       [4, 8, 2]])"
      ]
     },
     "execution_count": 64,
     "metadata": {},
     "output_type": "execute_result"
    }
   ],
   "source": [
    "# обратный порядок по внешнему (axis = 0)\n",
    "a[::-1]"
   ]
  },
  {
   "cell_type": "code",
   "execution_count": null,
   "metadata": {
    "colab": {
     "base_uri": "https://localhost:8080/"
    },
    "id": "xjr5Ry_ylilb",
    "outputId": "9e556b2e-9547-4381-e4d9-519ad2fcf2c1"
   },
   "outputs": [
    {
     "data": {
      "text/plain": [
       "array([[2, 8, 4],\n",
       "       [1, 3, 2],\n",
       "       [2, 7, 1]])"
      ]
     },
     "execution_count": 65,
     "metadata": {},
     "output_type": "execute_result"
    }
   ],
   "source": [
    "# и внутреннему измерению (axis = 1)\n",
    "a[:, ::-1]"
   ]
  },
  {
   "cell_type": "markdown",
   "metadata": {
    "id": "KIaaq06Hlorc"
   },
   "source": [
    "Обратный порядок через функцию np.flip()"
   ]
  },
  {
   "cell_type": "code",
   "execution_count": null,
   "metadata": {
    "colab": {
     "base_uri": "https://localhost:8080/"
    },
    "id": "_70NGScrvJg8",
    "outputId": "3320daa6-d0ba-49b5-b8be-1ca1738833cc"
   },
   "outputs": [
    {
     "data": {
      "text/plain": [
       "array([[2, 7, 1],\n",
       "       [1, 3, 2],\n",
       "       [2, 8, 4]])"
      ]
     },
     "execution_count": 66,
     "metadata": {},
     "output_type": "execute_result"
    }
   ],
   "source": [
    "# по умолчанию, задает обратный порядок по двум измерениям\n",
    "# то же самое, что axis = (0, 1) \n",
    "np.flip(a)"
   ]
  },
  {
   "cell_type": "code",
   "execution_count": null,
   "metadata": {
    "colab": {
     "base_uri": "https://localhost:8080/"
    },
    "id": "9WUe2UsKLhTD",
    "outputId": "dad66ed2-206e-4089-ad81-223adb7010f7"
   },
   "outputs": [
    {
     "data": {
      "text/plain": [
       "array([[1, 7, 2],\n",
       "       [2, 3, 1],\n",
       "       [4, 8, 2]])"
      ]
     },
     "execution_count": 68,
     "metadata": {},
     "output_type": "execute_result"
    }
   ],
   "source": [
    "# можно также задать обратный порядок по внешнему\n",
    "np.flip(a, axis = 0)"
   ]
  },
  {
   "cell_type": "code",
   "execution_count": null,
   "metadata": {
    "colab": {
     "base_uri": "https://localhost:8080/"
    },
    "id": "XxOnrRG7IpsO",
    "outputId": "64650618-3ba5-4071-a7c3-dbf570687a97"
   },
   "outputs": [
    {
     "data": {
      "text/plain": [
       "array([[2, 8, 4],\n",
       "       [1, 3, 2],\n",
       "       [2, 7, 1]])"
      ]
     },
     "execution_count": 69,
     "metadata": {},
     "output_type": "execute_result"
    }
   ],
   "source": [
    "# и внутреннему измерениям\n",
    "np.flip(a, axis = 1)"
   ]
  },
  {
   "cell_type": "markdown",
   "metadata": {
    "id": "k2vY1VBtm40F"
   },
   "source": [
    "Сортировка в убывающем порядке"
   ]
  },
  {
   "cell_type": "code",
   "execution_count": null,
   "metadata": {
    "id": "ObKaGNpQm8y_"
   },
   "outputs": [],
   "source": [
    "# для сортировки массива в убывающем порядке\n",
    "a = np.array([4, 2, 6, 1, 7, 3, 5])"
   ]
  },
  {
   "cell_type": "code",
   "execution_count": null,
   "metadata": {
    "colab": {
     "base_uri": "https://localhost:8080/"
    },
    "id": "wN7fbuGynLms",
    "outputId": "a92bcd41-a039-4602-a0e8-9b005762bea6"
   },
   "outputs": [
    {
     "data": {
      "text/plain": [
       "array([7, 6, 5, 4, 3, 2, 1])"
      ]
     },
     "execution_count": 9,
     "metadata": {},
     "output_type": "execute_result"
    }
   ],
   "source": [
    "# мы можем последовательно применить np.sort() и оператор среза\n",
    "np.sort(a)[::-1]"
   ]
  },
  {
   "cell_type": "code",
   "execution_count": null,
   "metadata": {
    "colab": {
     "base_uri": "https://localhost:8080/"
    },
    "id": "R-zBn8aon-8_",
    "outputId": "b6324956-e119-440e-b708-8115a06400c2"
   },
   "outputs": [
    {
     "data": {
      "text/plain": [
       "array([4, 2, 6, 1, 7, 3, 5])"
      ]
     },
     "execution_count": 10,
     "metadata": {},
     "output_type": "execute_result"
    }
   ],
   "source": [
    "# исходный массив не изменился\n",
    "a"
   ]
  },
  {
   "cell_type": "code",
   "execution_count": null,
   "metadata": {
    "id": "SiucRoJ3npZW"
   },
   "outputs": [],
   "source": [
    "# можно и обратном порядке, но уже с методом .sort()\n",
    "a[::-1].sort()"
   ]
  },
  {
   "cell_type": "code",
   "execution_count": null,
   "metadata": {
    "colab": {
     "base_uri": "https://localhost:8080/"
    },
    "id": "FdRdATESoDPM",
    "outputId": "785357fc-82a5-4727-fc77-a5cc937a15c4"
   },
   "outputs": [
    {
     "data": {
      "text/plain": [
       "array([7, 6, 5, 4, 3, 2, 1])"
      ]
     },
     "execution_count": 13,
     "metadata": {},
     "output_type": "execute_result"
    }
   ],
   "source": [
    "# изменение стало постоянным\n",
    "a"
   ]
  },
  {
   "cell_type": "markdown",
   "metadata": {
    "id": "unLH1uedFIma"
   },
   "source": [
    "#### Изменение размерности"
   ]
  },
  {
   "cell_type": "markdown",
   "metadata": {
    "id": "mihFAkws4Bal"
   },
   "source": [
    "Метод .reshape()"
   ]
  },
  {
   "cell_type": "code",
   "execution_count": null,
   "metadata": {
    "colab": {
     "base_uri": "https://localhost:8080/"
    },
    "id": "6K7B1rUmaWOm",
    "outputId": "c17fe772-a374-4146-c8fe-65db6adfd9f8"
   },
   "outputs": [
    {
     "data": {
      "text/plain": [
       "array([[[ 0,  1,  2],\n",
       "        [ 3,  4,  5]],\n",
       "\n",
       "       [[ 6,  7,  8],\n",
       "        [ 9, 10, 11]]])"
      ]
     },
     "execution_count": 105,
     "metadata": {},
     "output_type": "execute_result"
    }
   ],
   "source": [
    "# возьмем простой трехмерный массив\n",
    "arr_3D = np.arange(12).reshape(2, 2, 3)\n",
    "arr_3D"
   ]
  },
  {
   "cell_type": "code",
   "execution_count": null,
   "metadata": {
    "colab": {
     "base_uri": "https://localhost:8080/"
    },
    "id": "KSLEgGwkFSrW",
    "outputId": "559eadb5-649f-42bb-801d-168b6f066bd6"
   },
   "outputs": [
    {
     "data": {
      "text/plain": [
       "12"
      ]
     },
     "execution_count": 106,
     "metadata": {},
     "output_type": "execute_result"
    }
   ],
   "source": [
    "# в нем 12 элементов\n",
    "arr_3D.size"
   ]
  },
  {
   "cell_type": "code",
   "execution_count": null,
   "metadata": {
    "colab": {
     "base_uri": "https://localhost:8080/"
    },
    "id": "Kb82LETQal45",
    "outputId": "747503fa-d23e-41cb-9d29-196e70dfa219"
   },
   "outputs": [
    {
     "data": {
      "text/plain": [
       "array([[ 0,  1,  2,  3,  4,  5],\n",
       "       [ 6,  7,  8,  9, 10, 11]])"
      ]
     },
     "execution_count": 111,
     "metadata": {},
     "output_type": "execute_result"
    }
   ],
   "source": [
    "# поменяем размерность при сохранении общего количества элементов\n",
    "arr_2D = arr_3D.reshape(2, 6)\n",
    "arr_2D"
   ]
  },
  {
   "cell_type": "markdown",
   "metadata": {
    "id": "DEI_PaK74E-o"
   },
   "source": [
    "Функция np.resize() и метод .resize()"
   ]
  },
  {
   "cell_type": "code",
   "execution_count": null,
   "metadata": {
    "colab": {
     "base_uri": "https://localhost:8080/"
    },
    "id": "hadxMWoqHjE2",
    "outputId": "533d1e74-e798-45a9-d7b8-81963f367fc4"
   },
   "outputs": [
    {
     "data": {
      "text/plain": [
       "array([[ 0,  1,  2,  3,  4,  5],\n",
       "       [ 6,  7,  8,  9, 10, 11],\n",
       "       [ 0,  1,  2,  3,  4,  5]])"
      ]
     },
     "execution_count": 108,
     "metadata": {},
     "output_type": "execute_result"
    }
   ],
   "source": [
    "# функция np.resize() позволяет не сохранять прежнее количество элементов\n",
    "# существующие элементы копируются в новые ячейки\n",
    "np.resize(arr_2D, (3, 6))"
   ]
  },
  {
   "cell_type": "code",
   "execution_count": null,
   "metadata": {
    "colab": {
     "base_uri": "https://localhost:8080/"
    },
    "id": "UDCssU5Iq_Df",
    "outputId": "0bc09b42-c4c9-4c8b-9d25-799a30f29b83"
   },
   "outputs": [
    {
     "data": {
      "text/plain": [
       "array([[ 0,  1,  2,  3,  4,  5],\n",
       "       [ 6,  7,  8,  9, 10, 11],\n",
       "       [ 0,  0,  0,  0,  0,  0],\n",
       "       [ 0,  0,  0,  0,  0,  0]])"
      ]
     },
     "execution_count": 114,
     "metadata": {},
     "output_type": "execute_result"
    }
   ],
   "source": [
    "# arr_2D ссылается на другой массив, поэтому сначала нужно сделать его копию\n",
    "arr_2D_copy = arr_2D.copy()\n",
    "\n",
    "# метод .resize() сделает копию, изменит размерность\n",
    "# и заполнит пропуски нулями\n",
    "arr_2D_copy.resize(4, 6)\n",
    "arr_2D_copy"
   ]
  },
  {
   "cell_type": "markdown",
   "metadata": {
    "id": "y2N-1WQt4UW8"
   },
   "source": [
    "Методы .flatten() и .ravel()"
   ]
  },
  {
   "cell_type": "code",
   "execution_count": null,
   "metadata": {
    "colab": {
     "base_uri": "https://localhost:8080/"
    },
    "id": "KNhay4zYavYo",
    "outputId": "0fb13884-9acf-49b8-f06a-4e5a9cb6386b"
   },
   "outputs": [
    {
     "data": {
      "text/plain": [
       "array([ 0,  1,  2,  3,  4,  5,  6,  7,  8,  9, 10, 11])"
      ]
     },
     "execution_count": 36,
     "metadata": {},
     "output_type": "execute_result"
    }
   ],
   "source": [
    "# .flatten() переводит (\"вытягивает\") массив в одно измерение и\n",
    "# создает копию исходного массива (как метод .copy())\n",
    "arr_3D.flatten()"
   ]
  },
  {
   "cell_type": "code",
   "execution_count": null,
   "metadata": {
    "colab": {
     "base_uri": "https://localhost:8080/"
    },
    "id": "_VFCbIwNayxf",
    "outputId": "8f2da39a-bbfa-467f-bc5c-57a2019080bf"
   },
   "outputs": [
    {
     "data": {
      "text/plain": [
       "array([ 0,  1,  2,  3,  4,  5,  6,  7,  8,  9, 10, 11])"
      ]
     },
     "execution_count": 37,
     "metadata": {},
     "output_type": "execute_result"
    }
   ],
   "source": [
    "# .ravel() делает то же самое,\n",
    "# но не создает копию исходного массива и поэтому быстрее чем .flatten()\n",
    "arr_3D.ravel()"
   ]
  },
  {
   "cell_type": "markdown",
   "metadata": {
    "id": "n3r53-OA5ez-"
   },
   "source": [
    "np.newaxis"
   ]
  },
  {
   "cell_type": "code",
   "execution_count": null,
   "metadata": {
    "colab": {
     "base_uri": "https://localhost:8080/"
    },
    "id": "tpFz3REUTq_K",
    "outputId": "23431e73-9f62-4d5d-93b0-300bbb2d8208"
   },
   "outputs": [
    {
     "data": {
      "text/plain": [
       "(3,)"
      ]
     },
     "execution_count": 14,
     "metadata": {},
     "output_type": "execute_result"
    }
   ],
   "source": [
    "# np.newaxis добавляет измерение в массиве\n",
    "a = np.array([1, 2, 3])\n",
    "a.shape"
   ]
  },
  {
   "cell_type": "code",
   "execution_count": null,
   "metadata": {
    "colab": {
     "base_uri": "https://localhost:8080/"
    },
    "id": "cTGAhGCK3Pxw",
    "outputId": "f895a4df-b37c-4c98-ce34-b5dbef2b07f2"
   },
   "outputs": [
    {
     "name": "stdout",
     "output_type": "stream",
     "text": [
      "[[1 2 3]]\n",
      "(1, 3)\n"
     ]
    }
   ],
   "source": [
    "# добавим первое измерение\n",
    "b = a[np.newaxis, :]\n",
    "\n",
    "print(b)\n",
    "print(b.shape)"
   ]
  },
  {
   "cell_type": "code",
   "execution_count": null,
   "metadata": {
    "colab": {
     "base_uri": "https://localhost:8080/"
    },
    "id": "1Gy-K6qbUBxW",
    "outputId": "b179809e-f690-42da-f632-30336c0b2103"
   },
   "outputs": [
    {
     "name": "stdout",
     "output_type": "stream",
     "text": [
      "[[1]\n",
      " [2]\n",
      " [3]]\n",
      "(3, 1)\n"
     ]
    }
   ],
   "source": [
    "# добавим второе измерение\n",
    "c = a[:, np.newaxis]\n",
    "\n",
    "print(c)\n",
    "print(c.shape)"
   ]
  },
  {
   "cell_type": "markdown",
   "metadata": {
    "id": "H8amricZ9YqS"
   },
   "source": [
    "Функция np.expand_dims()"
   ]
  },
  {
   "cell_type": "code",
   "execution_count": null,
   "metadata": {
    "colab": {
     "base_uri": "https://localhost:8080/"
    },
    "id": "PuKcFZol8SRe",
    "outputId": "7a6f62cb-ae64-461c-c2dc-73f225efdc3a"
   },
   "outputs": [
    {
     "data": {
      "text/plain": [
       "array([[1, 2],\n",
       "       [3, 4]])"
      ]
     },
     "execution_count": 22,
     "metadata": {},
     "output_type": "execute_result"
    }
   ],
   "source": [
    "# возьмем двумерный массив\n",
    "a = np.array([[1,2],[3,4]])\n",
    "a"
   ]
  },
  {
   "cell_type": "code",
   "execution_count": null,
   "metadata": {
    "colab": {
     "base_uri": "https://localhost:8080/"
    },
    "id": "7t6X9ctx9g_y",
    "outputId": "234b685f-f197-467f-b885-57f9f523b620"
   },
   "outputs": [
    {
     "data": {
      "text/plain": [
       "array([[[1, 2],\n",
       "        [3, 4]]])"
      ]
     },
     "execution_count": 23,
     "metadata": {},
     "output_type": "execute_result"
    }
   ],
   "source": [
    "# добавим внешнее измерение\n",
    "np.expand_dims(x, axis = 0)"
   ]
  },
  {
   "cell_type": "code",
   "execution_count": null,
   "metadata": {
    "colab": {
     "base_uri": "https://localhost:8080/"
    },
    "id": "c7vxGb199huI",
    "outputId": "838248c1-d99f-4992-ccdb-7b60f16e9473"
   },
   "outputs": [
    {
     "data": {
      "text/plain": [
       "array([[[1, 2]],\n",
       "\n",
       "       [[3, 4]]])"
      ]
     },
     "execution_count": 24,
     "metadata": {},
     "output_type": "execute_result"
    }
   ],
   "source": [
    "# добавим измерение \"по середине\"\n",
    "np.expand_dims(x, axis = 1)"
   ]
  },
  {
   "cell_type": "code",
   "execution_count": null,
   "metadata": {
    "colab": {
     "base_uri": "https://localhost:8080/"
    },
    "id": "MTVCMo4r9iE6",
    "outputId": "69e96686-df65-4eeb-9734-73fa7ca88b0b"
   },
   "outputs": [
    {
     "data": {
      "text/plain": [
       "array([[[1],\n",
       "        [2]],\n",
       "\n",
       "       [[3],\n",
       "        [4]]])"
      ]
     },
     "execution_count": 25,
     "metadata": {},
     "output_type": "execute_result"
    }
   ],
   "source": [
    "# добавим внутреннее измерение\n",
    "np.expand_dims(x, axis = 2)"
   ]
  },
  {
   "cell_type": "markdown",
   "metadata": {
    "id": "BBtuRRw354vL"
   },
   "source": [
    "Функция np.squeeze()"
   ]
  },
  {
   "cell_type": "code",
   "execution_count": null,
   "metadata": {
    "colab": {
     "base_uri": "https://localhost:8080/"
    },
    "id": "Zl6F7tOeLLRi",
    "outputId": "59362af6-3a02-4428-b567-5316649955b5"
   },
   "outputs": [
    {
     "data": {
      "text/plain": [
       "array([[[[0],\n",
       "         [1],\n",
       "         [2]],\n",
       "\n",
       "        [[3],\n",
       "         [4],\n",
       "         [5]],\n",
       "\n",
       "        [[6],\n",
       "         [7],\n",
       "         [8]]]])"
      ]
     },
     "execution_count": 13,
     "metadata": {},
     "output_type": "execute_result"
    }
   ],
   "source": [
    "# возьмем массив 4D, в котором\n",
    "# первое и последнее измерения содержат по одному элементу\n",
    "arr_4D = np.arange(9).reshape(1, 3, 3, 1)\n",
    "arr_4D"
   ]
  },
  {
   "cell_type": "code",
   "execution_count": null,
   "metadata": {
    "colab": {
     "base_uri": "https://localhost:8080/"
    },
    "id": "KyKRrMPJ6Zx7",
    "outputId": "20001642-dea2-4e7d-fe8c-60204b9ca47e"
   },
   "outputs": [
    {
     "data": {
      "text/plain": [
       "array([[0, 1, 2],\n",
       "       [3, 4, 5],\n",
       "       [6, 7, 8]])"
      ]
     },
     "execution_count": 16,
     "metadata": {},
     "output_type": "execute_result"
    }
   ],
   "source": [
    "# удалим эти измерения с помощью функции np.squeeze()\n",
    "np.squeeze(arr_4D)"
   ]
  },
  {
   "cell_type": "code",
   "execution_count": null,
   "metadata": {
    "colab": {
     "base_uri": "https://localhost:8080/"
    },
    "id": "70RxxgPV6haV",
    "outputId": "ae6cba40-5619-472d-b71f-23b6590e1c6b"
   },
   "outputs": [
    {
     "data": {
      "text/plain": [
       "(3, 3)"
      ]
     },
     "execution_count": 17,
     "metadata": {},
     "output_type": "execute_result"
    }
   ],
   "source": [
    "# новый массив имеет только два измерения\n",
    "np.squeeze(arr_4D).shape"
   ]
  },
  {
   "cell_type": "markdown",
   "metadata": {
    "id": "PtqD2BdXsu0y"
   },
   "source": [
    "#### Объединение массивов"
   ]
  },
  {
   "cell_type": "markdown",
   "metadata": {
    "id": "XDsl7KSEO3c0"
   },
   "source": [
    "Функция np.concatenate()"
   ]
  },
  {
   "cell_type": "code",
   "execution_count": null,
   "metadata": {
    "colab": {
     "base_uri": "https://localhost:8080/"
    },
    "id": "6RMdsyreZXFs",
    "outputId": "17c97ecc-714c-4cac-d736-11d38303993e"
   },
   "outputs": [
    {
     "data": {
      "text/plain": [
       "array([[0, 1],\n",
       "       [2, 3]])"
      ]
     },
     "execution_count": 26,
     "metadata": {},
     "output_type": "execute_result"
    }
   ],
   "source": [
    "# создадим два квадратных массива\n",
    "a = np.arange(4).reshape(2, 2)\n",
    "a"
   ]
  },
  {
   "cell_type": "code",
   "execution_count": null,
   "metadata": {
    "colab": {
     "base_uri": "https://localhost:8080/"
    },
    "id": "28XOIs_xAVf9",
    "outputId": "7a3b5a26-5bd0-4d3d-a938-373b40444d9e"
   },
   "outputs": [
    {
     "data": {
      "text/plain": [
       "array([[4, 5],\n",
       "       [6, 7]])"
      ]
     },
     "execution_count": 28,
     "metadata": {},
     "output_type": "execute_result"
    }
   ],
   "source": [
    "b = np.arange(4, 8).reshape(2, 2)\n",
    "b"
   ]
  },
  {
   "cell_type": "code",
   "execution_count": null,
   "metadata": {
    "colab": {
     "base_uri": "https://localhost:8080/"
    },
    "id": "K5sNt0cbAdpm",
    "outputId": "251c79c6-43cc-409b-c8e1-f80686b8fccb"
   },
   "outputs": [
    {
     "data": {
      "text/plain": [
       "array([[0, 1],\n",
       "       [2, 3],\n",
       "       [4, 5],\n",
       "       [6, 7]])"
      ]
     },
     "execution_count": 29,
     "metadata": {},
     "output_type": "execute_result"
    }
   ],
   "source": [
    "# объединим два массива вдоль оси 0 без (!) добавления нового измерения\n",
    "np.concatenate((a, b), axis = 0)"
   ]
  },
  {
   "cell_type": "code",
   "execution_count": null,
   "metadata": {
    "colab": {
     "base_uri": "https://localhost:8080/"
    },
    "id": "CAO8aBIFAiNS",
    "outputId": "206cb70d-0805-4584-b869-b907d718eae8"
   },
   "outputs": [
    {
     "data": {
      "text/plain": [
       "array([[0, 1, 4, 5],\n",
       "       [2, 3, 6, 7]])"
      ]
     },
     "execution_count": 37,
     "metadata": {},
     "output_type": "execute_result"
    }
   ],
   "source": [
    "# то же самое вдоль оси 1\n",
    "np.concatenate((a, b), axis = 1)"
   ]
  },
  {
   "cell_type": "markdown",
   "metadata": {
    "id": "zRHowMnjBUeV"
   },
   "source": [
    "Функция np.stack()"
   ]
  },
  {
   "cell_type": "code",
   "execution_count": null,
   "metadata": {
    "colab": {
     "base_uri": "https://localhost:8080/"
    },
    "id": "jmkCrwiuBXRs",
    "outputId": "4e0a08c5-73b1-4f8c-d417-058cf6128070"
   },
   "outputs": [
    {
     "data": {
      "text/plain": [
       "array([[[0, 1],\n",
       "        [2, 3]],\n",
       "\n",
       "       [[4, 5],\n",
       "        [6, 7]]])"
      ]
     },
     "execution_count": 41,
     "metadata": {},
     "output_type": "execute_result"
    }
   ],
   "source": [
    "# здесь отличие в том, что мы добавляем новую ось (измерение)\n",
    "np.stack((a, b), axis = 0)"
   ]
  },
  {
   "cell_type": "code",
   "execution_count": null,
   "metadata": {
    "colab": {
     "base_uri": "https://localhost:8080/"
    },
    "id": "4VhZ5Zr_BpgX",
    "outputId": "b05d5293-f5cc-4b4a-e80b-e30bb885d515"
   },
   "outputs": [
    {
     "data": {
      "text/plain": [
       "array([[[0, 1],\n",
       "        [4, 5]],\n",
       "\n",
       "       [[2, 3],\n",
       "        [6, 7]]])"
      ]
     },
     "execution_count": 42,
     "metadata": {},
     "output_type": "execute_result"
    }
   ],
   "source": [
    "np.stack((a, b), axis = 1)"
   ]
  },
  {
   "cell_type": "code",
   "execution_count": null,
   "metadata": {
    "colab": {
     "base_uri": "https://localhost:8080/"
    },
    "id": "o9H7eB7hCW8z",
    "outputId": "6a3f5c01-ac98-44c7-8e16-90b2b20e3b27"
   },
   "outputs": [
    {
     "data": {
      "text/plain": [
       "array([[[0, 4],\n",
       "        [1, 5]],\n",
       "\n",
       "       [[2, 6],\n",
       "        [3, 7]]])"
      ]
     },
     "execution_count": 43,
     "metadata": {},
     "output_type": "execute_result"
    }
   ],
   "source": [
    "np.stack((a, b), axis = 2)"
   ]
  },
  {
   "cell_type": "markdown",
   "metadata": {
    "id": "E7uYYhMEE01J"
   },
   "source": [
    "#### Фильтр (маска) массива"
   ]
  },
  {
   "cell_type": "markdown",
   "metadata": {
    "id": "9AEb_8b6E-5u"
   },
   "source": [
    "Логическая маска (Boolean mask)"
   ]
  },
  {
   "cell_type": "code",
   "execution_count": null,
   "metadata": {
    "id": "pXuDzrl9E3w9"
   },
   "outputs": [],
   "source": [
    "# предположим, что мы хотим удалить отрицательные числа из массива\n",
    "a = np.array([5, 7, -3, 4, 2, -4])"
   ]
  },
  {
   "cell_type": "code",
   "execution_count": null,
   "metadata": {
    "colab": {
     "base_uri": "https://localhost:8080/"
    },
    "id": "-8EpY7_0Excn",
    "outputId": "9a9ca17c-68ea-468a-e41d-ccbe1101fc13"
   },
   "outputs": [
    {
     "data": {
      "text/plain": [
       "array([ True,  True, False,  True,  True, False])"
      ]
     },
     "execution_count": 3,
     "metadata": {},
     "output_type": "execute_result"
    }
   ],
   "source": [
    "# создадим фильтр или маску массива\n",
    "# нежелательные значения помечены как False\n",
    "a > 0"
   ]
  },
  {
   "cell_type": "code",
   "execution_count": null,
   "metadata": {
    "colab": {
     "base_uri": "https://localhost:8080/"
    },
    "id": "rzQjAtSLEWpU",
    "outputId": "306c3f5f-8eb7-47e9-d7cb-479b6d6f7c51"
   },
   "outputs": [
    {
     "data": {
      "text/plain": [
       "array([5, 7, 4, 2])"
      ]
     },
     "execution_count": 60,
     "metadata": {},
     "output_type": "execute_result"
    }
   ],
   "source": [
    "# применим маску к исходному массиву\n",
    "a[a > 0]"
   ]
  },
  {
   "cell_type": "code",
   "execution_count": null,
   "metadata": {
    "colab": {
     "base_uri": "https://localhost:8080/"
    },
    "id": "iRLNYQ9dFG90",
    "outputId": "517e7ada-fce3-4f1b-de62-bb0524795a72"
   },
   "outputs": [
    {
     "data": {
      "text/plain": [
       "array([5, 7, 0, 4, 2, 0])"
      ]
     },
     "execution_count": 64,
     "metadata": {},
     "output_type": "execute_result"
    }
   ],
   "source": [
    "# отфильтрованные значения можно заполнить, например, нулями\n",
    "a[a < 0] = 0\n",
    "a"
   ]
  },
  {
   "cell_type": "markdown",
   "metadata": {
    "id": "4Y4jl2bosJVc"
   },
   "source": [
    "Пороговое преобразование"
   ]
  },
  {
   "cell_type": "code",
   "execution_count": null,
   "metadata": {
    "id": "JBSzJEbErHHT"
   },
   "outputs": [],
   "source": [
    "# импортируем фотографии из библиотеки skimage\n",
    "from skimage import data\n",
    "\n",
    "# еще раз импортируем matplotlib\n",
    "import matplotlib.pyplot as plt\n",
    "\n",
    "# загрузим изображение с оттенками серого\n",
    "camera = data.camera()\n",
    "\n",
    "# если значение пикселя ниже 87, сделаем его черным (False), выше - белым (True)\n",
    "binary = camera > 87"
   ]
  },
  {
   "cell_type": "code",
   "execution_count": null,
   "metadata": {
    "colab": {
     "base_uri": "https://localhost:8080/"
    },
    "id": "HzSFniEHVs1W",
    "outputId": "540b94fc-0f46-4bc1-cbbf-12c12cc631ff"
   },
   "outputs": [
    {
     "data": {
      "text/plain": [
       "array([220, 219, 219, 196,  80,  54,  47,  45,  44,  44], dtype=uint8)"
      ]
     },
     "execution_count": 27,
     "metadata": {},
     "output_type": "execute_result"
    }
   ],
   "source": [
    "# посмотрим на исходный массив\n",
    "camera[150, 65:75]"
   ]
  },
  {
   "cell_type": "code",
   "execution_count": null,
   "metadata": {
    "colab": {
     "base_uri": "https://localhost:8080/"
    },
    "id": "w0GbyzVWrp9K",
    "outputId": "8bc9a0d9-08dd-4d59-bb9d-13fb18d00fec"
   },
   "outputs": [
    {
     "data": {
      "text/plain": [
       "array([ True,  True,  True,  True, False, False, False, False, False,\n",
       "       False])"
      ]
     },
     "execution_count": 28,
     "metadata": {},
     "output_type": "execute_result"
    }
   ],
   "source": [
    "# и на его маску\n",
    "binary[150, 65:75]"
   ]
  },
  {
   "cell_type": "code",
   "execution_count": null,
   "metadata": {
    "colab": {
     "base_uri": "https://localhost:8080/",
     "height": 267
    },
    "id": "XGrwjfwjZ_Pk",
    "outputId": "dfea6e57-6249-41eb-dfa0-532317e3a568"
   },
   "outputs": [
    {
     "data": {
      "image/png": "[encoded data removed]",
      "text/plain": [
       "<Figure size 576x288 with 2 Axes>"
      ]
     },
     "metadata": {
      "needs_background": "light"
     },
     "output_type": "display_data"
    }
   ],
   "source": [
    "# теперь сравним исходное изображение и изображение после преобразования\n",
    "fig, ax = plt.subplots(1, 2, figsize = (8, 4))\n",
    "\n",
    "# выведем первое изображение и зададим заголовок\n",
    "ax[0].imshow(camera,  cmap = 'gray')\n",
    "ax[0].set_title('До')\n",
    "\n",
    "# для ч/б изображений не забудем про параметр cmap = 'gray'\n",
    "ax[1].imshow(binary,  cmap = 'gray')\n",
    "ax[1].set_title('После')\n",
    "\n",
    "plt.show()"
   ]
  },
  {
   "cell_type": "markdown",
   "metadata": {
    "id": "zXTQzNM9FY8A"
   },
   "source": [
    "Masked array"
   ]
  },
  {
   "cell_type": "code",
   "execution_count": null,
   "metadata": {
    "id": "4haLzSoBj67b"
   },
   "outputs": [],
   "source": [
    "# импортируем модуль ma\n",
    "import numpy.ma as ma"
   ]
  },
  {
   "cell_type": "code",
   "execution_count": null,
   "metadata": {
    "id": "R3UwkoSSF2Z0"
   },
   "outputs": [],
   "source": [
    "# вновь воспользуемся массивом с отрицательными числами\n",
    "a = np.array([5, 7, -3, 4, 2, -4])"
   ]
  },
  {
   "cell_type": "code",
   "execution_count": null,
   "metadata": {
    "colab": {
     "base_uri": "https://localhost:8080/"
    },
    "id": "waYAzKPUtCvS",
    "outputId": "26a29a73-ecf8-4cc2-abd7-b247d89dee98"
   },
   "outputs": [
    {
     "data": {
      "text/plain": [
       "masked_array(data=[5, 7, --, 4, 2, --],\n",
       "             mask=[False, False,  True, False, False,  True],\n",
       "       fill_value=999999)"
      ]
     },
     "execution_count": 17,
     "metadata": {},
     "output_type": "execute_result"
    }
   ],
   "source": [
    "# в отличие от Boolean mask, удаляются элементы со значением 1/True\n",
    "ma.masked_array(a, mask = [0, 0, 1, 0, 0, 1])"
   ]
  },
  {
   "cell_type": "code",
   "execution_count": null,
   "metadata": {
    "colab": {
     "base_uri": "https://localhost:8080/"
    },
    "id": "Zd525YFZtDk6",
    "outputId": "9ff02366-7cd1-4745-a7e1-baab39193eb1"
   },
   "outputs": [
    {
     "data": {
      "text/plain": [
       "masked_array(data=[5, 7, --, 4, 2, --],\n",
       "             mask=[False, False,  True, False, False,  True],\n",
       "       fill_value=999999)"
      ]
     },
     "execution_count": 18,
     "metadata": {},
     "output_type": "execute_result"
    }
   ],
   "source": [
    "# удаленные элементы заполняются \"--\"\n",
    "ma.masked_array(a, mask = [False, False, True, False, False, True])"
   ]
  },
  {
   "cell_type": "code",
   "execution_count": null,
   "metadata": {
    "colab": {
     "base_uri": "https://localhost:8080/"
    },
    "id": "Dmci0_mGtDw-",
    "outputId": "a98db562-9f2a-4ed5-dfb8-60cb487e9ee5"
   },
   "outputs": [
    {
     "data": {
      "text/plain": [
       "masked_array(data=[5, 7, --, 4, 2, --],\n",
       "             mask=[False, False,  True, False, False,  True],\n",
       "       fill_value=999999)"
      ]
     },
     "execution_count": 20,
     "metadata": {},
     "output_type": "execute_result"
    }
   ],
   "source": [
    "# для некоторых условий есть отдельные функции\n",
    "ma.masked_less(a, 0)"
   ]
  },
  {
   "cell_type": "code",
   "execution_count": null,
   "metadata": {
    "colab": {
     "base_uri": "https://localhost:8080/"
    },
    "id": "N7_Qx-XeuMNz",
    "outputId": "f0e779ed-28e1-4aec-ff06-30f6548d8f66"
   },
   "outputs": [
    {
     "data": {
      "text/plain": [
       "nan"
      ]
     },
     "execution_count": 21,
     "metadata": {},
     "output_type": "execute_result"
    }
   ],
   "source": [
    "# если в массиве есть пропущенные значения или значение бесконечности\n",
    "b = np.array([5, 7, np.nan, 4, 2, np.inf])\n",
    "\n",
    "# сумма элементов массива будет пропущенным значением\n",
    "b.sum()"
   ]
  },
  {
   "cell_type": "code",
   "execution_count": null,
   "metadata": {
    "colab": {
     "base_uri": "https://localhost:8080/"
    },
    "id": "oC94fSG5uktr",
    "outputId": "6830461e-9335-4134-8b6c-77d016cb4ebf"
   },
   "outputs": [
    {
     "data": {
      "text/plain": [
       "masked_array(data=[5.0, 7.0, --, 4.0, 2.0, --],\n",
       "             mask=[False, False,  True, False, False,  True],\n",
       "       fill_value=1e+20)"
      ]
     },
     "execution_count": 26,
     "metadata": {},
     "output_type": "execute_result"
    }
   ],
   "source": [
    "# мы можем применить функцию masked_invalid()\n",
    "b_masked = ma.masked_invalid(b)\n",
    "b_masked"
   ]
  },
  {
   "cell_type": "code",
   "execution_count": null,
   "metadata": {
    "colab": {
     "base_uri": "https://localhost:8080/"
    },
    "id": "YpoazmsFuy_A",
    "outputId": "6cc8c6cf-ecc0-4ace-feb5-f50744f79999"
   },
   "outputs": [
    {
     "data": {
      "text/plain": [
       "18.0"
      ]
     },
     "execution_count": 27,
     "metadata": {},
     "output_type": "execute_result"
    }
   ],
   "source": [
    "# и без труда рассчитать сумму\n",
    "b_masked.sum()"
   ]
  },
  {
   "cell_type": "code",
   "execution_count": null,
   "metadata": {
    "colab": {
     "base_uri": "https://localhost:8080/"
    },
    "id": "DrGVrT_bvaxA",
    "outputId": "733d29e1-740c-45eb-96cb-c07f4403411a"
   },
   "outputs": [
    {
     "data": {
      "text/plain": [
       "array([5. , 7. , 4.5, 4. , 2. , 4.5])"
      ]
     },
     "execution_count": 28,
     "metadata": {},
     "output_type": "execute_result"
    }
   ],
   "source": [
    "# с помощью метода .filled() мы можем заполнить пропуски\n",
    "# например, средним значением оставшихся элементов\n",
    "b_masked.filled(b_masked.mean())"
   ]
  },
  {
   "cell_type": "markdown",
   "metadata": {
    "id": "Nd0GIJC5Pt7C"
   },
   "source": [
    "### Документация"
   ]
  },
  {
   "cell_type": "code",
   "execution_count": null,
   "metadata": {
    "id": "u-v3tXKDQDYx"
   },
   "outputs": [],
   "source": [
    "# вывод справки по функции с помощью знака вопроса\n",
    "print?"
   ]
  },
  {
   "cell_type": "code",
   "execution_count": null,
   "metadata": {
    "id": "luD3fdSLQDdQ"
   },
   "outputs": [],
   "source": [
    "# знак вопроса может стоять и перед функцией\n",
    "?print"
   ]
  },
  {
   "cell_type": "code",
   "execution_count": null,
   "metadata": {
    "colab": {
     "base_uri": "https://localhost:8080/"
    },
    "id": "1gOmlMFDIpMo",
    "outputId": "ed9ce96e-5586-470b-8704-50e9735c559c"
   },
   "outputs": [
    {
     "name": "stdout",
     "output_type": "stream",
     "text": [
      "Help on built-in function print in module builtins:\n",
      "\n",
      "print(...)\n",
      "    print(value, ..., sep=' ', end='\\n', file=sys.stdout, flush=False)\n",
      "    \n",
      "    Prints the values to a stream, or to sys.stdout by default.\n",
      "    Optional keyword arguments:\n",
      "    file:  a file-like object (stream); defaults to the current sys.stdout.\n",
      "    sep:   string inserted between values, default a space.\n",
      "    end:   string appended after the last value, default a newline.\n",
      "    flush: whether to forcibly flush the stream.\n",
      "\n"
     ]
    }
   ],
   "source": [
    "# можно использовать функцию help()\n",
    "help(print)"
   ]
  },
  {
   "cell_type": "code",
   "execution_count": null,
   "metadata": {
    "colab": {
     "base_uri": "https://localhost:8080/"
    },
    "id": "cArO8TOsQDiQ",
    "outputId": "0d2a4dd5-956e-4696-8bf6-8eb1489e881a"
   },
   "outputs": [
    {
     "name": "stdout",
     "output_type": "stream",
     "text": [
      "Search results for 'randint'\n",
      "----------------------------\n",
      "numpy.random.RandomState.randint\n",
      "    Return random integers from `low` (inclusive) to `high` (exclusive).\n",
      "numpy.chararray.item\n",
      "    a.item(*args)\n",
      "numpy.chararray.itemset\n",
      "    a.itemset(*args)\n",
      "numpy.random.tests.test_random.TestRandint.rfunc\n",
      "    Return random integers from `low` (inclusive) to `high` (exclusive).\n",
      "numpy.random.Generator.integers\n",
      "    Return random integers from `low` (inclusive) to `high` (exclusive), or\n",
      "numpy.random.RandomState.choice\n",
      "    Generates a random sample from a given 1-D array\n",
      "numpy.random.RandomState.uniform\n",
      "    Draw samples from a uniform distribution.\n",
      "numpy.random.RandomState.tomaxint\n",
      "    Return a sample of uniformly distributed random integers in the interval\n",
      "numpy.random.RandomState.random_integers\n",
      "    Random integers of type `np.int_` between `low` and `high`, inclusive.\n",
      "numpy.random.tests.test_generator_mt19937.TestIntegers.rfunc\n",
      "    Return random integers from `low` (inclusive) to `high` (exclusive), or"
     ]
    }
   ],
   "source": [
    "# поиск по ключевому слову в документации библиотеки Numpy\n",
    "# результаты отсортированы по важности\n",
    "np.lookfor('randint')"
   ]
  },
  {
   "cell_type": "markdown",
   "metadata": {
    "id": "WHZNGnneQgmM"
   },
   "source": [
    "### Упражнения"
   ]
  },
  {
   "cell_type": "markdown",
   "metadata": {
    "id": "ioenrkzkv6o2"
   },
   "source": [
    "**Задание 1**. Создайте двумерный массив 2 x 8 с помощью `np.arange()` и `np.reshape()`. Выведите основные атрибуты массива."
   ]
  },
  {
   "cell_type": "code",
   "execution_count": null,
   "metadata": {
    "id": "PIoTRwJz2B7H"
   },
   "outputs": [],
   "source": []
  },
  {
   "cell_type": "markdown",
   "metadata": {
    "id": "orCIlCttwzhB"
   },
   "source": [
    "**Задание 2**. Выведите последний элемент первой строки, а затем третий по счету столбец."
   ]
  },
  {
   "cell_type": "code",
   "execution_count": null,
   "metadata": {
    "id": "rwf-WDbkxBJs"
   },
   "outputs": [],
   "source": []
  },
  {
   "cell_type": "markdown",
   "metadata": {
    "id": "9mWpk762xBlp"
   },
   "source": [
    "**Задание 3**. Найдите средние значения вдоль последней оси массива.\n",
    "\n",
    "Подсказка: используйте метод `.mean()`"
   ]
  },
  {
   "cell_type": "code",
   "execution_count": null,
   "metadata": {
    "id": "xIND1mc0xX99"
   },
   "outputs": [],
   "source": []
  },
  {
   "cell_type": "markdown",
   "metadata": {
    "id": "LvJjWMw0xfxU"
   },
   "source": [
    "**Задание 4**. Замените первые два элемента второй строки и весь последний столбец на значение 3."
   ]
  },
  {
   "cell_type": "code",
   "execution_count": null,
   "metadata": {
    "id": "gCQkpyJ1xlLC"
   },
   "outputs": [],
   "source": []
  },
  {
   "cell_type": "markdown",
   "metadata": {
    "id": "YH7j87zixtB-"
   },
   "source": [
    "**Задание 5**. Отсортируйте первую строку массива от большего к меньшему значению."
   ]
  },
  {
   "cell_type": "code",
   "execution_count": null,
   "metadata": {
    "id": "1EgIYicbx_8s"
   },
   "outputs": [],
   "source": []
  },
  {
   "cell_type": "markdown",
   "metadata": {
    "id": "IFCcpZJQyOxJ"
   },
   "source": [
    "**Задание 6**. Преобразуйте массив в квадратную матрицу 4 x 4."
   ]
  },
  {
   "cell_type": "code",
   "execution_count": null,
   "metadata": {
    "id": "SHhVPwXVybuk"
   },
   "outputs": [],
   "source": []
  },
  {
   "cell_type": "markdown",
   "metadata": {
    "id": "06ATYofQyb_z"
   },
   "source": [
    "**Задание 7**. Используйте Boolean mask или masked array и опустите значения, которые больше шести."
   ]
  },
  {
   "cell_type": "code",
   "execution_count": null,
   "metadata": {
    "id": "pX_lz7zOiNMM"
   },
   "outputs": [],
   "source": []
  },
  {
   "cell_type": "code",
   "execution_count": null,
   "metadata": {
    "colab": {
     "base_uri": "https://localhost:8080/"
    },
    "id": "QneGjzNly3lB",
    "outputId": "76d22253-0393-4646-ca54-a54d52928acd"
   },
   "outputs": [
    {
     "data": {
      "text/plain": [
       "masked_array(\n",
       "  data=[[--, 1],\n",
       "        [2, 3]],\n",
       "  mask=[[ True, False],\n",
       "        [False, False]],\n",
       "  fill_value=999999)"
      ]
     },
     "execution_count": 95,
     "metadata": {},
     "output_type": "execute_result"
    }
   ],
   "source": [
    "# подсказка: маска двумерного массива - это тоже массив 2D\n",
    "c = np.array([[0, 1], [2, 3]])\n",
    "\n",
    "# оставим только те значения, которые больше нуля\n",
    "ma.masked_array(c, mask = [[1, 0], [0, 0]])"
   ]
  },
  {
   "cell_type": "code",
   "execution_count": null,
   "metadata": {
    "id": "LyM6l6ZCzyMq"
   },
   "outputs": [],
   "source": []
  }
 ],
 "metadata": {
  "colab": {
   "provenance": [],
   "toc_visible": true
  },
  "kernelspec": {
   "display_name": "Python 3 (ipykernel)",
   "language": "python",
   "name": "python3"
  },
  "language_info": {
   "codemirror_mode": {
    "name": "ipython",
    "version": 3
   },
   "file_extension": ".py",
   "mimetype": "text/x-python",
   "name": "python",
   "nbconvert_exporter": "python",
   "pygments_lexer": "ipython3",
   "version": "3.10.9"
  }
 },
 "nbformat": 4,
 "nbformat_minor": 1
}
