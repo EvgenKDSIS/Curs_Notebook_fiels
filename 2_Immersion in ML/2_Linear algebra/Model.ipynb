{
 "cells": [
  {
   "cell_type": "markdown",
   "id": "b1c16a6e",
   "metadata": {},
   "source": [
    "# Задание\n",
    "Построить модель машинного обучения, позволяющую предсказать, является ли цветок цветком класса Ирис-Вирджиния или нет.\n",
    "\n",
    "План решения:\n",
    "\n",
    "1. Из библиотеки scikit-learn подгрузите данные. Мы уже работали с ними в рамках Темы 1.\n",
    "\n",
    "2. Сформируйте новое поле target_virginica, которое будет равно из 0, если цветок не является классом 2, иначе  — 1. Убедитесь, что разметка выполнена корректно, рассчитав количество объектов каждого класса по новой целевой переменной target_virginica.\n",
    "\n",
    "3. Обучите библиотечную модель логистической регрессии на обучающей части данных.\n",
    "\n",
    "4. Оцените качество модели, выведя матрицу ошибок для прогнозов обученной моделью на тестовой части данных.\n",
    "\n",
    "5. Сконструируйте свой класс MyLogisticRegression, решающий задачу логистической регрессии методом градиентного спуска.\n",
    "\n",
    "    a. Он должен инициализироваться величиной шага градиентного спуска и количеством итераций градиентного спуска.\n",
    "\n",
    "    b. Должен содержать метод fit для обучения модели, на вход которой будут подаваться обучающие данные. Чтобы реализовать функцию sigmoid, можно воспользоваться библиотечной функцией np.exp. Для расчета градиента необходимо использовать формулу, приведенную в курсе в блоке «Логистическая регрессия для решения задачи бинарной классификации».\n",
    "\n",
    "    c. Должен содержаться метод predict, который будет возвращать лейбл 0/1. Лейбл должен рассчитываться из вероятности принадлежности классу 1. Вероятность должна рассчитываться как сигмоида от результата произведения матрицы фичей X и вектора весов модели w.\n",
    "\n",
    "6. Оцените качество модели, выведя матрицу ошибок для прогнозов обученной моделью на тестовой части данных.\n",
    "\n",
    "7. Подберите такие параметры градиентного спуска, чтобы разделение получилось не хуже, чем у библиотечной модели."
   ]
  },
  {
   "cell_type": "code",
   "execution_count": 1,
   "id": "0e028db2",
   "metadata": {},
   "outputs": [],
   "source": [
    "# Для начала импорт все нужный пакетов\n",
    "import numpy as np\n",
    "import pandas as pd\n",
    "\n",
    "from sklearn.model_selection import train_test_split\n",
    "from sklearn.datasets import load_iris\n",
    "from sklearn.metrics import mean_absolute_error, mean_squared_error, ConfusionMatrixDisplay, confusion_matrix\n",
    "from sklearn.linear_model import LogisticRegression"
   ]
  },
  {
   "cell_type": "code",
   "execution_count": 2,
   "id": "f2b56753",
   "metadata": {},
   "outputs": [],
   "source": [
    "df = load_iris(as_frame=True) "
   ]
  },
  {
   "cell_type": "markdown",
   "id": "d9fbe36f",
   "metadata": {},
   "source": [
    "**Информация о данных ириса**"
   ]
  },
  {
   "cell_type": "code",
   "execution_count": 3,
   "id": "622c1306",
   "metadata": {},
   "outputs": [
    {
     "name": "stdout",
     "output_type": "stream",
     "text": [
      ".. _iris_dataset:\n",
      "\n",
      "Iris plants dataset\n",
      "--------------------\n",
      "\n",
      "**Data Set Characteristics:**\n",
      "\n",
      "    :Number of Instances: 150 (50 in each of three classes)\n",
      "    :Number of Attributes: 4 numeric, predictive attributes and the class\n",
      "    :Attribute Information:\n",
      "        - sepal length in cm\n",
      "        - sepal width in cm\n",
      "        - petal length in cm\n",
      "        - petal width in cm\n",
      "        - class:\n",
      "                - Iris-Setosa\n",
      "                - Iris-Versicolour\n",
      "                - Iris-Virginica\n",
      "                \n",
      "    :Summary Statistics:\n",
      "\n",
      "    ============== ==== ==== ======= ===== ====================\n",
      "                    Min  Max   Mean    SD   Class Correlation\n",
      "    ============== ==== ==== ======= ===== ====================\n",
      "    sepal length:   4.3  7.9   5.84   0.83    0.7826\n",
      "    sepal width:    2.0  4.4   3.05   0.43   -0.4194\n",
      "    petal length:   1.0  6.9   3.76   1.76    0.9490  (high!)\n",
      "    petal width:    0.1  2.5   1.20   0.76    0.9565  (high!)\n",
      "    ============== ==== ==== ======= ===== ====================\n",
      "\n",
      "    :Missing Attribute Values: None\n",
      "    :Class Distribution: 33.3% for each of 3 classes.\n",
      "    :Creator: R.A. Fisher\n",
      "    :Donor: Michael Marshall (MARSHALL%PLU@io.arc.nasa.gov)\n",
      "    :Date: July, 1988\n",
      "\n",
      "The famous Iris database, first used by Sir R.A. Fisher. The dataset is taken\n",
      "from Fisher's paper. Note that it's the same as in R, but not as in the UCI\n",
      "Machine Learning Repository, which has two wrong data points.\n",
      "\n",
      "This is perhaps the best known database to be found in the\n",
      "pattern recognition literature.  Fisher's paper is a classic in the field and\n",
      "is referenced frequently to this day.  (See Duda & Hart, for example.)  The\n",
      "data set contains 3 classes of 50 instances each, where each class refers to a\n",
      "type of iris plant.  One class is linearly separable from the other 2; the\n",
      "latter are NOT linearly separable from each other.\n",
      "\n",
      ".. topic:: References\n",
      "\n",
      "   - Fisher, R.A. \"The use of multiple measurements in taxonomic problems\"\n",
      "     Annual Eugenics, 7, Part II, 179-188 (1936); also in \"Contributions to\n",
      "     Mathematical Statistics\" (John Wiley, NY, 1950).\n",
      "   - Duda, R.O., & Hart, P.E. (1973) Pattern Classification and Scene Analysis.\n",
      "     (Q327.D83) John Wiley & Sons.  ISBN 0-471-22361-1.  See page 218.\n",
      "   - Dasarathy, B.V. (1980) \"Nosing Around the Neighborhood: A New System\n",
      "     Structure and Classification Rule for Recognition in Partially Exposed\n",
      "     Environments\".  IEEE Transactions on Pattern Analysis and Machine\n",
      "     Intelligence, Vol. PAMI-2, No. 1, 67-71.\n",
      "   - Gates, G.W. (1972) \"The Reduced Nearest Neighbor Rule\".  IEEE Transactions\n",
      "     on Information Theory, May 1972, 431-433.\n",
      "   - See also: 1988 MLC Proceedings, 54-64.  Cheeseman et al\"s AUTOCLASS II\n",
      "     conceptual clustering system finds 3 classes in the data.\n",
      "   - Many, many more ...\n"
     ]
    }
   ],
   "source": [
    "print(df.DESCR)"
   ]
  },
  {
   "cell_type": "code",
   "execution_count": 4,
   "id": "37e31764",
   "metadata": {},
   "outputs": [],
   "source": [
    "df = load_iris(as_frame=True).frame"
   ]
  },
  {
   "cell_type": "code",
   "execution_count": 5,
   "id": "0e29d7bd",
   "metadata": {},
   "outputs": [
    {
     "name": "stdout",
     "output_type": "stream",
     "text": [
      "<class 'pandas.core.frame.DataFrame'>\n",
      "RangeIndex: 150 entries, 0 to 149\n",
      "Data columns (total 5 columns):\n",
      " #   Column             Non-Null Count  Dtype  \n",
      "---  ------             --------------  -----  \n",
      " 0   sepal length (cm)  150 non-null    float64\n",
      " 1   sepal width (cm)   150 non-null    float64\n",
      " 2   petal length (cm)  150 non-null    float64\n",
      " 3   petal width (cm)   150 non-null    float64\n",
      " 4   target             150 non-null    int32  \n",
      "dtypes: float64(4), int32(1)\n",
      "memory usage: 5.4 KB\n"
     ]
    }
   ],
   "source": [
    "df.info() # просматриваем общую информацию"
   ]
  },
  {
   "cell_type": "code",
   "execution_count": 6,
   "id": "c60a16df",
   "metadata": {},
   "outputs": [
    {
     "data": {
      "text/plain": [
       "0    50\n",
       "1    50\n",
       "2    50\n",
       "Name: target, dtype: int64"
      ]
     },
     "execution_count": 6,
     "metadata": {},
     "output_type": "execute_result"
    }
   ],
   "source": [
    "df.target.value_counts() # просамтрием количество значений принадлежащих к тому или иному классу"
   ]
  },
  {
   "cell_type": "markdown",
   "id": "2ed357b1",
   "metadata": {},
   "source": [
    "Создаем столбец target_virginica, в котором строка будет равна 0, если значение не равно 2, иначе  1"
   ]
  },
  {
   "cell_type": "code",
   "execution_count": 7,
   "id": "b60eb4c5",
   "metadata": {},
   "outputs": [],
   "source": [
    "df['target_virginica'] = df.target.apply(lambda x: 0 if x != 2 else 1)"
   ]
  },
  {
   "cell_type": "code",
   "execution_count": 8,
   "id": "eb268cf4",
   "metadata": {},
   "outputs": [
    {
     "data": {
      "text/plain": [
       "0    100\n",
       "1     50\n",
       "Name: target_virginica, dtype: int64"
      ]
     },
     "execution_count": 8,
     "metadata": {},
     "output_type": "execute_result"
    }
   ],
   "source": [
    "# Проверяем\n",
    "df['target_virginica'].value_counts() "
   ]
  },
  {
   "cell_type": "code",
   "execution_count": 9,
   "id": "5c457ded",
   "metadata": {},
   "outputs": [],
   "source": [
    "# определение переменных-предикторов и переменной ответа\n",
    "X = df.loc[:, (df.columns != 'target') & (df.columns != 'target_virginica')]\n",
    "y = df['target_virginica']"
   ]
  },
  {
   "cell_type": "code",
   "execution_count": 10,
   "id": "8e04de87",
   "metadata": {},
   "outputs": [],
   "source": [
    "# разделение набора данных на обучающий (70%) и тестовые (30%) наборы\n",
    "X_train, X_test, y_train, y_test = train_test_split(X, y, test_size=0.3, random_state=0)"
   ]
  },
  {
   "cell_type": "code",
   "execution_count": 11,
   "id": "9eb9e722",
   "metadata": {},
   "outputs": [],
   "source": [
    "model = LogisticRegression()\n",
    "\n",
    "# тренировка модели с использованием обучающих данных\n",
    "model.fit(X_train,y_train)\n",
    "\n",
    "# используем модель для составления прогнозов на основе тестовых данных\n",
    "y_pred = model.predict(X_test)"
   ]
  },
  {
   "cell_type": "markdown",
   "id": "c3705963",
   "metadata": {},
   "source": [
    "# Выведем матрицу ошибок"
   ]
  },
  {
   "cell_type": "code",
   "execution_count": 12,
   "id": "4d11b265",
   "metadata": {},
   "outputs": [
    {
     "data": {
      "text/plain": [
       "<sklearn.metrics._plot.confusion_matrix.ConfusionMatrixDisplay at 0x18b7e0306a0>"
      ]
     },
     "execution_count": 12,
     "metadata": {},
     "output_type": "execute_result"
    },
    {
     "data": {
      "image/png": "[encoded data removed]",
      "text/plain": [
       "<Figure size 640x480 with 2 Axes>"
      ]
     },
     "metadata": {},
     "output_type": "display_data"
    }
   ],
   "source": [
    "ConfusionMatrixDisplay(confusion_matrix(y_test, y_pred)).plot()"
   ]
  },
  {
   "cell_type": "markdown",
   "id": "fb8a4c84",
   "metadata": {},
   "source": [
    "# Напишем свой класс MyLogisticRegression, решающий задачу логистической регрессии методом градиентного спуска."
   ]
  },
  {
   "cell_type": "code",
   "execution_count": 13,
   "id": "6f3d1b92",
   "metadata": {},
   "outputs": [],
   "source": [
    "class MyLogisticRegression: \n",
    "    \"\"\"Класс, реализующий логистическую регрессию методом градиентного спуска\"\"\"\n",
    "    \n",
    "    def __init__(self, alpha=0.1, n_iterations=10000):\n",
    "        \"\"\"Конструктор класса.\n",
    "           alpha: величина шага градиентного спуска\n",
    "           n_iterations: количество итераций градиентного спуска\"\"\"\n",
    "        self.alpha = alpha\n",
    "        self.n_iterations = n_iterations\n",
    "\n",
    "    def sigmoid(self, z):\n",
    "        \"\"\"Функция, реализующая сигмоиду\"\"\"\n",
    "        return 1 / (1 + np.exp(-z))\n",
    "\n",
    "    def fit(self, X, y):\n",
    "        \"\"\"Метод для обучения модели\"\"\"\n",
    "        n_samples, n_features = X.shape\n",
    "        self.weights = np.zeros(n_features)\n",
    "    \n",
    "        for i in range(self.n_iterations):\n",
    "            z = np.dot(X, self.weights)\n",
    "            h = self.sigmoid(z)\n",
    "            gradient = np.dot(X.T, (h - y)) / n_samples\n",
    "            self.weights -= self.alpha * gradient\n",
    "\n",
    "    def predict(self, X):\n",
    "        \"\"\"Метод для предсказания лейблов\"\"\"\n",
    "        z = np.dot(X, self.weights)\n",
    "        h = self.sigmoid(z)\n",
    "        return np.round(h)"
   ]
  },
  {
   "cell_type": "markdown",
   "id": "6ab5de75",
   "metadata": {},
   "source": [
    "# Протестируем наш класс"
   ]
  },
  {
   "cell_type": "code",
   "execution_count": 14,
   "id": "0fd343be",
   "metadata": {},
   "outputs": [],
   "source": [
    "my_model = MyLogisticRegression()\n",
    "\n",
    "# тренировка модели с использованием обучающих данных\n",
    "my_model.fit(X_train,y_train)\n",
    "\n",
    "# используем модель для составления прогнозов на основе тестовых данных\n",
    "my_y_pred = my_model.predict(X_test)"
   ]
  },
  {
   "cell_type": "code",
   "execution_count": 15,
   "id": "9c0f0784",
   "metadata": {},
   "outputs": [
    {
     "data": {
      "text/plain": [
       "<sklearn.metrics._plot.confusion_matrix.ConfusionMatrixDisplay at 0x18b7e031bd0>"
      ]
     },
     "execution_count": 15,
     "metadata": {},
     "output_type": "execute_result"
    },
    {
     "data": {
      "image/png": "[encoded data removed]",
      "text/plain": [
       "<Figure size 640x480 with 2 Axes>"
      ]
     },
     "metadata": {},
     "output_type": "display_data"
    }
   ],
   "source": [
    "ConfusionMatrixDisplay(confusion_matrix(y_test, my_y_pred)).plot()"
   ]
  },
  {
   "cell_type": "code",
   "execution_count": 16,
   "id": "9e87a2f5",
   "metadata": {},
   "outputs": [
    {
     "data": {
      "text/plain": [
       "<sklearn.metrics._plot.confusion_matrix.ConfusionMatrixDisplay at 0x18b000ed450>"
      ]
     },
     "execution_count": 16,
     "metadata": {},
     "output_type": "execute_result"
    },
    {
     "data": {
      "image/png": "[encoded data removed]",
      "text/plain": [
       "<Figure size 640x480 with 2 Axes>"
      ]
     },
     "metadata": {},
     "output_type": "display_data"
    },
    {
     "data": {
      "image/png": "[encoded data removed]",
      "text/plain": [
       "<Figure size 640x480 with 2 Axes>"
      ]
     },
     "metadata": {},
     "output_type": "display_data"
    }
   ],
   "source": [
    "ConfusionMatrixDisplay(confusion_matrix(y_test, y_pred)).plot() # Логистическая регрессия библиотечная\n",
    "ConfusionMatrixDisplay(confusion_matrix(y_test, my_y_pred)).plot() # \"Кустарная\" логистическая регрессия"
   ]
  },
  {
   "cell_type": "markdown",
   "id": "a0299cdd",
   "metadata": {},
   "source": [
    "**Вывод** ☝️ Сверху тренированная модель библиотекой, а ниже резултат матрицы ошибок уже нашего класса, результаты достаточно близки"
   ]
  },
  {
   "cell_type": "markdown",
   "id": "65579a27",
   "metadata": {},
   "source": [
    "Задача выполнена"
   ]
  },
  {
   "cell_type": "code",
   "execution_count": null,
   "id": "ad3a22b9",
   "metadata": {},
   "outputs": [],
   "source": []
  }
 ],
 "metadata": {
  "kernelspec": {
   "display_name": "Python 3 (ipykernel)",
   "language": "python",
   "name": "python3"
  },
  "language_info": {
   "codemirror_mode": {
    "name": "ipython",
    "version": 3
   },
   "file_extension": ".py",
   "mimetype": "text/x-python",
   "name": "python",
   "nbconvert_exporter": "python",
   "pygments_lexer": "ipython3",
   "version": "3.10.9"
  }
 },
 "nbformat": 4,
 "nbformat_minor": 5
}
