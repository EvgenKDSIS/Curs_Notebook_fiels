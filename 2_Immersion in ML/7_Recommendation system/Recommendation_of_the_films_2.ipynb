{
 "cells": [
  {
   "cell_type": "markdown",
   "id": "197a5ad5",
   "metadata": {
    "id": "197a5ad5"
   },
   "source": [
    "# Задание\n",
    "Основные цели этого задания:\n",
    "\n",
    "- Научиться генерировать негативы.\n",
    "\n",
    "- Научиться настраивать алгоритмы коллаборативной фильтрации.\n",
    "\n",
    "Задача:\n",
    "\n",
    "Научиться рекомендовать пользователям фильмы на основе факта просмотра фильмов пользователями.\n",
    "\n",
    "План решения:\n",
    "\n",
    "1. Для решения задачи будем использовать те же данные, которые были использованы в скринкастах:\n",
    "\n",
    "> a. [MovieLens](https://grouplens.org/datasets/movielens/) — источник данных.\n",
    "\n",
    "> b. Предобработанные для обучения данные: история проставления оценок фильмам — ratings_df_sample_2.csv.\n",
    "\n",
    "2. Предположим, постановка рейтинга — обязательное по итогам просмотра фильмов действие. Основываясь на этом, сгенерируйте новый целевой признак «факт просмотра фильма пользователем», который будет равен 1 для всех пар пользователь * фильм из подгруженного датасета.\n",
    "\n",
    "3. А откуда взять «нолики»? В наших данных есть только пары пользователь * фильм, в которых пользователь точно смотрел фильм. Но для обучения модели нужны так называемые «негативы», то есть, пары, где пользователь фильм не смотрел. На практике приходится сталкиваться с необходимостью генерировать их вручную, давайте потренируемся это делать.\n",
    "\n",
    "> a. Сначала найдите уникальные id всех пользователей и уникальные id всех фильмов.\n",
    "\n",
    "> b. С помощью функции random.choice ([документация](https://numpy.org/doc/stable/reference/random/generated/numpy.random.choice.html)) сгенерируйте случайные пары пользователь * фильм\n",
    "\n",
    "> c. Поскольку среди сгенерированных пар могут быть и такие, что пользователь в них уже смотрел фильм, сгенерируйте побольше пар, например, удвоенное количество строк из источника. Это может занять пару минут.\n",
    "\n",
    "> d. Среди сгенерированных пар могут быть и дубликаты, удалите их.\n",
    "\n",
    "> e. Оставьте среди сгенерированных пар только те, в которых пользователь фильм не смотрел.\n",
    "\n",
    "> f. Возможно, пар получилось больше, чем нужно, выберите из них столько, сколько у нас строк в исходных данных.\n",
    "\n",
    "> g. Добавьте очищенные сгенерированные пары к исходным данным. Значение целевого признака в них будет равно нулю. Убедитесь, что у вас не появились дубликаты в датасете.\n",
    "\n",
    "4. Подготовьте датасет к обучению: отделите тестовую часть от тренировочной.\n",
    "\n",
    "5. Обучите dummy-model. Пусть она будет возвращать случайную вероятность принадлежности классу 1. Для этого можете использовать функцию random.random ([документация](https://numpy.org/doc/stable/reference/random/generated/numpy.random.random.html)). Оцените ее качество какой-то метрикой на свой вкус. Необходимо прогнозировать именно вероятность, чтобы была возможность ранжировать по ней варианты для рекомендации лучшего контента пользователю.\n",
    "\n",
    "6. Реализуйте три алгоритма коллаборативной фильтрации: user-, item-based и алгоритм на основе матричной факторизации. Оцените их качество и адекватность. Если качество недостаточно хорошее, попробуйте варьировать параметры: количество похожих пользователей/фильмов, количество элементов в матрицах при матричном разложении.\n",
    "\n",
    "7. Опишите вывод, содержащий информацию о том, какой алгоритм проявил себя лучше всего."
   ]
  },
  {
   "cell_type": "code",
   "execution_count": 1,
   "id": "886dc975",
   "metadata": {
    "id": "886dc975"
   },
   "outputs": [],
   "source": [
    "# Импорт нужных библиотек\n",
    "import pandas as pd\n",
    "import numpy as np\n",
    "import scipy.sparse as sp\n",
    "from sklearn.feature_extraction.text import TfidfVectorizer\n",
    "from sklearn.metrics.pairwise import cosine_distances\n",
    "from sklearn.model_selection import train_test_split\n",
    "from sklearn.metrics import roc_auc_score\n",
    "from scipy.sparse.linalg import svds\n",
    "\n",
    "pd.options.display.max_colwidth = 2000"
   ]
  },
  {
   "cell_type": "markdown",
   "id": "6038428e",
   "metadata": {
    "id": "6038428e"
   },
   "source": [
    "<div class=\"alert alert-info\">\n",
    "\n",
    "1. Для решения задачи будем использовать те же данные, которые были использованы в скринкастах:\n",
    "\n",
    "> a. MovieLens — источник данных.\n",
    "\n",
    "> b. Предобработанные для обучения данные: история проставления оценок фильмам — ratings_df_sample_2.csv."
   ]
  },
  {
   "cell_type": "code",
   "execution_count": 2,
   "id": "5f8e1035",
   "metadata": {
    "id": "5f8e1035"
   },
   "outputs": [],
   "source": [
    "# загрузка данных\n",
    "df = pd.read_csv('ratings_df_sample_2.csv')"
   ]
  },
  {
   "cell_type": "code",
   "execution_count": 3,
   "id": "69a45a35",
   "metadata": {
    "colab": {
     "base_uri": "https://localhost:8080/",
     "height": 206
    },
    "id": "69a45a35",
    "outputId": "654277d1-9b60-483a-ea9b-0894469f97ae"
   },
   "outputs": [
    {
     "data": {
      "text/html": [
       "<div>\n",
       "<style scoped>\n",
       "    .dataframe tbody tr th:only-of-type {\n",
       "        vertical-align: middle;\n",
       "    }\n",
       "\n",
       "    .dataframe tbody tr th {\n",
       "        vertical-align: top;\n",
       "    }\n",
       "\n",
       "    .dataframe thead th {\n",
       "        text-align: right;\n",
       "    }\n",
       "</style>\n",
       "<table border=\"1\" class=\"dataframe\">\n",
       "  <thead>\n",
       "    <tr style=\"text-align: right;\">\n",
       "      <th></th>\n",
       "      <th>userId</th>\n",
       "      <th>movieId</th>\n",
       "      <th>rating</th>\n",
       "      <th>timestamp</th>\n",
       "    </tr>\n",
       "  </thead>\n",
       "  <tbody>\n",
       "    <tr>\n",
       "      <th>0</th>\n",
       "      <td>54</td>\n",
       "      <td>2</td>\n",
       "      <td>3.0</td>\n",
       "      <td>974918176</td>\n",
       "    </tr>\n",
       "    <tr>\n",
       "      <th>1</th>\n",
       "      <td>54</td>\n",
       "      <td>32</td>\n",
       "      <td>5.0</td>\n",
       "      <td>974836809</td>\n",
       "    </tr>\n",
       "    <tr>\n",
       "      <th>2</th>\n",
       "      <td>54</td>\n",
       "      <td>47</td>\n",
       "      <td>4.0</td>\n",
       "      <td>974837760</td>\n",
       "    </tr>\n",
       "    <tr>\n",
       "      <th>3</th>\n",
       "      <td>54</td>\n",
       "      <td>50</td>\n",
       "      <td>4.0</td>\n",
       "      <td>974837760</td>\n",
       "    </tr>\n",
       "    <tr>\n",
       "      <th>4</th>\n",
       "      <td>54</td>\n",
       "      <td>223</td>\n",
       "      <td>5.0</td>\n",
       "      <td>974840217</td>\n",
       "    </tr>\n",
       "  </tbody>\n",
       "</table>\n",
       "</div>"
      ],
      "text/plain": [
       "   userId  movieId  rating  timestamp\n",
       "0      54        2     3.0  974918176\n",
       "1      54       32     5.0  974836809\n",
       "2      54       47     4.0  974837760\n",
       "3      54       50     4.0  974837760\n",
       "4      54      223     5.0  974840217"
      ]
     },
     "execution_count": 3,
     "metadata": {},
     "output_type": "execute_result"
    }
   ],
   "source": [
    "df.head()"
   ]
  },
  {
   "cell_type": "code",
   "execution_count": 4,
   "id": "ab66e287",
   "metadata": {
    "colab": {
     "base_uri": "https://localhost:8080/"
    },
    "id": "ab66e287",
    "outputId": "1f868d25-c626-4553-9e23-0a24e153358f"
   },
   "outputs": [
    {
     "name": "stdout",
     "output_type": "stream",
     "text": [
      "<class 'pandas.core.frame.DataFrame'>\n",
      "RangeIndex: 6040099 entries, 0 to 6040098\n",
      "Data columns (total 4 columns):\n",
      " #   Column     Non-Null Count    Dtype  \n",
      "---  ------     --------------    -----  \n",
      " 0   userId     6040099 non-null  int64  \n",
      " 1   movieId    6040099 non-null  int64  \n",
      " 2   rating     6040099 non-null  float64\n",
      " 3   timestamp  6040099 non-null  int64  \n",
      "dtypes: float64(1), int64(3)\n",
      "memory usage: 184.3 MB\n"
     ]
    }
   ],
   "source": [
    "df.info(show_counts=True)"
   ]
  },
  {
   "cell_type": "markdown",
   "id": "4bfab81d",
   "metadata": {
    "id": "4bfab81d"
   },
   "source": [
    "<div class=\"alert alert-success\">\n",
    "Никаких пропусков не обнаружено"
   ]
  },
  {
   "cell_type": "markdown",
   "id": "a6a0b933",
   "metadata": {},
   "source": [
    "<div class=\"alert alert-info\">\n",
    "\n",
    "2. Предположим, постановка рейтинга — обязательное по итогам просмотра фильмов действие. Основываясь на этом, сгенерируйте новый целевой признак «факт просмотра фильма пользователем», который будет равен 1 для всех пар пользователь * фильм из подгруженного датасета."
   ]
  },
  {
   "cell_type": "code",
   "execution_count": 5,
   "id": "b69a0893",
   "metadata": {},
   "outputs": [],
   "source": [
    "df['film_watch'] = 1"
   ]
  },
  {
   "cell_type": "code",
   "execution_count": 6,
   "id": "e885d8c9",
   "metadata": {},
   "outputs": [
    {
     "data": {
      "text/html": [
       "<div>\n",
       "<style scoped>\n",
       "    .dataframe tbody tr th:only-of-type {\n",
       "        vertical-align: middle;\n",
       "    }\n",
       "\n",
       "    .dataframe tbody tr th {\n",
       "        vertical-align: top;\n",
       "    }\n",
       "\n",
       "    .dataframe thead th {\n",
       "        text-align: right;\n",
       "    }\n",
       "</style>\n",
       "<table border=\"1\" class=\"dataframe\">\n",
       "  <thead>\n",
       "    <tr style=\"text-align: right;\">\n",
       "      <th></th>\n",
       "      <th>userId</th>\n",
       "      <th>movieId</th>\n",
       "      <th>rating</th>\n",
       "      <th>timestamp</th>\n",
       "      <th>film_watch</th>\n",
       "    </tr>\n",
       "  </thead>\n",
       "  <tbody>\n",
       "    <tr>\n",
       "      <th>75156</th>\n",
       "      <td>2992</td>\n",
       "      <td>3996</td>\n",
       "      <td>4.0</td>\n",
       "      <td>992929114</td>\n",
       "      <td>1</td>\n",
       "    </tr>\n",
       "    <tr>\n",
       "      <th>2705020</th>\n",
       "      <td>112988</td>\n",
       "      <td>5378</td>\n",
       "      <td>3.5</td>\n",
       "      <td>1116650055</td>\n",
       "      <td>1</td>\n",
       "    </tr>\n",
       "    <tr>\n",
       "      <th>5397984</th>\n",
       "      <td>56221</td>\n",
       "      <td>56174</td>\n",
       "      <td>2.5</td>\n",
       "      <td>1200915277</td>\n",
       "      <td>1</td>\n",
       "    </tr>\n",
       "    <tr>\n",
       "      <th>4003045</th>\n",
       "      <td>10292</td>\n",
       "      <td>180</td>\n",
       "      <td>5.0</td>\n",
       "      <td>1124502211</td>\n",
       "      <td>1</td>\n",
       "    </tr>\n",
       "    <tr>\n",
       "      <th>889547</th>\n",
       "      <td>36460</td>\n",
       "      <td>909</td>\n",
       "      <td>4.0</td>\n",
       "      <td>945584951</td>\n",
       "      <td>1</td>\n",
       "    </tr>\n",
       "    <tr>\n",
       "      <th>5081280</th>\n",
       "      <td>120416</td>\n",
       "      <td>1527</td>\n",
       "      <td>4.0</td>\n",
       "      <td>1020534269</td>\n",
       "      <td>1</td>\n",
       "    </tr>\n",
       "    <tr>\n",
       "      <th>4177230</th>\n",
       "      <td>28512</td>\n",
       "      <td>1249</td>\n",
       "      <td>3.0</td>\n",
       "      <td>944340285</td>\n",
       "      <td>1</td>\n",
       "    </tr>\n",
       "    <tr>\n",
       "      <th>570905</th>\n",
       "      <td>22966</td>\n",
       "      <td>2085</td>\n",
       "      <td>2.5</td>\n",
       "      <td>1083103994</td>\n",
       "      <td>1</td>\n",
       "    </tr>\n",
       "    <tr>\n",
       "      <th>4937105</th>\n",
       "      <td>105333</td>\n",
       "      <td>6373</td>\n",
       "      <td>2.0</td>\n",
       "      <td>1422372202</td>\n",
       "      <td>1</td>\n",
       "    </tr>\n",
       "    <tr>\n",
       "      <th>3321752</th>\n",
       "      <td>2311</td>\n",
       "      <td>593</td>\n",
       "      <td>5.0</td>\n",
       "      <td>955473595</td>\n",
       "      <td>1</td>\n",
       "    </tr>\n",
       "  </tbody>\n",
       "</table>\n",
       "</div>"
      ],
      "text/plain": [
       "         userId  movieId  rating   timestamp  film_watch\n",
       "75156      2992     3996     4.0   992929114           1\n",
       "2705020  112988     5378     3.5  1116650055           1\n",
       "5397984   56221    56174     2.5  1200915277           1\n",
       "4003045   10292      180     5.0  1124502211           1\n",
       "889547    36460      909     4.0   945584951           1\n",
       "5081280  120416     1527     4.0  1020534269           1\n",
       "4177230   28512     1249     3.0   944340285           1\n",
       "570905    22966     2085     2.5  1083103994           1\n",
       "4937105  105333     6373     2.0  1422372202           1\n",
       "3321752    2311      593     5.0   955473595           1"
      ]
     },
     "execution_count": 6,
     "metadata": {},
     "output_type": "execute_result"
    }
   ],
   "source": [
    "df.sample(10)"
   ]
  },
  {
   "cell_type": "markdown",
   "id": "4ba070f1",
   "metadata": {
    "id": "4ba070f1"
   },
   "source": [
    "Для удобства отмасштабируем идентификаторы фильмов и пользователей.\n",
    "\n",
    "Этот метод позволит находить фильм по индексу матрицы (i-й столбец матрицы это i-й фильм)"
   ]
  },
  {
   "cell_type": "code",
   "execution_count": 7,
   "id": "dbff690f",
   "metadata": {
    "colab": {
     "base_uri": "https://localhost:8080/"
    },
    "id": "dbff690f",
    "outputId": "d6e0d8cc-371a-43cc-a0ca-be30552af678"
   },
   "outputs": [
    {
     "name": "stdout",
     "output_type": "stream",
     "text": [
      "CPU times: total: 36.3 s\n",
      "Wall time: 42.6 s\n"
     ]
    }
   ],
   "source": [
    "%%time\n",
    "\n",
    "movies_values = df['movieId'].unique()\n",
    "df['movieId'] = df['movieId'].apply(lambda f: np.where(movies_values == f)[0][0])"
   ]
  },
  {
   "cell_type": "markdown",
   "id": "8598b0c8",
   "metadata": {
    "id": "8598b0c8"
   },
   "source": [
    "Тоже самое сделаем и с ID пользователей"
   ]
  },
  {
   "cell_type": "code",
   "execution_count": 8,
   "id": "5e00e751",
   "metadata": {
    "colab": {
     "base_uri": "https://localhost:8080/"
    },
    "id": "5e00e751",
    "outputId": "da4556a1-c7bc-4c77-f3ff-1a2f01c64a99"
   },
   "outputs": [
    {
     "name": "stdout",
     "output_type": "stream",
     "text": [
      "CPU times: total: 1min 39s\n",
      "Wall time: 1min 57s\n"
     ]
    }
   ],
   "source": [
    "%%time\n",
    "\n",
    "users_values = df['userId'].unique()\n",
    "df['userId'] = df['userId'].apply(lambda f: np.where(users_values == f)[0][0])"
   ]
  },
  {
   "cell_type": "code",
   "execution_count": 9,
   "id": "iVwdiGTpEzwr",
   "metadata": {
    "colab": {
     "base_uri": "https://localhost:8080/"
    },
    "id": "iVwdiGTpEzwr",
    "outputId": "321177e9-e097-47a3-a192-7fa23a35173b"
   },
   "outputs": [
    {
     "data": {
      "text/html": [
       "<div>\n",
       "<style scoped>\n",
       "    .dataframe tbody tr th:only-of-type {\n",
       "        vertical-align: middle;\n",
       "    }\n",
       "\n",
       "    .dataframe tbody tr th {\n",
       "        vertical-align: top;\n",
       "    }\n",
       "\n",
       "    .dataframe thead th {\n",
       "        text-align: right;\n",
       "    }\n",
       "</style>\n",
       "<table border=\"1\" class=\"dataframe\">\n",
       "  <thead>\n",
       "    <tr style=\"text-align: right;\">\n",
       "      <th></th>\n",
       "      <th>userId</th>\n",
       "      <th>movieId</th>\n",
       "      <th>rating</th>\n",
       "      <th>timestamp</th>\n",
       "      <th>film_watch</th>\n",
       "    </tr>\n",
       "  </thead>\n",
       "  <tbody>\n",
       "    <tr>\n",
       "      <th>0</th>\n",
       "      <td>0</td>\n",
       "      <td>0</td>\n",
       "      <td>3.0</td>\n",
       "      <td>974918176</td>\n",
       "      <td>1</td>\n",
       "    </tr>\n",
       "    <tr>\n",
       "      <th>1</th>\n",
       "      <td>0</td>\n",
       "      <td>1</td>\n",
       "      <td>5.0</td>\n",
       "      <td>974836809</td>\n",
       "      <td>1</td>\n",
       "    </tr>\n",
       "    <tr>\n",
       "      <th>2</th>\n",
       "      <td>0</td>\n",
       "      <td>2</td>\n",
       "      <td>4.0</td>\n",
       "      <td>974837760</td>\n",
       "      <td>1</td>\n",
       "    </tr>\n",
       "    <tr>\n",
       "      <th>3</th>\n",
       "      <td>0</td>\n",
       "      <td>3</td>\n",
       "      <td>4.0</td>\n",
       "      <td>974837760</td>\n",
       "      <td>1</td>\n",
       "    </tr>\n",
       "    <tr>\n",
       "      <th>4</th>\n",
       "      <td>0</td>\n",
       "      <td>4</td>\n",
       "      <td>5.0</td>\n",
       "      <td>974840217</td>\n",
       "      <td>1</td>\n",
       "    </tr>\n",
       "  </tbody>\n",
       "</table>\n",
       "</div>"
      ],
      "text/plain": [
       "   userId  movieId  rating  timestamp  film_watch\n",
       "0       0        0     3.0  974918176           1\n",
       "1       0        1     5.0  974836809           1\n",
       "2       0        2     4.0  974837760           1\n",
       "3       0        3     4.0  974837760           1\n",
       "4       0        4     5.0  974840217           1"
      ]
     },
     "execution_count": 9,
     "metadata": {},
     "output_type": "execute_result"
    }
   ],
   "source": [
    "df.head()"
   ]
  },
  {
   "cell_type": "markdown",
   "id": "00081b7b",
   "metadata": {
    "id": "00081b7b"
   },
   "source": [
    "<div class=\"alert alert-info\">\n",
    "\n",
    "3. А откуда взять «нолики»? В наших данных есть только пары пользователь * фильм, в которых пользователь точно смотрел фильм. Но для обучения модели нужны так называемые «негативы», то есть, пары, где пользователь фильм не смотрел. На практике приходится сталкиваться с необходимостью генерировать их вручную, давайте потренируемся это делать.\n",
    "\n",
    "> a. Сначала найдите уникальные id всех пользователей и уникальные id всех фильмов.\n",
    "\n",
    "> b. С помощью функции random.choice ([документация](https://numpy.org/doc/stable/reference/random/generated/numpy.random.choice.html)) сгенерируйте случайные пары пользователь * фильм\n",
    "\n",
    "> c. Поскольку среди сгенерированных пар могут быть и такие, что пользователь в них уже смотрел фильм, сгенерируйте побольше пар, например, удвоенное количество строк из источника. Это может занять пару минут.\n",
    "\n",
    "> d. Среди сгенерированных пар могут быть и дубликаты, удалите их.\n",
    "\n",
    "> e. Оставьте среди сгенерированных пар только те, в которых пользователь фильм не смотрел.\n",
    "\n",
    "> f. Возможно, пар получилось больше, чем нужно, выберите из них столько, сколько у нас строк в исходных данных.\n",
    "\n",
    "> g. Добавьте очищенные сгенерированные пары к исходным данным. Значение целевого признака в них будет равно нулю. Убедитесь, что у вас не появились дубликаты в датасете."
   ]
  },
  {
   "cell_type": "code",
   "execution_count": 10,
   "id": "f944fe47",
   "metadata": {
    "id": "f944fe47"
   },
   "outputs": [],
   "source": [
    "# a. Сначала найдите уникальные id всех пользователей и уникальные id всех фильмов\n",
    "unique_movies = df['movieId'].unique()\n",
    "unique_users = df['userId'].unique()"
   ]
  },
  {
   "cell_type": "code",
   "execution_count": 11,
   "id": "475a7522",
   "metadata": {
    "colab": {
     "base_uri": "https://localhost:8080/"
    },
    "id": "475a7522",
    "outputId": "411b2c01-6cb0-4463-fbc1-4cc25e6ef14b"
   },
   "outputs": [
    {
     "name": "stdout",
     "output_type": "stream",
     "text": [
      "CPU times: total: 3min 1s\n",
      "Wall time: 3min 39s\n"
     ]
    }
   ],
   "source": [
    "%%time\n",
    "\n",
    "# b. С помощью функции random.choice (документация) сгенерируйте случайные пары пользователь * фильм\n",
    "generated_pairs = []\n",
    "for _ in range(len(df) * 2):\n",
    "    user = np.random.choice(unique_users)\n",
    "    movie = np.random.choice(unique_movies)\n",
    "    pair = (user, movie)\n",
    "    generated_pairs.append(pair)"
   ]
  },
  {
   "cell_type": "markdown",
   "id": "d799c3ca",
   "metadata": {
    "id": "d799c3ca"
   },
   "source": [
    "<div class=\"alert alert-warning\">\n",
    "\n",
    "c. Поскольку среди сгенерированных пар могут быть и такие, что пользователь в них уже смотрел фильм, сгенерируйте побольше пар, например, удвоенное количество строк из источника. Это может занять пару минут."
   ]
  },
  {
   "cell_type": "code",
   "execution_count": 12,
   "id": "879dda4e",
   "metadata": {
    "id": "879dda4e",
    "scrolled": true
   },
   "outputs": [],
   "source": [
    "# d. Среди сгенерированных пар могут быть и дубликаты, удалите их.\n",
    "generated_pairs = list(set(generated_pairs))"
   ]
  },
  {
   "cell_type": "markdown",
   "id": "e4767abd",
   "metadata": {
    "id": "e4767abd"
   },
   "source": [
    "<div class=\"alert alert-warning\">\n",
    "\n",
    "f. Возможно, пар получилось больше, чем нужно, выберите из них столько, сколько у нас строк в исходных данных."
   ]
  },
  {
   "cell_type": "code",
   "execution_count": 13,
   "id": "fdd84828",
   "metadata": {
    "id": "fdd84828"
   },
   "outputs": [],
   "source": [
    "# Отбор нужного количества пар\n",
    "filtered_pairs = generated_pairs[:len(df)]"
   ]
  },
  {
   "cell_type": "code",
   "execution_count": 14,
   "id": "48ace9b5",
   "metadata": {
    "id": "48ace9b5"
   },
   "outputs": [],
   "source": [
    "# Создание нового DataFrame с сгенерированными парами\n",
    "generated = pd.DataFrame(filtered_pairs, columns=['userId', 'movieId'])\n",
    "generated['film_watch'] = 0"
   ]
  },
  {
   "cell_type": "code",
   "execution_count": 15,
   "id": "9464b851",
   "metadata": {
    "id": "9464b851"
   },
   "outputs": [],
   "source": [
    "# Объединение сгенерированного DataFrame с исходными данными\n",
    "merged_df = pd.concat([df, generated])"
   ]
  },
  {
   "cell_type": "code",
   "execution_count": 16,
   "id": "3e914153",
   "metadata": {
    "id": "3e914153"
   },
   "outputs": [],
   "source": [
    "# Удаление дубликатов\n",
    "merged_df = merged_df.drop_duplicates()"
   ]
  },
  {
   "cell_type": "code",
   "execution_count": 17,
   "id": "ac3864c7",
   "metadata": {
    "id": "ac3864c7"
   },
   "outputs": [
    {
     "name": "stdout",
     "output_type": "stream",
     "text": [
      "Дубликатов в датасете нет\n"
     ]
    }
   ],
   "source": [
    "# Проверка наличия дубликатов\n",
    "duplicates = merged_df.duplicated()\n",
    "if duplicates.any():\n",
    "    print(\"В датасете есть дубликаты\")\n",
    "else:\n",
    "    print(\"Дубликатов в датасете нет\")"
   ]
  },
  {
   "cell_type": "markdown",
   "id": "57ce0e09",
   "metadata": {
    "id": "57ce0e09"
   },
   "source": [
    "<div class=\"alert alert-info\">\n",
    "\n",
    "4. Подготовьте датасет к обучению: отделите тестовую часть от тренировочной."
   ]
  },
  {
   "cell_type": "code",
   "execution_count": 18,
   "id": "10aab467",
   "metadata": {
    "id": "10aab467"
   },
   "outputs": [
    {
     "data": {
      "text/html": [
       "<div>\n",
       "<style scoped>\n",
       "    .dataframe tbody tr th:only-of-type {\n",
       "        vertical-align: middle;\n",
       "    }\n",
       "\n",
       "    .dataframe tbody tr th {\n",
       "        vertical-align: top;\n",
       "    }\n",
       "\n",
       "    .dataframe thead th {\n",
       "        text-align: right;\n",
       "    }\n",
       "</style>\n",
       "<table border=\"1\" class=\"dataframe\">\n",
       "  <thead>\n",
       "    <tr style=\"text-align: right;\">\n",
       "      <th></th>\n",
       "      <th>userId</th>\n",
       "      <th>movieId</th>\n",
       "      <th>rating</th>\n",
       "      <th>timestamp</th>\n",
       "      <th>film_watch</th>\n",
       "    </tr>\n",
       "  </thead>\n",
       "  <tbody>\n",
       "    <tr>\n",
       "      <th>0</th>\n",
       "      <td>0</td>\n",
       "      <td>0</td>\n",
       "      <td>3.0</td>\n",
       "      <td>974918176.0</td>\n",
       "      <td>1</td>\n",
       "    </tr>\n",
       "    <tr>\n",
       "      <th>1</th>\n",
       "      <td>0</td>\n",
       "      <td>1</td>\n",
       "      <td>5.0</td>\n",
       "      <td>974836809.0</td>\n",
       "      <td>1</td>\n",
       "    </tr>\n",
       "    <tr>\n",
       "      <th>2</th>\n",
       "      <td>0</td>\n",
       "      <td>2</td>\n",
       "      <td>4.0</td>\n",
       "      <td>974837760.0</td>\n",
       "      <td>1</td>\n",
       "    </tr>\n",
       "    <tr>\n",
       "      <th>3</th>\n",
       "      <td>0</td>\n",
       "      <td>3</td>\n",
       "      <td>4.0</td>\n",
       "      <td>974837760.0</td>\n",
       "      <td>1</td>\n",
       "    </tr>\n",
       "    <tr>\n",
       "      <th>4</th>\n",
       "      <td>0</td>\n",
       "      <td>4</td>\n",
       "      <td>5.0</td>\n",
       "      <td>974840217.0</td>\n",
       "      <td>1</td>\n",
       "    </tr>\n",
       "    <tr>\n",
       "      <th>...</th>\n",
       "      <td>...</td>\n",
       "      <td>...</td>\n",
       "      <td>...</td>\n",
       "      <td>...</td>\n",
       "      <td>...</td>\n",
       "    </tr>\n",
       "    <tr>\n",
       "      <th>6040094</th>\n",
       "      <td>13329</td>\n",
       "      <td>947</td>\n",
       "      <td>NaN</td>\n",
       "      <td>NaN</td>\n",
       "      <td>0</td>\n",
       "    </tr>\n",
       "    <tr>\n",
       "      <th>6040095</th>\n",
       "      <td>16787</td>\n",
       "      <td>821</td>\n",
       "      <td>NaN</td>\n",
       "      <td>NaN</td>\n",
       "      <td>0</td>\n",
       "    </tr>\n",
       "    <tr>\n",
       "      <th>6040096</th>\n",
       "      <td>16001</td>\n",
       "      <td>666</td>\n",
       "      <td>NaN</td>\n",
       "      <td>NaN</td>\n",
       "      <td>0</td>\n",
       "    </tr>\n",
       "    <tr>\n",
       "      <th>6040097</th>\n",
       "      <td>6138</td>\n",
       "      <td>395</td>\n",
       "      <td>NaN</td>\n",
       "      <td>NaN</td>\n",
       "      <td>0</td>\n",
       "    </tr>\n",
       "    <tr>\n",
       "      <th>6040098</th>\n",
       "      <td>14013</td>\n",
       "      <td>825</td>\n",
       "      <td>NaN</td>\n",
       "      <td>NaN</td>\n",
       "      <td>0</td>\n",
       "    </tr>\n",
       "  </tbody>\n",
       "</table>\n",
       "<p>12080198 rows × 5 columns</p>\n",
       "</div>"
      ],
      "text/plain": [
       "         userId  movieId  rating    timestamp  film_watch\n",
       "0             0        0     3.0  974918176.0           1\n",
       "1             0        1     5.0  974836809.0           1\n",
       "2             0        2     4.0  974837760.0           1\n",
       "3             0        3     4.0  974837760.0           1\n",
       "4             0        4     5.0  974840217.0           1\n",
       "...         ...      ...     ...          ...         ...\n",
       "6040094   13329      947     NaN          NaN           0\n",
       "6040095   16787      821     NaN          NaN           0\n",
       "6040096   16001      666     NaN          NaN           0\n",
       "6040097    6138      395     NaN          NaN           0\n",
       "6040098   14013      825     NaN          NaN           0\n",
       "\n",
       "[12080198 rows x 5 columns]"
      ]
     },
     "execution_count": 18,
     "metadata": {},
     "output_type": "execute_result"
    }
   ],
   "source": [
    "merged_df"
   ]
  },
  {
   "cell_type": "markdown",
   "id": "338c83d4",
   "metadata": {},
   "source": [
    "Заполняем пропуски"
   ]
  },
  {
   "cell_type": "code",
   "execution_count": 19,
   "id": "89fa8997",
   "metadata": {},
   "outputs": [],
   "source": [
    "merged_df.fillna(method='ffill', inplace=True)"
   ]
  },
  {
   "cell_type": "code",
   "execution_count": 20,
   "id": "d1e113ad",
   "metadata": {},
   "outputs": [
    {
     "data": {
      "text/html": [
       "<div>\n",
       "<style scoped>\n",
       "    .dataframe tbody tr th:only-of-type {\n",
       "        vertical-align: middle;\n",
       "    }\n",
       "\n",
       "    .dataframe tbody tr th {\n",
       "        vertical-align: top;\n",
       "    }\n",
       "\n",
       "    .dataframe thead th {\n",
       "        text-align: right;\n",
       "    }\n",
       "</style>\n",
       "<table border=\"1\" class=\"dataframe\">\n",
       "  <thead>\n",
       "    <tr style=\"text-align: right;\">\n",
       "      <th></th>\n",
       "      <th>userId</th>\n",
       "      <th>movieId</th>\n",
       "      <th>rating</th>\n",
       "      <th>timestamp</th>\n",
       "      <th>film_watch</th>\n",
       "    </tr>\n",
       "  </thead>\n",
       "  <tbody>\n",
       "    <tr>\n",
       "      <th>0</th>\n",
       "      <td>0</td>\n",
       "      <td>0</td>\n",
       "      <td>3.0</td>\n",
       "      <td>9.749182e+08</td>\n",
       "      <td>1</td>\n",
       "    </tr>\n",
       "    <tr>\n",
       "      <th>1</th>\n",
       "      <td>0</td>\n",
       "      <td>1</td>\n",
       "      <td>5.0</td>\n",
       "      <td>9.748368e+08</td>\n",
       "      <td>1</td>\n",
       "    </tr>\n",
       "    <tr>\n",
       "      <th>2</th>\n",
       "      <td>0</td>\n",
       "      <td>2</td>\n",
       "      <td>4.0</td>\n",
       "      <td>9.748378e+08</td>\n",
       "      <td>1</td>\n",
       "    </tr>\n",
       "    <tr>\n",
       "      <th>3</th>\n",
       "      <td>0</td>\n",
       "      <td>3</td>\n",
       "      <td>4.0</td>\n",
       "      <td>9.748378e+08</td>\n",
       "      <td>1</td>\n",
       "    </tr>\n",
       "    <tr>\n",
       "      <th>4</th>\n",
       "      <td>0</td>\n",
       "      <td>4</td>\n",
       "      <td>5.0</td>\n",
       "      <td>9.748402e+08</td>\n",
       "      <td>1</td>\n",
       "    </tr>\n",
       "    <tr>\n",
       "      <th>...</th>\n",
       "      <td>...</td>\n",
       "      <td>...</td>\n",
       "      <td>...</td>\n",
       "      <td>...</td>\n",
       "      <td>...</td>\n",
       "    </tr>\n",
       "    <tr>\n",
       "      <th>6040094</th>\n",
       "      <td>13329</td>\n",
       "      <td>947</td>\n",
       "      <td>2.0</td>\n",
       "      <td>1.273010e+09</td>\n",
       "      <td>0</td>\n",
       "    </tr>\n",
       "    <tr>\n",
       "      <th>6040095</th>\n",
       "      <td>16787</td>\n",
       "      <td>821</td>\n",
       "      <td>2.0</td>\n",
       "      <td>1.273010e+09</td>\n",
       "      <td>0</td>\n",
       "    </tr>\n",
       "    <tr>\n",
       "      <th>6040096</th>\n",
       "      <td>16001</td>\n",
       "      <td>666</td>\n",
       "      <td>2.0</td>\n",
       "      <td>1.273010e+09</td>\n",
       "      <td>0</td>\n",
       "    </tr>\n",
       "    <tr>\n",
       "      <th>6040097</th>\n",
       "      <td>6138</td>\n",
       "      <td>395</td>\n",
       "      <td>2.0</td>\n",
       "      <td>1.273010e+09</td>\n",
       "      <td>0</td>\n",
       "    </tr>\n",
       "    <tr>\n",
       "      <th>6040098</th>\n",
       "      <td>14013</td>\n",
       "      <td>825</td>\n",
       "      <td>2.0</td>\n",
       "      <td>1.273010e+09</td>\n",
       "      <td>0</td>\n",
       "    </tr>\n",
       "  </tbody>\n",
       "</table>\n",
       "<p>12080198 rows × 5 columns</p>\n",
       "</div>"
      ],
      "text/plain": [
       "         userId  movieId  rating     timestamp  film_watch\n",
       "0             0        0     3.0  9.749182e+08           1\n",
       "1             0        1     5.0  9.748368e+08           1\n",
       "2             0        2     4.0  9.748378e+08           1\n",
       "3             0        3     4.0  9.748378e+08           1\n",
       "4             0        4     5.0  9.748402e+08           1\n",
       "...         ...      ...     ...           ...         ...\n",
       "6040094   13329      947     2.0  1.273010e+09           0\n",
       "6040095   16787      821     2.0  1.273010e+09           0\n",
       "6040096   16001      666     2.0  1.273010e+09           0\n",
       "6040097    6138      395     2.0  1.273010e+09           0\n",
       "6040098   14013      825     2.0  1.273010e+09           0\n",
       "\n",
       "[12080198 rows x 5 columns]"
      ]
     },
     "execution_count": 20,
     "metadata": {},
     "output_type": "execute_result"
    }
   ],
   "source": [
    "merged_df"
   ]
  },
  {
   "cell_type": "markdown",
   "id": "b2c5ae86",
   "metadata": {},
   "source": [
    "**Мешаем данные для нормального распредения факта просмотра фильма**"
   ]
  },
  {
   "cell_type": "code",
   "execution_count": 21,
   "id": "c4bf658c",
   "metadata": {},
   "outputs": [],
   "source": [
    "merged_df = merged_df.sample(frac=1).reset_index(drop=True)"
   ]
  },
  {
   "cell_type": "markdown",
   "id": "d56a241f",
   "metadata": {},
   "source": [
    "Снова отмасштабируем идентификаторы фильмов"
   ]
  },
  {
   "cell_type": "code",
   "execution_count": 22,
   "id": "5fc795f4",
   "metadata": {},
   "outputs": [
    {
     "data": {
      "text/html": [
       "<div>\n",
       "<style scoped>\n",
       "    .dataframe tbody tr th:only-of-type {\n",
       "        vertical-align: middle;\n",
       "    }\n",
       "\n",
       "    .dataframe tbody tr th {\n",
       "        vertical-align: top;\n",
       "    }\n",
       "\n",
       "    .dataframe thead th {\n",
       "        text-align: right;\n",
       "    }\n",
       "</style>\n",
       "<table border=\"1\" class=\"dataframe\">\n",
       "  <thead>\n",
       "    <tr style=\"text-align: right;\">\n",
       "      <th></th>\n",
       "      <th>userId</th>\n",
       "      <th>movieId</th>\n",
       "      <th>rating</th>\n",
       "      <th>timestamp</th>\n",
       "      <th>film_watch</th>\n",
       "    </tr>\n",
       "  </thead>\n",
       "  <tbody>\n",
       "    <tr>\n",
       "      <th>0</th>\n",
       "      <td>17868</td>\n",
       "      <td>531</td>\n",
       "      <td>2.0</td>\n",
       "      <td>1.273010e+09</td>\n",
       "      <td>0</td>\n",
       "    </tr>\n",
       "    <tr>\n",
       "      <th>1</th>\n",
       "      <td>11642</td>\n",
       "      <td>443</td>\n",
       "      <td>3.0</td>\n",
       "      <td>9.486479e+08</td>\n",
       "      <td>1</td>\n",
       "    </tr>\n",
       "    <tr>\n",
       "      <th>2</th>\n",
       "      <td>4517</td>\n",
       "      <td>473</td>\n",
       "      <td>2.0</td>\n",
       "      <td>1.273010e+09</td>\n",
       "      <td>0</td>\n",
       "    </tr>\n",
       "    <tr>\n",
       "      <th>3</th>\n",
       "      <td>16422</td>\n",
       "      <td>162</td>\n",
       "      <td>2.0</td>\n",
       "      <td>1.273010e+09</td>\n",
       "      <td>0</td>\n",
       "    </tr>\n",
       "    <tr>\n",
       "      <th>4</th>\n",
       "      <td>14285</td>\n",
       "      <td>311</td>\n",
       "      <td>3.0</td>\n",
       "      <td>9.238551e+08</td>\n",
       "      <td>1</td>\n",
       "    </tr>\n",
       "    <tr>\n",
       "      <th>...</th>\n",
       "      <td>...</td>\n",
       "      <td>...</td>\n",
       "      <td>...</td>\n",
       "      <td>...</td>\n",
       "      <td>...</td>\n",
       "    </tr>\n",
       "    <tr>\n",
       "      <th>12080193</th>\n",
       "      <td>5524</td>\n",
       "      <td>550</td>\n",
       "      <td>2.0</td>\n",
       "      <td>1.273010e+09</td>\n",
       "      <td>0</td>\n",
       "    </tr>\n",
       "    <tr>\n",
       "      <th>12080194</th>\n",
       "      <td>6999</td>\n",
       "      <td>923</td>\n",
       "      <td>2.0</td>\n",
       "      <td>1.273010e+09</td>\n",
       "      <td>0</td>\n",
       "    </tr>\n",
       "    <tr>\n",
       "      <th>12080195</th>\n",
       "      <td>2468</td>\n",
       "      <td>967</td>\n",
       "      <td>2.0</td>\n",
       "      <td>1.273010e+09</td>\n",
       "      <td>0</td>\n",
       "    </tr>\n",
       "    <tr>\n",
       "      <th>12080196</th>\n",
       "      <td>15118</td>\n",
       "      <td>381</td>\n",
       "      <td>2.0</td>\n",
       "      <td>1.011299e+09</td>\n",
       "      <td>1</td>\n",
       "    </tr>\n",
       "    <tr>\n",
       "      <th>12080197</th>\n",
       "      <td>8399</td>\n",
       "      <td>754</td>\n",
       "      <td>2.5</td>\n",
       "      <td>1.169533e+09</td>\n",
       "      <td>1</td>\n",
       "    </tr>\n",
       "  </tbody>\n",
       "</table>\n",
       "<p>12080198 rows × 5 columns</p>\n",
       "</div>"
      ],
      "text/plain": [
       "          userId  movieId  rating     timestamp  film_watch\n",
       "0          17868      531     2.0  1.273010e+09           0\n",
       "1          11642      443     3.0  9.486479e+08           1\n",
       "2           4517      473     2.0  1.273010e+09           0\n",
       "3          16422      162     2.0  1.273010e+09           0\n",
       "4          14285      311     3.0  9.238551e+08           1\n",
       "...          ...      ...     ...           ...         ...\n",
       "12080193    5524      550     2.0  1.273010e+09           0\n",
       "12080194    6999      923     2.0  1.273010e+09           0\n",
       "12080195    2468      967     2.0  1.273010e+09           0\n",
       "12080196   15118      381     2.0  1.011299e+09           1\n",
       "12080197    8399      754     2.5  1.169533e+09           1\n",
       "\n",
       "[12080198 rows x 5 columns]"
      ]
     },
     "execution_count": 22,
     "metadata": {},
     "output_type": "execute_result"
    }
   ],
   "source": [
    "merged_df"
   ]
  },
  {
   "cell_type": "markdown",
   "id": "db420ffd",
   "metadata": {},
   "source": [
    "Пар вышло больше, чем нужно. Удалим лишние"
   ]
  },
  {
   "cell_type": "code",
   "execution_count": 23,
   "id": "7e37d9da",
   "metadata": {},
   "outputs": [],
   "source": [
    "merged_df = merged_df.sample(len(df))"
   ]
  },
  {
   "cell_type": "code",
   "execution_count": 24,
   "id": "9481872e",
   "metadata": {},
   "outputs": [
    {
     "data": {
      "text/html": [
       "<div>\n",
       "<style scoped>\n",
       "    .dataframe tbody tr th:only-of-type {\n",
       "        vertical-align: middle;\n",
       "    }\n",
       "\n",
       "    .dataframe tbody tr th {\n",
       "        vertical-align: top;\n",
       "    }\n",
       "\n",
       "    .dataframe thead th {\n",
       "        text-align: right;\n",
       "    }\n",
       "</style>\n",
       "<table border=\"1\" class=\"dataframe\">\n",
       "  <thead>\n",
       "    <tr style=\"text-align: right;\">\n",
       "      <th></th>\n",
       "      <th>userId</th>\n",
       "      <th>movieId</th>\n",
       "      <th>rating</th>\n",
       "      <th>timestamp</th>\n",
       "      <th>film_watch</th>\n",
       "    </tr>\n",
       "  </thead>\n",
       "  <tbody>\n",
       "    <tr>\n",
       "      <th>8704021</th>\n",
       "      <td>17680</td>\n",
       "      <td>813</td>\n",
       "      <td>2.0</td>\n",
       "      <td>1.273010e+09</td>\n",
       "      <td>0</td>\n",
       "    </tr>\n",
       "    <tr>\n",
       "      <th>2704668</th>\n",
       "      <td>15869</td>\n",
       "      <td>895</td>\n",
       "      <td>2.0</td>\n",
       "      <td>1.273010e+09</td>\n",
       "      <td>0</td>\n",
       "    </tr>\n",
       "    <tr>\n",
       "      <th>8822668</th>\n",
       "      <td>1034</td>\n",
       "      <td>368</td>\n",
       "      <td>3.0</td>\n",
       "      <td>1.373130e+09</td>\n",
       "      <td>1</td>\n",
       "    </tr>\n",
       "    <tr>\n",
       "      <th>9398356</th>\n",
       "      <td>4262</td>\n",
       "      <td>720</td>\n",
       "      <td>2.5</td>\n",
       "      <td>1.170416e+09</td>\n",
       "      <td>1</td>\n",
       "    </tr>\n",
       "    <tr>\n",
       "      <th>3458235</th>\n",
       "      <td>4228</td>\n",
       "      <td>352</td>\n",
       "      <td>2.0</td>\n",
       "      <td>1.273010e+09</td>\n",
       "      <td>0</td>\n",
       "    </tr>\n",
       "    <tr>\n",
       "      <th>...</th>\n",
       "      <td>...</td>\n",
       "      <td>...</td>\n",
       "      <td>...</td>\n",
       "      <td>...</td>\n",
       "      <td>...</td>\n",
       "    </tr>\n",
       "    <tr>\n",
       "      <th>3445308</th>\n",
       "      <td>15473</td>\n",
       "      <td>316</td>\n",
       "      <td>2.0</td>\n",
       "      <td>1.273010e+09</td>\n",
       "      <td>0</td>\n",
       "    </tr>\n",
       "    <tr>\n",
       "      <th>10737191</th>\n",
       "      <td>3220</td>\n",
       "      <td>289</td>\n",
       "      <td>3.0</td>\n",
       "      <td>1.296196e+09</td>\n",
       "      <td>1</td>\n",
       "    </tr>\n",
       "    <tr>\n",
       "      <th>9739646</th>\n",
       "      <td>1363</td>\n",
       "      <td>360</td>\n",
       "      <td>5.0</td>\n",
       "      <td>9.703481e+08</td>\n",
       "      <td>1</td>\n",
       "    </tr>\n",
       "    <tr>\n",
       "      <th>6781554</th>\n",
       "      <td>9095</td>\n",
       "      <td>446</td>\n",
       "      <td>3.0</td>\n",
       "      <td>1.140542e+09</td>\n",
       "      <td>1</td>\n",
       "    </tr>\n",
       "    <tr>\n",
       "      <th>790747</th>\n",
       "      <td>4275</td>\n",
       "      <td>709</td>\n",
       "      <td>2.0</td>\n",
       "      <td>1.118331e+09</td>\n",
       "      <td>1</td>\n",
       "    </tr>\n",
       "  </tbody>\n",
       "</table>\n",
       "<p>6040099 rows × 5 columns</p>\n",
       "</div>"
      ],
      "text/plain": [
       "          userId  movieId  rating     timestamp  film_watch\n",
       "8704021    17680      813     2.0  1.273010e+09           0\n",
       "2704668    15869      895     2.0  1.273010e+09           0\n",
       "8822668     1034      368     3.0  1.373130e+09           1\n",
       "9398356     4262      720     2.5  1.170416e+09           1\n",
       "3458235     4228      352     2.0  1.273010e+09           0\n",
       "...          ...      ...     ...           ...         ...\n",
       "3445308    15473      316     2.0  1.273010e+09           0\n",
       "10737191    3220      289     3.0  1.296196e+09           1\n",
       "9739646     1363      360     5.0  9.703481e+08           1\n",
       "6781554     9095      446     3.0  1.140542e+09           1\n",
       "790747      4275      709     2.0  1.118331e+09           1\n",
       "\n",
       "[6040099 rows x 5 columns]"
      ]
     },
     "execution_count": 24,
     "metadata": {},
     "output_type": "execute_result"
    }
   ],
   "source": [
    "merged_df"
   ]
  },
  {
   "cell_type": "code",
   "execution_count": 25,
   "id": "bbde4e79",
   "metadata": {},
   "outputs": [],
   "source": [
    "# определение переменных-предикторов и переменной ответа\n",
    "X = merged_df.drop(['film_watch'], axis=1)\n",
    "y = merged_df['film_watch']"
   ]
  },
  {
   "cell_type": "code",
   "execution_count": 26,
   "id": "277a5c4a",
   "metadata": {},
   "outputs": [
    {
     "data": {
      "text/plain": [
       "0    3021318\n",
       "1    3018781\n",
       "Name: film_watch, dtype: int64"
      ]
     },
     "execution_count": 26,
     "metadata": {},
     "output_type": "execute_result"
    }
   ],
   "source": [
    "y.value_counts()"
   ]
  },
  {
   "cell_type": "code",
   "execution_count": 27,
   "id": "b68b55e9",
   "metadata": {},
   "outputs": [],
   "source": [
    "# Освобождаем память\n",
    "del X\n",
    "del y"
   ]
  },
  {
   "cell_type": "markdown",
   "id": "0aac4891",
   "metadata": {},
   "source": [
    "**С рапределением вроде порядок**"
   ]
  },
  {
   "cell_type": "code",
   "execution_count": 28,
   "id": "72aa85fa",
   "metadata": {},
   "outputs": [],
   "source": [
    "# отделяем тестовую часть от тренировочной\n",
    "train, test = train_test_split(merged_df, test_size=0.01, random_state=42)"
   ]
  },
  {
   "cell_type": "code",
   "execution_count": 29,
   "id": "4d63a3a4",
   "metadata": {},
   "outputs": [],
   "source": [
    "X_train, X_test = train.drop(['film_watch'], axis=1), test.drop(['film_watch'], axis=1)\n",
    "y_train, y_test = train['film_watch'], test['film_watch']"
   ]
  },
  {
   "cell_type": "code",
   "execution_count": 30,
   "id": "fc3fce44",
   "metadata": {},
   "outputs": [
    {
     "data": {
      "text/plain": [
       "((5979698, 4), (60401, 4))"
      ]
     },
     "execution_count": 30,
     "metadata": {},
     "output_type": "execute_result"
    }
   ],
   "source": [
    "X_train.shape, X_test.shape"
   ]
  },
  {
   "cell_type": "code",
   "execution_count": 31,
   "id": "2d57c4ce",
   "metadata": {},
   "outputs": [
    {
     "data": {
      "text/plain": [
       "((5979698,), (60401,))"
      ]
     },
     "execution_count": 31,
     "metadata": {},
     "output_type": "execute_result"
    }
   ],
   "source": [
    "y_train.shape, y_test.shape"
   ]
  },
  {
   "cell_type": "markdown",
   "id": "1d6e7a89",
   "metadata": {},
   "source": [
    "<div class=\"alert alert-info\">\n",
    "\n",
    "5. Обучите dummy-model. Пусть она будет возвращать случайную вероятность принадлежности классу 1. Для этого можете использовать функцию random.random ([документация](https://numpy.org/doc/stable/reference/random/generated/numpy.random.random.html)). Оцените ее качество какой-то метрикой на свой вкус. Необходимо прогнозировать именно вероятность, чтобы была возможность ранжировать по ней варианты для рекомендации лучшего контента пользователю."
   ]
  },
  {
   "cell_type": "code",
   "execution_count": 32,
   "id": "37d34551",
   "metadata": {},
   "outputs": [],
   "source": [
    "# Создадим списки для хранения хранения метрик и их названий для итогового вывода\n",
    "values = []\n",
    "indexs = []"
   ]
  },
  {
   "cell_type": "code",
   "execution_count": 33,
   "id": "a46e124f",
   "metadata": {},
   "outputs": [],
   "source": [
    "# Генерация случайных вероятностей для класса 1\n",
    "def dummy_model(X):\n",
    "    '''X - значения выбокри'''\n",
    "    return tuple(np.random.random() for i in range(len(X)))"
   ]
  },
  {
   "cell_type": "code",
   "execution_count": 34,
   "id": "83e6f45b",
   "metadata": {},
   "outputs": [],
   "source": [
    "dummy_model_predict = dummy_model(X_test)"
   ]
  },
  {
   "cell_type": "code",
   "execution_count": 35,
   "id": "27eee8b2",
   "metadata": {},
   "outputs": [
    {
     "name": "stdout",
     "output_type": "stream",
     "text": [
      "ROC AUC: 0.4956\n"
     ]
    }
   ],
   "source": [
    "# Оценка качества модели по выбранной метрике(ROC AUC)\n",
    "roc_auc = roc_auc_score(y_test, dummy_model_predict)\n",
    "values.append(roc_auc)\n",
    "indexs.append('dummy_model')\n",
    "print(\"ROC AUC:\", round(roc_auc, 4))"
   ]
  },
  {
   "cell_type": "markdown",
   "id": "9ad5e839",
   "metadata": {},
   "source": [
    "<div class=\"alert alert-info\">\n",
    "\n",
    "6. Реализуйте три алгоритма коллаборативной фильтрации: user-, item-based и алгоритм на основе матричной факторизации. Оцените их качество и адекватность. Если качество недостаточно хорошее, попробуйте варьировать параметры: количество похожих пользователей/фильмов, количество элементов в матрицах при матричном разложении."
   ]
  },
  {
   "cell_type": "markdown",
   "id": "b96b6f71",
   "metadata": {},
   "source": [
    "# Сформируем матрицу user-item"
   ]
  },
  {
   "cell_type": "code",
   "execution_count": 36,
   "id": "313c54ac",
   "metadata": {},
   "outputs": [
    {
     "data": {
      "text/plain": [
       "1000"
      ]
     },
     "execution_count": 36,
     "metadata": {},
     "output_type": "execute_result"
    }
   ],
   "source": [
    "# Сформируем матрицу user-item\n",
    "n_movies = train['movieId'].nunique()\n",
    "n_movies"
   ]
  },
  {
   "cell_type": "code",
   "execution_count": 37,
   "id": "dd4f83d3",
   "metadata": {},
   "outputs": [
    {
     "data": {
      "text/plain": [
       "20000"
      ]
     },
     "execution_count": 37,
     "metadata": {},
     "output_type": "execute_result"
    }
   ],
   "source": [
    "n_users = train['userId'].nunique()\n",
    "n_users"
   ]
  },
  {
   "cell_type": "code",
   "execution_count": 38,
   "id": "3805c3e6",
   "metadata": {},
   "outputs": [
    {
     "name": "stdout",
     "output_type": "stream",
     "text": [
      "CPU times: total: 7.53 s\n",
      "Wall time: 11.2 s\n"
     ]
    }
   ],
   "source": [
    "%%time\n",
    "train_data_matrix = np.array(pd.pivot_table(train, values='film_watch', index='userId', columns='movieId', fill_value=0))"
   ]
  },
  {
   "cell_type": "code",
   "execution_count": 39,
   "id": "94d108aa",
   "metadata": {},
   "outputs": [
    {
     "data": {
      "text/plain": [
       "(20000, 1000)"
      ]
     },
     "execution_count": 39,
     "metadata": {},
     "output_type": "execute_result"
    }
   ],
   "source": [
    "train_data_matrix.shape"
   ]
  },
  {
   "cell_type": "code",
   "execution_count": 40,
   "id": "c1455f27",
   "metadata": {},
   "outputs": [
    {
     "data": {
      "text/plain": [
       "array([[0., 0., 0., ..., 0., 0., 0.],\n",
       "       [0., 0., 1., ..., 0., 0., 0.],\n",
       "       [1., 0., 0., ..., 0., 0., 0.],\n",
       "       ...,\n",
       "       [0., 0., 0., ..., 0., 0., 0.],\n",
       "       [0., 0., 0., ..., 0., 1., 0.],\n",
       "       [0., 0., 0., ..., 0., 0., 0.]])"
      ]
     },
     "execution_count": 40,
     "metadata": {},
     "output_type": "execute_result"
    }
   ],
   "source": [
    "train_data_matrix"
   ]
  },
  {
   "cell_type": "code",
   "execution_count": 41,
   "id": "66c7e2a6",
   "metadata": {},
   "outputs": [
    {
     "name": "stdout",
     "output_type": "stream",
     "text": [
      "CPU times: total: 17.3 s\n",
      "Wall time: 10.7 s\n"
     ]
    }
   ],
   "source": [
    "%%time\n",
    "# считаем попарное косинусное расстояние для пользователей (строк матрицы)\n",
    "user_similarity = cosine_distances(train_data_matrix)"
   ]
  },
  {
   "cell_type": "code",
   "execution_count": 42,
   "id": "cf9a21a3",
   "metadata": {},
   "outputs": [
    {
     "data": {
      "text/plain": [
       "array([[0.        , 0.77026235, 0.72197797, ..., 0.89919762, 1.        ,\n",
       "        0.96585154],\n",
       "       [0.77026235, 0.        , 0.72919531, ..., 0.84541267, 0.90828398,\n",
       "        0.93715722],\n",
       "       [0.72197797, 0.72919531, 0.        , ..., 0.93453602, 0.88796295,\n",
       "        0.95394009],\n",
       "       ...,\n",
       "       [0.89919762, 0.84541267, 0.93453602, ..., 0.        , 0.81122404,\n",
       "        0.91684826],\n",
       "       [1.        , 0.90828398, 0.88796295, ..., 0.81122404, 0.        ,\n",
       "        0.87666603],\n",
       "       [0.96585154, 0.93715722, 0.95394009, ..., 0.91684826, 0.87666603,\n",
       "        0.        ]])"
      ]
     },
     "execution_count": 42,
     "metadata": {},
     "output_type": "execute_result"
    }
   ],
   "source": [
    "user_similarity"
   ]
  },
  {
   "cell_type": "code",
   "execution_count": 43,
   "id": "cbfd9e07",
   "metadata": {},
   "outputs": [
    {
     "data": {
      "text/plain": [
       "(20000, 20000)"
      ]
     },
     "execution_count": 43,
     "metadata": {},
     "output_type": "execute_result"
    }
   ],
   "source": [
    "user_similarity.shape"
   ]
  },
  {
   "cell_type": "code",
   "execution_count": 44,
   "id": "b2c3e703",
   "metadata": {},
   "outputs": [],
   "source": [
    "# # считаем попарное косинусное расстояние для фильмов (столбцов матрицы)\n",
    "movie_similarity = cosine_distances(train_data_matrix.T)"
   ]
  },
  {
   "cell_type": "code",
   "execution_count": 45,
   "id": "719931d8",
   "metadata": {},
   "outputs": [
    {
     "data": {
      "text/plain": [
       "array([[0.        , 0.70063516, 0.69760829, ..., 0.88575543, 0.79217413,\n",
       "        0.89509411],\n",
       "       [0.70063516, 0.        , 0.61893819, ..., 0.8432421 , 0.77885869,\n",
       "        0.84357833],\n",
       "       [0.69760829, 0.61893819, 0.        , ..., 0.85196686, 0.76016194,\n",
       "        0.86558694],\n",
       "       ...,\n",
       "       [0.88575543, 0.8432421 , 0.85196686, ..., 0.        , 0.88917489,\n",
       "        0.83407833],\n",
       "       [0.79217413, 0.77885869, 0.76016194, ..., 0.88917489, 0.        ,\n",
       "        0.92827474],\n",
       "       [0.89509411, 0.84357833, 0.86558694, ..., 0.83407833, 0.92827474,\n",
       "        0.        ]])"
      ]
     },
     "execution_count": 45,
     "metadata": {},
     "output_type": "execute_result"
    }
   ],
   "source": [
    "movie_similarity"
   ]
  },
  {
   "cell_type": "code",
   "execution_count": 46,
   "id": "8f2e55b7",
   "metadata": {},
   "outputs": [
    {
     "data": {
      "text/plain": [
       "(1000, 1000)"
      ]
     },
     "execution_count": 46,
     "metadata": {},
     "output_type": "execute_result"
    }
   ],
   "source": [
    "movie_similarity.shape"
   ]
  },
  {
   "cell_type": "markdown",
   "id": "82d00005",
   "metadata": {},
   "source": [
    "# Алгоритм user-based"
   ]
  },
  {
   "cell_type": "markdown",
   "id": "b53aeedf",
   "metadata": {},
   "source": [
    "**Для каждого пользователя найдем топ n ближайших соседей, исключающих самого себя**"
   ]
  },
  {
   "cell_type": "code",
   "execution_count": 47,
   "id": "ede7a4da",
   "metadata": {},
   "outputs": [],
   "source": [
    "def ton_n_nearest_neighbors(train_data_matrix, n_users=n_users, top=10):\n",
    "    top=top\n",
    "    top_similar_users = []\n",
    "    for i in range(n_users):\n",
    "        neighbors = (user_similarity[i]).argsort()[1:top + 1]\n",
    "        top_similar_users.append(train_data_matrix[neighbors])\n",
    "    top_similar_users = np.array(top_similar_users)\n",
    "    return top_similar_users"
   ]
  },
  {
   "cell_type": "markdown",
   "id": "ad42cc50",
   "metadata": {},
   "source": [
    "**Попробуем сделать прогноз для... С потолка**\n",
    "- 5 соседей\n",
    "- 15 соседей\n",
    "- 20 соседей"
   ]
  },
  {
   "cell_type": "code",
   "execution_count": 48,
   "id": "27e013a4",
   "metadata": {},
   "outputs": [
    {
     "name": "stdout",
     "output_type": "stream",
     "text": [
      "CPU times: total: 22 s\n",
      "Wall time: 33.7 s\n"
     ]
    }
   ],
   "source": [
    "%%time\n",
    "\n",
    "# 5 соседей\n",
    "top_similar_users = ton_n_nearest_neighbors(train_data_matrix, n_users, 5)"
   ]
  },
  {
   "cell_type": "code",
   "execution_count": 49,
   "id": "32c7d2b3",
   "metadata": {},
   "outputs": [
    {
     "data": {
      "text/plain": [
       "(20000, 5, 1000)"
      ]
     },
     "execution_count": 49,
     "metadata": {},
     "output_type": "execute_result"
    }
   ],
   "source": [
    "top_similar_users.shape"
   ]
  },
  {
   "cell_type": "code",
   "execution_count": 50,
   "id": "81d23a5f",
   "metadata": {},
   "outputs": [],
   "source": [
    "predicted_watch_film_user_based = top_similar_users.mean(1)"
   ]
  },
  {
   "cell_type": "code",
   "execution_count": 51,
   "id": "d0dc0e2c",
   "metadata": {},
   "outputs": [
    {
     "data": {
      "text/plain": [
       "(20000, 1000)"
      ]
     },
     "execution_count": 51,
     "metadata": {},
     "output_type": "execute_result"
    }
   ],
   "source": [
    "predicted_watch_film_user_based.shape"
   ]
  },
  {
   "cell_type": "code",
   "execution_count": 52,
   "id": "bd78de6f",
   "metadata": {},
   "outputs": [],
   "source": [
    "# Сделаем предсказание для датасетов\n",
    "def round_to_nearest_0_5(n):\n",
    "    return round(n * 2) / 2"
   ]
  },
  {
   "cell_type": "code",
   "execution_count": 53,
   "id": "def0a75c",
   "metadata": {},
   "outputs": [],
   "source": [
    "test['film_watch_predict'] = test.apply(\n",
    "    lambda f: round_to_nearest_0_5(predicted_watch_film_user_based[int(f['userId']), int(f['movieId'])]), axis = 1)"
   ]
  },
  {
   "cell_type": "code",
   "execution_count": 54,
   "id": "dc5b2fa1",
   "metadata": {},
   "outputs": [],
   "source": [
    "prediction = np.where(test['film_watch_predict'] >= 0.5 , 1, 0)\n",
    "ROC_AUC_user_5 = roc_auc_score(prediction, test['film_watch'])\n",
    "values.append(ROC_AUC_user_5)\n",
    "indexs.append('Пользователей 5')"
   ]
  },
  {
   "cell_type": "code",
   "execution_count": 55,
   "id": "40226740",
   "metadata": {},
   "outputs": [
    {
     "name": "stdout",
     "output_type": "stream",
     "text": [
      "ROC AUC metric: 0.6042032775366779\n"
     ]
    }
   ],
   "source": [
    "print(f\"ROC AUC metric: {ROC_AUC_user_5}\")"
   ]
  },
  {
   "cell_type": "code",
   "execution_count": 56,
   "id": "57efd414",
   "metadata": {},
   "outputs": [
    {
     "name": "stdout",
     "output_type": "stream",
     "text": [
      "ROC AUC metric: 0.637637931162996\n"
     ]
    }
   ],
   "source": [
    "# 15 соседей\n",
    "top_similar_users = ton_n_nearest_neighbors(train_data_matrix, n_users, 15)\n",
    "predicted_watch_film_user_based = top_similar_users.mean(1)\n",
    "test['film_watch_predict'] = test.apply(\n",
    "    lambda f: round_to_nearest_0_5(predicted_watch_film_user_based[int(f['userId']), int(f['movieId'])]), axis = 1)\n",
    "\n",
    "prediction = np.where(test['film_watch_predict'] >= 0.5 , 1, 0)\n",
    "ROC_AUC_user_15 = roc_auc_score(prediction, test['film_watch'])\n",
    "values.append(ROC_AUC_user_15)\n",
    "indexs.append('Пользователей 15')\n",
    "\n",
    "print(f\"ROC AUC metric: {ROC_AUC_user_15}\")"
   ]
  },
  {
   "cell_type": "code",
   "execution_count": 57,
   "id": "7693f02d",
   "metadata": {},
   "outputs": [
    {
     "name": "stdout",
     "output_type": "stream",
     "text": [
      "ROC AUC metric: 0.6410958851278092\n"
     ]
    }
   ],
   "source": [
    "# 20 соседей\n",
    "top_similar_users = ton_n_nearest_neighbors(train_data_matrix, n_users, 20)\n",
    "predicted_watch_film_user_based = top_similar_users.mean(1)\n",
    "test['film_watch_predict'] = test.apply(\n",
    "    lambda f: round_to_nearest_0_5(predicted_watch_film_user_based[int(f['userId']), int(f['movieId'])]), axis = 1)\n",
    "\n",
    "prediction = np.where(test['film_watch_predict'] >= 0.5 , 1, 0)\n",
    "ROC_AUC_user_20 = roc_auc_score(prediction, test['film_watch'])\n",
    "values.append(ROC_AUC_user_20)\n",
    "indexs.append('Пользователей 20')\n",
    "\n",
    "print(f\"ROC AUC metric: {ROC_AUC_user_20}\")"
   ]
  },
  {
   "cell_type": "markdown",
   "id": "3efcd5a3",
   "metadata": {},
   "source": [
    "<div class=\"alert alert-success\">\n",
    "Пока самый лучший результат показал алгоритм user-based с 5 ближашими кино-пользователями"
   ]
  },
  {
   "cell_type": "markdown",
   "id": "326bf0e6",
   "metadata": {},
   "source": [
    "# Алгоритм item-based"
   ]
  },
  {
   "cell_type": "code",
   "execution_count": 58,
   "id": "b0bf78bc",
   "metadata": {},
   "outputs": [],
   "source": [
    "# 5 соседних фильмов\n",
    "top = 5 \n",
    "top_similar_films = []\n",
    "for i in range(n_movies):\n",
    "    neighbors = (movie_similarity[i]).argsort()[1:top + 1]\n",
    "    top_similar_films.append(train_data_matrix.T[neighbors])\n",
    "top_similar_films = np.array(top_similar_films)"
   ]
  },
  {
   "cell_type": "code",
   "execution_count": 59,
   "id": "e0f21222",
   "metadata": {},
   "outputs": [
    {
     "data": {
      "text/plain": [
       "(1000, 5, 20000)"
      ]
     },
     "execution_count": 59,
     "metadata": {},
     "output_type": "execute_result"
    }
   ],
   "source": [
    "top_similar_films.shape"
   ]
  },
  {
   "cell_type": "code",
   "execution_count": 60,
   "id": "4febf3d5",
   "metadata": {},
   "outputs": [
    {
     "data": {
      "text/plain": [
       "(20000, 1000)"
      ]
     },
     "execution_count": 60,
     "metadata": {},
     "output_type": "execute_result"
    }
   ],
   "source": [
    "predicted_films_item_based = top_similar_films.mean(1).T\n",
    "predicted_films_item_based.shape"
   ]
  },
  {
   "cell_type": "code",
   "execution_count": 61,
   "id": "92678983",
   "metadata": {},
   "outputs": [],
   "source": [
    "test['film_watch_item_predict'] = test.apply(\n",
    "    lambda f: round_to_nearest_0_5(predicted_films_item_based[int(f['userId']), int(f['movieId'])]), axis = 1)"
   ]
  },
  {
   "cell_type": "code",
   "execution_count": 62,
   "id": "1f30f807",
   "metadata": {},
   "outputs": [
    {
     "name": "stdout",
     "output_type": "stream",
     "text": [
      "ROC AUC metric: 0.6282373514582213\n"
     ]
    }
   ],
   "source": [
    "prediction = np.where(test['film_watch_item_predict'] >= 0.5 , 1, 0)\n",
    "ROC_AUC_user_5_item = roc_auc_score(prediction, test['film_watch'])\n",
    "values.append(ROC_AUC_user_5_item)\n",
    "indexs.append('Фильмов 5')\n",
    "print(f\"ROC AUC metric: {ROC_AUC_user_5_item}\")"
   ]
  },
  {
   "cell_type": "code",
   "execution_count": 63,
   "id": "3abeae4e",
   "metadata": {},
   "outputs": [
    {
     "name": "stdout",
     "output_type": "stream",
     "text": [
      "ROC AUC metric: 0.6561933846818835\n"
     ]
    }
   ],
   "source": [
    "# 15 соседних фильмов\n",
    "top = 15 \n",
    "top_similar_films = []\n",
    "for i in range(n_movies):\n",
    "    neighbors = (movie_similarity[i]).argsort()[1:top + 1]\n",
    "    top_similar_films.append(train_data_matrix.T[neighbors])\n",
    "top_similar_films = np.array(top_similar_films)\n",
    "\n",
    "predicted_films_item_based = top_similar_films.mean(1).T\n",
    "\n",
    "test['film_watch_item_predict'] = test.apply(\n",
    "    lambda f: round_to_nearest_0_5(predicted_films_item_based[int(f['userId']), int(f['movieId'])]), axis = 1)\n",
    "\n",
    "prediction = np.where(test['film_watch_item_predict'] >= 0.5 , 1, 0)\n",
    "ROC_AUC_user_15_item = roc_auc_score(prediction, test['film_watch'])\n",
    "values.append(ROC_AUC_user_15_item)\n",
    "indexs.append('Фильмов 15')\n",
    "print(f\"ROC AUC metric: {ROC_AUC_user_15_item}\")"
   ]
  },
  {
   "cell_type": "code",
   "execution_count": 64,
   "id": "907374f6",
   "metadata": {},
   "outputs": [
    {
     "name": "stdout",
     "output_type": "stream",
     "text": [
      "ROC AUC metric: 0.6536594927853112\n"
     ]
    }
   ],
   "source": [
    "# 20 соседних фильмов\n",
    "top = 20 \n",
    "top_similar_films = []\n",
    "for i in range(n_movies):\n",
    "    neighbors = (movie_similarity[i]).argsort()[1:top + 1]\n",
    "    top_similar_films.append(train_data_matrix.T[neighbors])\n",
    "top_similar_films = np.array(top_similar_films)\n",
    "\n",
    "predicted_films_item_based = top_similar_films.mean(1).T\n",
    "\n",
    "test['film_watch_item_predict'] = test.apply(\n",
    "    lambda f: round_to_nearest_0_5(predicted_films_item_based[int(f['userId']), int(f['movieId'])]), axis = 1)\n",
    "\n",
    "prediction = np.where(test['film_watch_item_predict'] >= 0.5 , 1, 0)\n",
    "ROC_AUC_user_20_item = roc_auc_score(prediction, test['film_watch'])\n",
    "values.append(ROC_AUC_user_20_item)\n",
    "indexs.append('Фильмов 20')\n",
    "print(f\"ROC AUC metric: {ROC_AUC_user_20_item}\")"
   ]
  },
  {
   "cell_type": "markdown",
   "id": "2c914c33",
   "metadata": {},
   "source": [
    "<div class=\"alert alert-success\">\n",
    "Все равно пока самым лучшим результатом является алгоритм user-based с 5 ближашими кино-пользователями"
   ]
  },
  {
   "cell_type": "markdown",
   "id": "987bd4e6",
   "metadata": {},
   "source": [
    "# Алгоритм на основе матричного разложения. Сделаем SVD."
   ]
  },
  {
   "cell_type": "code",
   "execution_count": 65,
   "id": "68eda7f9",
   "metadata": {},
   "outputs": [
    {
     "data": {
      "text/plain": [
       "(20000, 1000)"
      ]
     },
     "execution_count": 65,
     "metadata": {},
     "output_type": "execute_result"
    }
   ],
   "source": [
    "# Алгоритм на основе матричного разложения (для 5, 15 и 20 значений)\n",
    "train_data_matrix.shape"
   ]
  },
  {
   "cell_type": "code",
   "execution_count": 66,
   "id": "8f811fb3",
   "metadata": {},
   "outputs": [
    {
     "name": "stdout",
     "output_type": "stream",
     "text": [
      "CPU times: total: 4.39 s\n",
      "Wall time: 1.4 s\n"
     ]
    }
   ],
   "source": [
    "%%time\n",
    "# делаем SVD (5 значений)\n",
    "u, s, vh = svds(train_data_matrix, k=5)\n",
    "s_diag_matrix = np.diag(s)\n",
    "\n",
    "users = np.dot(u, s_diag_matrix)\n",
    "items = vh.T"
   ]
  },
  {
   "cell_type": "code",
   "execution_count": 67,
   "id": "46a892af",
   "metadata": {},
   "outputs": [],
   "source": [
    "test['svd_predictions'] = test.apply(\n",
    "    lambda f: round_to_nearest_0_5(np.dot(users[int(f['userId'])], items[int(f['movieId'])])), axis = 1)"
   ]
  },
  {
   "cell_type": "code",
   "execution_count": 68,
   "id": "3d442339",
   "metadata": {},
   "outputs": [
    {
     "name": "stdout",
     "output_type": "stream",
     "text": [
      "ROC AUC metric: 0.6515141275910707\n"
     ]
    }
   ],
   "source": [
    "prediction = np.where(test['svd_predictions'] >= 0.5 , 1, 0)\n",
    "ROC_AUC_SVD_5 = roc_auc_score(prediction, test['film_watch'])\n",
    "values.append(ROC_AUC_SVD_5)\n",
    "indexs.append('Разложение 5')\n",
    "print(f\"ROC AUC metric: {ROC_AUC_SVD_5}\")"
   ]
  },
  {
   "cell_type": "code",
   "execution_count": 69,
   "id": "f3cc94f1",
   "metadata": {},
   "outputs": [
    {
     "name": "stdout",
     "output_type": "stream",
     "text": [
      "ROC AUC metric: 0.6673719960785238\n"
     ]
    }
   ],
   "source": [
    "# делаем SVD (15 значений)\n",
    "u, s, vh = svds(train_data_matrix, k=15)\n",
    "s_diag_matrix = np.diag(s)\n",
    "\n",
    "users = np.dot(u, s_diag_matrix)\n",
    "items = vh.T\n",
    "test['svd_predictions'] = test.apply(\n",
    "    lambda f: round_to_nearest_0_5(np.dot(users[int(f['userId'])], items[int(f['movieId'])])), axis = 1)\n",
    "\n",
    "prediction = np.where(test['svd_predictions'] >= 0.5 , 1, 0)\n",
    "ROC_AUC_SVD_15 = roc_auc_score(prediction, test['film_watch'])\n",
    "values.append(ROC_AUC_SVD_15)\n",
    "indexs.append('Разложение 15')\n",
    "print(f\"ROC AUC metric: {ROC_AUC_SVD_15}\")"
   ]
  },
  {
   "cell_type": "code",
   "execution_count": 70,
   "id": "0539673a",
   "metadata": {},
   "outputs": [
    {
     "name": "stdout",
     "output_type": "stream",
     "text": [
      "ROC AUC metric: 0.66549932528804\n"
     ]
    }
   ],
   "source": [
    "# делаем SVD (15 значений)\n",
    "u, s, vh = svds(train_data_matrix, k=20)\n",
    "s_diag_matrix = np.diag(s)\n",
    "\n",
    "users = np.dot(u, s_diag_matrix)\n",
    "items = vh.T\n",
    "test['svd_predictions'] = test.apply(\n",
    "    lambda f: round_to_nearest_0_5(np.dot(users[int(f['userId'])], items[int(f['movieId'])])), axis = 1)\n",
    "\n",
    "prediction = np.where(test['svd_predictions'] >= 0.5 , 1, 0)\n",
    "ROC_AUC_SVD_20 = roc_auc_score(prediction, test['film_watch'])\n",
    "values.append(ROC_AUC_SVD_20)\n",
    "indexs.append('Разложение 20')\n",
    "print(f\"ROC AUC metric: {ROC_AUC_SVD_20}\")"
   ]
  },
  {
   "cell_type": "markdown",
   "id": "64b4d541",
   "metadata": {},
   "source": [
    "<div class=\"alert alert-info\">\n",
    "\n",
    "7. Опишите вывод, содержащий информацию о том, какой алгоритм проявил себя лучше всего."
   ]
  },
  {
   "cell_type": "code",
   "execution_count": 71,
   "id": "01c77fa5",
   "metadata": {},
   "outputs": [],
   "source": [
    "data = {'Показатели метрик ROC AUC' : values}\n",
    "data = pd.DataFrame(data, index=indexs)"
   ]
  },
  {
   "cell_type": "code",
   "execution_count": 72,
   "id": "f14e282f",
   "metadata": {},
   "outputs": [
    {
     "data": {
      "text/html": [
       "<div>\n",
       "<style scoped>\n",
       "    .dataframe tbody tr th:only-of-type {\n",
       "        vertical-align: middle;\n",
       "    }\n",
       "\n",
       "    .dataframe tbody tr th {\n",
       "        vertical-align: top;\n",
       "    }\n",
       "\n",
       "    .dataframe thead th {\n",
       "        text-align: right;\n",
       "    }\n",
       "</style>\n",
       "<table border=\"1\" class=\"dataframe\">\n",
       "  <thead>\n",
       "    <tr style=\"text-align: right;\">\n",
       "      <th></th>\n",
       "      <th>Показатели метрик ROC AUC</th>\n",
       "    </tr>\n",
       "  </thead>\n",
       "  <tbody>\n",
       "    <tr>\n",
       "      <th>dummy_model</th>\n",
       "      <td>0.4956</td>\n",
       "    </tr>\n",
       "    <tr>\n",
       "      <th>Пользователей 5</th>\n",
       "      <td>0.6042</td>\n",
       "    </tr>\n",
       "    <tr>\n",
       "      <th>Пользователей 15</th>\n",
       "      <td>0.6376</td>\n",
       "    </tr>\n",
       "    <tr>\n",
       "      <th>Пользователей 20</th>\n",
       "      <td>0.6411</td>\n",
       "    </tr>\n",
       "    <tr>\n",
       "      <th>Фильмов 5</th>\n",
       "      <td>0.6282</td>\n",
       "    </tr>\n",
       "    <tr>\n",
       "      <th>Фильмов 15</th>\n",
       "      <td>0.6562</td>\n",
       "    </tr>\n",
       "    <tr>\n",
       "      <th>Фильмов 20</th>\n",
       "      <td>0.6537</td>\n",
       "    </tr>\n",
       "    <tr>\n",
       "      <th>Разложение 5</th>\n",
       "      <td>0.6515</td>\n",
       "    </tr>\n",
       "    <tr>\n",
       "      <th>Разложение 15</th>\n",
       "      <td>0.6674</td>\n",
       "    </tr>\n",
       "    <tr>\n",
       "      <th>Разложение 20</th>\n",
       "      <td>0.6655</td>\n",
       "    </tr>\n",
       "  </tbody>\n",
       "</table>\n",
       "</div>"
      ],
      "text/plain": [
       "                  Показатели метрик ROC AUC\n",
       "dummy_model                          0.4956\n",
       "Пользователей 5                      0.6042\n",
       "Пользователей 15                     0.6376\n",
       "Пользователей 20                     0.6411\n",
       "Фильмов 5                            0.6282\n",
       "Фильмов 15                           0.6562\n",
       "Фильмов 20                           0.6537\n",
       "Разложение 5                         0.6515\n",
       "Разложение 15                        0.6674\n",
       "Разложение 20                        0.6655"
      ]
     },
     "execution_count": 72,
     "metadata": {},
     "output_type": "execute_result"
    }
   ],
   "source": [
    "data.round(4)"
   ]
  },
  {
   "cell_type": "markdown",
   "id": "c1ed017b",
   "metadata": {},
   "source": [
    "<div class=\"alert alert-success\">\n",
    "    \n",
    "**Вывод**\n",
    "    \n",
    "Итак, были реализованы три алгоритма коллаборативной фильтрации: user-, item-based и алгоритм на основе матричной факторизации \n",
    "с разными количеством значений: 5, 15, 20.\n",
    "По итогам лучше себя лусше себя показал алгоритм на основе матричной факторизации(SVD) со значением 15, значит он лучше справляеься с задачей\n",
    "рекомандации фильмов пользователю."
   ]
  }
 ],
 "metadata": {
  "colab": {
   "provenance": []
  },
  "kernelspec": {
   "display_name": "Python 3 (ipykernel)",
   "language": "python",
   "name": "python3"
  },
  "language_info": {
   "codemirror_mode": {
    "name": "ipython",
    "version": 3
   },
   "file_extension": ".py",
   "mimetype": "text/x-python",
   "name": "python",
   "nbconvert_exporter": "python",
   "pygments_lexer": "ipython3",
   "version": "3.10.9"
  }
 },
 "nbformat": 4,
 "nbformat_minor": 5
}
