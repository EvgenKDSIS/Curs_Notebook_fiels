{
 "cells": [
  {
   "cell_type": "markdown",
   "id": "64599169",
   "metadata": {},
   "source": [
    "# Задание\n",
    "Основные цели этого задания:\n",
    "\n",
    "* Научиться работать с новыми моделями: случайный лес, градиентный бустинг.\n",
    "\n",
    "* Научиться распознавать факты переобучения и недообучения модели.\n",
    "\n",
    "* Научить бороться с переобучением и недообучением модели путем варьирования ее гиперпараметров.\n",
    "\n",
    "Задача:\n",
    "\n",
    "Построить модель машинного обучения, предсказывающую, является ли вино красным по одиннадцати его характеристикам.\n",
    "\n",
    "План решения:\n",
    "\n",
    "    1. Загрузите данные, объедините источники в один датафрейм. Составьте целевую переменную на основе файла, из которого вы получили часть данных, изучите распределение по ней. Проверьте отсутствие пропусков в данных, отделите фичи и целевой признак друг от друга, разделите данные на обучающую и валидационную части.\n",
    "\n",
    "    2. Поскольку выборка несбалансирована, воспользуемся для оценки качества модели новой метрикой balanced_accuracy_score. Изучите формулу расчета метрики в документации и реализуйте функцию balanced_accuracy_score_my для ее расчета. На вход она должна принимать правильные и прогнозные метки классов, а возвращать число от 0 до 1. Убедитесь, что вы корректно реализовали расчет, сравнив значения, получаемые библиотечной реализацией и собственной, подавая на вход векторы:\n",
    "    y_true = [0, 1, 1, 1, 1, 1, 1, 0, 1]\n",
    "    y_pred = [1, 0, 1, 1, 1, 1, 0, 0, 1]\n",
    "\n",
    "    3.Подберите лучшую модель решающего дерева:\n",
    "\n",
    "        a. Переберите несколько значений какого-либо гиперпараметра, отвечающего за сложность дерева, для каждого значения оцените качество на обучающей и валидационной частях\n",
    "\n",
    "        b. Визуализируйте зависимость качества модели от значения гиперпараметров. Опишите зоны недообучения и переобучения, если вы их наблюдаете.\n",
    "\n",
    "        c. Выведите значение гиперпараметра, при котором качество модели на валидационной части наилучшее.\n",
    "\n",
    "    4. Подберите лучшую модель случайного леса:\n",
    "\n",
    "        a. Переберите несколько значений какого-либо гиперпараметра дерева и для каждого из них — несколько значений гиперпараметра, отвечающего за количество решающих деревьев в случайном лесу. Для каждой комбинации гиперпараметров оцените качество на валидационной части.\n",
    "\n",
    "        b. Визуализируйте зависимость качества модели от значений гиперпараметров с помощью функции imshow. Опишите особенности, которые вы наблюдаете.\n",
    "\n",
    "        c. Выведите значения гиперпараметров, при которых качество модели на валидационной части выборки наилучшее.\n",
    "\n",
    "    5. Подберите лучший вариант градиентного бустинга:\n",
    "\n",
    "        a. Выделите из обучающей части данных часть для валидации градиентного бустинга в ходе обучения.\n",
    "\n",
    "        b. Зафиксируйте небольшое количество деревьев, значение какого-либо параметра, отвечающего за сложность решающих деревьев и значение величины шага градиентного бустинга. Обучите градиентный бустинг с выбранными параметрами, выводя в процессе обучения значение функции потерь на обучающей и валидационной частях. Выведите значение метрики качества на экран.\n",
    "\n",
    "        c. На фиксированном небольшом количестве деревьев сравните 3-4 комбинации значений параметров величины шага градиентного бустинга и какого-либо параметра, отвечающего за сложность решающих деревьев.\n",
    "\n",
    "        d. Выберите из рассмотренных комбинаций лучшую и обоснуйте свой выбор.\n",
    "\n",
    "        e. Увеличьте количество деревьев и опишите эффект. Изучите значение гиперпараметра early_stopping_rounds и воспользуйтесь им, чтобы сэкономить время, войдя в переобучение модели.\n",
    "\n",
    "    6. В выводах напишите, какая модель показала себя лучше всего, какого качества удалось достичь."
   ]
  },
  {
   "cell_type": "code",
   "execution_count": 1,
   "id": "16baa4b4",
   "metadata": {},
   "outputs": [],
   "source": [
    "# Имрорт нужных библиотек\n",
    "import pandas as pd\n",
    "from sklearn.model_selection import train_test_split\n",
    "from sklearn.tree import DecisionTreeClassifier\n",
    "from sklearn.metrics import mean_absolute_error, balanced_accuracy_score, accuracy_score\n",
    "from sklearn.ensemble import RandomForestClassifier\n",
    "from xgboost import XGBClassifier\n",
    "from matplotlib import pyplot as plt\n",
    "import numpy as np"
   ]
  },
  {
   "cell_type": "markdown",
   "id": "afa3533b",
   "metadata": {},
   "source": [
    "# 1. Загрузите данные, объедините источники в один датафрейм. \n",
    "Составьте целевую переменную на основе файла, из которого вы получили часть данных, изучите распределение по ней. Проверьте отсутствие пропусков в данных, отделите фичи и целевой признак друг от друга, разделите данные на обучающую и валидационную части."
   ]
  },
  {
   "cell_type": "code",
   "execution_count": 2,
   "id": "3b8599f1",
   "metadata": {},
   "outputs": [],
   "source": [
    "# 1-ая часть датафрейма(красные вина)\n",
    "df_r = pd.read_csv('winequality-red.csv', sep=';')"
   ]
  },
  {
   "cell_type": "code",
   "execution_count": 3,
   "id": "466c7fa3",
   "metadata": {},
   "outputs": [
    {
     "data": {
      "text/html": [
       "<div>\n",
       "<style scoped>\n",
       "    .dataframe tbody tr th:only-of-type {\n",
       "        vertical-align: middle;\n",
       "    }\n",
       "\n",
       "    .dataframe tbody tr th {\n",
       "        vertical-align: top;\n",
       "    }\n",
       "\n",
       "    .dataframe thead th {\n",
       "        text-align: right;\n",
       "    }\n",
       "</style>\n",
       "<table border=\"1\" class=\"dataframe\">\n",
       "  <thead>\n",
       "    <tr style=\"text-align: right;\">\n",
       "      <th></th>\n",
       "      <th>fixed acidity</th>\n",
       "      <th>volatile acidity</th>\n",
       "      <th>citric acid</th>\n",
       "      <th>residual sugar</th>\n",
       "      <th>chlorides</th>\n",
       "      <th>free sulfur dioxide</th>\n",
       "      <th>total sulfur dioxide</th>\n",
       "      <th>density</th>\n",
       "      <th>pH</th>\n",
       "      <th>sulphates</th>\n",
       "      <th>alcohol</th>\n",
       "      <th>quality</th>\n",
       "    </tr>\n",
       "  </thead>\n",
       "  <tbody>\n",
       "    <tr>\n",
       "      <th>0</th>\n",
       "      <td>7.4</td>\n",
       "      <td>0.70</td>\n",
       "      <td>0.00</td>\n",
       "      <td>1.9</td>\n",
       "      <td>0.076</td>\n",
       "      <td>11.0</td>\n",
       "      <td>34.0</td>\n",
       "      <td>0.9978</td>\n",
       "      <td>3.51</td>\n",
       "      <td>0.56</td>\n",
       "      <td>9.4</td>\n",
       "      <td>5</td>\n",
       "    </tr>\n",
       "    <tr>\n",
       "      <th>1</th>\n",
       "      <td>7.8</td>\n",
       "      <td>0.88</td>\n",
       "      <td>0.00</td>\n",
       "      <td>2.6</td>\n",
       "      <td>0.098</td>\n",
       "      <td>25.0</td>\n",
       "      <td>67.0</td>\n",
       "      <td>0.9968</td>\n",
       "      <td>3.20</td>\n",
       "      <td>0.68</td>\n",
       "      <td>9.8</td>\n",
       "      <td>5</td>\n",
       "    </tr>\n",
       "    <tr>\n",
       "      <th>2</th>\n",
       "      <td>7.8</td>\n",
       "      <td>0.76</td>\n",
       "      <td>0.04</td>\n",
       "      <td>2.3</td>\n",
       "      <td>0.092</td>\n",
       "      <td>15.0</td>\n",
       "      <td>54.0</td>\n",
       "      <td>0.9970</td>\n",
       "      <td>3.26</td>\n",
       "      <td>0.65</td>\n",
       "      <td>9.8</td>\n",
       "      <td>5</td>\n",
       "    </tr>\n",
       "    <tr>\n",
       "      <th>3</th>\n",
       "      <td>11.2</td>\n",
       "      <td>0.28</td>\n",
       "      <td>0.56</td>\n",
       "      <td>1.9</td>\n",
       "      <td>0.075</td>\n",
       "      <td>17.0</td>\n",
       "      <td>60.0</td>\n",
       "      <td>0.9980</td>\n",
       "      <td>3.16</td>\n",
       "      <td>0.58</td>\n",
       "      <td>9.8</td>\n",
       "      <td>6</td>\n",
       "    </tr>\n",
       "    <tr>\n",
       "      <th>4</th>\n",
       "      <td>7.4</td>\n",
       "      <td>0.70</td>\n",
       "      <td>0.00</td>\n",
       "      <td>1.9</td>\n",
       "      <td>0.076</td>\n",
       "      <td>11.0</td>\n",
       "      <td>34.0</td>\n",
       "      <td>0.9978</td>\n",
       "      <td>3.51</td>\n",
       "      <td>0.56</td>\n",
       "      <td>9.4</td>\n",
       "      <td>5</td>\n",
       "    </tr>\n",
       "  </tbody>\n",
       "</table>\n",
       "</div>"
      ],
      "text/plain": [
       "   fixed acidity  volatile acidity  citric acid  residual sugar  chlorides  \\\n",
       "0            7.4              0.70         0.00             1.9      0.076   \n",
       "1            7.8              0.88         0.00             2.6      0.098   \n",
       "2            7.8              0.76         0.04             2.3      0.092   \n",
       "3           11.2              0.28         0.56             1.9      0.075   \n",
       "4            7.4              0.70         0.00             1.9      0.076   \n",
       "\n",
       "   free sulfur dioxide  total sulfur dioxide  density    pH  sulphates  \\\n",
       "0                 11.0                  34.0   0.9978  3.51       0.56   \n",
       "1                 25.0                  67.0   0.9968  3.20       0.68   \n",
       "2                 15.0                  54.0   0.9970  3.26       0.65   \n",
       "3                 17.0                  60.0   0.9980  3.16       0.58   \n",
       "4                 11.0                  34.0   0.9978  3.51       0.56   \n",
       "\n",
       "   alcohol  quality  \n",
       "0      9.4        5  \n",
       "1      9.8        5  \n",
       "2      9.8        5  \n",
       "3      9.8        6  \n",
       "4      9.4        5  "
      ]
     },
     "execution_count": 3,
     "metadata": {},
     "output_type": "execute_result"
    }
   ],
   "source": [
    "df_r.head()"
   ]
  },
  {
   "cell_type": "code",
   "execution_count": 4,
   "id": "f5cc4704",
   "metadata": {},
   "outputs": [
    {
     "name": "stdout",
     "output_type": "stream",
     "text": [
      "<class 'pandas.core.frame.DataFrame'>\n",
      "RangeIndex: 1599 entries, 0 to 1598\n",
      "Data columns (total 12 columns):\n",
      " #   Column                Non-Null Count  Dtype  \n",
      "---  ------                --------------  -----  \n",
      " 0   fixed acidity         1599 non-null   float64\n",
      " 1   volatile acidity      1599 non-null   float64\n",
      " 2   citric acid           1599 non-null   float64\n",
      " 3   residual sugar        1599 non-null   float64\n",
      " 4   chlorides             1599 non-null   float64\n",
      " 5   free sulfur dioxide   1599 non-null   float64\n",
      " 6   total sulfur dioxide  1599 non-null   float64\n",
      " 7   density               1599 non-null   float64\n",
      " 8   pH                    1599 non-null   float64\n",
      " 9   sulphates             1599 non-null   float64\n",
      " 10  alcohol               1599 non-null   float64\n",
      " 11  quality               1599 non-null   int64  \n",
      "dtypes: float64(11), int64(1)\n",
      "memory usage: 150.0 KB\n"
     ]
    }
   ],
   "source": [
    "# Общая информация по красным\n",
    "df_r.info()"
   ]
  },
  {
   "cell_type": "markdown",
   "id": "852a5fbe",
   "metadata": {},
   "source": [
    "Промежуточный вывод: пропусков нет, все значения(признаки) количественные"
   ]
  },
  {
   "cell_type": "code",
   "execution_count": 5,
   "id": "cf8fdece",
   "metadata": {},
   "outputs": [],
   "source": [
    "# 2-ая часть датафрейма(белые вина)\n",
    "df_w = pd.read_csv('winequality-white.csv', sep=';')"
   ]
  },
  {
   "cell_type": "code",
   "execution_count": 6,
   "id": "a44aa1b6",
   "metadata": {},
   "outputs": [
    {
     "data": {
      "text/html": [
       "<div>\n",
       "<style scoped>\n",
       "    .dataframe tbody tr th:only-of-type {\n",
       "        vertical-align: middle;\n",
       "    }\n",
       "\n",
       "    .dataframe tbody tr th {\n",
       "        vertical-align: top;\n",
       "    }\n",
       "\n",
       "    .dataframe thead th {\n",
       "        text-align: right;\n",
       "    }\n",
       "</style>\n",
       "<table border=\"1\" class=\"dataframe\">\n",
       "  <thead>\n",
       "    <tr style=\"text-align: right;\">\n",
       "      <th></th>\n",
       "      <th>fixed acidity</th>\n",
       "      <th>volatile acidity</th>\n",
       "      <th>citric acid</th>\n",
       "      <th>residual sugar</th>\n",
       "      <th>chlorides</th>\n",
       "      <th>free sulfur dioxide</th>\n",
       "      <th>total sulfur dioxide</th>\n",
       "      <th>density</th>\n",
       "      <th>pH</th>\n",
       "      <th>sulphates</th>\n",
       "      <th>alcohol</th>\n",
       "      <th>quality</th>\n",
       "    </tr>\n",
       "  </thead>\n",
       "  <tbody>\n",
       "    <tr>\n",
       "      <th>0</th>\n",
       "      <td>7.0</td>\n",
       "      <td>0.27</td>\n",
       "      <td>0.36</td>\n",
       "      <td>20.7</td>\n",
       "      <td>0.045</td>\n",
       "      <td>45.0</td>\n",
       "      <td>170.0</td>\n",
       "      <td>1.0010</td>\n",
       "      <td>3.00</td>\n",
       "      <td>0.45</td>\n",
       "      <td>8.8</td>\n",
       "      <td>6</td>\n",
       "    </tr>\n",
       "    <tr>\n",
       "      <th>1</th>\n",
       "      <td>6.3</td>\n",
       "      <td>0.30</td>\n",
       "      <td>0.34</td>\n",
       "      <td>1.6</td>\n",
       "      <td>0.049</td>\n",
       "      <td>14.0</td>\n",
       "      <td>132.0</td>\n",
       "      <td>0.9940</td>\n",
       "      <td>3.30</td>\n",
       "      <td>0.49</td>\n",
       "      <td>9.5</td>\n",
       "      <td>6</td>\n",
       "    </tr>\n",
       "    <tr>\n",
       "      <th>2</th>\n",
       "      <td>8.1</td>\n",
       "      <td>0.28</td>\n",
       "      <td>0.40</td>\n",
       "      <td>6.9</td>\n",
       "      <td>0.050</td>\n",
       "      <td>30.0</td>\n",
       "      <td>97.0</td>\n",
       "      <td>0.9951</td>\n",
       "      <td>3.26</td>\n",
       "      <td>0.44</td>\n",
       "      <td>10.1</td>\n",
       "      <td>6</td>\n",
       "    </tr>\n",
       "    <tr>\n",
       "      <th>3</th>\n",
       "      <td>7.2</td>\n",
       "      <td>0.23</td>\n",
       "      <td>0.32</td>\n",
       "      <td>8.5</td>\n",
       "      <td>0.058</td>\n",
       "      <td>47.0</td>\n",
       "      <td>186.0</td>\n",
       "      <td>0.9956</td>\n",
       "      <td>3.19</td>\n",
       "      <td>0.40</td>\n",
       "      <td>9.9</td>\n",
       "      <td>6</td>\n",
       "    </tr>\n",
       "    <tr>\n",
       "      <th>4</th>\n",
       "      <td>7.2</td>\n",
       "      <td>0.23</td>\n",
       "      <td>0.32</td>\n",
       "      <td>8.5</td>\n",
       "      <td>0.058</td>\n",
       "      <td>47.0</td>\n",
       "      <td>186.0</td>\n",
       "      <td>0.9956</td>\n",
       "      <td>3.19</td>\n",
       "      <td>0.40</td>\n",
       "      <td>9.9</td>\n",
       "      <td>6</td>\n",
       "    </tr>\n",
       "  </tbody>\n",
       "</table>\n",
       "</div>"
      ],
      "text/plain": [
       "   fixed acidity  volatile acidity  citric acid  residual sugar  chlorides  \\\n",
       "0            7.0              0.27         0.36            20.7      0.045   \n",
       "1            6.3              0.30         0.34             1.6      0.049   \n",
       "2            8.1              0.28         0.40             6.9      0.050   \n",
       "3            7.2              0.23         0.32             8.5      0.058   \n",
       "4            7.2              0.23         0.32             8.5      0.058   \n",
       "\n",
       "   free sulfur dioxide  total sulfur dioxide  density    pH  sulphates  \\\n",
       "0                 45.0                 170.0   1.0010  3.00       0.45   \n",
       "1                 14.0                 132.0   0.9940  3.30       0.49   \n",
       "2                 30.0                  97.0   0.9951  3.26       0.44   \n",
       "3                 47.0                 186.0   0.9956  3.19       0.40   \n",
       "4                 47.0                 186.0   0.9956  3.19       0.40   \n",
       "\n",
       "   alcohol  quality  \n",
       "0      8.8        6  \n",
       "1      9.5        6  \n",
       "2     10.1        6  \n",
       "3      9.9        6  \n",
       "4      9.9        6  "
      ]
     },
     "execution_count": 6,
     "metadata": {},
     "output_type": "execute_result"
    }
   ],
   "source": [
    "df_w.head()"
   ]
  },
  {
   "cell_type": "code",
   "execution_count": 7,
   "id": "1794d2f8",
   "metadata": {},
   "outputs": [
    {
     "name": "stdout",
     "output_type": "stream",
     "text": [
      "<class 'pandas.core.frame.DataFrame'>\n",
      "RangeIndex: 4898 entries, 0 to 4897\n",
      "Data columns (total 12 columns):\n",
      " #   Column                Non-Null Count  Dtype  \n",
      "---  ------                --------------  -----  \n",
      " 0   fixed acidity         4898 non-null   float64\n",
      " 1   volatile acidity      4898 non-null   float64\n",
      " 2   citric acid           4898 non-null   float64\n",
      " 3   residual sugar        4898 non-null   float64\n",
      " 4   chlorides             4898 non-null   float64\n",
      " 5   free sulfur dioxide   4898 non-null   float64\n",
      " 6   total sulfur dioxide  4898 non-null   float64\n",
      " 7   density               4898 non-null   float64\n",
      " 8   pH                    4898 non-null   float64\n",
      " 9   sulphates             4898 non-null   float64\n",
      " 10  alcohol               4898 non-null   float64\n",
      " 11  quality               4898 non-null   int64  \n",
      "dtypes: float64(11), int64(1)\n",
      "memory usage: 459.3 KB\n"
     ]
    }
   ],
   "source": [
    "# Общая информация по белым\n",
    "df_w.info()"
   ]
  },
  {
   "cell_type": "markdown",
   "id": "b02508fa",
   "metadata": {},
   "source": [
    "<div class=\"alert alert-info\">\n",
    "    \n",
    "Добавим еще столбцы на понимание того, что у нас красное или белое вино"
   ]
  },
  {
   "cell_type": "code",
   "execution_count": 8,
   "id": "c8ac4064",
   "metadata": {},
   "outputs": [],
   "source": [
    "df_r['red_wine'] = 1\n",
    "df_w['red_wine'] = 0"
   ]
  },
  {
   "cell_type": "markdown",
   "id": "2df118b0",
   "metadata": {},
   "source": [
    "Промежуточный вывод: пропусков нет, все значения(признаки) количественные"
   ]
  },
  {
   "cell_type": "code",
   "execution_count": 9,
   "id": "23f89001",
   "metadata": {},
   "outputs": [],
   "source": [
    "# объединяем датафреймы\n",
    "frames = [df_r, df_w]\n",
    "df_r_w = pd.concat(frames)"
   ]
  },
  {
   "cell_type": "markdown",
   "id": "029c85a2",
   "metadata": {},
   "source": [
    "Проверяем наш датафрейм"
   ]
  },
  {
   "cell_type": "code",
   "execution_count": 10,
   "id": "f29f67bb",
   "metadata": {},
   "outputs": [
    {
     "data": {
      "text/html": [
       "<div>\n",
       "<style scoped>\n",
       "    .dataframe tbody tr th:only-of-type {\n",
       "        vertical-align: middle;\n",
       "    }\n",
       "\n",
       "    .dataframe tbody tr th {\n",
       "        vertical-align: top;\n",
       "    }\n",
       "\n",
       "    .dataframe thead th {\n",
       "        text-align: right;\n",
       "    }\n",
       "</style>\n",
       "<table border=\"1\" class=\"dataframe\">\n",
       "  <thead>\n",
       "    <tr style=\"text-align: right;\">\n",
       "      <th></th>\n",
       "      <th>fixed acidity</th>\n",
       "      <th>volatile acidity</th>\n",
       "      <th>citric acid</th>\n",
       "      <th>residual sugar</th>\n",
       "      <th>chlorides</th>\n",
       "      <th>free sulfur dioxide</th>\n",
       "      <th>total sulfur dioxide</th>\n",
       "      <th>density</th>\n",
       "      <th>pH</th>\n",
       "      <th>sulphates</th>\n",
       "      <th>alcohol</th>\n",
       "      <th>quality</th>\n",
       "      <th>red_wine</th>\n",
       "    </tr>\n",
       "  </thead>\n",
       "  <tbody>\n",
       "    <tr>\n",
       "      <th>0</th>\n",
       "      <td>7.4</td>\n",
       "      <td>0.70</td>\n",
       "      <td>0.00</td>\n",
       "      <td>1.9</td>\n",
       "      <td>0.076</td>\n",
       "      <td>11.0</td>\n",
       "      <td>34.0</td>\n",
       "      <td>0.9978</td>\n",
       "      <td>3.51</td>\n",
       "      <td>0.56</td>\n",
       "      <td>9.4</td>\n",
       "      <td>5</td>\n",
       "      <td>1</td>\n",
       "    </tr>\n",
       "    <tr>\n",
       "      <th>1</th>\n",
       "      <td>7.8</td>\n",
       "      <td>0.88</td>\n",
       "      <td>0.00</td>\n",
       "      <td>2.6</td>\n",
       "      <td>0.098</td>\n",
       "      <td>25.0</td>\n",
       "      <td>67.0</td>\n",
       "      <td>0.9968</td>\n",
       "      <td>3.20</td>\n",
       "      <td>0.68</td>\n",
       "      <td>9.8</td>\n",
       "      <td>5</td>\n",
       "      <td>1</td>\n",
       "    </tr>\n",
       "    <tr>\n",
       "      <th>2</th>\n",
       "      <td>7.8</td>\n",
       "      <td>0.76</td>\n",
       "      <td>0.04</td>\n",
       "      <td>2.3</td>\n",
       "      <td>0.092</td>\n",
       "      <td>15.0</td>\n",
       "      <td>54.0</td>\n",
       "      <td>0.9970</td>\n",
       "      <td>3.26</td>\n",
       "      <td>0.65</td>\n",
       "      <td>9.8</td>\n",
       "      <td>5</td>\n",
       "      <td>1</td>\n",
       "    </tr>\n",
       "    <tr>\n",
       "      <th>3</th>\n",
       "      <td>11.2</td>\n",
       "      <td>0.28</td>\n",
       "      <td>0.56</td>\n",
       "      <td>1.9</td>\n",
       "      <td>0.075</td>\n",
       "      <td>17.0</td>\n",
       "      <td>60.0</td>\n",
       "      <td>0.9980</td>\n",
       "      <td>3.16</td>\n",
       "      <td>0.58</td>\n",
       "      <td>9.8</td>\n",
       "      <td>6</td>\n",
       "      <td>1</td>\n",
       "    </tr>\n",
       "    <tr>\n",
       "      <th>4</th>\n",
       "      <td>7.4</td>\n",
       "      <td>0.70</td>\n",
       "      <td>0.00</td>\n",
       "      <td>1.9</td>\n",
       "      <td>0.076</td>\n",
       "      <td>11.0</td>\n",
       "      <td>34.0</td>\n",
       "      <td>0.9978</td>\n",
       "      <td>3.51</td>\n",
       "      <td>0.56</td>\n",
       "      <td>9.4</td>\n",
       "      <td>5</td>\n",
       "      <td>1</td>\n",
       "    </tr>\n",
       "  </tbody>\n",
       "</table>\n",
       "</div>"
      ],
      "text/plain": [
       "   fixed acidity  volatile acidity  citric acid  residual sugar  chlorides  \\\n",
       "0            7.4              0.70         0.00             1.9      0.076   \n",
       "1            7.8              0.88         0.00             2.6      0.098   \n",
       "2            7.8              0.76         0.04             2.3      0.092   \n",
       "3           11.2              0.28         0.56             1.9      0.075   \n",
       "4            7.4              0.70         0.00             1.9      0.076   \n",
       "\n",
       "   free sulfur dioxide  total sulfur dioxide  density    pH  sulphates  \\\n",
       "0                 11.0                  34.0   0.9978  3.51       0.56   \n",
       "1                 25.0                  67.0   0.9968  3.20       0.68   \n",
       "2                 15.0                  54.0   0.9970  3.26       0.65   \n",
       "3                 17.0                  60.0   0.9980  3.16       0.58   \n",
       "4                 11.0                  34.0   0.9978  3.51       0.56   \n",
       "\n",
       "   alcohol  quality  red_wine  \n",
       "0      9.4        5         1  \n",
       "1      9.8        5         1  \n",
       "2      9.8        5         1  \n",
       "3      9.8        6         1  \n",
       "4      9.4        5         1  "
      ]
     },
     "execution_count": 10,
     "metadata": {},
     "output_type": "execute_result"
    }
   ],
   "source": [
    "df_r_w.head()"
   ]
  },
  {
   "cell_type": "markdown",
   "id": "71d4e5cd",
   "metadata": {},
   "source": [
    "Все в порядке за исключением одного момента: Сейчас у нас УСЛОВНО СВЕРХУ находятся красные вина, а СНИЗУ белые, \n",
    "что плохо скажется при разбиении сета на выборки(тестовую и проверочную) "
   ]
  },
  {
   "cell_type": "code",
   "execution_count": 11,
   "id": "c2591023",
   "metadata": {},
   "outputs": [
    {
     "name": "stdout",
     "output_type": "stream",
     "text": [
      "<class 'pandas.core.frame.DataFrame'>\n",
      "Int64Index: 6497 entries, 0 to 4897\n",
      "Data columns (total 13 columns):\n",
      " #   Column                Non-Null Count  Dtype  \n",
      "---  ------                --------------  -----  \n",
      " 0   fixed acidity         6497 non-null   float64\n",
      " 1   volatile acidity      6497 non-null   float64\n",
      " 2   citric acid           6497 non-null   float64\n",
      " 3   residual sugar        6497 non-null   float64\n",
      " 4   chlorides             6497 non-null   float64\n",
      " 5   free sulfur dioxide   6497 non-null   float64\n",
      " 6   total sulfur dioxide  6497 non-null   float64\n",
      " 7   density               6497 non-null   float64\n",
      " 8   pH                    6497 non-null   float64\n",
      " 9   sulphates             6497 non-null   float64\n",
      " 10  alcohol               6497 non-null   float64\n",
      " 11  quality               6497 non-null   int64  \n",
      " 12  red_wine              6497 non-null   int64  \n",
      "dtypes: float64(11), int64(2)\n",
      "memory usage: 710.6 KB\n"
     ]
    }
   ],
   "source": [
    "df_r_w.info()"
   ]
  },
  {
   "cell_type": "code",
   "execution_count": 12,
   "id": "9045aee3",
   "metadata": {},
   "outputs": [
    {
     "data": {
      "text/plain": [
       "(6497, 13)"
      ]
     },
     "execution_count": 12,
     "metadata": {},
     "output_type": "execute_result"
    }
   ],
   "source": [
    "df_r_w.shape"
   ]
  },
  {
   "cell_type": "markdown",
   "id": "09e381bc",
   "metadata": {},
   "source": [
    "Тосуем данные)"
   ]
  },
  {
   "cell_type": "code",
   "execution_count": 13,
   "id": "a0ba4ad3",
   "metadata": {},
   "outputs": [],
   "source": [
    "df_r_w = df_r_w.sample(frac=1).reset_index(drop=True)"
   ]
  },
  {
   "cell_type": "code",
   "execution_count": 14,
   "id": "a7098c34",
   "metadata": {},
   "outputs": [
    {
     "data": {
      "text/html": [
       "<div>\n",
       "<style scoped>\n",
       "    .dataframe tbody tr th:only-of-type {\n",
       "        vertical-align: middle;\n",
       "    }\n",
       "\n",
       "    .dataframe tbody tr th {\n",
       "        vertical-align: top;\n",
       "    }\n",
       "\n",
       "    .dataframe thead th {\n",
       "        text-align: right;\n",
       "    }\n",
       "</style>\n",
       "<table border=\"1\" class=\"dataframe\">\n",
       "  <thead>\n",
       "    <tr style=\"text-align: right;\">\n",
       "      <th></th>\n",
       "      <th>fixed acidity</th>\n",
       "      <th>volatile acidity</th>\n",
       "      <th>citric acid</th>\n",
       "      <th>residual sugar</th>\n",
       "      <th>chlorides</th>\n",
       "      <th>free sulfur dioxide</th>\n",
       "      <th>total sulfur dioxide</th>\n",
       "      <th>density</th>\n",
       "      <th>pH</th>\n",
       "      <th>sulphates</th>\n",
       "      <th>alcohol</th>\n",
       "      <th>quality</th>\n",
       "      <th>red_wine</th>\n",
       "    </tr>\n",
       "  </thead>\n",
       "  <tbody>\n",
       "    <tr>\n",
       "      <th>0</th>\n",
       "      <td>7.5</td>\n",
       "      <td>0.330</td>\n",
       "      <td>0.32</td>\n",
       "      <td>11.1</td>\n",
       "      <td>0.036</td>\n",
       "      <td>25.0</td>\n",
       "      <td>119.0</td>\n",
       "      <td>0.99620</td>\n",
       "      <td>3.15</td>\n",
       "      <td>0.34</td>\n",
       "      <td>10.5</td>\n",
       "      <td>6</td>\n",
       "      <td>0</td>\n",
       "    </tr>\n",
       "    <tr>\n",
       "      <th>1</th>\n",
       "      <td>6.6</td>\n",
       "      <td>0.895</td>\n",
       "      <td>0.04</td>\n",
       "      <td>2.3</td>\n",
       "      <td>0.068</td>\n",
       "      <td>7.0</td>\n",
       "      <td>13.0</td>\n",
       "      <td>0.99582</td>\n",
       "      <td>3.53</td>\n",
       "      <td>0.58</td>\n",
       "      <td>10.8</td>\n",
       "      <td>6</td>\n",
       "      <td>1</td>\n",
       "    </tr>\n",
       "    <tr>\n",
       "      <th>2</th>\n",
       "      <td>8.3</td>\n",
       "      <td>0.330</td>\n",
       "      <td>0.42</td>\n",
       "      <td>2.3</td>\n",
       "      <td>0.070</td>\n",
       "      <td>9.0</td>\n",
       "      <td>20.0</td>\n",
       "      <td>0.99426</td>\n",
       "      <td>3.38</td>\n",
       "      <td>0.77</td>\n",
       "      <td>12.7</td>\n",
       "      <td>7</td>\n",
       "      <td>1</td>\n",
       "    </tr>\n",
       "    <tr>\n",
       "      <th>3</th>\n",
       "      <td>7.5</td>\n",
       "      <td>0.570</td>\n",
       "      <td>0.08</td>\n",
       "      <td>2.6</td>\n",
       "      <td>0.089</td>\n",
       "      <td>14.0</td>\n",
       "      <td>27.0</td>\n",
       "      <td>0.99592</td>\n",
       "      <td>3.30</td>\n",
       "      <td>0.59</td>\n",
       "      <td>10.4</td>\n",
       "      <td>6</td>\n",
       "      <td>1</td>\n",
       "    </tr>\n",
       "    <tr>\n",
       "      <th>4</th>\n",
       "      <td>7.4</td>\n",
       "      <td>0.600</td>\n",
       "      <td>0.26</td>\n",
       "      <td>7.3</td>\n",
       "      <td>0.070</td>\n",
       "      <td>36.0</td>\n",
       "      <td>121.0</td>\n",
       "      <td>0.99820</td>\n",
       "      <td>3.37</td>\n",
       "      <td>0.49</td>\n",
       "      <td>9.4</td>\n",
       "      <td>5</td>\n",
       "      <td>1</td>\n",
       "    </tr>\n",
       "  </tbody>\n",
       "</table>\n",
       "</div>"
      ],
      "text/plain": [
       "   fixed acidity  volatile acidity  citric acid  residual sugar  chlorides  \\\n",
       "0            7.5             0.330         0.32            11.1      0.036   \n",
       "1            6.6             0.895         0.04             2.3      0.068   \n",
       "2            8.3             0.330         0.42             2.3      0.070   \n",
       "3            7.5             0.570         0.08             2.6      0.089   \n",
       "4            7.4             0.600         0.26             7.3      0.070   \n",
       "\n",
       "   free sulfur dioxide  total sulfur dioxide  density    pH  sulphates  \\\n",
       "0                 25.0                 119.0  0.99620  3.15       0.34   \n",
       "1                  7.0                  13.0  0.99582  3.53       0.58   \n",
       "2                  9.0                  20.0  0.99426  3.38       0.77   \n",
       "3                 14.0                  27.0  0.99592  3.30       0.59   \n",
       "4                 36.0                 121.0  0.99820  3.37       0.49   \n",
       "\n",
       "   alcohol  quality  red_wine  \n",
       "0     10.5        6         0  \n",
       "1     10.8        6         1  \n",
       "2     12.7        7         1  \n",
       "3     10.4        6         1  \n",
       "4      9.4        5         1  "
      ]
     },
     "execution_count": 14,
     "metadata": {},
     "output_type": "execute_result"
    }
   ],
   "source": [
    "df_r_w.head()"
   ]
  },
  {
   "cell_type": "code",
   "execution_count": 15,
   "id": "351cba27",
   "metadata": {},
   "outputs": [
    {
     "data": {
      "text/plain": [
       "0    4898\n",
       "1    1599\n",
       "Name: red_wine, dtype: int64"
      ]
     },
     "execution_count": 15,
     "metadata": {},
     "output_type": "execute_result"
    }
   ],
   "source": [
    "df_r_w.red_wine.value_counts()"
   ]
  },
  {
   "cell_type": "markdown",
   "id": "312509b8",
   "metadata": {},
   "source": [
    "Вот теперь больше подходит для наших задач. Разбиваем данные на выборки:"
   ]
  },
  {
   "cell_type": "code",
   "execution_count": 16,
   "id": "9a819c4b",
   "metadata": {},
   "outputs": [],
   "source": [
    "# определение переменных-предикторов и переменной ответа\n",
    "X = df_r_w.drop(['red_wine'], axis=1)\n",
    "y = df_r_w['red_wine']"
   ]
  },
  {
   "cell_type": "code",
   "execution_count": 17,
   "id": "01e69639",
   "metadata": {},
   "outputs": [],
   "source": [
    "# разделение набора данных на обучающий и тестовые наборы (Для начала так, как это было на уроке)\n",
    "X_train, X_test, y_train, y_test = train_test_split(X, y, test_size=0.25, random_state=42)"
   ]
  },
  {
   "cell_type": "markdown",
   "id": "5286d18f",
   "metadata": {},
   "source": [
    "# 2. Поскольку выборка несбалансирована, воспользуемся для оценки качества модели новой метрикой balanced_accuracy_score. \n",
    "Изучите формулу расчета метрики в документации и реализуйте функцию balanced_accuracy_score_my для ее расчета. На вход она должна принимать правильные и прогнозные метки классов, а возвращать число от 0 до 1. Убедитесь, что вы корректно реализовали расчет, сравнив значения, получаемые библиотечной реализацией и собственной, подавая на вход векторы:\n",
    "    y_true = [0, 1, 1, 1, 1, 1, 1, 0, 1]\n",
    "    y_pred = [1, 0, 1, 1, 1, 1, 0, 0, 1]"
   ]
  },
  {
   "cell_type": "code",
   "execution_count": 18,
   "id": "b5cfa1ac",
   "metadata": {},
   "outputs": [],
   "source": [
    "def balanced_accuracy_score_my(y_true, y_pred):\n",
    "    TP_FN = 0\n",
    "    TN_FP = 0\n",
    "    for i in y_true:\n",
    "        if i == 1:\n",
    "            TP_FN += 1\n",
    "        else:\n",
    "            TN_FP += 1\n",
    "        \n",
    "    TP = 0\n",
    "    TN = 0\n",
    "    for i, j in zip(y_true, y_pred):\n",
    "        if i == j == 1:\n",
    "            TP += 1\n",
    "        elif i == j == 0:\n",
    "            TN += 1\n",
    "        else:\n",
    "            pass\n",
    "        \n",
    "    result = 1 / 2 * (TP / TP_FN + TN / TN_FP)\n",
    "    return result\n",
    "        \n",
    "\n"
   ]
  },
  {
   "cell_type": "code",
   "execution_count": 19,
   "id": "7705fca3",
   "metadata": {},
   "outputs": [],
   "source": [
    "y_true = [0, 1, 1, 1, 1, 1, 1, 0, 1]\n",
    "y_pred = [1, 0, 1, 1, 1, 1, 0, 0, 1]"
   ]
  },
  {
   "cell_type": "code",
   "execution_count": 20,
   "id": "31fb8a16",
   "metadata": {},
   "outputs": [
    {
     "data": {
      "text/plain": [
       "0.6071428571428572"
      ]
     },
     "execution_count": 20,
     "metadata": {},
     "output_type": "execute_result"
    }
   ],
   "source": [
    "balanced_accuracy_score_my(y_true, y_pred) # наша "
   ]
  },
  {
   "cell_type": "code",
   "execution_count": 21,
   "id": "54c6ff0f",
   "metadata": {},
   "outputs": [
    {
     "data": {
      "text/plain": [
       "0.6071428571428572"
      ]
     },
     "execution_count": 21,
     "metadata": {},
     "output_type": "execute_result"
    }
   ],
   "source": [
    "balanced_accuracy_score(y_true, y_pred) # библиотечная "
   ]
  },
  {
   "cell_type": "markdown",
   "id": "647b9d8b",
   "metadata": {},
   "source": [
    "# 3. Подберите лучшую модель решающего дерева:\n",
    "        a. Переберите несколько значений какого-либо гиперпараметра, отвечающего за сложность дерева, для каждого значения оцените качество на обучающей и валидационной частях\n",
    "        b. Визуализируйте зависимость качества модели от значения гиперпараметров. Опишите зоны недообучения и переобучения, если вы их наблюдаете.\n",
    "        c. Выведите значение гиперпараметра, при котором качество модели на валидационной части наилучшее."
   ]
  },
  {
   "cell_type": "code",
   "execution_count": 22,
   "id": "fed8816d",
   "metadata": {},
   "outputs": [
    {
     "data": {
      "image/png": "[encoded data removed]",
      "text/plain": [
       "<Figure size 640x480 with 1 Axes>"
      ]
     },
     "metadata": {},
     "output_type": "display_data"
    }
   ],
   "source": [
    "res = []\n",
    "for param in range(1, 30):\n",
    "    model = DecisionTreeClassifier(min_samples_leaf=param, random_state=42)\n",
    "\n",
    "    model.fit(X_train, y_train)\n",
    "    pred_train = model.predict(X_train)\n",
    "    pred_test = model.predict(X_test)\n",
    "\n",
    "    res.append([param, balanced_accuracy_score(pred_train, y_train), balanced_accuracy_score(pred_test, y_test)])\n",
    "    \n",
    "res_pd = pd.DataFrame(res, columns=['min_samples_leaf', 'balanced_accuracy_train', 'balanced_accuracy_test'])\n",
    "\n",
    "res_pd.set_index('min_samples_leaf')['balanced_accuracy_train'].plot(label='balanced_accuracy_train')\n",
    "res_pd.set_index('min_samples_leaf')['balanced_accuracy_test'].plot(label='balanced_accuracy_test')\n",
    "plt.legend()\n",
    "plt.ylabel('Accuracy');"
   ]
  },
  {
   "cell_type": "code",
   "execution_count": 23,
   "id": "7ac0e7ea",
   "metadata": {},
   "outputs": [
    {
     "data": {
      "text/html": [
       "<div>\n",
       "<style scoped>\n",
       "    .dataframe tbody tr th:only-of-type {\n",
       "        vertical-align: middle;\n",
       "    }\n",
       "\n",
       "    .dataframe tbody tr th {\n",
       "        vertical-align: top;\n",
       "    }\n",
       "\n",
       "    .dataframe thead th {\n",
       "        text-align: right;\n",
       "    }\n",
       "</style>\n",
       "<table border=\"1\" class=\"dataframe\">\n",
       "  <thead>\n",
       "    <tr style=\"text-align: right;\">\n",
       "      <th></th>\n",
       "      <th>min_samples_leaf</th>\n",
       "      <th>balanced_accuracy_train</th>\n",
       "      <th>balanced_accuracy_test</th>\n",
       "    </tr>\n",
       "  </thead>\n",
       "  <tbody>\n",
       "    <tr>\n",
       "      <th>4</th>\n",
       "      <td>5</td>\n",
       "      <td>0.990809</td>\n",
       "      <td>0.983957</td>\n",
       "    </tr>\n",
       "  </tbody>\n",
       "</table>\n",
       "</div>"
      ],
      "text/plain": [
       "   min_samples_leaf  balanced_accuracy_train  balanced_accuracy_test\n",
       "4                 5                 0.990809                0.983957"
      ]
     },
     "execution_count": 23,
     "metadata": {},
     "output_type": "execute_result"
    }
   ],
   "source": [
    "res_pd[res_pd['balanced_accuracy_test'] == res_pd['balanced_accuracy_test'].max()]"
   ]
  },
  {
   "cell_type": "markdown",
   "id": "e33d0994",
   "metadata": {},
   "source": [
    "Модель недоучилась, тк качество модели при тестовых заметно ниже, чем при тренировочных.\n",
    "При min_samples_leaf = 5 самая высокая точность)"
   ]
  },
  {
   "cell_type": "markdown",
   "id": "ffa88252",
   "metadata": {},
   "source": [
    "# 4. Подберите лучшую модель случайного леса:\n",
    "\n",
    "    a. Переберите несколько значений какого-либо гиперпараметра дерева и для каждого из них — несколько значений гиперпараметра, отвечающего за количество решающих деревьев в случайном лесу. Для каждой комбинации гиперпараметров оцените качество на валидационной части.\n",
    "\n",
    "    b. Визуализируйте зависимость качества модели от значений гиперпараметров с помощью функции imshow. Опишите особенности, которые вы наблюдаете.\n",
    "\n",
    "    c. Выведите значения гиперпараметров, при которых качество модели на валидационной части выборки наилучшее."
   ]
  },
  {
   "cell_type": "code",
   "execution_count": 24,
   "id": "18a2a539",
   "metadata": {},
   "outputs": [
    {
     "data": {
      "text/plain": [
       "<matplotlib.colorbar.Colorbar at 0x1f624bc1cf0>"
      ]
     },
     "execution_count": 24,
     "metadata": {},
     "output_type": "execute_result"
    },
    {
     "data": {
      "image/png": "[encoded data removed]",
      "text/plain": [
       "<Figure size 500x500 with 2 Axes>"
      ]
     },
     "metadata": {},
     "output_type": "display_data"
    }
   ],
   "source": [
    "res = []\n",
    "for n_tree in range(1, 30):\n",
    "    for max_depth in range(1, 30):\n",
    "        model = RandomForestClassifier(n_estimators=n_tree, min_samples_leaf=3, random_state=7, max_depth=max_depth)\n",
    "\n",
    "        model.fit(X_train, y_train)\n",
    "        pred_train = model.predict(X_train)\n",
    "        pred_test = model.predict(X_test)\n",
    "\n",
    "        res.append([n_tree, max_depth, balanced_accuracy_score(pred_train, y_train), balanced_accuracy_score(pred_test, y_test)])\n",
    "\n",
    "    res_pd = pd.DataFrame(res, columns=['n_tree', 'max_depth', 'balanced_accuracy_train', 'balanced_accuracy_test'])\n",
    "\n",
    "plt.figure(figsize=(5, 5))\n",
    "plt.imshow(res_pd.pivot(index='n_tree', columns='max_depth', values='balanced_accuracy_test'), cmap =\"Reds\", alpha = 0.7, aspect='equal', origin='lower')  \n",
    "plt.title('Карта с помощью метода imshow()')\n",
    "plt.ylabel('Количество деревьев')\n",
    "plt.xlabel('Максимальная глубина')\n",
    "plt.colorbar()\n"
   ]
  },
  {
   "cell_type": "code",
   "execution_count": 25,
   "id": "ab04dd07",
   "metadata": {},
   "outputs": [
    {
     "data": {
      "text/html": [
       "<div>\n",
       "<style scoped>\n",
       "    .dataframe tbody tr th:only-of-type {\n",
       "        vertical-align: middle;\n",
       "    }\n",
       "\n",
       "    .dataframe tbody tr th {\n",
       "        vertical-align: top;\n",
       "    }\n",
       "\n",
       "    .dataframe thead th {\n",
       "        text-align: right;\n",
       "    }\n",
       "</style>\n",
       "<table border=\"1\" class=\"dataframe\">\n",
       "  <thead>\n",
       "    <tr style=\"text-align: right;\">\n",
       "      <th></th>\n",
       "      <th>n_tree</th>\n",
       "      <th>max_depth</th>\n",
       "      <th>balanced_accuracy_train</th>\n",
       "      <th>balanced_accuracy_test</th>\n",
       "    </tr>\n",
       "  </thead>\n",
       "  <tbody>\n",
       "    <tr>\n",
       "      <th>239</th>\n",
       "      <td>9</td>\n",
       "      <td>8</td>\n",
       "      <td>0.997681</td>\n",
       "      <td>0.995897</td>\n",
       "    </tr>\n",
       "    <tr>\n",
       "      <th>414</th>\n",
       "      <td>15</td>\n",
       "      <td>9</td>\n",
       "      <td>0.997681</td>\n",
       "      <td>0.995897</td>\n",
       "    </tr>\n",
       "    <tr>\n",
       "      <th>472</th>\n",
       "      <td>17</td>\n",
       "      <td>9</td>\n",
       "      <td>0.997951</td>\n",
       "      <td>0.995897</td>\n",
       "    </tr>\n",
       "    <tr>\n",
       "      <th>501</th>\n",
       "      <td>18</td>\n",
       "      <td>9</td>\n",
       "      <td>0.998242</td>\n",
       "      <td>0.995897</td>\n",
       "    </tr>\n",
       "    <tr>\n",
       "      <th>530</th>\n",
       "      <td>19</td>\n",
       "      <td>9</td>\n",
       "      <td>0.998242</td>\n",
       "      <td>0.995897</td>\n",
       "    </tr>\n",
       "    <tr>\n",
       "      <th>558</th>\n",
       "      <td>20</td>\n",
       "      <td>8</td>\n",
       "      <td>0.997816</td>\n",
       "      <td>0.995897</td>\n",
       "    </tr>\n",
       "    <tr>\n",
       "      <th>559</th>\n",
       "      <td>20</td>\n",
       "      <td>9</td>\n",
       "      <td>0.998377</td>\n",
       "      <td>0.995897</td>\n",
       "    </tr>\n",
       "    <tr>\n",
       "      <th>561</th>\n",
       "      <td>20</td>\n",
       "      <td>11</td>\n",
       "      <td>0.997816</td>\n",
       "      <td>0.995897</td>\n",
       "    </tr>\n",
       "    <tr>\n",
       "      <th>588</th>\n",
       "      <td>21</td>\n",
       "      <td>9</td>\n",
       "      <td>0.998377</td>\n",
       "      <td>0.995897</td>\n",
       "    </tr>\n",
       "    <tr>\n",
       "      <th>646</th>\n",
       "      <td>23</td>\n",
       "      <td>9</td>\n",
       "      <td>0.998377</td>\n",
       "      <td>0.995897</td>\n",
       "    </tr>\n",
       "    <tr>\n",
       "      <th>762</th>\n",
       "      <td>27</td>\n",
       "      <td>9</td>\n",
       "      <td>0.997951</td>\n",
       "      <td>0.995897</td>\n",
       "    </tr>\n",
       "    <tr>\n",
       "      <th>791</th>\n",
       "      <td>28</td>\n",
       "      <td>9</td>\n",
       "      <td>0.998377</td>\n",
       "      <td>0.995897</td>\n",
       "    </tr>\n",
       "    <tr>\n",
       "      <th>820</th>\n",
       "      <td>29</td>\n",
       "      <td>9</td>\n",
       "      <td>0.998242</td>\n",
       "      <td>0.995897</td>\n",
       "    </tr>\n",
       "  </tbody>\n",
       "</table>\n",
       "</div>"
      ],
      "text/plain": [
       "     n_tree  max_depth  balanced_accuracy_train  balanced_accuracy_test\n",
       "239       9          8                 0.997681                0.995897\n",
       "414      15          9                 0.997681                0.995897\n",
       "472      17          9                 0.997951                0.995897\n",
       "501      18          9                 0.998242                0.995897\n",
       "530      19          9                 0.998242                0.995897\n",
       "558      20          8                 0.997816                0.995897\n",
       "559      20          9                 0.998377                0.995897\n",
       "561      20         11                 0.997816                0.995897\n",
       "588      21          9                 0.998377                0.995897\n",
       "646      23          9                 0.998377                0.995897\n",
       "762      27          9                 0.997951                0.995897\n",
       "791      28          9                 0.998377                0.995897\n",
       "820      29          9                 0.998242                0.995897"
      ]
     },
     "execution_count": 25,
     "metadata": {},
     "output_type": "execute_result"
    }
   ],
   "source": [
    "res_pd[res_pd['balanced_accuracy_test'] == res_pd['balanced_accuracy_test'].max()]"
   ]
  },
  {
   "cell_type": "markdown",
   "id": "b5d7f601",
   "metadata": {},
   "source": [
    "При значении при максимальной глубине на 11 на 13 дере самая высокая точность "
   ]
  },
  {
   "cell_type": "markdown",
   "id": "432448f4",
   "metadata": {},
   "source": [
    "# 5. Подберите лучший вариант градиентного бустинга:\n",
    "\n",
    "        a. Выделите из обучающей части данных часть для валидации градиентного бустинга в ходе обучения.\n",
    "\n",
    "        b. Зафиксируйте небольшое количество деревьев, значение какого-либо параметра, отвечающего за сложность решающих деревьев и значение величины шага градиентного бустинга. Обучите градиентный бустинг с выбранными параметрами, выводя в процессе обучения значение функции потерь на обучающей и валидационной частях. Выведите значение метрики качества на экран.\n",
    "\n",
    "        c. На фиксированном небольшом количестве деревьев сравните 3-4 комбинации значений параметров величины шага градиентного бустинга и какого-либо параметра, отвечающего за сложность решающих деревьев.\n",
    "\n",
    "        d. Выберите из рассмотренных комбинаций лучшую и обоснуйте свой выбор.\n",
    "\n",
    "        e. Увеличьте количество деревьев и опишите эффект. Изучите значение гиперпараметра early_stopping_rounds и воспользуйтесь им, чтобы сэкономить время, войдя в переобучение модели."
   ]
  },
  {
   "cell_type": "code",
   "execution_count": 26,
   "id": "6d0f3933",
   "metadata": {},
   "outputs": [],
   "source": [
    "X_train_xgb, X_val, y_train_xgb, y_val = train_test_split(X_train, y_train, test_size=0.15, random_state=42)"
   ]
  },
  {
   "cell_type": "code",
   "execution_count": 27,
   "id": "6e2bed65",
   "metadata": {},
   "outputs": [
    {
     "name": "stdout",
     "output_type": "stream",
     "text": [
      "[0]\tvalidation_0-logloss:0.04307\tvalidation_1-logloss:0.17063\n",
      "[1]\tvalidation_0-logloss:0.66255\tvalidation_1-logloss:0.80332\n",
      "[2]\tvalidation_0-logloss:1.01116\tvalidation_1-logloss:1.02102\n",
      "[3]\tvalidation_0-logloss:8.60138\tvalidation_1-logloss:7.07220\n",
      "[4]\tvalidation_0-logloss:1.82301\tvalidation_1-logloss:2.01668\n",
      "[5]\tvalidation_0-logloss:1.82301\tvalidation_1-logloss:2.01668\n",
      "[6]\tvalidation_0-logloss:1.82301\tvalidation_1-logloss:2.01668\n",
      "[7]\tvalidation_0-logloss:1.82301\tvalidation_1-logloss:2.01668\n",
      "[8]\tvalidation_0-logloss:1.82301\tvalidation_1-logloss:2.01668\n",
      "[9]\tvalidation_0-logloss:1.82301\tvalidation_1-logloss:2.01668\n",
      "Точность тренировочной: 0.9305983611035078\n",
      "Точность тестовой: 0.9269793567314228\n"
     ]
    }
   ],
   "source": [
    "model = XGBClassifier(n_estimators=10, max_depth=10, learning_rate=5)\n",
    "\n",
    "model.fit(X_train_xgb, y_train_xgb, eval_set=[(X_train_xgb, y_train_xgb), (X_val, y_val)])\n",
    "pred_train = model.predict(X_train)\n",
    "pred_test = model.predict(X_test)\n",
    "\n",
    "print(f'Точность тренировочной: {balanced_accuracy_score(pred_train, y_train)}')\n",
    "print(f'Точность тестовой: {balanced_accuracy_score(pred_test, y_test)}')"
   ]
  },
  {
   "cell_type": "markdown",
   "id": "abefdbdf",
   "metadata": {},
   "source": [
    "Как мы точность модели КРАЙНЕ МАЛА, потому что она у нас недоообученная). А что будет, если мы поставим шаг по-меньше?"
   ]
  },
  {
   "cell_type": "code",
   "execution_count": 28,
   "id": "3b28dfca",
   "metadata": {},
   "outputs": [
    {
     "name": "stdout",
     "output_type": "stream",
     "text": [
      "[0]\tvalidation_0-logloss:0.60178\tvalidation_1-logloss:0.60427\n",
      "[1]\tvalidation_0-logloss:0.52697\tvalidation_1-logloss:0.53158\n",
      "[2]\tvalidation_0-logloss:0.46420\tvalidation_1-logloss:0.47071\n",
      "[3]\tvalidation_0-logloss:0.41109\tvalidation_1-logloss:0.41965\n",
      "[4]\tvalidation_0-logloss:0.36555\tvalidation_1-logloss:0.37595\n",
      "[5]\tvalidation_0-logloss:0.32660\tvalidation_1-logloss:0.33877\n",
      "[6]\tvalidation_0-logloss:0.29224\tvalidation_1-logloss:0.30578\n",
      "[7]\tvalidation_0-logloss:0.26232\tvalidation_1-logloss:0.27725\n",
      "[8]\tvalidation_0-logloss:0.23574\tvalidation_1-logloss:0.25230\n",
      "[9]\tvalidation_0-logloss:0.21252\tvalidation_1-logloss:0.23044\n",
      "Точность тренировочной: 0.9930695812381387\n",
      "Точность тестовой: 0.9856036279303606\n"
     ]
    }
   ],
   "source": [
    "model = XGBClassifier(n_estimators=10, max_depth=10, learning_rate=0.1)\n",
    "\n",
    "model.fit(X_train_xgb, y_train_xgb, eval_set=[(X_train_xgb, y_train_xgb), (X_val, y_val)])\n",
    "pred_train = model.predict(X_train)\n",
    "pred_test = model.predict(X_test)\n",
    "\n",
    "print(f'Точность тренировочной: {balanced_accuracy_score(pred_train, y_train)}')\n",
    "print(f'Точность тестовой: {balanced_accuracy_score(pred_test, y_test)}')"
   ]
  },
  {
   "cell_type": "markdown",
   "id": "66cf87fb",
   "metadata": {},
   "source": [
    "Точность стала гараздо выше)"
   ]
  },
  {
   "cell_type": "markdown",
   "id": "009abf1b",
   "metadata": {},
   "source": [
    "А теперь... Поиграемся с колиством деревьев и параметром early_stopping_rounds. \n",
    "Это метод, используемый для остановки обучения, \n",
    "когда потери в наборе данных проверки начинают увеличиваться (в случае минимизации потерь). \n",
    "Вот почему для обучения модели (любой модели, не только Xgboost) вам нужны два отдельных набора данных"
   ]
  },
  {
   "cell_type": "code",
   "execution_count": 29,
   "id": "57197538",
   "metadata": {},
   "outputs": [
    {
     "name": "stdout",
     "output_type": "stream",
     "text": [
      "[0]\tvalidation_0-logloss:0.60206\tvalidation_1-logloss:0.60265\n",
      "[1]\tvalidation_0-logloss:0.52742\tvalidation_1-logloss:0.52838\n",
      "[2]\tvalidation_0-logloss:0.46502\tvalidation_1-logloss:0.46637\n",
      "[3]\tvalidation_0-logloss:0.41210\tvalidation_1-logloss:0.41404\n",
      "[4]\tvalidation_0-logloss:0.36658\tvalidation_1-logloss:0.36899\n",
      "[5]\tvalidation_0-logloss:0.32716\tvalidation_1-logloss:0.32977\n",
      "[6]\tvalidation_0-logloss:0.29261\tvalidation_1-logloss:0.29561\n",
      "[7]\tvalidation_0-logloss:0.26240\tvalidation_1-logloss:0.26524\n",
      "[8]\tvalidation_0-logloss:0.23579\tvalidation_1-logloss:0.23854\n",
      "[9]\tvalidation_0-logloss:0.21239\tvalidation_1-logloss:0.21507\n",
      "[10]\tvalidation_0-logloss:0.19195\tvalidation_1-logloss:0.19481\n",
      "[11]\tvalidation_0-logloss:0.17386\tvalidation_1-logloss:0.17688\n",
      "[12]\tvalidation_0-logloss:0.15784\tvalidation_1-logloss:0.16114\n",
      "[13]\tvalidation_0-logloss:0.14337\tvalidation_1-logloss:0.14661\n",
      "[14]\tvalidation_0-logloss:0.13055\tvalidation_1-logloss:0.13393\n",
      "[15]\tvalidation_0-logloss:0.11883\tvalidation_1-logloss:0.12211\n",
      "[16]\tvalidation_0-logloss:0.10841\tvalidation_1-logloss:0.11150\n",
      "[17]\tvalidation_0-logloss:0.09885\tvalidation_1-logloss:0.10182\n",
      "[18]\tvalidation_0-logloss:0.09041\tvalidation_1-logloss:0.09341\n",
      "[19]\tvalidation_0-logloss:0.08260\tvalidation_1-logloss:0.08551\n",
      "[20]\tvalidation_0-logloss:0.07555\tvalidation_1-logloss:0.07851\n",
      "[21]\tvalidation_0-logloss:0.06936\tvalidation_1-logloss:0.07234\n",
      "[22]\tvalidation_0-logloss:0.06377\tvalidation_1-logloss:0.06650\n",
      "[23]\tvalidation_0-logloss:0.05869\tvalidation_1-logloss:0.06132\n",
      "[24]\tvalidation_0-logloss:0.05398\tvalidation_1-logloss:0.05664\n",
      "[25]\tvalidation_0-logloss:0.04975\tvalidation_1-logloss:0.05231\n",
      "[26]\tvalidation_0-logloss:0.04590\tvalidation_1-logloss:0.04855\n",
      "[27]\tvalidation_0-logloss:0.04246\tvalidation_1-logloss:0.04518\n",
      "[28]\tvalidation_0-logloss:0.03941\tvalidation_1-logloss:0.04202\n",
      "[29]\tvalidation_0-logloss:0.03653\tvalidation_1-logloss:0.03923\n",
      "[30]\tvalidation_0-logloss:0.03396\tvalidation_1-logloss:0.03646\n",
      "[31]\tvalidation_0-logloss:0.03156\tvalidation_1-logloss:0.03398\n",
      "[32]\tvalidation_0-logloss:0.02943\tvalidation_1-logloss:0.03163\n",
      "[33]\tvalidation_0-logloss:0.02732\tvalidation_1-logloss:0.02946\n",
      "[34]\tvalidation_0-logloss:0.02558\tvalidation_1-logloss:0.02760\n",
      "[35]\tvalidation_0-logloss:0.02384\tvalidation_1-logloss:0.02581\n",
      "[36]\tvalidation_0-logloss:0.02225\tvalidation_1-logloss:0.02419\n"
     ]
    },
    {
     "name": "stderr",
     "output_type": "stream",
     "text": [
      "C:\\Users\\Евгений\\AppData\\Roaming\\Python\\Python310\\site-packages\\xgboost\\sklearn.py:835: UserWarning: `early_stopping_rounds` in `fit` method is deprecated for better compatibility with scikit-learn, use `early_stopping_rounds` in constructor or`set_params` instead.\n",
      "  warnings.warn(\n"
     ]
    },
    {
     "name": "stdout",
     "output_type": "stream",
     "text": [
      "[37]\tvalidation_0-logloss:0.02088\tvalidation_1-logloss:0.02279\n",
      "[38]\tvalidation_0-logloss:0.01957\tvalidation_1-logloss:0.02146\n",
      "[39]\tvalidation_0-logloss:0.01835\tvalidation_1-logloss:0.02008\n",
      "[40]\tvalidation_0-logloss:0.01726\tvalidation_1-logloss:0.01885\n",
      "[41]\tvalidation_0-logloss:0.01625\tvalidation_1-logloss:0.01781\n",
      "[42]\tvalidation_0-logloss:0.01531\tvalidation_1-logloss:0.01681\n",
      "[43]\tvalidation_0-logloss:0.01443\tvalidation_1-logloss:0.01600\n",
      "[44]\tvalidation_0-logloss:0.01367\tvalidation_1-logloss:0.01518\n",
      "[45]\tvalidation_0-logloss:0.01289\tvalidation_1-logloss:0.01441\n",
      "[46]\tvalidation_0-logloss:0.01218\tvalidation_1-logloss:0.01364\n",
      "[47]\tvalidation_0-logloss:0.01153\tvalidation_1-logloss:0.01293\n",
      "[48]\tvalidation_0-logloss:0.01090\tvalidation_1-logloss:0.01228\n",
      "[49]\tvalidation_0-logloss:0.01036\tvalidation_1-logloss:0.01176\n",
      "[50]\tvalidation_0-logloss:0.00984\tvalidation_1-logloss:0.01117\n",
      "[51]\tvalidation_0-logloss:0.00935\tvalidation_1-logloss:0.01058\n",
      "[52]\tvalidation_0-logloss:0.00889\tvalidation_1-logloss:0.01014\n",
      "[53]\tvalidation_0-logloss:0.00852\tvalidation_1-logloss:0.00967\n",
      "[54]\tvalidation_0-logloss:0.00814\tvalidation_1-logloss:0.00923\n",
      "[55]\tvalidation_0-logloss:0.00776\tvalidation_1-logloss:0.00886\n",
      "[56]\tvalidation_0-logloss:0.00743\tvalidation_1-logloss:0.00852\n",
      "[57]\tvalidation_0-logloss:0.00714\tvalidation_1-logloss:0.00818\n",
      "[58]\tvalidation_0-logloss:0.00686\tvalidation_1-logloss:0.00786\n",
      "[59]\tvalidation_0-logloss:0.00658\tvalidation_1-logloss:0.00760\n",
      "[60]\tvalidation_0-logloss:0.00633\tvalidation_1-logloss:0.00726\n",
      "[61]\tvalidation_0-logloss:0.00611\tvalidation_1-logloss:0.00700\n",
      "[62]\tvalidation_0-logloss:0.00589\tvalidation_1-logloss:0.00675\n",
      "[63]\tvalidation_0-logloss:0.00566\tvalidation_1-logloss:0.00654\n",
      "[64]\tvalidation_0-logloss:0.00549\tvalidation_1-logloss:0.00636\n",
      "[65]\tvalidation_0-logloss:0.00531\tvalidation_1-logloss:0.00616\n",
      "[66]\tvalidation_0-logloss:0.00515\tvalidation_1-logloss:0.00596\n",
      "[67]\tvalidation_0-logloss:0.00500\tvalidation_1-logloss:0.00580\n",
      "[68]\tvalidation_0-logloss:0.00487\tvalidation_1-logloss:0.00565\n",
      "[69]\tvalidation_0-logloss:0.00472\tvalidation_1-logloss:0.00545\n",
      "[70]\tvalidation_0-logloss:0.00458\tvalidation_1-logloss:0.00528\n",
      "[71]\tvalidation_0-logloss:0.00444\tvalidation_1-logloss:0.00513\n",
      "[72]\tvalidation_0-logloss:0.00430\tvalidation_1-logloss:0.00500\n",
      "[73]\tvalidation_0-logloss:0.00419\tvalidation_1-logloss:0.00487\n",
      "[74]\tvalidation_0-logloss:0.00408\tvalidation_1-logloss:0.00473\n",
      "[75]\tvalidation_0-logloss:0.00399\tvalidation_1-logloss:0.00461\n",
      "[76]\tvalidation_0-logloss:0.00387\tvalidation_1-logloss:0.00451\n",
      "[77]\tvalidation_0-logloss:0.00379\tvalidation_1-logloss:0.00443\n",
      "[78]\tvalidation_0-logloss:0.00370\tvalidation_1-logloss:0.00432\n",
      "[79]\tvalidation_0-logloss:0.00361\tvalidation_1-logloss:0.00423\n",
      "[80]\tvalidation_0-logloss:0.00350\tvalidation_1-logloss:0.00411\n",
      "[81]\tvalidation_0-logloss:0.00343\tvalidation_1-logloss:0.00402\n",
      "[82]\tvalidation_0-logloss:0.00336\tvalidation_1-logloss:0.00393\n",
      "[83]\tvalidation_0-logloss:0.00328\tvalidation_1-logloss:0.00384\n",
      "[84]\tvalidation_0-logloss:0.00322\tvalidation_1-logloss:0.00377\n",
      "[85]\tvalidation_0-logloss:0.00315\tvalidation_1-logloss:0.00368\n",
      "[86]\tvalidation_0-logloss:0.00307\tvalidation_1-logloss:0.00359\n",
      "[87]\tvalidation_0-logloss:0.00301\tvalidation_1-logloss:0.00351\n",
      "[88]\tvalidation_0-logloss:0.00296\tvalidation_1-logloss:0.00345\n",
      "[89]\tvalidation_0-logloss:0.00289\tvalidation_1-logloss:0.00338\n",
      "[90]\tvalidation_0-logloss:0.00283\tvalidation_1-logloss:0.00330\n",
      "[91]\tvalidation_0-logloss:0.00278\tvalidation_1-logloss:0.00323\n",
      "[92]\tvalidation_0-logloss:0.00275\tvalidation_1-logloss:0.00319\n",
      "[93]\tvalidation_0-logloss:0.00271\tvalidation_1-logloss:0.00314\n",
      "[94]\tvalidation_0-logloss:0.00267\tvalidation_1-logloss:0.00309\n",
      "[95]\tvalidation_0-logloss:0.00262\tvalidation_1-logloss:0.00302\n",
      "[96]\tvalidation_0-logloss:0.00258\tvalidation_1-logloss:0.00298\n",
      "[97]\tvalidation_0-logloss:0.00253\tvalidation_1-logloss:0.00295\n",
      "[98]\tvalidation_0-logloss:0.00248\tvalidation_1-logloss:0.00292\n",
      "[99]\tvalidation_0-logloss:0.00245\tvalidation_1-logloss:0.00287\n",
      "Точность тренировочной: 1.0\n",
      "Точность тестовой: 0.9934409330961055\n"
     ]
    }
   ],
   "source": [
    "model = XGBClassifier(n_estimators=100, max_depth=6, learning_rate=0.1)\n",
    "model.fit(X_train, y_train, eval_set=[(X_train, y_train), (X_val, y_val)], early_stopping_rounds=20, verbose=True)\n",
    "pred_train = model.predict(X_train)\n",
    "pred_test = model.predict(X_test)\n",
    "\n",
    "print(f'Точность тренировочной: {balanced_accuracy_score(pred_train, y_train)}')\n",
    "print(f'Точность тестовой: {balanced_accuracy_score(pred_test, y_test)}')"
   ]
  },
  {
   "cell_type": "code",
   "execution_count": 30,
   "id": "cb9f296c",
   "metadata": {},
   "outputs": [],
   "source": [
    "results = model.evals_result()"
   ]
  },
  {
   "cell_type": "code",
   "execution_count": 31,
   "id": "dcd83692",
   "metadata": {},
   "outputs": [
    {
     "data": {
      "text/plain": [
       "<matplotlib.legend.Legend at 0x1f61e6bb5e0>"
      ]
     },
     "execution_count": 31,
     "metadata": {},
     "output_type": "execute_result"
    },
    {
     "data": {
      "image/png": "[encoded data removed]",
      "text/plain": [
       "<Figure size 1000x700 with 1 Axes>"
      ]
     },
     "metadata": {},
     "output_type": "display_data"
    }
   ],
   "source": [
    "plt.figure(figsize=(10,7))\n",
    "plt.title('Ранняя остановка')\n",
    "plt.plot(results[\"validation_0\"][\"logloss\"], label=\"Тренировка потерь\")\n",
    "plt.plot(results[\"validation_1\"][\"logloss\"], label=\"Тестовая потерь\")\n",
    "plt.axvline(21, color=\"gray\", label=\"Оптимальное число деревьев\")\n",
    "plt.xlabel(\"Количество деревьев\")\n",
    "plt.ylabel(\"Потеря\")\n",
    "plt.legend()"
   ]
  },
  {
   "cell_type": "markdown",
   "id": "d941e143",
   "metadata": {},
   "source": [
    "# 6. В выводах напишите, какая модель показала себя лучше всего, какого качества удалось достичь."
   ]
  },
  {
   "cell_type": "markdown",
   "id": "e07f9140",
   "metadata": {},
   "source": [
    "Самой лучшей моделью показала себя \n",
    "Случайный лес, с точностью 0.995, но не намного уступая градиентному бустинга с его точностью 0.994, \n",
    "при условии, что мы использовали больше дереьев\n",
    "Для себя я сделал следующий вывод: Применять гиперпараметры нужно с умом и с осторожностью, \n",
    "а то порой более крутого результат можно добиться и более легкой моделью машинного обучения)"
   ]
  }
 ],
 "metadata": {
  "kernelspec": {
   "display_name": "Python 3 (ipykernel)",
   "language": "python",
   "name": "python3"
  },
  "language_info": {
   "codemirror_mode": {
    "name": "ipython",
    "version": 3
   },
   "file_extension": ".py",
   "mimetype": "text/x-python",
   "name": "python",
   "nbconvert_exporter": "python",
   "pygments_lexer": "ipython3",
   "version": "3.10.9"
  }
 },
 "nbformat": 4,
 "nbformat_minor": 5
}
